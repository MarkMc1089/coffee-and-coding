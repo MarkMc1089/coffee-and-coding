{
 "cells": [
  {
   "cell_type": "markdown",
   "metadata": {
    "collapsed": false
   },
   "source": [
    "# Pulling data from the NHS BSA Open Data Portal (ODP) using Python"
   ]
  },
  {
   "cell_type": "code",
   "execution_count": 0,
   "metadata": {
    "collapsed": false,
    "trusted": true
   },
   "outputs": [
   ],
   "source": [
    "# Import any packages\n",
    "import requests\n",
    "import pandas as pd\n",
    "import matplotlib\n",
    "\n",
    "# Make the plots appear inline\n",
    "%matplotlib inline"
   ]
  },
  {
   "cell_type": "markdown",
   "metadata": {
    "collapsed": false
   },
   "source": [
    "The ODP https://opendata.nhsbsa.net/ has two programatic methods to access data from it...\n",
    "\n",
    "* `datastore_search` e.g. https://opendata.nhsbsa.net/api/3/action/datastore_search?resource_id=EPD_201401&limit=5\n",
    "* `datastore_search_sql` e.g. https://opendata.nhsbsa.net/api/3/action/datastore_search_sql?sql=SELECT%20*%20FROM%20EPD_201401%20LIMIT%205\n",
    "\n",
    "The following code demonstrates the process using the SQL style query. It is a more flexible way to access any data and easy if you already know some SQL (if not don't worry - the code is there for you to follow)."
   ]
  },
  {
   "cell_type": "code",
   "execution_count": 0,
   "metadata": {
    "collapsed": false,
    "trusted": true
   },
   "outputs": [
   ],
   "source": [
    "# Define the url for the API call\n",
    "base_endpoint = \"https://opendata.nhsbsa.net/api/3/action\"\n",
    "action_method = \"/datastore_search_sql?sql=\" # SQL\n",
    "\n",
    "# Define the parameters for the SQL query\n",
    "resource_name = \"EPD_202001\"\n",
    "pco_code = \"13T00\" # Newcastle Gateshead CCG\n",
    "bnf_chemical_substance = \"0407010H0\" # Paracetamol\n",
    "\n",
    "# Construct the SQL query\n",
    "query = f\"\"\"\n",
    "    SELECT \n",
    "        *\n",
    "    FROM \n",
    "        {resource_name} \n",
    "    WHERE \n",
    "        1=1\n",
    "        AND pco_code = '{pco_code}' \n",
    "        AND bnf_chemical_substance = '{bnf_chemical_substance}' \n",
    "\"\"\"\n",
    "\n",
    "# Send API call and grab the response as a json\n",
    "response = requests.get(\n",
    "    base_endpoint \n",
    "    + action_method \n",
    "    + query.replace(\" \", \"%20\") # Encode spaces in the url\n",
    ").json()"
   ]
  },
  {
   "cell_type": "markdown",
   "metadata": {
    "collapsed": false
   },
   "source": [
    "The response from the API is held as a dictionary, you can view it by using the `print()` command below:"
   ]
  },
  {
   "cell_type": "code",
   "execution_count": 0,
   "metadata": {
    "collapsed": false,
    "trusted": true
   },
   "outputs": [
   ],
   "source": [
    "# Try to print some of the data we have... e.g. print(response), print(query)"
   ]
  },
  {
   "cell_type": "markdown",
   "metadata": {
    "collapsed": false
   },
   "source": [
    "Now we can use the `pandas` library to analyse the data in a tabular format. This is the most popular Python package for data manipulation and analysis."
   ]
  },
  {
   "cell_type": "code",
   "execution_count": 0,
   "metadata": {
    "collapsed": false,
    "trusted": true
   },
   "outputs": [
   ],
   "source": [
    "# Convert the records in the response to a dataframe\n",
    "result_df = pd.DataFrame(response['result']['result']['records'])\n",
    "\n",
    "# View the first 6 rows of data\n",
    "result_df.head()"
   ]
  },
  {
   "cell_type": "markdown",
   "metadata": {
    "collapsed": false
   },
   "source": [
    "Next up we can utilise some of the inbuilt `pandas` plotting functionality to create some quick and easy visualisations"
   ]
  },
  {
   "cell_type": "code",
   "execution_count": 0,
   "metadata": {
    "collapsed": false,
    "trusted": true
   },
   "outputs": [
   ],
   "source": [
    "# Lets inspect the QUANTITY column\n",
    "result_df.hist(column='QUANTITY')\n",
    "\n",
    "# Can we try removing the background\n",
    "result_df.hist(column='QUANTITY', grid=False)\n",
    "\n",
    "# How about using more bins\n",
    "result_df.hist(column='QUANTITY', grid=False, bins=50)\n",
    "\n",
    "# What about one bin per value of QUANTITY\n",
    "result_df.hist(\n",
    "    column='QUANTITY', \n",
    "    grid=False, \n",
    "    bins=int(max(result_df['QUANTITY']))\n",
    ")\n",
    "\n",
    "# Lets see if QUANTITY varies by BNF_DESCRIPTION\n",
    "result_df.hist(\n",
    "    column='QUANTITY', \n",
    "    by='BNF_DESCRIPTION',\n",
    "    grid=False, \n",
    "    bins=50,\n",
    "    sharex=True, # All the rows share the same x axis\n",
    "    layout=(18, 1), # 18 rows and one column\n",
    "    figsize=(10, 20) # Make the graph big enough \n",
    ")\n",
    "\n",
    "# We can see that BNF_DESCRIPTION contains different forms for the drugs... \n",
    "# why don't we limit this to 'tablet' and check again\n",
    "tablet_df = result_df[result_df['BNF_DESCRIPTION'].str.contains('tablet')]\n",
    "tablet_df.hist(\n",
    "    column='QUANTITY', \n",
    "    by='BNF_DESCRIPTION',\n",
    "    grid=False, \n",
    "    bins=int(max(tablet_df['QUANTITY'])), # Bin by each value of QUANTITY\n",
    "    sharex=True,\n",
    "    layout=(5, 1),\n",
    "    figsize=(5, 10)\n",
    ")\n",
    "\n",
    "# We can see there are peaks for certain QUANTITY so lets examine the 10 most \n",
    "# common QUANITTY\n",
    "tablet_df['QUANTITY'].value_counts().head(10)"
   ]
  },
  {
   "cell_type": "markdown",
   "metadata": {
    "collapsed": false
   },
   "source": [
    "Now recreate the previous graph but for 'oral suspension' instead of 'tablet'"
   ]
  },
  {
   "cell_type": "code",
   "execution_count": 0,
   "metadata": {
    "collapsed": false,
    "trusted": true
   },
   "outputs": [
   ],
   "source": [
    "# Try to create a DataFrame called oral_suspension_df and then produce a histogram from it"
   ]
  }
 ],
 "metadata": {
  "kernelspec": {
   "display_name": "Python 3 (system-wide)",
   "language": "python",
   "metadata": {
    "cocalc": {
     "description": "Python 3 programming language",
     "priority": 100,
     "url": "https://www.python.org/"
    }
   },
   "name": "python3",
   "resource_dir": "/ext/jupyter/kernels/python3"
  },
  "language_info": {
   "codemirror_mode": {
    "name": "ipython",
    "version": 3
   },
   "file_extension": ".py",
   "mimetype": "text/x-python",
   "name": "python",
   "nbconvert_exporter": "python",
   "pygments_lexer": "ipython3",
   "version": "3.7.10"
  },
  "toc-autonumbering": true
 },
 "nbformat": 4,
 "nbformat_minor": 4
}
