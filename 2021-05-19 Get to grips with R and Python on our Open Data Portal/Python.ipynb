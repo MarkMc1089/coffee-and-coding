{
 "cells": [
  {
   "cell_type": "markdown",
   "metadata": {},
   "source": [
    "# Pulling data from the NHS BSA Open Data Portal (ODP) using Python"
   ]
  },
  {
   "cell_type": "code",
   "execution_count": null,
   "metadata": {
    "collapsed": false,
    "jupyter": {
     "outputs_hidden": false
    }
   },
   "outputs": [],
   "source": [
    "# Import any packages\n",
    "import requests\n",
    "import pandas as pd\n",
    "import matplotlib\n",
    "import scipy\n",
    "\n",
    "# Make the plots appear inline\n",
    "%matplotlib inline"
   ]
  },
  {
   "cell_type": "markdown",
   "metadata": {},
   "source": [
    "The ODP https://opendata.nhsbsa.net/ has two programatic methods to access data from it...\n",
    "\n",
    "* `datastore_search` e.g. https://opendata.nhsbsa.net/api/3/action/datastore_search?resource_id=EPD_201401&limit=5\n",
    "* `datastore_search_sql` e.g. https://opendata.nhsbsa.net/api/3/action/datastore_search_sql?sql=SELECT%20*%20FROM%20EPD_201401%20LIMIT%205\n",
    "\n",
    "The following code demonstrates the process using the SQL style query. It is a more flexible way to access any data and easy if you already know some SQL (if not don't worry - the code is there for you to follow)."
   ]
  },
  {
   "cell_type": "code",
   "execution_count": null,
   "metadata": {
    "collapsed": false,
    "jupyter": {
     "outputs_hidden": false
    }
   },
   "outputs": [],
   "source": [
    "# Define the url for the API call\n",
    "base_endpoint = \"https://opendata.nhsbsa.net/api/3/action\"\n",
    "action_method = \"/datastore_search_sql?sql=\" # SQL"
   ]
  },
  {
   "cell_type": "code",
   "execution_count": null,
   "metadata": {
    "collapsed": false,
    "jupyter": {
     "outputs_hidden": false
    }
   },
   "outputs": [],
   "source": [
    "# Define the parameters for the SQL query\n",
    "resource_name = \"EPD_202001\"\n",
    "pco_code = \"13T00\" # Newcastle Gateshead CCG\n",
    "bnf_chemical_substance = \"0407010H0\" # Paracetamol"
   ]
  },
  {
   "cell_type": "code",
   "execution_count": null,
   "metadata": {
    "collapsed": false,
    "jupyter": {
     "outputs_hidden": false
    }
   },
   "outputs": [],
   "source": [
    "# Construct the SQL query\n",
    "query = f\"\"\"\n",
    "    SELECT \n",
    "        *\n",
    "    FROM \n",
    "        {resource_name} \n",
    "    WHERE \n",
    "        1=1\n",
    "        AND pco_code = '{pco_code}' \n",
    "        AND bnf_chemical_substance = '{bnf_chemical_substance}' \n",
    "\"\"\""
   ]
  },
  {
   "cell_type": "code",
   "execution_count": null,
   "metadata": {
    "collapsed": false,
    "jupyter": {
     "outputs_hidden": false
    }
   },
   "outputs": [],
   "source": [
    "# Send API call and grab the response as a json\n",
    "response = requests.get(\n",
    "    base_endpoint \n",
    "    + action_method \n",
    "    + query.replace(\" \", \"%20\") # Encode spaces in the url\n",
    ").json()"
   ]
  },
  {
   "cell_type": "code",
   "execution_count": null,
   "metadata": {
    "collapsed": false,
    "jupyter": {
     "outputs_hidden": false
    }
   },
   "outputs": [],
   "source": [
    "# Convert the records in the response to a pandas dataframe\n",
    "result_df = pd.DataFrame(response['result']['result']['records'])"
   ]
  },
  {
   "cell_type": "code",
   "execution_count": null,
   "metadata": {
    "collapsed": false,
    "jupyter": {
     "outputs_hidden": false
    }
   },
   "outputs": [],
   "source": [
    "# View the first 5 rows of data\n",
    "result_df.head()"
   ]
  },
  {
   "cell_type": "markdown",
   "metadata": {},
   "source": [
    "Next up we can utilise some of the inbuilt `pandas` plotting functionality (with a `matplotlib` backend) to create some quick and easy visualisations of the `QUANITY` column.\n",
    "\n",
    "Note that the `;` at the end of each plot hides the metadata:\n",
    "https://stackoverflow.com/questions/38968404/hide-matplotlib-descriptions-in-jupyter-notebook"
   ]
  },
  {
   "cell_type": "code",
   "execution_count": null,
   "metadata": {
    "collapsed": false,
    "jupyter": {
     "outputs_hidden": false
    }
   },
   "outputs": [],
   "source": [
    "# Lets inspect the QUANTITY column\n",
    "result_df.hist(column='QUANTITY');"
   ]
  },
  {
   "cell_type": "code",
   "execution_count": null,
   "metadata": {
    "collapsed": false,
    "jupyter": {
     "outputs_hidden": false
    }
   },
   "outputs": [],
   "source": [
    "# Remove the background\n",
    "result_df.hist(column='QUANTITY', grid=False);"
   ]
  },
  {
   "cell_type": "code",
   "execution_count": null,
   "metadata": {
    "collapsed": false,
    "jupyter": {
     "outputs_hidden": false
    }
   },
   "outputs": [],
   "source": [
    "# How about using more bins\n",
    "result_df.hist(column='QUANTITY', grid=False, bins=50);"
   ]
  },
  {
   "cell_type": "code",
   "execution_count": null,
   "metadata": {
    "collapsed": false,
    "jupyter": {
     "outputs_hidden": false
    }
   },
   "outputs": [],
   "source": [
    "# One bin per value of QUANTITY\n",
    "max_quantity = int(max(result_df['QUANTITY']))\n",
    "result_df.hist(\n",
    "    column='QUANTITY', \n",
    "    grid=False, \n",
    "    bins=max_quantity\n",
    ");"
   ]
  },
  {
   "cell_type": "code",
   "execution_count": null,
   "metadata": {
    "collapsed": false,
    "jupyter": {
     "outputs_hidden": false
    }
   },
   "outputs": [],
   "source": [
    "# Lets see if QUANTITY varies by BNF_DESCRIPTION\n",
    "result_df.hist(\n",
    "    column='QUANTITY', \n",
    "    by='BNF_DESCRIPTION',\n",
    "    grid=False, \n",
    "    bins=50,\n",
    "    sharex=True, # All the rows share the same x axis\n",
    "    layout=(18, 1), # 18 rows and one column\n",
    "    figsize=(10, 20) # Make the graph big enough \n",
    ");"
   ]
  },
  {
   "cell_type": "markdown",
   "metadata": {},
   "source": [
    "We can see that `BNF_DESCRIPTION` contains different forms for the drugs, and that the `QUANTITY` differs (look at `BNF_DESCRIPTION == 'Paracetamol 250mg/5ml oral suspension sugar free'`)"
   ]
  },
  {
   "cell_type": "code",
   "execution_count": null,
   "metadata": {
    "collapsed": false,
    "jupyter": {
     "outputs_hidden": false
    }
   },
   "outputs": [],
   "source": [
    "# Subset the data to tablets\n",
    "tablet_df = result_df[result_df['BNF_DESCRIPTION'].str.contains('tablet')]\n",
    "\n",
    "# Lets see if QUANTITY varies by BNF_DESCRIPTION\n",
    "tablet_df.hist(\n",
    "    column='QUANTITY', \n",
    "    by='BNF_DESCRIPTION',\n",
    "    grid=False, \n",
    "    bins=50,\n",
    "    sharex=True,\n",
    "    sharey=True,\n",
    "    layout=(5, 1),\n",
    "    figsize=(10, 10) # Make the figure big enough for the plot\n",
    ");"
   ]
  },
  {
   "cell_type": "code",
   "execution_count": null,
   "metadata": {
    "collapsed": false,
    "jupyter": {
     "outputs_hidden": false
    }
   },
   "outputs": [],
   "source": [
    "# We can see there are peaks for certain QUANTITY so lets examine the 10 most \n",
    "# common QUANITTY\n",
    "tablet_df['QUANTITY'].value_counts().head(10)"
   ]
  },
  {
   "cell_type": "markdown",
   "metadata": {},
   "source": [
    "TASK\n",
    "\n",
    "Create another subset called `oral_suspension_df` (containing only 'oral suspension' instead of 'tablet') and then for `QUANTITY`:\n",
    "\n",
    "1) Produce an overall histogram\n",
    "2) Produce one histogram per `BNF_DESCRITPION`\n",
    "3) Get the top 5 most common `QUANTITY`"
   ]
  },
  {
   "cell_type": "code",
   "execution_count": null,
   "metadata": {
    "collapsed": false,
    "jupyter": {
     "outputs_hidden": false
    }
   },
   "outputs": [],
   "source": [
    "# Do your work in here\n"
   ]
  }
 ],
 "metadata": {
  "kernelspec": {
   "display_name": "Python 3",
   "language": "python",
   "name": "python3"
  },
  "language_info": {
   "codemirror_mode": {
    "name": "ipython",
    "version": 3
   },
   "file_extension": ".py",
   "mimetype": "text/x-python",
   "name": "python",
   "nbconvert_exporter": "python",
   "pygments_lexer": "ipython3",
   "version": "3.9.4"
  },
  "toc-autonumbering": true
 },
 "nbformat": 4,
 "nbformat_minor": 4
}
