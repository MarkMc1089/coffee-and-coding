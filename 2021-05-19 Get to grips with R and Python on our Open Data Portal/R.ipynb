{
 "cells": [
  {
   "cell_type": "markdown",
   "metadata": {},
   "source": [
    "# Pulling data from the NHS BSA Open Data Portal (ODP) using R"
   ]
  },
  {
   "cell_type": "markdown",
   "metadata": {},
   "source": [
    "The ODP https://opendata.nhsbsa.net/ has two programatic methods to access data from it...\n",
    "\n",
    "* `datastore_search` e.g. https://opendata.nhsbsa.net/api/3/action/datastore_search?resource_id=EPD_201401&limit=5\n",
    "* `datastore_search_sql` e.g. https://opendata.nhsbsa.net/api/3/action/datastore_search_sql?sql=SELECT%20*%20FROM%20EPD_201401%20LIMIT%205\n",
    "\n",
    "The following code demonstrates the process using the SQL style query. It is a more flexible way to access any data and easy if you already know some SQL (if not don't worry - the code is there for you to follow)."
   ]
  },
  {
   "cell_type": "code",
   "execution_count": null,
   "metadata": {
    "collapsed": false,
    "jupyter": {
     "outputs_hidden": false
    }
   },
   "outputs": [],
   "source": [
    "# Define the url for the API call\n",
    "base_endpoint <- \"https://opendata.nhsbsa.net/api/3/action\"\n",
    "action_method <- \"/datastore_search_sql?sql=\" # SQL"
   ]
  },
  {
   "cell_type": "code",
   "execution_count": null,
   "metadata": {
    "collapsed": false,
    "jupyter": {
     "outputs_hidden": false
    }
   },
   "outputs": [],
   "source": [
    "# Define the parameters for the SQL query\n",
    "resource_name <- \"EPD_202001\"\n",
    "pco_code <- \"13T00\" # Newcastle Gateshead CCG\n",
    "bnf_chemical_substance <- \"0407010H0\" # Paracetamol"
   ]
  },
  {
   "cell_type": "code",
   "execution_count": null,
   "metadata": {
    "collapsed": false,
    "jupyter": {
     "outputs_hidden": false
    }
   },
   "outputs": [],
   "source": [
    "# Construct the SQL query\n",
    "query <- paste0(\n",
    "    \"\n",
    "    SELECT \n",
    "        * \n",
    "    FROM \", \n",
    "        resource_name, \" \n",
    "    WHERE \n",
    "        1=1 \n",
    "    AND pco_code = '\", pco_code, \"' \n",
    "    AND bnf_chemical_substance = '\", bnf_chemical_substance, \"'\"\n",
    ")"
   ]
  },
  {
   "cell_type": "code",
   "execution_count": null,
   "metadata": {
    "collapsed": false,
    "jupyter": {
     "outputs_hidden": false
    }
   },
   "outputs": [],
   "source": [
    "# Send API call and grab the response as a json\n",
    "response <- jsonlite::fromJSON(paste0(\n",
    "    base_endpoint,\n",
    "    action_method, \n",
    "    URLencode(query) # Encode spaces in the url\n",
    "))"
   ]
  },
  {
   "cell_type": "code",
   "execution_count": null,
   "metadata": {
    "collapsed": false,
    "jupyter": {
     "outputs_hidden": false
    }
   },
   "outputs": [],
   "source": [
    "# Extract records in the response to a dataframe\n",
    "result_df <- response$result$result$records"
   ]
  },
  {
   "cell_type": "code",
   "execution_count": null,
   "metadata": {
    "collapsed": false,
    "jupyter": {
     "outputs_hidden": false
    }
   },
   "outputs": [],
   "source": [
    "# View the first 6 rows of data\n",
    "head(result_df)"
   ]
  },
  {
   "cell_type": "markdown",
   "metadata": {},
   "source": [
    "Next up we can utilise some of the base `R` plotting functionality to create some quick and easy visualisations"
   ]
  },
  {
   "cell_type": "code",
   "execution_count": null,
   "metadata": {
    "collapsed": false,
    "jupyter": {
     "outputs_hidden": false
    }
   },
   "outputs": [],
   "source": [
    "# Lets inspect the QUANTITY column\n",
    "hist(x = result_df$QUANTITY)"
   ]
  },
  {
   "cell_type": "code",
   "execution_count": null,
   "metadata": {
    "collapsed": false,
    "jupyter": {
     "outputs_hidden": false
    }
   },
   "outputs": [],
   "source": [
    "# Use more bins\n",
    "hist(\n",
    "    x = result_df$QUANTITY, \n",
    "    xlab = NULL, \n",
    "    ylab = NULL,\n",
    "    breaks = 50\n",
    ")"
   ]
  },
  {
   "cell_type": "code",
   "execution_count": null,
   "metadata": {
    "collapsed": false,
    "jupyter": {
     "outputs_hidden": false
    }
   },
   "outputs": [],
   "source": [
    "# One bin per value of QUANTITY\n",
    "max_quantity <- max(result_df$QUANTITY)\n",
    "hist(\n",
    "    x = result_df$QUANTITY, \n",
    "    xlab = NULL, \n",
    "    ylab = NULL,\n",
    "    breaks = max_quantity\n",
    ")"
   ]
  },
  {
   "cell_type": "markdown",
   "metadata": {},
   "source": [
    "Now we can use the `ggplot2` package to make more complex visualisations"
   ]
  },
  {
   "cell_type": "code",
   "execution_count": null,
   "metadata": {
    "collapsed": false,
    "jupyter": {
     "outputs_hidden": false
    }
   },
   "outputs": [],
   "source": [
    "# Make the figure big enough for the plot\n",
    "options(repr.plot.width = 10, repr.plot.height = 20)\n",
    "\n",
    "# Lets see if QUANTITY varies by BNF_DESCRIPTION\n",
    "ggplot2::ggplot(data = result_df, mapping = ggplot2::aes(x = QUANTITY)) +\n",
    "    ggplot2::geom_histogram(bins = 50) +\n",
    "    ggplot2::facet_wrap(facets = . ~ BNF_DESCRIPTION, ncol = 1) # One row per BNF_DESCRIPTION\n",
    "\n",
    "# Reset to default figure\n",
    "options(repr.plot.width = NULL, repr.plot.height = NULL)"
   ]
  },
  {
   "cell_type": "markdown",
   "metadata": {},
   "source": [
    "We can see that `BNF_DESCRIPTION` contains different forms for the drugs, and that the `QUANTITY` differs (look at `BNF_DESCRIPTION == 'Paracetamol 250mg/5ml oral suspension sugar free'`)"
   ]
  },
  {
   "cell_type": "code",
   "execution_count": null,
   "metadata": {
    "collapsed": false,
    "jupyter": {
     "outputs_hidden": false
    }
   },
   "outputs": [],
   "source": [
    "# Subset the data to tablets\n",
    "tablet_df <- subset(result_df, grepl(\"tablet\", BNF_DESCRIPTION))\n",
    "\n",
    "# Make the figure big enough for the plot\n",
    "options(repr.plot.width = 10, repr.plot.height = 10)\n",
    "\n",
    "# Lets see if QUANTITY varies by BNF_DESCRIPTION\n",
    "ggplot2::ggplot(data = tablet_df, mapping = ggplot2::aes(x = QUANTITY)) +\n",
    "    ggplot2::geom_histogram(bins = 50) +\n",
    "    ggplot2::facet_wrap(facets = . ~ BNF_DESCRIPTION, ncol = 1) # One row per BNF_DESCRIPTION\n",
    "\n",
    "# Reset to default figure\n",
    "options(repr.plot.width = NULL, repr.plot.height = NULL)"
   ]
  },
  {
   "cell_type": "code",
   "execution_count": null,
   "metadata": {
    "collapsed": false,
    "jupyter": {
     "outputs_hidden": false
    }
   },
   "outputs": [],
   "source": [
    "# We can see there are peaks for certain QUANTITY so lets examine the 10 most \n",
    "# common QUANITTY\n",
    "head(sort(x = table(tablet_df$QUANTITY), decreasing = TRUE), 10)"
   ]
  },
  {
   "cell_type": "markdown",
   "metadata": {
    "jupyter": {
     "outputs_hidden": false
    }
   },
   "source": [
    "TASK\n",
    "\n",
    "Create another subset called `oral_suspension_df` (containing only 'oral suspension' instead of 'tablet') and then for `QUANTITY`:\n",
    "\n",
    "1) Produce an overall histogram\n",
    "2) Produce one histogram per `BNF_DESCRITPION`\n",
    "3) Get the top 5 most common `QUANTITY`"
   ]
  },
  {
   "cell_type": "code",
   "execution_count": null,
   "metadata": {},
   "outputs": [],
   "source": [
    "# Do your work in here\n"
   ]
  }
 ],
 "metadata": {
  "kernelspec": {
   "display_name": "R",
   "language": "R",
   "name": "ir"
  },
  "language_info": {
   "codemirror_mode": "r",
   "file_extension": ".r",
   "mimetype": "text/x-r-source",
   "name": "R",
   "pygments_lexer": "r",
   "version": "4.0.3"
  },
  "toc-autonumbering": true
 },
 "nbformat": 4,
 "nbformat_minor": 4
}
