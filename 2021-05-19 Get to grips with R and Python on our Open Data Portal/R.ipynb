{
 "cells": [
  {
   "cell_type": "markdown",
   "metadata": {
    "collapsed": false
   },
   "source": [
    "# Pulling data from the NHS BSA Open Data Portal (ODP) using R"
   ]
  },
  {
   "cell_type": "code",
   "execution_count": 0,
   "metadata": {
    "collapsed": false
   },
   "outputs": [
   ],
   "source": [
    "# Load any packages\n",
    "library(jsonlite)"
   ]
  },
  {
   "cell_type": "markdown",
   "metadata": {
    "collapsed": false
   },
   "source": [
    "The ODP https://opendata.nhsbsa.net/ has two programatic methods to access data from it...\n",
    "\n",
    "* `datastore_search` e.g. https://opendata.nhsbsa.net/api/3/action/datastore_search?resource_id=EPD_201401&limit=5\n",
    "* `datastore_search_sql` e.g. https://opendata.nhsbsa.net/api/3/action/datastore_search_sql?sql=SELECT%20*%20FROM%20EPD_201401%20LIMIT%205\n",
    "\n",
    "The following code demonstrates the process using the SQL style query. It is a more flexible way to access any data and easy if you already know some SQL (if not don't worry - the code is there for you to follow)."
   ]
  },
  {
   "cell_type": "code",
   "execution_count": 0,
   "metadata": {
    "collapsed": false
   },
   "outputs": [
   ],
   "source": [
    "# Define the url for the API call\n",
    "base_endpoint <- \"https://opendata.nhsbsa.net/api/3/action\"\n",
    "action_method <- \"/datastore_search_sql?sql=\" # SQL\n",
    "\n",
    "# Define the parameters for the SQL query\n",
    "resource_name <- \"EPD_202001\"\n",
    "pco_code <- \"13T00\" # Newcastle Gateshead CCG\n",
    "bnf_chemical_substance <- \"0407010H0\" # Paracetamol\n",
    "\n",
    "# Construct the SQL query\n",
    "query <- paste0(\n",
    "    \"\n",
    "    SELECT \n",
    "        * \n",
    "    FROM \", \n",
    "        resource_name, \" \n",
    "    WHERE \n",
    "        1=1 \n",
    "    AND pco_code = '\", pco_code, \"' \n",
    "    AND bnf_chemical_substance = '\", bnf_chemical_substance, \"'\"\n",
    ")\n",
    "\n",
    "# Send API call and grab the response as a json\n",
    "response <- jsonlite::fromJSON(paste0(\n",
    "    base_endpoint,\n",
    "    action_method, \n",
    "    URLencode(query) # Encode spaces in the url\n",
    "))\n"
   ]
  },
  {
   "cell_type": "markdown",
   "metadata": {
    "collapsed": false
   },
   "source": [
    "The response from the API is held as a dictionary, you can view it by using the `print()` command below:"
   ]
  },
  {
   "cell_type": "code",
   "execution_count": 0,
   "metadata": {
    "collapsed": false
   },
   "outputs": [
   ],
   "source": [
    "# Try to print some of the data we have... e.g. print(response), print(query)"
   ]
  },
  {
   "cell_type": "markdown",
   "metadata": {
    "collapsed": false
   },
   "source": [
    "Now we can use base `R` to analyse the data in a tabular format, we can use `ggplot2` to produce plots, this is the most popular R package for plotting."
   ]
  },
  {
   "cell_type": "code",
   "execution_count": 0,
   "metadata": {
    "collapsed": false
   },
   "outputs": [
   ],
   "source": [
    "# Extract records in the response to a dataframe\n",
    "result_df <- response$result$result$records\n",
    "\n",
    "# View the first 6 rows of data\n",
    "head(result_df)"
   ]
  },
  {
   "cell_type": "markdown",
   "metadata": {
    "collapsed": false
   },
   "source": [
    "Next up we can utilise some of the inbuilt `pandas` plotting functionality to create some quick and easy visualisations"
   ]
  },
  {
   "cell_type": "code",
   "execution_count": 0,
   "metadata": {
    "collapsed": false
   },
   "outputs": [
   ],
   "source": [
    "# Lets inspect the QUANTITY column\n",
    "\n",
    "# Can we try removing the background\n",
    "\n",
    "# How about using more bins\n",
    "\n",
    "# What about one bin per value of QUANTITY\n",
    "\n",
    "# Lets see if QUANTITY varies by BNF_DESCRIPTION\n",
    "\n",
    "# We can see that BNF_DESCRIPTION contains different forms for the drugs... \n",
    "# why don't we limit this to 'tablet' and check again\n",
    "\n",
    "# We can see there are peaks for certain QUANTITY so lets examine the 10 most \n",
    "# common QUANITTY\n"
   ]
  },
  {
   "cell_type": "markdown",
   "metadata": {
    "collapsed": false
   },
   "source": [
    "Now recreate the previous graph but for 'oral suspension' instead of 'tablet'"
   ]
  },
  {
   "cell_type": "code",
   "execution_count": 0,
   "metadata": {
    "collapsed": false
   },
   "outputs": [
   ],
   "source": [
    "# Try to create a DataFrame called oral_suspension_df and then produce a histogram from it"
   ]
  }
 ],
 "metadata": {
  "kernelspec": {
   "display_name": "R (system-wide)",
   "language": "r",
   "metadata": {
    "cocalc": {
     "description": "R statistical programming language",
     "priority": 10,
     "url": "https://www.r-project.org/"
    }
   },
   "name": "ir",
   "resource_dir": "/ext/jupyter/kernels/ir"
  },
  "language_info": {
   "codemirror_mode": "r",
   "file_extension": ".r",
   "mimetype": "text/x-r-source",
   "name": "R",
   "pygments_lexer": "r",
   "version": "4.0.5"
  },
  "toc-autonumbering": true
 },
 "nbformat": 4,
 "nbformat_minor": 4
}