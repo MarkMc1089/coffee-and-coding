{
   "cells":[
      {
         "metadata":{
            
         },
         "cell_type":"markdown",
         "source":"# Pulling data from the NHS BSA Open Data Portal (ODP) using Python"
      },
      {
         "metadata":{
            "trusted":true
         },
         "cell_type":"code",
         "source":"# Make the plots appear inline\n%matplotlib inline\n\n# Import any packages\nimport requests \nimport pandas as pd",
         "execution_count":null,
         "outputs":[
            
         ]
      },
      {
         "metadata":{
            
         },
         "cell_type":"markdown",
         "source":"The ODP https://opendata.nhsbsa.net/ has two programatic methods to access data from it...\n\n* `datastore_search` e.g. https://opendata.nhsbsa.net/api/3/action/datastore_search?resource_id=EPD_201401&limit=5\n* `datastore_search_sql` e.g. https://opendata.nhsbsa.net/api/3/action/datastore_search_sql?sql=SELECT%20*%20FROM%20EPD_201401%20LIMIT%205\n\nThe following code demonstrates the process using the SQL style query. It is a more flexible way to access any data and easy if you already know some SQL (if not don't worry - the code is there for you to follow)."
      },
      {
         "metadata":{
            "trusted":true
         },
         "cell_type":"code",
         "source":"# Define the url for the API call\nbase_endpoint = \"https://opendata.nhsbsa.net/api/3/action\"\naction_method = \"/datastore_search_sql?sql=\" # SQL\n\n# Define the parameters for the SQL query\nresource_name = \"EPD_202001\"\npco_code = \"13T00\" # Newcastle Gateshead CCG\nbnf_chemical_substance = \"0407010H0\" # Paracetamol\n\n# Construct the SQL query\nquery = f\"\"\"\n    SELECT \n        *\n    FROM \n        {resource_name} \n    WHERE \n        1=1\n        AND pco_code = '{pco_code}' \n        AND bnf_chemical_substance = '{bnf_chemical_substance}' \n\"\"\"\n\n# Send API call and grab the response as a json\nresponse = requests.get(\n    base_endpoint \n    + action_method \n    + query.replace(\" \", \"%20\") # Encode spaces in the url\n).json()",
         "execution_count":null,
         "outputs":[
            
         ]
      },
      {
         "metadata":{
            
         },
         "cell_type":"markdown",
         "source":"The response from the API is held as a dictionary, you can view it by using the `print()` command below:"
      },
      {
         "metadata":{
            "trusted":true
         },
         "cell_type":"code",
         "source":"# Try to print some of the data we have... e.g. print(response), print(query)",
         "execution_count":null,
         "outputs":[
            
         ]
      },
      {
         "metadata":{
            
         },
         "cell_type":"markdown",
         "source":"Now we can use the `pandas` library to analyse the data in a tabular format. This is the most popular Python package for data manipulation and analysis."
      },
      {
         "metadata":{
            "trusted":true
         },
         "cell_type":"code",
         "source":"# Convert the records in the response to a dataframe\nresult_df = pd.DataFrame(response['result']['result']['records'])\n\n# View the first 6 rows of data\nresult_df.head()",
         "execution_count":null,
         "outputs":[
            
         ]
      },
      {
         "metadata":{
            
         },
         "cell_type":"markdown",
         "source":"Next up we can utilise some of the inbuilt `pandas` plotting functionality to create some quick and easy visualisations"
      },
      {
         "metadata":{
            "trusted":true
         },
         "cell_type":"code",
         "source":"# Lets inspect the QUANTITY column\nresult_df.hist(column='QUANTITY')\n\n# Can we try removing the background\nresult_df.hist(column='QUANTITY', grid=False)\n\n# How about using more bins\nresult_df.hist(column='QUANTITY', grid=False, bins=50)\n\n# What about one bin per value of QUANTITY\nresult_df.hist(\n    column='QUANTITY', \n    grid=False, \n    bins=int(max(result_df['QUANTITY']))\n)\n\n# Lets see if QUANTITY varies by BNF_DESCRIPTION\nresult_df.hist(\n    column='QUANTITY', \n    by='BNF_DESCRIPTION',\n    grid=False, \n    bins=50,\n    sharex=True, # All the rows share the same x axis\n    layout=(18, 1), # 18 rows and one column\n    figsize=(10, 20) # Make the graph big enough \n)\n\n# We can see that BNF_DESCRIPTION contains different forms for the drugs... \n# why don't we limit this to 'tablet' and check again\ntablet_df = result_df[result_df['BNF_DESCRIPTION'].str.contains('tablet')]\ntablet_df.hist(\n    column='QUANTITY', \n    by='BNF_DESCRIPTION',\n    grid=False, \n    bins=int(max(tablet_df['QUANTITY'])), # Bin by each value of QUANTITY\n    sharex=True,\n    layout=(5, 1),\n    figsize=(5, 10)\n)\n\n# We can see there are peaks for certain QUANTITY so lets examine the 10 most \n# common QUANITTY\ntablet_df['QUANTITY'].value_counts().head(10)",
         "execution_count":2,
         "outputs":[
            {
               "output_type":"error",
               "ename":"ModuleNotFoundError",
               "evalue":"No module named 'pandas'",
               "traceback":[
                  "\u001b[0;31m---------------------------------------------------------------------------\u001b[0m",
                  "\u001b[0;31mModuleNotFoundError\u001b[0m                       Traceback (most recent call last)",
                  "\u001b[0;32m<ipython-input-2-e6c53b51cb2b>\u001b[0m in \u001b[0;36m<module>\u001b[0;34m\u001b[0m\n\u001b[1;32m      1\u001b[0m \u001b[0;32mimport\u001b[0m \u001b[0mrequests\u001b[0m\u001b[0;34m\u001b[0m\u001b[0;34m\u001b[0m\u001b[0m\n\u001b[0;32m----> 2\u001b[0;31m \u001b[0;32mimport\u001b[0m \u001b[0mpandas\u001b[0m \u001b[0;32mas\u001b[0m \u001b[0mpd\u001b[0m\u001b[0;34m\u001b[0m\u001b[0;34m\u001b[0m\u001b[0m\n\u001b[0m\u001b[1;32m      3\u001b[0m \u001b[0;34m\u001b[0m\u001b[0m\n\u001b[1;32m      4\u001b[0m \u001b[0;31m# Define the url for the API call\u001b[0m\u001b[0;34m\u001b[0m\u001b[0;34m\u001b[0m\u001b[0;34m\u001b[0m\u001b[0m\n\u001b[1;32m      5\u001b[0m \u001b[0mbase_endpoint\u001b[0m \u001b[0;34m=\u001b[0m \u001b[0;34m\"https://opendata.nhsbsa.net/api/3/action\"\u001b[0m\u001b[0;34m\u001b[0m\u001b[0;34m\u001b[0m\u001b[0m\n",
                  "\u001b[0;31mModuleNotFoundError\u001b[0m: No module named 'pandas'"
               ]
            }
         ]
      },
      {
         "metadata":{
            
         },
         "cell_type":"markdown",
         "source":"Now recreate the previous graph but for 'oral suspension' instead of 'tablet'"
      },
      {
         "metadata":{
            "trusted":true
         },
         "cell_type":"code",
         "source":"# Try to create a DataFrame called oral_suspension_df and then produce a histogram from it",
         "execution_count":null,
         "outputs":[
            
         ]
      }
   ],
   "metadata":{
      "kernelspec":{
         "name":"python3",
         "display_name":"Python 3",
         "language":"python"
      },
      "language_info":{
         "name":"python",
         "version":"3.7.10",
         "mimetype":"text/x-python",
         "codemirror_mode":{
            "name":"ipython",
            "version":3
         },
         "pygments_lexer":"ipython3",
         "nbconvert_exporter":"python",
         "file_extension":".py"
      }
   },
   "nbformat":4,
   "nbformat_minor":4
}
