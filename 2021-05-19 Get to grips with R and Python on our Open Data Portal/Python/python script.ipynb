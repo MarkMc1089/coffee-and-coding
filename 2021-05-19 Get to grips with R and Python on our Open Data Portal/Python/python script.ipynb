{
 "cells": [
  {
   "cell_type": "code",
   "execution_count": 0,
   "metadata": {
    "collapsed": false
   },
   "outputs": [
   ],
   "source": [
    "import requests \n",
    "import pandas as pd\n",
    "\n",
    "# Define the url for the API call\n",
    "base_endpoint = \"https://opendata.nhsbsa.net/api/3/action\"\n",
    "action_method = \"/datastore_search_sql?sql=\" # SQL\n",
    "\n",
    "# Define the parameters for the SQL query\n",
    "resource_name = \"EPD_202001\"\n",
    "pco_code = \"13T00\" # Newcastle Gateshead CCG\n",
    "bnf_chemical_substance = \"0407010H0\" # Paracetamol\n",
    "\n",
    "# Construct the SQL query\n",
    "query = f\"\"\"\n",
    "    SELECT *\n",
    "    FROM {resource_name} \n",
    "    WHERE pco_code = '{pco_code}' AND bnf_chemical_substance = '{bnf_chemical_substance}' \n",
    "\"\"\"\n",
    "\n",
    "# Send API call and grab the response as a json\n",
    "response = requests.get(\n",
    "    base_endpoint \n",
    "    + action_method \n",
    "    + query.replace(\" \", \"%20\") # Encode spaces in the url\n",
    ").json()\n",
    "\n",
    "# Convert the records in the response to a dataframe\n",
    "result_df = pd.DataFrame(response['result']['result']['records'])\n",
    "\n",
    "# Lets inspect the QUANTITY column\n",
    "result_df.hist(column='QUANTITY')\n",
    "\n",
    "# Can we try removing the background\n",
    "result_df.hist(column='QUANTITY', grid=False)\n",
    "\n",
    "# How about using more bins\n",
    "result_df.hist(column='QUANTITY', grid=False, bins=50)\n",
    "\n",
    "# What about one bin per value of QUANTITY\n",
    "result_df.hist(\n",
    "    column='QUANTITY', \n",
    "    grid=False, \n",
    "    bins=int(max(result_df['QUANTITY']))\n",
    ")\n",
    "\n",
    "# Lets see if QUANTITY varies by BNF_DESCRIPTION\n",
    "result_df.hist(\n",
    "    column='QUANTITY', \n",
    "    by='BNF_DESCRIPTION',\n",
    "    grid=False, \n",
    "    bins=50,\n",
    "    sharex=True, # All the rows share the same x axis\n",
    "    layout=(18, 1), # 18 rows and one column\n",
    "    figsize=(10, 20) # Make the graph big enough \n",
    ")\n",
    "\n",
    "# We can see that BNF_DESCRIPTION contains different forms for the drugs... \n",
    "# why don't we limit this to 'tablet' and check again\n",
    "tablet_df = result_df[result_df['BNF_DESCRIPTION'].str.contains('tablet')]\n",
    "tablet_df.hist(\n",
    "    column='QUANTITY', \n",
    "    by='BNF_DESCRIPTION',\n",
    "    grid=False, \n",
    "    bins=int(max(tablet_df['QUANTITY'])), # Bin by each value of QUANTITY\n",
    "    sharex=True,\n",
    "    layout=(5, 1),\n",
    "    figsize=(5, 10)\n",
    ")\n",
    "\n",
    "# We can see there are peaks for certain QUANTITY so lets examine the 10 most \n",
    "# common QUANITTY\n",
    "tablet_df['QUANTITY'].value_counts().head(10)\n"
   ]
  }
 ],
 "metadata": {
  "kernelspec": {
   "display_name": "Python 3 (system-wide)",
   "language": "python",
   "metadata": {
    "cocalc": {
     "description": "Python 3 programming language",
     "priority": 100,
     "url": "https://www.python.org/"
    }
   },
   "name": "python3",
   "resource_dir": "/ext/jupyter/kernels/python3"
  }
 },
 "nbformat": 4,
 "nbformat_minor": 4
}
