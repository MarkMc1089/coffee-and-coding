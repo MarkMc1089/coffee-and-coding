{
 "cells": [
  {
   "cell_type": "markdown",
   "id": "be010c2c-466d-46bb-ae57-91450302b0b0",
   "metadata": {},
   "source": [
    "# Exploring the Titanic in R #"
   ]
  },
  {
   "cell_type": "markdown",
   "id": "e347e341-f496-4a61-8b41-4c570895d9d6",
   "metadata": {
    "tags": []
   },
   "source": [
    "### The sinking of the Titanic is one of the most infamous shipwrecks in history. On April 15, 1912, during her maiden voyage, the widely considered “unsinkable” RMS Titanic sank after colliding with an iceberg. Unfortunately, there weren’t enough lifeboats for everyone onboard, resulting in the death of 1,502 out of 2,224 passengers and crew. ###\n",
    "\n",
    "### As well as a tragic disaster, the Titanic is a classic film, but did you know the Titanic is also a readily available and popular dataset that's been available for a number of years? This is what we'll be exploring today! ###\n",
    "\n",
    "<div id = 'titanic'>\n",
    "    <div class = \"inline-block\">\n",
    "        <figure><img src = 'titanic_picture.jpg' width = \"40%\" height = \"20%\"></figure>\n",
    "    </div>\n",
    "    </div>\n",
    "\n",
    "### It's one of many datasets that are built-in to R, we can access this by loading the [Titanic Package](https://cran.r-project.org/web/packages/titanic/index.html), and this is what we'll be using today to perform some data analyses in R. ###\n",
    "\n",
    "## What will be covered in the session? ##\n",
    "This session will be a hands-on exploratory data analyses, including packages commonly used in data analyses:\n",
    "* [dplyr](http://dplyr.tidyverse.org/) for data wrangling.\n",
    "* [ggplot2](http://ggplot2.tidyverse.org/) for data visualization.\n",
    "\n",
    "The aim is to work through all pre-processing and cleaning techniques which we might want to consider when working with any dataset.\n",
    "\n",
    "The packages are already installed within this environment, but if you wanted to install these in R, you can do so using `install.packages(\"dplyr\")`.\n",
    "\n",
    "Before we can get started with analyses we need to load the relevant R libraries."
   ]
  },
  {
   "cell_type": "markdown",
   "id": "1763883a-7ee3-496a-a8f8-347a31196a24",
   "metadata": {},
   "source": [
    "### Load R libraries. ###"
   ]
  },
  {
   "cell_type": "code",
   "execution_count": null,
   "id": "ba1ff503-06be-4876-a787-f407c42f4117",
   "metadata": {},
   "outputs": [],
   "source": [
    "library(dplyr)\n",
    "library(ggplot2)"
   ]
  },
  {
   "cell_type": "markdown",
   "id": "a0026d40-9e33-4cfb-a5df-17475c129bc7",
   "metadata": {},
   "source": [
    "We'll then load in the data. The Titanic data consists of two datasets, `train` and `test`, but we'll only use the train data today."
   ]
  },
  {
   "cell_type": "markdown",
   "id": "8777a73e-25ee-46e3-8408-4b1fae5a1970",
   "metadata": {},
   "source": [
    "### Load Titanic Train data. ###"
   ]
  },
  {
   "cell_type": "code",
   "execution_count": null,
   "id": "e80b4294-72fc-4556-87b8-68fe5e2beb9e",
   "metadata": {},
   "outputs": [],
   "source": [
    "train <- read.csv(\"https://raw.githubusercontent.com/paulhendricks/titanic/master/inst/data-raw/train.csv\")"
   ]
  },
  {
   "cell_type": "markdown",
   "id": "bb82147a-5656-432d-9e56-f1644ea7bdd8",
   "metadata": {},
   "source": [
    "A good first step in understanding your data is to check the structure of the data, such as the data type of each attribute, as well as how many rows and columns (observations and variables in R language) we can do this using `str()`."
   ]
  },
  {
   "cell_type": "markdown",
   "id": "9e3f71a9-a826-423b-a573-468349780f14",
   "metadata": {},
   "source": [
    "### Check the Structure of Titanic data. ### "
   ]
  },
  {
   "cell_type": "code",
   "execution_count": null,
   "id": "0d928613-61ac-4444-8f0e-3dfee5d3870d",
   "metadata": {},
   "outputs": [],
   "source": [
    "str(train)"
   ]
  },
  {
   "cell_type": "markdown",
   "id": "d2668016-aba5-4c9a-ae04-350a734c3e78",
   "metadata": {
    "tags": []
   },
   "source": [
    "### What are the variables in the dataset? ###\n",
    "\n",
    "* **PassengerId**: Serial Number\n",
    "* **Survived**: Contains binary Values of 0 & 1. Passenger did not survive — 0, Passenger Survived — 1.\n",
    "* **Pclass**: Ticket Class | 1st Class, 2nd Class or 3rd Class Ticket\n",
    "* **Name**: Name of the passenger\n",
    "* **Sex**: Male or Female\n",
    "* **Age**: Age in years — Integer\n",
    "* **SibSp**: No. of Siblings / Spouses — brothers, sisters and/or husband/wife\n",
    "* **Parch**: No. of parents/children — mother/father and/or daughter, son\n",
    "* **Ticket**: Serial Number\n",
    "* **Fare**: Passenger fare\n",
    "* **Cabin**: Cabin Number\n",
    "* **Embarked**: Port of Embarkment | C- Cherbourg, Q — Queenstown, S — Southampton"
   ]
  },
  {
   "cell_type": "markdown",
   "id": "1cc2150c-9da6-41f8-9ffc-0d1b6a37f90b",
   "metadata": {},
   "source": [
    "Now we know which fields are included in the dataset, we might want to have a look at the raw data before we begin our analyses."
   ]
  },
  {
   "cell_type": "markdown",
   "id": "887c2d57-58e2-4f23-a374-5f60a7997239",
   "metadata": {},
   "source": [
    "We can do so using `head` to show the first 6 rows, and `tail` to show the last 6 rows."
   ]
  },
  {
   "cell_type": "code",
   "execution_count": null,
   "id": "fc0c1aa6-272c-45ab-ba28-094e972e88d8",
   "metadata": {},
   "outputs": [],
   "source": [
    "head(train)"
   ]
  },
  {
   "cell_type": "code",
   "execution_count": null,
   "id": "d2109614-45d7-4a77-8864-d8f09eb0f2ac",
   "metadata": {},
   "outputs": [],
   "source": [
    "tail(train)"
   ]
  },
  {
   "cell_type": "markdown",
   "id": "e7701e91-d125-4a15-a8fe-fe47a13516b4",
   "metadata": {},
   "source": [
    "### Check for missing values ###"
   ]
  },
  {
   "cell_type": "markdown",
   "id": "9179f059-ce56-4bf3-bebc-0faf2db53cde",
   "metadata": {},
   "source": [
    "We know which fields we have in the dataset, and the size of the dataset, but it's important to consider any missing data."
   ]
  },
  {
   "cell_type": "markdown",
   "id": "b2f7f9b4-a643-4561-abc5-d759a7833d84",
   "metadata": {},
   "source": [
    "We can do this using a combination of `is.na` and `colSums`."
   ]
  },
  {
   "cell_type": "code",
   "execution_count": null,
   "id": "db31e83d-2526-4c51-862d-7aa9bc195088",
   "metadata": {},
   "outputs": [],
   "source": [
    "colSums(is.na(train))"
   ]
  },
  {
   "cell_type": "markdown",
   "id": "4019effe-03df-4efe-88bb-1441069c1624",
   "metadata": {},
   "source": [
    "We can see that `Age` has 177 missing values in our Train data. For other values we may want to impute missing values, but for missing ages, we'll leave them as blank."
   ]
  },
  {
   "cell_type": "markdown",
   "id": "48c78af1-7709-4e57-b981-917a3f13e62f",
   "metadata": {},
   "source": [
    "### Extract Title from the Name field ###"
   ]
  },
  {
   "cell_type": "markdown",
   "id": "7ac3190a-2845-45c6-8fa1-dbff89693a13",
   "metadata": {},
   "source": [
    "We can extract title from `Name` using `gsub`. The gsub function replaces all instances of the pattern provided in the specified column of the dataframe. In this instance, we're looking for the characters `,` and `.` and replacing anything outside of this with blank space. \n",
    "\n",
    "'Bloggs, Mr. Joe' would become 'Mr' and would be created as a column called `Title` in the Train dataset. "
   ]
  },
  {
   "cell_type": "code",
   "execution_count": null,
   "id": "483ae17d-6c8e-46b1-b464-80b4e73013a1",
   "metadata": {},
   "outputs": [],
   "source": [
    "train$Title <- gsub('(.*, )|(\\\\..*)', '', train$Name)"
   ]
  },
  {
   "cell_type": "markdown",
   "id": "7d6a7aad-b398-45a5-99f2-55350acf9a68",
   "metadata": {},
   "source": [
    "We can use `head` again to glimpse at our data to check if this new column is as we'd expect."
   ]
  },
  {
   "cell_type": "code",
   "execution_count": null,
   "id": "760772b4-c991-4cf3-95b3-eb9fbcfabcf8",
   "metadata": {},
   "outputs": [],
   "source": [
    "head(train)"
   ]
  },
  {
   "cell_type": "markdown",
   "id": "91086b77-ad98-4ff9-b5e2-2bcc5b7cb93b",
   "metadata": {},
   "source": [
    "To get an overview of the data, we can use the function `summary`."
   ]
  },
  {
   "cell_type": "markdown",
   "id": "0b71bf90-bc0b-4aac-9acd-93ef8cb40b07",
   "metadata": {},
   "source": [
    "### Summarize Titanic data ###"
   ]
  },
  {
   "cell_type": "code",
   "execution_count": null,
   "id": "e1138526-9639-4614-a257-2419b012f909",
   "metadata": {},
   "outputs": [],
   "source": [
    "summary(train)"
   ]
  },
  {
   "cell_type": "markdown",
   "id": "411e625d-c0d5-4687-94de-8c7bc0470675",
   "metadata": {},
   "source": [
    "Now do the same using a pipe `%>%`, one of the handiest tools in Tidyverse."
   ]
  },
  {
   "cell_type": "code",
   "execution_count": null,
   "id": "9960b164-7c75-4754-be49-41d4c2bc6bcd",
   "metadata": {},
   "outputs": [],
   "source": [
    "train %>% \n",
    "  summary()"
   ]
  },
  {
   "cell_type": "markdown",
   "id": "2b4adf24-1321-4bc1-862d-f6bd8fbec9ed",
   "metadata": {},
   "source": [
    "**Recap:**\n",
    "\n",
    "* We've imported Titanic train data and viewed some of the data.\n",
    "* We've used the pipe operator `%>%`.\n",
    "\n",
    "**Next:**\n",
    "\n",
    "* Data wrangling with `dplyr` to:\n",
    "* **filter** our data to areas of interest.\n",
    "* **arrange** the data to generate new insights.\n",
    "* create new features by **mutating** existing ones."
   ]
  },
  {
   "cell_type": "markdown",
   "id": "3927eee6-83f7-4a5d-94db-7992476a4b61",
   "metadata": {},
   "source": [
    "## Wrangle data ##"
   ]
  },
  {
   "cell_type": "markdown",
   "id": "b537dc3c-0eb6-408f-b8a4-aa74fbaf92d2",
   "metadata": {},
   "source": [
    "We'll start pulling out some initial insights using `dplyr` functionality, such as `filter`, `arrange` and `mutate`.\n",
    "\n",
    "This is really useful if we wanted to limit (filter) the data to only the observations of interest, or order by a value (arrange) or create new columns (mutate).\n",
    "\n",
    "We can read `dplyr` code like a sentence: start with our \"train\" data (%>% and then) filter to only return those records where the sex is male `(filter(Sex == \"male\")`.\n"
   ]
  },
  {
   "cell_type": "markdown",
   "id": "807e9561-6be2-4d98-bfa6-89c75958cf52",
   "metadata": {},
   "source": [
    "Filter to return all \"male\" rows"
   ]
  },
  {
   "cell_type": "code",
   "execution_count": null,
   "id": "6ec88e4a-841e-460c-a706-e76761a74a0b",
   "metadata": {},
   "outputs": [],
   "source": [
    "train %>% \n",
    "  filter(Sex == \"male\")"
   ]
  },
  {
   "cell_type": "markdown",
   "id": "34d5a423-cf38-41c6-ad3d-96a46b5d9c49",
   "metadata": {},
   "source": [
    "**Does our data give us any indication about whether men are likely to have survived or not?**"
   ]
  },
  {
   "cell_type": "markdown",
   "id": "d5e035b8-d291-4aa4-9ef1-7c859b234fe8",
   "metadata": {},
   "source": [
    "An initial view of the data seems to suggest that men typically did not survive (at least in the data we can see here)."
   ]
  },
  {
   "cell_type": "markdown",
   "id": "c793bcaf-b125-4446-8508-f7725233a0f2",
   "metadata": {},
   "source": [
    "**TO DO: Write the code to filter to filter to only return females**"
   ]
  },
  {
   "cell_type": "code",
   "execution_count": null,
   "id": "ba67ede2-9b78-43c6-a936-1925d061fb4c",
   "metadata": {},
   "outputs": [],
   "source": []
  },
  {
   "cell_type": "markdown",
   "id": "936189c4-9dbc-4ec4-b45b-f3cb71ce6cc6",
   "metadata": {},
   "source": [
    "**Does our data give us any indication about whether women are likely to have survived or not?**"
   ]
  },
  {
   "cell_type": "markdown",
   "id": "b9784596-b922-4dcc-8121-df2b90d62da8",
   "metadata": {},
   "source": [
    "An initial view of the data suggests that a lot of women did survive. We'll come on to this in more detail a little bit later."
   ]
  },
  {
   "cell_type": "markdown",
   "id": "a6d1dffa-b6e6-4529-a248-dab0dc30b094",
   "metadata": {},
   "source": [
    "What if we wanted to `arrange` our observations by increasing `Fare` to see if we can notice any trends? We can use `arrange` to achieve this."
   ]
  },
  {
   "cell_type": "markdown",
   "id": "adbbbaae-a519-4e0b-8deb-922ab40cd113",
   "metadata": {},
   "source": [
    "Arrange by increasing Fare."
   ]
  },
  {
   "cell_type": "code",
   "execution_count": null,
   "id": "d8f1422e-375d-44c7-b4a4-c5d06227f104",
   "metadata": {},
   "outputs": [],
   "source": [
    "train %>%\n",
    "  arrange(Fare)"
   ]
  },
  {
   "cell_type": "markdown",
   "id": "1607e829-b746-4ecd-9cc9-11f98f32da12",
   "metadata": {},
   "source": [
    "**Does our data give us any indication about whether fare paid has an effect on the chance of survival or not?**"
   ]
  },
  {
   "cell_type": "markdown",
   "id": "3285517b-a2a8-4991-ac64-d638642630fa",
   "metadata": {},
   "source": [
    "From the data we can see, a lot of the people who paid less did not survive the disaster. That's something interesting that we've just discovered just by re-arranging our data."
   ]
  },
  {
   "cell_type": "markdown",
   "id": "fdaad2e6-3b51-4dd4-b6c7-a8fa1532cd15",
   "metadata": {},
   "source": [
    "The second half of the dataset (those who paid a higher fare) we can see a lot of the people who paid more did survive the disaster. We can confirm this using `arrange` in descending order."
   ]
  },
  {
   "cell_type": "code",
   "execution_count": null,
   "id": "cbd2db16-3955-47b2-af10-1e11d9b7c032",
   "metadata": {},
   "outputs": [],
   "source": [
    "train %>% \n",
    "  arrange(desc(Fare))"
   ]
  },
  {
   "cell_type": "markdown",
   "id": "6eda9ad3-cf16-4ff7-a5d5-3e3361d3713f",
   "metadata": {},
   "source": [
    "## Creating new variables using `mutate` ## "
   ]
  },
  {
   "cell_type": "markdown",
   "id": "34bd3de1-36e6-4eb8-b8c0-349c2f146fd3",
   "metadata": {},
   "source": [
    "We can also create new variables to add to our dataset, to give us new insights."
   ]
  },
  {
   "cell_type": "markdown",
   "id": "7260930e-2632-4476-b068-8e7a1d1a7348",
   "metadata": {},
   "source": [
    "We know that the variable \"Parch\" is the number of parents and children while \"SibSp\" is the number of siblings and spouses. \n",
    "\n",
    "We can add these together to get a new variable \"FamSize\". To do so, we `mutate` the original variables into the new one."
   ]
  },
  {
   "cell_type": "markdown",
   "id": "987b4a4f-340f-4c09-910d-50607324bf2c",
   "metadata": {},
   "source": [
    "Create new column `FamSize` (size of family)"
   ]
  },
  {
   "cell_type": "code",
   "execution_count": null,
   "id": "886858bb-3088-45d6-ac9a-d940e512d3ea",
   "metadata": {},
   "outputs": [],
   "source": [
    "train %>% \n",
    "  mutate(FamSize = Parch + SibSp)"
   ]
  },
  {
   "cell_type": "markdown",
   "id": "ee5ec25c-a015-4aab-8ed4-b330b4eb9597",
   "metadata": {},
   "source": [
    "**Is it possible that larger families have a lower rate of survival?**"
   ]
  },
  {
   "cell_type": "markdown",
   "id": "94b943e2-f6a1-4c38-8168-534f61a61976",
   "metadata": {},
   "source": [
    "To test this, we can use our new variable \"FamSize\" and arrange by decreasing \"FamSize\"."
   ]
  },
  {
   "cell_type": "code",
   "execution_count": null,
   "id": "a17b5d5e-a7de-49c6-b8e3-6d937338bd19",
   "metadata": {},
   "outputs": [],
   "source": [
    "train %>% \n",
    "  mutate(FamSize = Parch + SibSp) %>% \n",
    "  arrange(desc(FamSize))"
   ]
  },
  {
   "cell_type": "markdown",
   "id": "c6e4ccd2-3d3c-40f4-b3b0-f599848c08e7",
   "metadata": {},
   "source": [
    "**Does our data give us any indication about whether larger families had an impact on the chance of survival or not?**"
   ]
  },
  {
   "cell_type": "markdown",
   "id": "b6804190-2c3f-4c4f-93bb-af37bafd4797",
   "metadata": {},
   "source": [
    "From the data we can see, some families had 7 or 10 members on-board, and all of the largest families we can see did not survive.\n",
    "\n",
    "We can also use `mutate` to amend existing columns, we might want to re-assign 0 and 1 in the \"Survived\" column to a Yes or No."
   ]
  },
  {
   "cell_type": "markdown",
   "id": "029c8aa9-9d50-41bf-a84b-63b10afb2196",
   "metadata": {},
   "source": [
    "Turn numerical values of Survived column to \"No\" & \"Yes\" (but assign to a new dataframe)"
   ]
  },
  {
   "cell_type": "code",
   "execution_count": null,
   "id": "06d75901-82df-446c-8869-cf0e93ad3ed9",
   "metadata": {},
   "outputs": [],
   "source": [
    "survived <- train %>%\n",
    "  mutate(Survived = ifelse(Survived == 0, \"No\", \"Yes\"))"
   ]
  },
  {
   "cell_type": "code",
   "execution_count": null,
   "id": "4a196233-0af5-4b44-9d4d-706b0a3d4aa5",
   "metadata": {},
   "outputs": [],
   "source": [
    "head(survived)"
   ]
  },
  {
   "cell_type": "markdown",
   "id": "47391eef-0347-4d93-9d22-0ff5ed9b847a",
   "metadata": {},
   "source": [
    "Notice that the Survived column has amended 0 to No, and 1 to Yes, which makes the dataset a little more user-friendly."
   ]
  },
  {
   "cell_type": "markdown",
   "id": "3c74f01f-40ee-4c37-9ac7-a3c0541ecc01",
   "metadata": {},
   "source": [
    "**Recap:**\n",
    "\n",
    "* We've imported our Titanic data and viewed some of the data\n",
    "* We've used the pipe operator `%>%`\n",
    "* We can now use `dplyr` to wrangle our data to `filter`, `arrange` and create new features by `mutating` existing ones.\n",
    "\n",
    "**Next:**\n",
    "\n",
    "* We'll plot our data using `ggplot2` to get a visual view to derive new insights."
   ]
  },
  {
   "cell_type": "markdown",
   "id": "dfde3013-8007-498d-99f5-7d110d2c63db",
   "metadata": {},
   "source": [
    "## Plotting data"
   ]
  },
  {
   "cell_type": "markdown",
   "id": "db08eaee-6b30-4370-b92e-fd373b59ccb2",
   "metadata": {},
   "source": [
    "To plot our data using `ggplot2`, we need to specify three things:\n",
    "\n",
    "* Data\n",
    "* Aesthetics (e.g. what's on the x-axis and y-axis)\n",
    "* Plot (e.g. barplot, scatterplot)\n",
    "\n",
    "**About ggplot:**\n",
    "\n",
    "* We can read the `ggplot2` code like a sentence to understand what is happening: \n",
    "\n",
    "`ggplot(train, aes(x = Age, y = Fare)) +\n",
    "  geom_point()`\n",
    "\n",
    "**How to read the code**\n",
    "\n",
    "We take the titanic `train` data and we map `Age` to the x axis and `Fare` to the y axis, we then add points on as the layer of the plot.\n",
    "\n",
    "The first question that springs to mind regarding the Titanic is **\"How many people survived?\"**"
   ]
  },
  {
   "cell_type": "markdown",
   "id": "7fc58572-f5fa-435c-9262-280e0b69b7d8",
   "metadata": {},
   "source": [
    "Plot barplot of passenger surivival rate."
   ]
  },
  {
   "cell_type": "code",
   "execution_count": null,
   "id": "ab9f97bd-c204-4ccc-bf99-0886f298c9fb",
   "metadata": {},
   "outputs": [],
   "source": [
    "ggplot(survived, aes(x = Survived)) +\n",
    "  geom_bar()"
   ]
  },
  {
   "cell_type": "markdown",
   "id": "46d4c87d-ccc4-4058-85f4-8b3c39fa9e5e",
   "metadata": {},
   "source": [
    "This is useful, but it's quite tricky to see from this plot to know what proportion survived. We can make this clearer by returning the proportion. We can do so using the `prop.table` function."
   ]
  },
  {
   "cell_type": "code",
   "execution_count": null,
   "id": "ac75fbc0-eab2-43e6-9f8b-5355dddd81a9",
   "metadata": {},
   "outputs": [],
   "source": [
    "prop.table(table(survived$Survived))"
   ]
  },
  {
   "cell_type": "markdown",
   "id": "e4d276e1-d0d6-47e1-9d8f-d0c082440715",
   "metadata": {},
   "source": [
    "We can see that only 38.4% of all passengers who on-boarded the Titanic survived."
   ]
  },
  {
   "cell_type": "markdown",
   "id": "b3181a35-10c4-44c3-b7b8-35677524dd4a",
   "metadata": {},
   "source": [
    "We might want to investigate if the Age of any given passenger correlates with the fare paid. We can do this using a scatterplot, know as `geom_point` in `ggplot`."
   ]
  },
  {
   "cell_type": "markdown",
   "id": "bacdfaaf-4199-423e-a7d5-9c0ccc93458a",
   "metadata": {},
   "source": [
    "Scatter plot of `Age` vs `Fare`."
   ]
  },
  {
   "cell_type": "code",
   "execution_count": null,
   "id": "58620bf7-c393-4246-876b-47e15df6f5a0",
   "metadata": {},
   "outputs": [],
   "source": [
    "ggplot(survived, aes(x = Age, y = Fare)) +\n",
    "  geom_point()"
   ]
  },
  {
   "cell_type": "markdown",
   "id": "5c6eb977-c980-44a1-940d-fe3741b21474",
   "metadata": {},
   "source": [
    "*We receive a warning above the plot, the 177 records have been removed with missing values. This is because of those NULL values we identified earlier.*"
   ]
  },
  {
   "cell_type": "markdown",
   "id": "5897af3a-9e40-4f8c-a56a-656633c84719",
   "metadata": {},
   "source": [
    "**Does our data give us any indication about whether there was any correlation between fare paid and age of the passenger?**"
   ]
  },
  {
   "cell_type": "markdown",
   "id": "599d49f7-229e-45e5-96ab-0ea266940782",
   "metadata": {},
   "source": [
    "We can see that the majority of points within the data have a fare of £100 or less. There are also two notable outliers who had a fare greater than £500!"
   ]
  },
  {
   "cell_type": "markdown",
   "id": "b285d794-815e-44b8-811e-d3d8ffdf4090",
   "metadata": {},
   "source": [
    "If we use the previous barplot and colour each point by `Sex` to see if there are any correlations between `Sex`, `Age` and `Fare`."
   ]
  },
  {
   "cell_type": "markdown",
   "id": "9a29c94e-f572-4d68-ba1c-12fd2078d5b4",
   "metadata": {},
   "source": [
    "Scatter plot of `Age` vs `Fare` coloured by `Sex`."
   ]
  },
  {
   "cell_type": "code",
   "execution_count": null,
   "id": "780862cb-d687-45f2-a73e-7efc678518ea",
   "metadata": {},
   "outputs": [],
   "source": [
    "ggplot(survived, aes(x = Age, y = Fare, color = Sex)) +\n",
    "  geom_point()"
   ]
  },
  {
   "cell_type": "markdown",
   "id": "f4898159-6b76-4733-a1fc-653e72c82153",
   "metadata": {},
   "source": [
    "The plot above is useful, we can now see the data points are coloured by sex, as well as our original fare and age, but what if we wanted to add the Survived variable to the plot, to see if that shows us anything of interest?\n",
    "\n",
    "**We can use `facet_grid` to produce multiple plots at the same time**"
   ]
  },
  {
   "cell_type": "markdown",
   "id": "1c5c1310-2203-4f70-ac04-33839c62026c",
   "metadata": {},
   "source": [
    "Scatter plot of Age vs Fare colored by Sex faceted by Survived."
   ]
  },
  {
   "cell_type": "code",
   "execution_count": null,
   "id": "2696bc0b-cfaf-434e-b5fd-8573143151c1",
   "metadata": {},
   "outputs": [],
   "source": [
    "ggplot(survived, aes(x = Age, y = Fare, color = Sex)) +\n",
    "  geom_point() +\n",
    "  facet_grid(~Survived)"
   ]
  },
  {
   "cell_type": "markdown",
   "id": "190db4b4-f851-4f43-b274-821be5614da8",
   "metadata": {},
   "source": [
    "**Does our data give us any indication about whether Sex had an impact on the chance of survival or not?** \n",
    "\n",
    "We see that the survival rate amongst women was significantly higher when compared to men.\n",
    "\n",
    "It is believed that in case of rescue operations during disasters, women's safety is prioritised. It certainly looks as though this is the case, with women much more likely to survive.\n",
    "\n",
    "We can create a bar plot to see if this was the case overall, by plotting Sex and whether they survived or not."
   ]
  },
  {
   "cell_type": "markdown",
   "id": "46b061d4-7e29-4f95-a5d7-cf888d77628d",
   "metadata": {},
   "source": [
    "Plot barplot of passenger `Sex` & fill according to `Survival`."
   ]
  },
  {
   "cell_type": "code",
   "execution_count": null,
   "id": "f339e588-12c5-4375-bd0f-0a9c98d9e5d6",
   "metadata": {},
   "outputs": [],
   "source": [
    "ggplot(survived, aes(x = Sex, fill = Survived)) +\n",
    "  geom_bar()"
   ]
  },
  {
   "cell_type": "markdown",
   "id": "a6200321-69bc-48e6-b9eb-0fed94ff88dd",
   "metadata": {},
   "source": [
    "**Does our data give us any indication about whether Sex had an impact on the chance of survival or not?** "
   ]
  },
  {
   "cell_type": "markdown",
   "id": "f1783e9c-9ef1-4259-bd0a-c286af520004",
   "metadata": {},
   "source": [
    "We see that the survival rate amongst women was significantly higher when compared to men."
   ]
  },
  {
   "cell_type": "markdown",
   "id": "1d6d70c1-c8f1-4908-956c-b779098d4228",
   "metadata": {},
   "source": [
    "Can we see any differences depending on the type of ticket they held? This can be determined using the `pclass` variable e.g. 1st, 2nd or 3rd class."
   ]
  },
  {
   "cell_type": "markdown",
   "id": "8d75959e-c435-4b5b-8a5b-08a8d298e172",
   "metadata": {},
   "source": [
    "**TO DO: Using the created survivded dataset, plot pclass against survived column using as a barplot.**"
   ]
  },
  {
   "cell_type": "code",
   "execution_count": null,
   "id": "92be5b02-7585-4be8-9f66-8cfb7867a555",
   "metadata": {},
   "outputs": [],
   "source": [
    "#ggplot(survived, aes(x = Pclass, fill = Survived)) +\n",
    "#  geom_bar()"
   ]
  },
  {
   "cell_type": "markdown",
   "id": "7a76e2e8-6499-4e11-ab87-2bed3e55e8e6",
   "metadata": {},
   "source": [
    "**Does our data give us any indication about whether class had an impact on the chance of survival or not?** "
   ]
  },
  {
   "cell_type": "markdown",
   "id": "691d8eb2-88c8-405a-a6cd-ad44aab8b9ef",
   "metadata": {},
   "source": [
    "There were 3 groups of passengers, depending upon the class they were travelling in - 1st class, 2nd class and 3rd class. \n",
    "\n",
    "We see that over 50% of the passengers were travelling in the 3rd class, but a much higher proportion of passengers in 1st class survived.\n",
    "\n",
    "Could it be preferential treatment why the passengers travelling first class, or could it be because the 3rd class compartments were in the lower extremity of the ship? Or could it be down to the placement of the lifeboats and how accessible they are to each class?"
   ]
  },
  {
   "cell_type": "markdown",
   "id": "b695eaa1-65d6-4375-9fc9-bf7390ab9ef2",
   "metadata": {},
   "source": [
    "TO DO: *Add in picture of titanic classes*"
   ]
  },
  {
   "cell_type": "code",
   "execution_count": null,
   "id": "872f988f-fc5f-4102-b74b-29544828a8e8",
   "metadata": {},
   "outputs": [],
   "source": [
    "ggplot(survived, aes(x = Age, fill = Survived)) +\n",
    "  geom_histogram(binwidth = 3, position = \"fill\") +\n",
    "  ylab(\"Frequency\")"
   ]
  },
  {
   "cell_type": "markdown",
   "id": "12c1b298-bdff-4e4b-aa50-be4f80692f3d",
   "metadata": {},
   "source": [
    "**Does our data give us any indication about whether age had an impact on the chance of survival or not?** "
   ]
  },
  {
   "cell_type": "markdown",
   "id": "ceecab23-e7d3-4d13-a6dc-c9ac4a7baf1e",
   "metadata": {},
   "source": [
    "We can see that young children, particularly up to 10 years old, had a greater chance of survival. From the previous plot we see that women are more likely to survive than men. \n",
    "\n",
    "The captain explicitly issued an order for women and children to be saved first. As a result, the survival rate for women was three times higher than for men."
   ]
  },
  {
   "cell_type": "markdown",
   "id": "6eec9e0c-2819-47ab-9409-e0e526ea21f0",
   "metadata": {},
   "source": [
    "**Recap:**\n",
    "\n",
    "* We've imported our Titanic data and viewed some of the data\n",
    "* We've used the pipe operator `%>%`\n",
    "* We can use `dplyr` to wrangle our data to `filter`, `arrange` and create new features by `mutating` existing ones.\n",
    "* We've plotted our data using `ggplot2`.\n",
    "\n",
    "**Next:**\n",
    "\n",
    "* Learn how to `summarise` our data.\n"
   ]
  },
  {
   "cell_type": "markdown",
   "id": "60a72df4-7c38-4d80-bb6f-ac0e902aaf44",
   "metadata": {},
   "source": [
    "## Summarizing and grouping data ##"
   ]
  },
  {
   "cell_type": "markdown",
   "id": "8b56fa8a-ef8a-49ad-8188-e5b0ba3e537e",
   "metadata": {},
   "source": [
    "The summarize function reduces a data frame to a summary of just one vector or value. Many times, these summaries are calculated by grouping observations using a factor or categorical variables first. \n",
    "\n",
    "Use the `summarise` verb to find out the mean fare paid."
   ]
  },
  {
   "cell_type": "code",
   "execution_count": null,
   "id": "7edd52f4-db18-49b6-8593-6c47e3fbf735",
   "metadata": {},
   "outputs": [],
   "source": [
    "train %>% \n",
    "  summarise(meanFare = mean(Fare))"
   ]
  },
  {
   "cell_type": "markdown",
   "id": "15bb5617-60b7-41cd-91b1-682d8a600251",
   "metadata": {},
   "source": [
    "We can use the `filter` and `summarise` functions to find out the mean fare paid among men."
   ]
  },
  {
   "cell_type": "code",
   "execution_count": null,
   "id": "dded20c2-34f0-425b-b7bc-5a7ca695dcd3",
   "metadata": {},
   "outputs": [],
   "source": [
    "train %>% \n",
    "  filter(Sex == \"male\") %>% \n",
    "  summarise(meanFare = mean(Fare))"
   ]
  },
  {
   "cell_type": "markdown",
   "id": "432052a2-2968-453e-bad6-ed3dc6f988fd",
   "metadata": {},
   "source": [
    "Use the `filter` and `summarise` verbs to find out the mean fare paid among women."
   ]
  },
  {
   "cell_type": "code",
   "execution_count": null,
   "id": "6a0c6018-3f6f-4efe-9263-a36db3646049",
   "metadata": {},
   "outputs": [],
   "source": [
    "#train %>% \n",
    "#  filter(Sex == \"female\") %>% \n",
    "#  summarise(meanFare = mean(Fare))"
   ]
  },
  {
   "cell_type": "markdown",
   "id": "73c012d5-fbd0-4c9c-a4ed-5cdad0280809",
   "metadata": {},
   "source": [
    "We can extend on this again, using the `filter` and `summarise` functions to find out the mean fare paid among women **and** how many women survived."
   ]
  },
  {
   "cell_type": "code",
   "execution_count": null,
   "id": "c9ce4367-14c0-42ef-b473-a36e63166cf1",
   "metadata": {},
   "outputs": [],
   "source": [
    "train %>% \n",
    "  filter(Sex == \"female\") %>%\n",
    "  summarise(meanFare = mean(Fare), \n",
    "            NumSurv = sum(Survived))"
   ]
  },
  {
   "cell_type": "markdown",
   "id": "96381f8b-f204-4b30-80e5-dddd37b1077b",
   "metadata": {},
   "source": [
    "We can use Use the `group_by` and `summarise` functions to find the mean fare and number of survivors and group by `Sex`."
   ]
  },
  {
   "cell_type": "code",
   "execution_count": null,
   "id": "2d55fb69-9eda-4918-aef3-37b07ea7f3dd",
   "metadata": {},
   "outputs": [],
   "source": [
    "train %>% \n",
    "  group_by(Sex) %>% \n",
    "  summarise(meanFare = mean(Fare),\n",
    "            NumSurv = sum(Survived))"
   ]
  },
  {
   "cell_type": "markdown",
   "id": "18bddf66-43ca-48d5-b609-4a5509b5708b",
   "metadata": {},
   "source": [
    "Use the `group_by` and `summarise` functions to find the mean fare and proportion of survivors and group by `Sex`."
   ]
  },
  {
   "cell_type": "code",
   "execution_count": null,
   "id": "108ac6a4-c2d8-4082-a075-8303ef637f91",
   "metadata": {},
   "outputs": [],
   "source": [
    "train %>% \n",
    "  group_by(Sex) %>% \n",
    "  summarise(meanFare = mean(Fare),\n",
    "            NumSurv = sum(Survived)/n())"
   ]
  },
  {
   "cell_type": "markdown",
   "id": "c2cb1e17-8a37-46b2-8290-6651451922e7",
   "metadata": {},
   "source": [
    "Can we do the same using PClass to see if the class of ticket has any significant impact on survival?"
   ]
  },
  {
   "cell_type": "code",
   "execution_count": null,
   "id": "11d767df-fba5-451f-a9fb-d1fe9bcfcdd8",
   "metadata": {},
   "outputs": [],
   "source": [
    "train %>% \n",
    "  group_by(Pclass) %>% \n",
    "  summarise(meanFare = mean(Fare),\n",
    "            NumSurv = sum(Survived)/n())"
   ]
  },
  {
   "cell_type": "markdown",
   "id": "06cab8e8-1cb0-4b6a-82c2-6e184401493f",
   "metadata": {},
   "source": [
    "**Does our data give us any indication about whether class had an impact on the chance of survival or not?**\n",
    "\n",
    "* Around 6 in 10 passengers within first class survived\n",
    "* Around 5 in 10 passengers within second class survived\n",
    "* Around 2 in 10 passengers within third class survived "
   ]
  },
  {
   "cell_type": "markdown",
   "id": "ef7dea4a-ab9a-46ee-a206-aafdbfeeac62",
   "metadata": {
    "jp-MarkdownHeadingCollapsed": true,
    "tags": []
   },
   "source": [
    "## In Summary ##\n",
    "\n",
    "* We've imported the Titanic train data and viewed some of the data.\n",
    "* We've used the pipe operator `%>%`.\n",
    "* We can use `dplyr` to wrangle our data to `filter`, `arrange` and create new features by `mutating` existing ones.\n",
    "* We can plot our data using `ggplot2`.\n",
    "* We can summarise our data using `summarise`.\n",
    "\n",
    "## Interested to know more? ##\n",
    "\n",
    "Feel free to play around and do your own exploratory analysis, thinking about which fields you could explore or combine to create new insights.\n",
    "\n",
    "## Thanks for joining! ##"
   ]
  }
 ],
 "metadata": {
  "kernelspec": {
   "display_name": "R",
   "language": "R",
   "name": "ir"
  },
  "language_info": {
   "codemirror_mode": "r",
   "file_extension": ".r",
   "mimetype": "text/x-r-source",
   "name": "R",
   "pygments_lexer": "r",
   "version": "4.1.1"
  }
 },
 "nbformat": 4,
 "nbformat_minor": 5
}
