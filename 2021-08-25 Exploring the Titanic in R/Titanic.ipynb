{
 "cells": [
  {
   "cell_type": "markdown",
   "id": "be010c2c-466d-46bb-ae57-91450302b0b0",
   "metadata": {},
   "source": [
    "# Exploring the Titanic in R #"
   ]
  },
  {
   "cell_type": "markdown",
   "id": "e347e341-f496-4a61-8b41-4c570895d9d6",
   "metadata": {
    "tags": []
   },
   "source": [
    "### The sinking of the Titanic is one of the most infamous shipwrecks in history. On April 15, 1912, during her maiden voyage, the widely considered “unsinkable” RMS Titanic sank after colliding with an iceberg. Unfortunately, there weren’t enough lifeboats for everyone onboard, resulting in the death of 1,502 out of 2,224 passengers and crew. ###\n",
    "\n",
    "### As well as a tragic disaster, the Titanic is a classic film, but did you know the Titanic is also a readily available and popular dataset that's been available for a number of years? This is what we'll be exploring today! ###\n",
    "\n",
    "<div id = 'titanic'>\n",
    "    <div class = \"inline-block\">\n",
    "        <figure><img src = 'titanic_picture.jpg' width = \"40%\" height = \"20%\"></figure>\n",
    "    </div>\n",
    "    </div>\n",
    "\n",
    "### It's one of many datasets that are built-in to R, we can access this by loading the [Titanic Package](https://cran.r-project.org/web/packages/titanic/index.html), and this is what we'll be using today to perform some data analyses in R. ###\n",
    "\n",
    "## What will be covered in the session? ##\n",
    "This session will be a hands-on exploratory data analyses, including packages commonly used in data analyses:\n",
    "* [dplyr](http://dplyr.tidyverse.org/) for data wrangling.\n",
    "* [ggplot2](http://ggplot2.tidyverse.org/) for data visualization.\n",
    "\n",
    "The aim is to work through all pre-processing and cleaning techniques which we might want to consider when working with any dataset.\n",
    "\n",
    "The packages are already installed within this environment, but if you wanted to install these in R, you can do so using `install.packages(\"dplyr\")`.\n",
    "\n",
    "Before we can get started with analyses we need to load the relevant R libraries."
   ]
  },
  {
   "cell_type": "markdown",
   "id": "1763883a-7ee3-496a-a8f8-347a31196a24",
   "metadata": {},
   "source": [
    "### Load R libraries. ###"
   ]
  },
  {
   "cell_type": "code",
   "execution_count": 3,
   "id": "ba1ff503-06be-4876-a787-f407c42f4117",
   "metadata": {},
   "outputs": [],
   "source": [
    "library(dplyr)\n",
    "library(ggplot2)"
   ]
  },
  {
   "cell_type": "markdown",
   "id": "a0026d40-9e33-4cfb-a5df-17475c129bc7",
   "metadata": {},
   "source": [
    "We'll then load in the data. The Titanic data consists of two datasets, `train` and `test`, but we'll only use the train data today."
   ]
  },
  {
   "cell_type": "markdown",
   "id": "8777a73e-25ee-46e3-8408-4b1fae5a1970",
   "metadata": {},
   "source": [
    "### Load Titanic Train data. ###"
   ]
  },
  {
   "cell_type": "code",
   "execution_count": 4,
   "id": "e80b4294-72fc-4556-87b8-68fe5e2beb9e",
   "metadata": {},
   "outputs": [],
   "source": [
    "train <- read.csv(\"https://raw.githubusercontent.com/paulhendricks/titanic/master/inst/data-raw/train.csv\")"
   ]
  },
  {
   "cell_type": "markdown",
   "id": "bb82147a-5656-432d-9e56-f1644ea7bdd8",
   "metadata": {},
   "source": [
    "A good first step in understanding your data is to check the structure of the data, such as the data type of each attribute, as well as how many rows and columns (observations and variables in R language) we can do this using `str()`."
   ]
  },
  {
   "cell_type": "markdown",
   "id": "9e3f71a9-a826-423b-a573-468349780f14",
   "metadata": {},
   "source": [
    "### Check the Structure of Titanic data. ### "
   ]
  },
  {
   "cell_type": "code",
   "execution_count": 5,
   "id": "0d928613-61ac-4444-8f0e-3dfee5d3870d",
   "metadata": {},
   "outputs": [
    {
     "name": "stdout",
     "output_type": "stream",
     "text": [
      "'data.frame':\t891 obs. of  12 variables:\n",
      " $ PassengerId: int  1 2 3 4 5 6 7 8 9 10 ...\n",
      " $ Survived   : int  0 1 1 1 0 0 0 0 1 1 ...\n",
      " $ Pclass     : int  3 1 3 1 3 3 1 3 3 2 ...\n",
      " $ Name       : chr  \"Braund, Mr. Owen Harris\" \"Cumings, Mrs. John Bradley (Florence Briggs Thayer)\" \"Heikkinen, Miss. Laina\" \"Futrelle, Mrs. Jacques Heath (Lily May Peel)\" ...\n",
      " $ Sex        : chr  \"male\" \"female\" \"female\" \"female\" ...\n",
      " $ Age        : num  22 38 26 35 35 NA 54 2 27 14 ...\n",
      " $ SibSp      : int  1 1 0 1 0 0 0 3 0 1 ...\n",
      " $ Parch      : int  0 0 0 0 0 0 0 1 2 0 ...\n",
      " $ Ticket     : chr  \"A/5 21171\" \"PC 17599\" \"STON/O2. 3101282\" \"113803\" ...\n",
      " $ Fare       : num  7.25 71.28 7.92 53.1 8.05 ...\n",
      " $ Cabin      : chr  \"\" \"C85\" \"\" \"C123\" ...\n",
      " $ Embarked   : chr  \"S\" \"C\" \"S\" \"S\" ...\n"
     ]
    }
   ],
   "source": [
    "str(train)"
   ]
  },
  {
   "cell_type": "markdown",
   "id": "d2668016-aba5-4c9a-ae04-350a734c3e78",
   "metadata": {
    "tags": []
   },
   "source": [
    "### What are the variables in the dataset? ###\n",
    "\n",
    "* **PassengerId**: Serial Number\n",
    "* **Survived**: Contains binary Values of 0 & 1. Passenger did not survive — 0, Passenger Survived — 1.\n",
    "* **Pclass**: Ticket Class | 1st Class, 2nd Class or 3rd Class Ticket\n",
    "* **Name**: Name of the passenger\n",
    "* **Sex**: Male or Female\n",
    "* **Age**: Age in years — Integer\n",
    "* **SibSp**: No. of Siblings / Spouses — brothers, sisters and/or husband/wife\n",
    "* **Parch**: No. of parents/children — mother/father and/or daughter, son\n",
    "* **Ticket**: Serial Number\n",
    "* **Fare**: Passenger fare\n",
    "* **Cabin**: Cabin Number\n",
    "* **Embarked**: Port of Embarkment | C- Cherbourg, Q — Queenstown, S — Southampton"
   ]
  },
  {
   "cell_type": "markdown",
   "id": "1cc2150c-9da6-41f8-9ffc-0d1b6a37f90b",
   "metadata": {},
   "source": [
    "Now we know which fields are included in the dataset, we might want to have a look at the raw data before we begin our analyses."
   ]
  },
  {
   "cell_type": "markdown",
   "id": "887c2d57-58e2-4f23-a374-5f60a7997239",
   "metadata": {},
   "source": [
    "We can do so using `head` to show the first 6 rows, and `tail` to show the last 6 rows."
   ]
  },
  {
   "cell_type": "code",
   "execution_count": 6,
   "id": "fc0c1aa6-272c-45ab-ba28-094e972e88d8",
   "metadata": {},
   "outputs": [
    {
     "data": {
      "text/html": [
       "<table class=\"dataframe\">\n",
       "<caption>A data.frame: 6 × 12</caption>\n",
       "<thead>\n",
       "\t<tr><th></th><th scope=col>PassengerId</th><th scope=col>Survived</th><th scope=col>Pclass</th><th scope=col>Name</th><th scope=col>Sex</th><th scope=col>Age</th><th scope=col>SibSp</th><th scope=col>Parch</th><th scope=col>Ticket</th><th scope=col>Fare</th><th scope=col>Cabin</th><th scope=col>Embarked</th></tr>\n",
       "\t<tr><th></th><th scope=col>&lt;int&gt;</th><th scope=col>&lt;int&gt;</th><th scope=col>&lt;int&gt;</th><th scope=col>&lt;chr&gt;</th><th scope=col>&lt;chr&gt;</th><th scope=col>&lt;dbl&gt;</th><th scope=col>&lt;int&gt;</th><th scope=col>&lt;int&gt;</th><th scope=col>&lt;chr&gt;</th><th scope=col>&lt;dbl&gt;</th><th scope=col>&lt;chr&gt;</th><th scope=col>&lt;chr&gt;</th></tr>\n",
       "</thead>\n",
       "<tbody>\n",
       "\t<tr><th scope=row>1</th><td>1</td><td>0</td><td>3</td><td>Braund, Mr. Owen Harris                            </td><td>male  </td><td>22</td><td>1</td><td>0</td><td>A/5 21171       </td><td> 7.2500</td><td>    </td><td>S</td></tr>\n",
       "\t<tr><th scope=row>2</th><td>2</td><td>1</td><td>1</td><td>Cumings, Mrs. John Bradley (Florence Briggs Thayer)</td><td>female</td><td>38</td><td>1</td><td>0</td><td>PC 17599        </td><td>71.2833</td><td>C85 </td><td>C</td></tr>\n",
       "\t<tr><th scope=row>3</th><td>3</td><td>1</td><td>3</td><td>Heikkinen, Miss. Laina                             </td><td>female</td><td>26</td><td>0</td><td>0</td><td>STON/O2. 3101282</td><td> 7.9250</td><td>    </td><td>S</td></tr>\n",
       "\t<tr><th scope=row>4</th><td>4</td><td>1</td><td>1</td><td>Futrelle, Mrs. Jacques Heath (Lily May Peel)       </td><td>female</td><td>35</td><td>1</td><td>0</td><td>113803          </td><td>53.1000</td><td>C123</td><td>S</td></tr>\n",
       "\t<tr><th scope=row>5</th><td>5</td><td>0</td><td>3</td><td>Allen, Mr. William Henry                           </td><td>male  </td><td>35</td><td>0</td><td>0</td><td>373450          </td><td> 8.0500</td><td>    </td><td>S</td></tr>\n",
       "\t<tr><th scope=row>6</th><td>6</td><td>0</td><td>3</td><td>Moran, Mr. James                                   </td><td>male  </td><td>NA</td><td>0</td><td>0</td><td>330877          </td><td> 8.4583</td><td>    </td><td>Q</td></tr>\n",
       "</tbody>\n",
       "</table>\n"
      ],
      "text/latex": [
       "A data.frame: 6 × 12\n",
       "\\begin{tabular}{r|llllllllllll}\n",
       "  & PassengerId & Survived & Pclass & Name & Sex & Age & SibSp & Parch & Ticket & Fare & Cabin & Embarked\\\\\n",
       "  & <int> & <int> & <int> & <chr> & <chr> & <dbl> & <int> & <int> & <chr> & <dbl> & <chr> & <chr>\\\\\n",
       "\\hline\n",
       "\t1 & 1 & 0 & 3 & Braund, Mr. Owen Harris                             & male   & 22 & 1 & 0 & A/5 21171        &  7.2500 &      & S\\\\\n",
       "\t2 & 2 & 1 & 1 & Cumings, Mrs. John Bradley (Florence Briggs Thayer) & female & 38 & 1 & 0 & PC 17599         & 71.2833 & C85  & C\\\\\n",
       "\t3 & 3 & 1 & 3 & Heikkinen, Miss. Laina                              & female & 26 & 0 & 0 & STON/O2. 3101282 &  7.9250 &      & S\\\\\n",
       "\t4 & 4 & 1 & 1 & Futrelle, Mrs. Jacques Heath (Lily May Peel)        & female & 35 & 1 & 0 & 113803           & 53.1000 & C123 & S\\\\\n",
       "\t5 & 5 & 0 & 3 & Allen, Mr. William Henry                            & male   & 35 & 0 & 0 & 373450           &  8.0500 &      & S\\\\\n",
       "\t6 & 6 & 0 & 3 & Moran, Mr. James                                    & male   & NA & 0 & 0 & 330877           &  8.4583 &      & Q\\\\\n",
       "\\end{tabular}\n"
      ],
      "text/markdown": [
       "\n",
       "A data.frame: 6 × 12\n",
       "\n",
       "| <!--/--> | PassengerId &lt;int&gt; | Survived &lt;int&gt; | Pclass &lt;int&gt; | Name &lt;chr&gt; | Sex &lt;chr&gt; | Age &lt;dbl&gt; | SibSp &lt;int&gt; | Parch &lt;int&gt; | Ticket &lt;chr&gt; | Fare &lt;dbl&gt; | Cabin &lt;chr&gt; | Embarked &lt;chr&gt; |\n",
       "|---|---|---|---|---|---|---|---|---|---|---|---|---|\n",
       "| 1 | 1 | 0 | 3 | Braund, Mr. Owen Harris                             | male   | 22 | 1 | 0 | A/5 21171        |  7.2500 | <!----> | S |\n",
       "| 2 | 2 | 1 | 1 | Cumings, Mrs. John Bradley (Florence Briggs Thayer) | female | 38 | 1 | 0 | PC 17599         | 71.2833 | C85  | C |\n",
       "| 3 | 3 | 1 | 3 | Heikkinen, Miss. Laina                              | female | 26 | 0 | 0 | STON/O2. 3101282 |  7.9250 | <!----> | S |\n",
       "| 4 | 4 | 1 | 1 | Futrelle, Mrs. Jacques Heath (Lily May Peel)        | female | 35 | 1 | 0 | 113803           | 53.1000 | C123 | S |\n",
       "| 5 | 5 | 0 | 3 | Allen, Mr. William Henry                            | male   | 35 | 0 | 0 | 373450           |  8.0500 | <!----> | S |\n",
       "| 6 | 6 | 0 | 3 | Moran, Mr. James                                    | male   | NA | 0 | 0 | 330877           |  8.4583 | <!----> | Q |\n",
       "\n"
      ],
      "text/plain": [
       "  PassengerId Survived Pclass\n",
       "1 1           0        3     \n",
       "2 2           1        1     \n",
       "3 3           1        3     \n",
       "4 4           1        1     \n",
       "5 5           0        3     \n",
       "6 6           0        3     \n",
       "  Name                                                Sex    Age SibSp Parch\n",
       "1 Braund, Mr. Owen Harris                             male   22  1     0    \n",
       "2 Cumings, Mrs. John Bradley (Florence Briggs Thayer) female 38  1     0    \n",
       "3 Heikkinen, Miss. Laina                              female 26  0     0    \n",
       "4 Futrelle, Mrs. Jacques Heath (Lily May Peel)        female 35  1     0    \n",
       "5 Allen, Mr. William Henry                            male   35  0     0    \n",
       "6 Moran, Mr. James                                    male   NA  0     0    \n",
       "  Ticket           Fare    Cabin Embarked\n",
       "1 A/5 21171         7.2500       S       \n",
       "2 PC 17599         71.2833 C85   C       \n",
       "3 STON/O2. 3101282  7.9250       S       \n",
       "4 113803           53.1000 C123  S       \n",
       "5 373450            8.0500       S       \n",
       "6 330877            8.4583       Q       "
      ]
     },
     "metadata": {},
     "output_type": "display_data"
    }
   ],
   "source": [
    "head(train)"
   ]
  },
  {
   "cell_type": "code",
   "execution_count": 7,
   "id": "d2109614-45d7-4a77-8864-d8f09eb0f2ac",
   "metadata": {},
   "outputs": [
    {
     "data": {
      "text/html": [
       "<table class=\"dataframe\">\n",
       "<caption>A data.frame: 6 × 12</caption>\n",
       "<thead>\n",
       "\t<tr><th></th><th scope=col>PassengerId</th><th scope=col>Survived</th><th scope=col>Pclass</th><th scope=col>Name</th><th scope=col>Sex</th><th scope=col>Age</th><th scope=col>SibSp</th><th scope=col>Parch</th><th scope=col>Ticket</th><th scope=col>Fare</th><th scope=col>Cabin</th><th scope=col>Embarked</th></tr>\n",
       "\t<tr><th></th><th scope=col>&lt;int&gt;</th><th scope=col>&lt;int&gt;</th><th scope=col>&lt;int&gt;</th><th scope=col>&lt;chr&gt;</th><th scope=col>&lt;chr&gt;</th><th scope=col>&lt;dbl&gt;</th><th scope=col>&lt;int&gt;</th><th scope=col>&lt;int&gt;</th><th scope=col>&lt;chr&gt;</th><th scope=col>&lt;dbl&gt;</th><th scope=col>&lt;chr&gt;</th><th scope=col>&lt;chr&gt;</th></tr>\n",
       "</thead>\n",
       "<tbody>\n",
       "\t<tr><th scope=row>886</th><td>886</td><td>0</td><td>3</td><td>Rice, Mrs. William (Margaret Norton)    </td><td>female</td><td>39</td><td>0</td><td>5</td><td>382652    </td><td>29.125</td><td>    </td><td>Q</td></tr>\n",
       "\t<tr><th scope=row>887</th><td>887</td><td>0</td><td>2</td><td>Montvila, Rev. Juozas                   </td><td>male  </td><td>27</td><td>0</td><td>0</td><td>211536    </td><td>13.000</td><td>    </td><td>S</td></tr>\n",
       "\t<tr><th scope=row>888</th><td>888</td><td>1</td><td>1</td><td>Graham, Miss. Margaret Edith            </td><td>female</td><td>19</td><td>0</td><td>0</td><td>112053    </td><td>30.000</td><td>B42 </td><td>S</td></tr>\n",
       "\t<tr><th scope=row>889</th><td>889</td><td>0</td><td>3</td><td>Johnston, Miss. Catherine Helen \"Carrie\"</td><td>female</td><td>NA</td><td>1</td><td>2</td><td>W./C. 6607</td><td>23.450</td><td>    </td><td>S</td></tr>\n",
       "\t<tr><th scope=row>890</th><td>890</td><td>1</td><td>1</td><td>Behr, Mr. Karl Howell                   </td><td>male  </td><td>26</td><td>0</td><td>0</td><td>111369    </td><td>30.000</td><td>C148</td><td>C</td></tr>\n",
       "\t<tr><th scope=row>891</th><td>891</td><td>0</td><td>3</td><td>Dooley, Mr. Patrick                     </td><td>male  </td><td>32</td><td>0</td><td>0</td><td>370376    </td><td> 7.750</td><td>    </td><td>Q</td></tr>\n",
       "</tbody>\n",
       "</table>\n"
      ],
      "text/latex": [
       "A data.frame: 6 × 12\n",
       "\\begin{tabular}{r|llllllllllll}\n",
       "  & PassengerId & Survived & Pclass & Name & Sex & Age & SibSp & Parch & Ticket & Fare & Cabin & Embarked\\\\\n",
       "  & <int> & <int> & <int> & <chr> & <chr> & <dbl> & <int> & <int> & <chr> & <dbl> & <chr> & <chr>\\\\\n",
       "\\hline\n",
       "\t886 & 886 & 0 & 3 & Rice, Mrs. William (Margaret Norton)     & female & 39 & 0 & 5 & 382652     & 29.125 &      & Q\\\\\n",
       "\t887 & 887 & 0 & 2 & Montvila, Rev. Juozas                    & male   & 27 & 0 & 0 & 211536     & 13.000 &      & S\\\\\n",
       "\t888 & 888 & 1 & 1 & Graham, Miss. Margaret Edith             & female & 19 & 0 & 0 & 112053     & 30.000 & B42  & S\\\\\n",
       "\t889 & 889 & 0 & 3 & Johnston, Miss. Catherine Helen \"Carrie\" & female & NA & 1 & 2 & W./C. 6607 & 23.450 &      & S\\\\\n",
       "\t890 & 890 & 1 & 1 & Behr, Mr. Karl Howell                    & male   & 26 & 0 & 0 & 111369     & 30.000 & C148 & C\\\\\n",
       "\t891 & 891 & 0 & 3 & Dooley, Mr. Patrick                      & male   & 32 & 0 & 0 & 370376     &  7.750 &      & Q\\\\\n",
       "\\end{tabular}\n"
      ],
      "text/markdown": [
       "\n",
       "A data.frame: 6 × 12\n",
       "\n",
       "| <!--/--> | PassengerId &lt;int&gt; | Survived &lt;int&gt; | Pclass &lt;int&gt; | Name &lt;chr&gt; | Sex &lt;chr&gt; | Age &lt;dbl&gt; | SibSp &lt;int&gt; | Parch &lt;int&gt; | Ticket &lt;chr&gt; | Fare &lt;dbl&gt; | Cabin &lt;chr&gt; | Embarked &lt;chr&gt; |\n",
       "|---|---|---|---|---|---|---|---|---|---|---|---|---|\n",
       "| 886 | 886 | 0 | 3 | Rice, Mrs. William (Margaret Norton)     | female | 39 | 0 | 5 | 382652     | 29.125 | <!----> | Q |\n",
       "| 887 | 887 | 0 | 2 | Montvila, Rev. Juozas                    | male   | 27 | 0 | 0 | 211536     | 13.000 | <!----> | S |\n",
       "| 888 | 888 | 1 | 1 | Graham, Miss. Margaret Edith             | female | 19 | 0 | 0 | 112053     | 30.000 | B42  | S |\n",
       "| 889 | 889 | 0 | 3 | Johnston, Miss. Catherine Helen \"Carrie\" | female | NA | 1 | 2 | W./C. 6607 | 23.450 | <!----> | S |\n",
       "| 890 | 890 | 1 | 1 | Behr, Mr. Karl Howell                    | male   | 26 | 0 | 0 | 111369     | 30.000 | C148 | C |\n",
       "| 891 | 891 | 0 | 3 | Dooley, Mr. Patrick                      | male   | 32 | 0 | 0 | 370376     |  7.750 | <!----> | Q |\n",
       "\n"
      ],
      "text/plain": [
       "    PassengerId Survived Pclass Name                                     Sex   \n",
       "886 886         0        3      Rice, Mrs. William (Margaret Norton)     female\n",
       "887 887         0        2      Montvila, Rev. Juozas                    male  \n",
       "888 888         1        1      Graham, Miss. Margaret Edith             female\n",
       "889 889         0        3      Johnston, Miss. Catherine Helen \"Carrie\" female\n",
       "890 890         1        1      Behr, Mr. Karl Howell                    male  \n",
       "891 891         0        3      Dooley, Mr. Patrick                      male  \n",
       "    Age SibSp Parch Ticket     Fare   Cabin Embarked\n",
       "886 39  0     5     382652     29.125       Q       \n",
       "887 27  0     0     211536     13.000       S       \n",
       "888 19  0     0     112053     30.000 B42   S       \n",
       "889 NA  1     2     W./C. 6607 23.450       S       \n",
       "890 26  0     0     111369     30.000 C148  C       \n",
       "891 32  0     0     370376      7.750       Q       "
      ]
     },
     "metadata": {},
     "output_type": "display_data"
    }
   ],
   "source": [
    "tail(train)"
   ]
  },
  {
   "cell_type": "markdown",
   "id": "e7701e91-d125-4a15-a8fe-fe47a13516b4",
   "metadata": {},
   "source": [
    "### Check for missing values ###"
   ]
  },
  {
   "cell_type": "markdown",
   "id": "9179f059-ce56-4bf3-bebc-0faf2db53cde",
   "metadata": {},
   "source": [
    "We know which fields we have in the dataset, and the size of the dataset, but it's important to consider any missing data."
   ]
  },
  {
   "cell_type": "markdown",
   "id": "b2f7f9b4-a643-4561-abc5-d759a7833d84",
   "metadata": {},
   "source": [
    "We can do this using a combination of `is.na` and `colSums`."
   ]
  },
  {
   "cell_type": "code",
   "execution_count": null,
   "id": "db31e83d-2526-4c51-862d-7aa9bc195088",
   "metadata": {},
   "outputs": [],
   "source": [
    "colSums(is.na(train))"
   ]
  },
  {
   "cell_type": "markdown",
   "id": "4019effe-03df-4efe-88bb-1441069c1624",
   "metadata": {},
   "source": [
    "We can see that `Age` has 177 missing values in our Train data. For other values we may want to impute missing values, but for missing ages, we'll leave them as blank."
   ]
  },
  {
   "cell_type": "markdown",
   "id": "48c78af1-7709-4e57-b981-917a3f13e62f",
   "metadata": {},
   "source": [
    "### Extract Title from the Name field ###"
   ]
  },
  {
   "cell_type": "markdown",
   "id": "7ac3190a-2845-45c6-8fa1-dbff89693a13",
   "metadata": {},
   "source": [
    "We can extract title from `Name` using `gsub`. The gsub function replaces all instances of the pattern provided in the specified column of the dataframe. In this instance, we're looking for the characters `,` and `.` and replacing anything outside of this with blank space. \n",
    "\n",
    "* `(.*, )` -> any text before and including a comma and space\n",
    "* `(\\\\..*)` -> any text after and including a dot\n",
    "* The `|` -> an or operator\n",
    "* The gsub will match the first OR second pattern\n",
    "\n",
    "'Bloggs, Mr. Joe' would become 'Mr' and would be created as a column called `Title` in the Train dataset."
   ]
  },
  {
   "cell_type": "code",
   "execution_count": 8,
   "id": "483ae17d-6c8e-46b1-b464-80b4e73013a1",
   "metadata": {},
   "outputs": [],
   "source": [
    "train$Title <- gsub('(.*, )|(\\\\..*)', '', train$Name)"
   ]
  },
  {
   "cell_type": "markdown",
   "id": "7d6a7aad-b398-45a5-99f2-55350acf9a68",
   "metadata": {},
   "source": [
    "We can use `head` again to glimpse at our data to check if this new column is as we'd expect."
   ]
  },
  {
   "cell_type": "code",
   "execution_count": 9,
   "id": "760772b4-c991-4cf3-95b3-eb9fbcfabcf8",
   "metadata": {},
   "outputs": [
    {
     "data": {
      "text/html": [
       "<table class=\"dataframe\">\n",
       "<caption>A data.frame: 6 × 13</caption>\n",
       "<thead>\n",
       "\t<tr><th></th><th scope=col>PassengerId</th><th scope=col>Survived</th><th scope=col>Pclass</th><th scope=col>Name</th><th scope=col>Sex</th><th scope=col>Age</th><th scope=col>SibSp</th><th scope=col>Parch</th><th scope=col>Ticket</th><th scope=col>Fare</th><th scope=col>Cabin</th><th scope=col>Embarked</th><th scope=col>Title</th></tr>\n",
       "\t<tr><th></th><th scope=col>&lt;int&gt;</th><th scope=col>&lt;int&gt;</th><th scope=col>&lt;int&gt;</th><th scope=col>&lt;chr&gt;</th><th scope=col>&lt;chr&gt;</th><th scope=col>&lt;dbl&gt;</th><th scope=col>&lt;int&gt;</th><th scope=col>&lt;int&gt;</th><th scope=col>&lt;chr&gt;</th><th scope=col>&lt;dbl&gt;</th><th scope=col>&lt;chr&gt;</th><th scope=col>&lt;chr&gt;</th><th scope=col>&lt;chr&gt;</th></tr>\n",
       "</thead>\n",
       "<tbody>\n",
       "\t<tr><th scope=row>1</th><td>1</td><td>0</td><td>3</td><td>Braund, Mr. Owen Harris                            </td><td>male  </td><td>22</td><td>1</td><td>0</td><td>A/5 21171       </td><td> 7.2500</td><td>    </td><td>S</td><td>Mr  </td></tr>\n",
       "\t<tr><th scope=row>2</th><td>2</td><td>1</td><td>1</td><td>Cumings, Mrs. John Bradley (Florence Briggs Thayer)</td><td>female</td><td>38</td><td>1</td><td>0</td><td>PC 17599        </td><td>71.2833</td><td>C85 </td><td>C</td><td>Mrs </td></tr>\n",
       "\t<tr><th scope=row>3</th><td>3</td><td>1</td><td>3</td><td>Heikkinen, Miss. Laina                             </td><td>female</td><td>26</td><td>0</td><td>0</td><td>STON/O2. 3101282</td><td> 7.9250</td><td>    </td><td>S</td><td>Miss</td></tr>\n",
       "\t<tr><th scope=row>4</th><td>4</td><td>1</td><td>1</td><td>Futrelle, Mrs. Jacques Heath (Lily May Peel)       </td><td>female</td><td>35</td><td>1</td><td>0</td><td>113803          </td><td>53.1000</td><td>C123</td><td>S</td><td>Mrs </td></tr>\n",
       "\t<tr><th scope=row>5</th><td>5</td><td>0</td><td>3</td><td>Allen, Mr. William Henry                           </td><td>male  </td><td>35</td><td>0</td><td>0</td><td>373450          </td><td> 8.0500</td><td>    </td><td>S</td><td>Mr  </td></tr>\n",
       "\t<tr><th scope=row>6</th><td>6</td><td>0</td><td>3</td><td>Moran, Mr. James                                   </td><td>male  </td><td>NA</td><td>0</td><td>0</td><td>330877          </td><td> 8.4583</td><td>    </td><td>Q</td><td>Mr  </td></tr>\n",
       "</tbody>\n",
       "</table>\n"
      ],
      "text/latex": [
       "A data.frame: 6 × 13\n",
       "\\begin{tabular}{r|lllllllllllll}\n",
       "  & PassengerId & Survived & Pclass & Name & Sex & Age & SibSp & Parch & Ticket & Fare & Cabin & Embarked & Title\\\\\n",
       "  & <int> & <int> & <int> & <chr> & <chr> & <dbl> & <int> & <int> & <chr> & <dbl> & <chr> & <chr> & <chr>\\\\\n",
       "\\hline\n",
       "\t1 & 1 & 0 & 3 & Braund, Mr. Owen Harris                             & male   & 22 & 1 & 0 & A/5 21171        &  7.2500 &      & S & Mr  \\\\\n",
       "\t2 & 2 & 1 & 1 & Cumings, Mrs. John Bradley (Florence Briggs Thayer) & female & 38 & 1 & 0 & PC 17599         & 71.2833 & C85  & C & Mrs \\\\\n",
       "\t3 & 3 & 1 & 3 & Heikkinen, Miss. Laina                              & female & 26 & 0 & 0 & STON/O2. 3101282 &  7.9250 &      & S & Miss\\\\\n",
       "\t4 & 4 & 1 & 1 & Futrelle, Mrs. Jacques Heath (Lily May Peel)        & female & 35 & 1 & 0 & 113803           & 53.1000 & C123 & S & Mrs \\\\\n",
       "\t5 & 5 & 0 & 3 & Allen, Mr. William Henry                            & male   & 35 & 0 & 0 & 373450           &  8.0500 &      & S & Mr  \\\\\n",
       "\t6 & 6 & 0 & 3 & Moran, Mr. James                                    & male   & NA & 0 & 0 & 330877           &  8.4583 &      & Q & Mr  \\\\\n",
       "\\end{tabular}\n"
      ],
      "text/markdown": [
       "\n",
       "A data.frame: 6 × 13\n",
       "\n",
       "| <!--/--> | PassengerId &lt;int&gt; | Survived &lt;int&gt; | Pclass &lt;int&gt; | Name &lt;chr&gt; | Sex &lt;chr&gt; | Age &lt;dbl&gt; | SibSp &lt;int&gt; | Parch &lt;int&gt; | Ticket &lt;chr&gt; | Fare &lt;dbl&gt; | Cabin &lt;chr&gt; | Embarked &lt;chr&gt; | Title &lt;chr&gt; |\n",
       "|---|---|---|---|---|---|---|---|---|---|---|---|---|---|\n",
       "| 1 | 1 | 0 | 3 | Braund, Mr. Owen Harris                             | male   | 22 | 1 | 0 | A/5 21171        |  7.2500 | <!----> | S | Mr   |\n",
       "| 2 | 2 | 1 | 1 | Cumings, Mrs. John Bradley (Florence Briggs Thayer) | female | 38 | 1 | 0 | PC 17599         | 71.2833 | C85  | C | Mrs  |\n",
       "| 3 | 3 | 1 | 3 | Heikkinen, Miss. Laina                              | female | 26 | 0 | 0 | STON/O2. 3101282 |  7.9250 | <!----> | S | Miss |\n",
       "| 4 | 4 | 1 | 1 | Futrelle, Mrs. Jacques Heath (Lily May Peel)        | female | 35 | 1 | 0 | 113803           | 53.1000 | C123 | S | Mrs  |\n",
       "| 5 | 5 | 0 | 3 | Allen, Mr. William Henry                            | male   | 35 | 0 | 0 | 373450           |  8.0500 | <!----> | S | Mr   |\n",
       "| 6 | 6 | 0 | 3 | Moran, Mr. James                                    | male   | NA | 0 | 0 | 330877           |  8.4583 | <!----> | Q | Mr   |\n",
       "\n"
      ],
      "text/plain": [
       "  PassengerId Survived Pclass\n",
       "1 1           0        3     \n",
       "2 2           1        1     \n",
       "3 3           1        3     \n",
       "4 4           1        1     \n",
       "5 5           0        3     \n",
       "6 6           0        3     \n",
       "  Name                                                Sex    Age SibSp Parch\n",
       "1 Braund, Mr. Owen Harris                             male   22  1     0    \n",
       "2 Cumings, Mrs. John Bradley (Florence Briggs Thayer) female 38  1     0    \n",
       "3 Heikkinen, Miss. Laina                              female 26  0     0    \n",
       "4 Futrelle, Mrs. Jacques Heath (Lily May Peel)        female 35  1     0    \n",
       "5 Allen, Mr. William Henry                            male   35  0     0    \n",
       "6 Moran, Mr. James                                    male   NA  0     0    \n",
       "  Ticket           Fare    Cabin Embarked Title\n",
       "1 A/5 21171         7.2500       S        Mr   \n",
       "2 PC 17599         71.2833 C85   C        Mrs  \n",
       "3 STON/O2. 3101282  7.9250       S        Miss \n",
       "4 113803           53.1000 C123  S        Mrs  \n",
       "5 373450            8.0500       S        Mr   \n",
       "6 330877            8.4583       Q        Mr   "
      ]
     },
     "metadata": {},
     "output_type": "display_data"
    }
   ],
   "source": [
    "head(train)"
   ]
  },
  {
   "cell_type": "markdown",
   "id": "91086b77-ad98-4ff9-b5e2-2bcc5b7cb93b",
   "metadata": {},
   "source": [
    "To get an overview of the data, we can use the function `summary`."
   ]
  },
  {
   "cell_type": "markdown",
   "id": "0b71bf90-bc0b-4aac-9acd-93ef8cb40b07",
   "metadata": {},
   "source": [
    "### Summarize Titanic data ###"
   ]
  },
  {
   "cell_type": "code",
   "execution_count": 10,
   "id": "e1138526-9639-4614-a257-2419b012f909",
   "metadata": {},
   "outputs": [
    {
     "data": {
      "text/plain": [
       "  PassengerId       Survived          Pclass          Name          \n",
       " Min.   :  1.0   Min.   :0.0000   Min.   :1.000   Length:891        \n",
       " 1st Qu.:223.5   1st Qu.:0.0000   1st Qu.:2.000   Class :character  \n",
       " Median :446.0   Median :0.0000   Median :3.000   Mode  :character  \n",
       " Mean   :446.0   Mean   :0.3838   Mean   :2.309                     \n",
       " 3rd Qu.:668.5   3rd Qu.:1.0000   3rd Qu.:3.000                     \n",
       " Max.   :891.0   Max.   :1.0000   Max.   :3.000                     \n",
       "                                                                    \n",
       "     Sex                 Age            SibSp           Parch       \n",
       " Length:891         Min.   : 0.42   Min.   :0.000   Min.   :0.0000  \n",
       " Class :character   1st Qu.:20.12   1st Qu.:0.000   1st Qu.:0.0000  \n",
       " Mode  :character   Median :28.00   Median :0.000   Median :0.0000  \n",
       "                    Mean   :29.70   Mean   :0.523   Mean   :0.3816  \n",
       "                    3rd Qu.:38.00   3rd Qu.:1.000   3rd Qu.:0.0000  \n",
       "                    Max.   :80.00   Max.   :8.000   Max.   :6.0000  \n",
       "                    NA's   :177                                     \n",
       "    Ticket               Fare           Cabin             Embarked        \n",
       " Length:891         Min.   :  0.00   Length:891         Length:891        \n",
       " Class :character   1st Qu.:  7.91   Class :character   Class :character  \n",
       " Mode  :character   Median : 14.45   Mode  :character   Mode  :character  \n",
       "                    Mean   : 32.20                                        \n",
       "                    3rd Qu.: 31.00                                        \n",
       "                    Max.   :512.33                                        \n",
       "                                                                          \n",
       "    Title          \n",
       " Length:891        \n",
       " Class :character  \n",
       " Mode  :character  \n",
       "                   \n",
       "                   \n",
       "                   \n",
       "                   "
      ]
     },
     "metadata": {},
     "output_type": "display_data"
    }
   ],
   "source": [
    "summary(train)"
   ]
  },
  {
   "cell_type": "markdown",
   "id": "411e625d-c0d5-4687-94de-8c7bc0470675",
   "metadata": {},
   "source": [
    "Now do the same using a pipe `%>%`, one of the handiest tools in Tidyverse."
   ]
  },
  {
   "cell_type": "code",
   "execution_count": null,
   "id": "9960b164-7c75-4754-be49-41d4c2bc6bcd",
   "metadata": {},
   "outputs": [],
   "source": [
    "train %>% \n",
    "  summary()"
   ]
  },
  {
   "cell_type": "markdown",
   "id": "2b4adf24-1321-4bc1-862d-f6bd8fbec9ed",
   "metadata": {},
   "source": [
    "**Recap:**\n",
    "\n",
    "* We've imported Titanic train data and viewed some of the data.\n",
    "* We've used the pipe operator `%>%`.\n",
    "\n",
    "**Next:**\n",
    "\n",
    "* Data wrangling with `dplyr` to:\n",
    "* **filter** our data to areas of interest.\n",
    "* **arrange** the data to generate new insights.\n",
    "* create new features by **mutating** existing ones."
   ]
  },
  {
   "cell_type": "markdown",
   "id": "3927eee6-83f7-4a5d-94db-7992476a4b61",
   "metadata": {},
   "source": [
    "## Wrangle data ##"
   ]
  },
  {
   "cell_type": "markdown",
   "id": "b537dc3c-0eb6-408f-b8a4-aa74fbaf92d2",
   "metadata": {},
   "source": [
    "We'll start pulling out some initial insights using `dplyr` functionality, such as `filter`, `arrange` and `mutate`.\n",
    "\n",
    "These are really useful if we wanted to limit (filter) the data to only the observations of interest, or order by a particular value (arrange) or create new columns (mutate).\n",
    "\n",
    "We can read `dplyr` code like a sentence: start with our \"train\" data (%>% and then) filter to only return those records where the sex is male `(filter(Sex == \"male\")`."
   ]
  },
  {
   "cell_type": "markdown",
   "id": "807e9561-6be2-4d98-bfa6-89c75958cf52",
   "metadata": {},
   "source": [
    "Filter to return all \"male\" rows"
   ]
  },
  {
   "cell_type": "code",
   "execution_count": 11,
   "id": "6ec88e4a-841e-460c-a706-e76761a74a0b",
   "metadata": {},
   "outputs": [
    {
     "data": {
      "text/html": [
       "<table class=\"dataframe\">\n",
       "<caption>A data.frame: 577 × 13</caption>\n",
       "<thead>\n",
       "\t<tr><th scope=col>PassengerId</th><th scope=col>Survived</th><th scope=col>Pclass</th><th scope=col>Name</th><th scope=col>Sex</th><th scope=col>Age</th><th scope=col>SibSp</th><th scope=col>Parch</th><th scope=col>Ticket</th><th scope=col>Fare</th><th scope=col>Cabin</th><th scope=col>Embarked</th><th scope=col>Title</th></tr>\n",
       "\t<tr><th scope=col>&lt;int&gt;</th><th scope=col>&lt;int&gt;</th><th scope=col>&lt;int&gt;</th><th scope=col>&lt;chr&gt;</th><th scope=col>&lt;chr&gt;</th><th scope=col>&lt;dbl&gt;</th><th scope=col>&lt;int&gt;</th><th scope=col>&lt;int&gt;</th><th scope=col>&lt;chr&gt;</th><th scope=col>&lt;dbl&gt;</th><th scope=col>&lt;chr&gt;</th><th scope=col>&lt;chr&gt;</th><th scope=col>&lt;chr&gt;</th></tr>\n",
       "</thead>\n",
       "<tbody>\n",
       "\t<tr><td> 1</td><td>0</td><td>3</td><td>Braund, Mr. Owen Harris       </td><td>male</td><td>22.0</td><td>1</td><td>0</td><td>A/5 21171      </td><td>  7.2500</td><td>           </td><td>S</td><td>Mr    </td></tr>\n",
       "\t<tr><td> 5</td><td>0</td><td>3</td><td>Allen, Mr. William Henry      </td><td>male</td><td>35.0</td><td>0</td><td>0</td><td>373450         </td><td>  8.0500</td><td>           </td><td>S</td><td>Mr    </td></tr>\n",
       "\t<tr><td> 6</td><td>0</td><td>3</td><td>Moran, Mr. James              </td><td>male</td><td>  NA</td><td>0</td><td>0</td><td>330877         </td><td>  8.4583</td><td>           </td><td>Q</td><td>Mr    </td></tr>\n",
       "\t<tr><td> 7</td><td>0</td><td>1</td><td>McCarthy, Mr. Timothy J       </td><td>male</td><td>54.0</td><td>0</td><td>0</td><td>17463          </td><td> 51.8625</td><td>E46        </td><td>S</td><td>Mr    </td></tr>\n",
       "\t<tr><td> 8</td><td>0</td><td>3</td><td>Palsson, Master. Gosta Leonard</td><td>male</td><td> 2.0</td><td>3</td><td>1</td><td>349909         </td><td> 21.0750</td><td>           </td><td>S</td><td>Master</td></tr>\n",
       "\t<tr><td>13</td><td>0</td><td>3</td><td>Saundercock, Mr. William Henry</td><td>male</td><td>20.0</td><td>0</td><td>0</td><td>A/5. 2151      </td><td>  8.0500</td><td>           </td><td>S</td><td>Mr    </td></tr>\n",
       "\t<tr><td>14</td><td>0</td><td>3</td><td>Andersson, Mr. Anders Johan   </td><td>male</td><td>39.0</td><td>1</td><td>5</td><td>347082         </td><td> 31.2750</td><td>           </td><td>S</td><td>Mr    </td></tr>\n",
       "\t<tr><td>17</td><td>0</td><td>3</td><td>Rice, Master. Eugene          </td><td>male</td><td> 2.0</td><td>4</td><td>1</td><td>382652         </td><td> 29.1250</td><td>           </td><td>Q</td><td>Master</td></tr>\n",
       "\t<tr><td>18</td><td>1</td><td>2</td><td>Williams, Mr. Charles Eugene  </td><td>male</td><td>  NA</td><td>0</td><td>0</td><td>244373         </td><td> 13.0000</td><td>           </td><td>S</td><td>Mr    </td></tr>\n",
       "\t<tr><td>21</td><td>0</td><td>2</td><td>Fynney, Mr. Joseph J          </td><td>male</td><td>35.0</td><td>0</td><td>0</td><td>239865         </td><td> 26.0000</td><td>           </td><td>S</td><td>Mr    </td></tr>\n",
       "\t<tr><td>22</td><td>1</td><td>2</td><td>Beesley, Mr. Lawrence         </td><td>male</td><td>34.0</td><td>0</td><td>0</td><td>248698         </td><td> 13.0000</td><td>D56        </td><td>S</td><td>Mr    </td></tr>\n",
       "\t<tr><td>24</td><td>1</td><td>1</td><td>Sloper, Mr. William Thompson  </td><td>male</td><td>28.0</td><td>0</td><td>0</td><td>113788         </td><td> 35.5000</td><td>A6         </td><td>S</td><td>Mr    </td></tr>\n",
       "\t<tr><td>27</td><td>0</td><td>3</td><td>Emir, Mr. Farred Chehab       </td><td>male</td><td>  NA</td><td>0</td><td>0</td><td>2631           </td><td>  7.2250</td><td>           </td><td>C</td><td>Mr    </td></tr>\n",
       "\t<tr><td>28</td><td>0</td><td>1</td><td>Fortune, Mr. Charles Alexander</td><td>male</td><td>19.0</td><td>3</td><td>2</td><td>19950          </td><td>263.0000</td><td>C23 C25 C27</td><td>S</td><td>Mr    </td></tr>\n",
       "\t<tr><td>30</td><td>0</td><td>3</td><td>Todoroff, Mr. Lalio           </td><td>male</td><td>  NA</td><td>0</td><td>0</td><td>349216         </td><td>  7.8958</td><td>           </td><td>S</td><td>Mr    </td></tr>\n",
       "\t<tr><td>31</td><td>0</td><td>1</td><td>Uruchurtu, Don. Manuel E      </td><td>male</td><td>40.0</td><td>0</td><td>0</td><td>PC 17601       </td><td> 27.7208</td><td>           </td><td>C</td><td>Don   </td></tr>\n",
       "\t<tr><td>34</td><td>0</td><td>2</td><td>Wheadon, Mr. Edward H         </td><td>male</td><td>66.0</td><td>0</td><td>0</td><td>C.A. 24579     </td><td> 10.5000</td><td>           </td><td>S</td><td>Mr    </td></tr>\n",
       "\t<tr><td>35</td><td>0</td><td>1</td><td>Meyer, Mr. Edgar Joseph       </td><td>male</td><td>28.0</td><td>1</td><td>0</td><td>PC 17604       </td><td> 82.1708</td><td>           </td><td>C</td><td>Mr    </td></tr>\n",
       "\t<tr><td>36</td><td>0</td><td>1</td><td>Holverson, Mr. Alexander Oskar</td><td>male</td><td>42.0</td><td>1</td><td>0</td><td>113789         </td><td> 52.0000</td><td>           </td><td>S</td><td>Mr    </td></tr>\n",
       "\t<tr><td>37</td><td>1</td><td>3</td><td>Mamee, Mr. Hanna              </td><td>male</td><td>  NA</td><td>0</td><td>0</td><td>2677           </td><td>  7.2292</td><td>           </td><td>C</td><td>Mr    </td></tr>\n",
       "\t<tr><td>38</td><td>0</td><td>3</td><td>Cann, Mr. Ernest Charles      </td><td>male</td><td>21.0</td><td>0</td><td>0</td><td>A./5. 2152     </td><td>  8.0500</td><td>           </td><td>S</td><td>Mr    </td></tr>\n",
       "\t<tr><td>43</td><td>0</td><td>3</td><td>Kraeff, Mr. Theodor           </td><td>male</td><td>  NA</td><td>0</td><td>0</td><td>349253         </td><td>  7.8958</td><td>           </td><td>C</td><td>Mr    </td></tr>\n",
       "\t<tr><td>46</td><td>0</td><td>3</td><td>Rogers, Mr. William John      </td><td>male</td><td>  NA</td><td>0</td><td>0</td><td>S.C./A.4. 23567</td><td>  8.0500</td><td>           </td><td>S</td><td>Mr    </td></tr>\n",
       "\t<tr><td>47</td><td>0</td><td>3</td><td>Lennon, Mr. Denis             </td><td>male</td><td>  NA</td><td>1</td><td>0</td><td>370371         </td><td> 15.5000</td><td>           </td><td>Q</td><td>Mr    </td></tr>\n",
       "\t<tr><td>49</td><td>0</td><td>3</td><td>Samaan, Mr. Youssef           </td><td>male</td><td>  NA</td><td>2</td><td>0</td><td>2662           </td><td> 21.6792</td><td>           </td><td>C</td><td>Mr    </td></tr>\n",
       "\t<tr><td>51</td><td>0</td><td>3</td><td>Panula, Master. Juha Niilo    </td><td>male</td><td> 7.0</td><td>4</td><td>1</td><td>3101295        </td><td> 39.6875</td><td>           </td><td>S</td><td>Master</td></tr>\n",
       "\t<tr><td>52</td><td>0</td><td>3</td><td>Nosworthy, Mr. Richard Cater  </td><td>male</td><td>21.0</td><td>0</td><td>0</td><td>A/4. 39886     </td><td>  7.8000</td><td>           </td><td>S</td><td>Mr    </td></tr>\n",
       "\t<tr><td>55</td><td>0</td><td>1</td><td>Ostby, Mr. Engelhart Cornelius</td><td>male</td><td>65.0</td><td>0</td><td>1</td><td>113509         </td><td> 61.9792</td><td>B30        </td><td>C</td><td>Mr    </td></tr>\n",
       "\t<tr><td>56</td><td>1</td><td>1</td><td>Woolner, Mr. Hugh             </td><td>male</td><td>  NA</td><td>0</td><td>0</td><td>19947          </td><td> 35.5000</td><td>C52        </td><td>S</td><td>Mr    </td></tr>\n",
       "\t<tr><td>58</td><td>0</td><td>3</td><td>Novel, Mr. Mansouer           </td><td>male</td><td>28.5</td><td>0</td><td>0</td><td>2697           </td><td>  7.2292</td><td>           </td><td>C</td><td>Mr    </td></tr>\n",
       "\t<tr><td>⋮</td><td>⋮</td><td>⋮</td><td>⋮</td><td>⋮</td><td>⋮</td><td>⋮</td><td>⋮</td><td>⋮</td><td>⋮</td><td>⋮</td><td>⋮</td><td>⋮</td></tr>\n",
       "\t<tr><td>841</td><td>0</td><td>3</td><td>Alhomaki, Mr. Ilmari Rudolf            </td><td>male</td><td>20.0</td><td>0</td><td>0</td><td>SOTON/O2 3101287</td><td> 7.9250</td><td>           </td><td>S</td><td>Mr    </td></tr>\n",
       "\t<tr><td>842</td><td>0</td><td>2</td><td>Mudd, Mr. Thomas Charles               </td><td>male</td><td>16.0</td><td>0</td><td>0</td><td>S.O./P.P. 3     </td><td>10.5000</td><td>           </td><td>S</td><td>Mr    </td></tr>\n",
       "\t<tr><td>844</td><td>0</td><td>3</td><td>Lemberopolous, Mr. Peter L             </td><td>male</td><td>34.5</td><td>0</td><td>0</td><td>2683            </td><td> 6.4375</td><td>           </td><td>C</td><td>Mr    </td></tr>\n",
       "\t<tr><td>845</td><td>0</td><td>3</td><td>Culumovic, Mr. Jeso                    </td><td>male</td><td>17.0</td><td>0</td><td>0</td><td>315090          </td><td> 8.6625</td><td>           </td><td>S</td><td>Mr    </td></tr>\n",
       "\t<tr><td>846</td><td>0</td><td>3</td><td>Abbing, Mr. Anthony                    </td><td>male</td><td>42.0</td><td>0</td><td>0</td><td>C.A. 5547       </td><td> 7.5500</td><td>           </td><td>S</td><td>Mr    </td></tr>\n",
       "\t<tr><td>847</td><td>0</td><td>3</td><td>Sage, Mr. Douglas Bullen               </td><td>male</td><td>  NA</td><td>8</td><td>2</td><td>CA. 2343        </td><td>69.5500</td><td>           </td><td>S</td><td>Mr    </td></tr>\n",
       "\t<tr><td>848</td><td>0</td><td>3</td><td>Markoff, Mr. Marin                     </td><td>male</td><td>35.0</td><td>0</td><td>0</td><td>349213          </td><td> 7.8958</td><td>           </td><td>C</td><td>Mr    </td></tr>\n",
       "\t<tr><td>849</td><td>0</td><td>2</td><td>Harper, Rev. John                      </td><td>male</td><td>28.0</td><td>0</td><td>1</td><td>248727          </td><td>33.0000</td><td>           </td><td>S</td><td>Rev   </td></tr>\n",
       "\t<tr><td>851</td><td>0</td><td>3</td><td>Andersson, Master. Sigvard Harald Elias</td><td>male</td><td> 4.0</td><td>4</td><td>2</td><td>347082          </td><td>31.2750</td><td>           </td><td>S</td><td>Master</td></tr>\n",
       "\t<tr><td>852</td><td>0</td><td>3</td><td>Svensson, Mr. Johan                    </td><td>male</td><td>74.0</td><td>0</td><td>0</td><td>347060          </td><td> 7.7750</td><td>           </td><td>S</td><td>Mr    </td></tr>\n",
       "\t<tr><td>858</td><td>1</td><td>1</td><td>Daly, Mr. Peter Denis                  </td><td>male</td><td>51.0</td><td>0</td><td>0</td><td>113055          </td><td>26.5500</td><td>E17        </td><td>S</td><td>Mr    </td></tr>\n",
       "\t<tr><td>860</td><td>0</td><td>3</td><td>Razi, Mr. Raihed                       </td><td>male</td><td>  NA</td><td>0</td><td>0</td><td>2629            </td><td> 7.2292</td><td>           </td><td>C</td><td>Mr    </td></tr>\n",
       "\t<tr><td>861</td><td>0</td><td>3</td><td>Hansen, Mr. Claus Peter                </td><td>male</td><td>41.0</td><td>2</td><td>0</td><td>350026          </td><td>14.1083</td><td>           </td><td>S</td><td>Mr    </td></tr>\n",
       "\t<tr><td>862</td><td>0</td><td>2</td><td>Giles, Mr. Frederick Edward            </td><td>male</td><td>21.0</td><td>1</td><td>0</td><td>28134           </td><td>11.5000</td><td>           </td><td>S</td><td>Mr    </td></tr>\n",
       "\t<tr><td>865</td><td>0</td><td>2</td><td>Gill, Mr. John William                 </td><td>male</td><td>24.0</td><td>0</td><td>0</td><td>233866          </td><td>13.0000</td><td>           </td><td>S</td><td>Mr    </td></tr>\n",
       "\t<tr><td>868</td><td>0</td><td>1</td><td>Roebling, Mr. Washington Augustus II   </td><td>male</td><td>31.0</td><td>0</td><td>0</td><td>PC 17590        </td><td>50.4958</td><td>A24        </td><td>S</td><td>Mr    </td></tr>\n",
       "\t<tr><td>869</td><td>0</td><td>3</td><td>van Melkebeke, Mr. Philemon            </td><td>male</td><td>  NA</td><td>0</td><td>0</td><td>345777          </td><td> 9.5000</td><td>           </td><td>S</td><td>Mr    </td></tr>\n",
       "\t<tr><td>870</td><td>1</td><td>3</td><td>Johnson, Master. Harold Theodor        </td><td>male</td><td> 4.0</td><td>1</td><td>1</td><td>347742          </td><td>11.1333</td><td>           </td><td>S</td><td>Master</td></tr>\n",
       "\t<tr><td>871</td><td>0</td><td>3</td><td>Balkic, Mr. Cerin                      </td><td>male</td><td>26.0</td><td>0</td><td>0</td><td>349248          </td><td> 7.8958</td><td>           </td><td>S</td><td>Mr    </td></tr>\n",
       "\t<tr><td>873</td><td>0</td><td>1</td><td>Carlsson, Mr. Frans Olof               </td><td>male</td><td>33.0</td><td>0</td><td>0</td><td>695             </td><td> 5.0000</td><td>B51 B53 B55</td><td>S</td><td>Mr    </td></tr>\n",
       "\t<tr><td>874</td><td>0</td><td>3</td><td>Vander Cruyssen, Mr. Victor            </td><td>male</td><td>47.0</td><td>0</td><td>0</td><td>345765          </td><td> 9.0000</td><td>           </td><td>S</td><td>Mr    </td></tr>\n",
       "\t<tr><td>877</td><td>0</td><td>3</td><td>Gustafsson, Mr. Alfred Ossian          </td><td>male</td><td>20.0</td><td>0</td><td>0</td><td>7534            </td><td> 9.8458</td><td>           </td><td>S</td><td>Mr    </td></tr>\n",
       "\t<tr><td>878</td><td>0</td><td>3</td><td>Petroff, Mr. Nedelio                   </td><td>male</td><td>19.0</td><td>0</td><td>0</td><td>349212          </td><td> 7.8958</td><td>           </td><td>S</td><td>Mr    </td></tr>\n",
       "\t<tr><td>879</td><td>0</td><td>3</td><td>Laleff, Mr. Kristo                     </td><td>male</td><td>  NA</td><td>0</td><td>0</td><td>349217          </td><td> 7.8958</td><td>           </td><td>S</td><td>Mr    </td></tr>\n",
       "\t<tr><td>882</td><td>0</td><td>3</td><td>Markun, Mr. Johann                     </td><td>male</td><td>33.0</td><td>0</td><td>0</td><td>349257          </td><td> 7.8958</td><td>           </td><td>S</td><td>Mr    </td></tr>\n",
       "\t<tr><td>884</td><td>0</td><td>2</td><td>Banfield, Mr. Frederick James          </td><td>male</td><td>28.0</td><td>0</td><td>0</td><td>C.A./SOTON 34068</td><td>10.5000</td><td>           </td><td>S</td><td>Mr    </td></tr>\n",
       "\t<tr><td>885</td><td>0</td><td>3</td><td>Sutehall, Mr. Henry Jr                 </td><td>male</td><td>25.0</td><td>0</td><td>0</td><td>SOTON/OQ 392076 </td><td> 7.0500</td><td>           </td><td>S</td><td>Mr    </td></tr>\n",
       "\t<tr><td>887</td><td>0</td><td>2</td><td>Montvila, Rev. Juozas                  </td><td>male</td><td>27.0</td><td>0</td><td>0</td><td>211536          </td><td>13.0000</td><td>           </td><td>S</td><td>Rev   </td></tr>\n",
       "\t<tr><td>890</td><td>1</td><td>1</td><td>Behr, Mr. Karl Howell                  </td><td>male</td><td>26.0</td><td>0</td><td>0</td><td>111369          </td><td>30.0000</td><td>C148       </td><td>C</td><td>Mr    </td></tr>\n",
       "\t<tr><td>891</td><td>0</td><td>3</td><td>Dooley, Mr. Patrick                    </td><td>male</td><td>32.0</td><td>0</td><td>0</td><td>370376          </td><td> 7.7500</td><td>           </td><td>Q</td><td>Mr    </td></tr>\n",
       "</tbody>\n",
       "</table>\n"
      ],
      "text/latex": [
       "A data.frame: 577 × 13\n",
       "\\begin{tabular}{lllllllllllll}\n",
       " PassengerId & Survived & Pclass & Name & Sex & Age & SibSp & Parch & Ticket & Fare & Cabin & Embarked & Title\\\\\n",
       " <int> & <int> & <int> & <chr> & <chr> & <dbl> & <int> & <int> & <chr> & <dbl> & <chr> & <chr> & <chr>\\\\\n",
       "\\hline\n",
       "\t  1 & 0 & 3 & Braund, Mr. Owen Harris        & male & 22.0 & 1 & 0 & A/5 21171       &   7.2500 &             & S & Mr    \\\\\n",
       "\t  5 & 0 & 3 & Allen, Mr. William Henry       & male & 35.0 & 0 & 0 & 373450          &   8.0500 &             & S & Mr    \\\\\n",
       "\t  6 & 0 & 3 & Moran, Mr. James               & male &   NA & 0 & 0 & 330877          &   8.4583 &             & Q & Mr    \\\\\n",
       "\t  7 & 0 & 1 & McCarthy, Mr. Timothy J        & male & 54.0 & 0 & 0 & 17463           &  51.8625 & E46         & S & Mr    \\\\\n",
       "\t  8 & 0 & 3 & Palsson, Master. Gosta Leonard & male &  2.0 & 3 & 1 & 349909          &  21.0750 &             & S & Master\\\\\n",
       "\t 13 & 0 & 3 & Saundercock, Mr. William Henry & male & 20.0 & 0 & 0 & A/5. 2151       &   8.0500 &             & S & Mr    \\\\\n",
       "\t 14 & 0 & 3 & Andersson, Mr. Anders Johan    & male & 39.0 & 1 & 5 & 347082          &  31.2750 &             & S & Mr    \\\\\n",
       "\t 17 & 0 & 3 & Rice, Master. Eugene           & male &  2.0 & 4 & 1 & 382652          &  29.1250 &             & Q & Master\\\\\n",
       "\t 18 & 1 & 2 & Williams, Mr. Charles Eugene   & male &   NA & 0 & 0 & 244373          &  13.0000 &             & S & Mr    \\\\\n",
       "\t 21 & 0 & 2 & Fynney, Mr. Joseph J           & male & 35.0 & 0 & 0 & 239865          &  26.0000 &             & S & Mr    \\\\\n",
       "\t 22 & 1 & 2 & Beesley, Mr. Lawrence          & male & 34.0 & 0 & 0 & 248698          &  13.0000 & D56         & S & Mr    \\\\\n",
       "\t 24 & 1 & 1 & Sloper, Mr. William Thompson   & male & 28.0 & 0 & 0 & 113788          &  35.5000 & A6          & S & Mr    \\\\\n",
       "\t 27 & 0 & 3 & Emir, Mr. Farred Chehab        & male &   NA & 0 & 0 & 2631            &   7.2250 &             & C & Mr    \\\\\n",
       "\t 28 & 0 & 1 & Fortune, Mr. Charles Alexander & male & 19.0 & 3 & 2 & 19950           & 263.0000 & C23 C25 C27 & S & Mr    \\\\\n",
       "\t 30 & 0 & 3 & Todoroff, Mr. Lalio            & male &   NA & 0 & 0 & 349216          &   7.8958 &             & S & Mr    \\\\\n",
       "\t 31 & 0 & 1 & Uruchurtu, Don. Manuel E       & male & 40.0 & 0 & 0 & PC 17601        &  27.7208 &             & C & Don   \\\\\n",
       "\t 34 & 0 & 2 & Wheadon, Mr. Edward H          & male & 66.0 & 0 & 0 & C.A. 24579      &  10.5000 &             & S & Mr    \\\\\n",
       "\t 35 & 0 & 1 & Meyer, Mr. Edgar Joseph        & male & 28.0 & 1 & 0 & PC 17604        &  82.1708 &             & C & Mr    \\\\\n",
       "\t 36 & 0 & 1 & Holverson, Mr. Alexander Oskar & male & 42.0 & 1 & 0 & 113789          &  52.0000 &             & S & Mr    \\\\\n",
       "\t 37 & 1 & 3 & Mamee, Mr. Hanna               & male &   NA & 0 & 0 & 2677            &   7.2292 &             & C & Mr    \\\\\n",
       "\t 38 & 0 & 3 & Cann, Mr. Ernest Charles       & male & 21.0 & 0 & 0 & A./5. 2152      &   8.0500 &             & S & Mr    \\\\\n",
       "\t 43 & 0 & 3 & Kraeff, Mr. Theodor            & male &   NA & 0 & 0 & 349253          &   7.8958 &             & C & Mr    \\\\\n",
       "\t 46 & 0 & 3 & Rogers, Mr. William John       & male &   NA & 0 & 0 & S.C./A.4. 23567 &   8.0500 &             & S & Mr    \\\\\n",
       "\t 47 & 0 & 3 & Lennon, Mr. Denis              & male &   NA & 1 & 0 & 370371          &  15.5000 &             & Q & Mr    \\\\\n",
       "\t 49 & 0 & 3 & Samaan, Mr. Youssef            & male &   NA & 2 & 0 & 2662            &  21.6792 &             & C & Mr    \\\\\n",
       "\t 51 & 0 & 3 & Panula, Master. Juha Niilo     & male &  7.0 & 4 & 1 & 3101295         &  39.6875 &             & S & Master\\\\\n",
       "\t 52 & 0 & 3 & Nosworthy, Mr. Richard Cater   & male & 21.0 & 0 & 0 & A/4. 39886      &   7.8000 &             & S & Mr    \\\\\n",
       "\t 55 & 0 & 1 & Ostby, Mr. Engelhart Cornelius & male & 65.0 & 0 & 1 & 113509          &  61.9792 & B30         & C & Mr    \\\\\n",
       "\t 56 & 1 & 1 & Woolner, Mr. Hugh              & male &   NA & 0 & 0 & 19947           &  35.5000 & C52         & S & Mr    \\\\\n",
       "\t 58 & 0 & 3 & Novel, Mr. Mansouer            & male & 28.5 & 0 & 0 & 2697            &   7.2292 &             & C & Mr    \\\\\n",
       "\t ⋮ & ⋮ & ⋮ & ⋮ & ⋮ & ⋮ & ⋮ & ⋮ & ⋮ & ⋮ & ⋮ & ⋮ & ⋮\\\\\n",
       "\t 841 & 0 & 3 & Alhomaki, Mr. Ilmari Rudolf             & male & 20.0 & 0 & 0 & SOTON/O2 3101287 &  7.9250 &             & S & Mr    \\\\\n",
       "\t 842 & 0 & 2 & Mudd, Mr. Thomas Charles                & male & 16.0 & 0 & 0 & S.O./P.P. 3      & 10.5000 &             & S & Mr    \\\\\n",
       "\t 844 & 0 & 3 & Lemberopolous, Mr. Peter L              & male & 34.5 & 0 & 0 & 2683             &  6.4375 &             & C & Mr    \\\\\n",
       "\t 845 & 0 & 3 & Culumovic, Mr. Jeso                     & male & 17.0 & 0 & 0 & 315090           &  8.6625 &             & S & Mr    \\\\\n",
       "\t 846 & 0 & 3 & Abbing, Mr. Anthony                     & male & 42.0 & 0 & 0 & C.A. 5547        &  7.5500 &             & S & Mr    \\\\\n",
       "\t 847 & 0 & 3 & Sage, Mr. Douglas Bullen                & male &   NA & 8 & 2 & CA. 2343         & 69.5500 &             & S & Mr    \\\\\n",
       "\t 848 & 0 & 3 & Markoff, Mr. Marin                      & male & 35.0 & 0 & 0 & 349213           &  7.8958 &             & C & Mr    \\\\\n",
       "\t 849 & 0 & 2 & Harper, Rev. John                       & male & 28.0 & 0 & 1 & 248727           & 33.0000 &             & S & Rev   \\\\\n",
       "\t 851 & 0 & 3 & Andersson, Master. Sigvard Harald Elias & male &  4.0 & 4 & 2 & 347082           & 31.2750 &             & S & Master\\\\\n",
       "\t 852 & 0 & 3 & Svensson, Mr. Johan                     & male & 74.0 & 0 & 0 & 347060           &  7.7750 &             & S & Mr    \\\\\n",
       "\t 858 & 1 & 1 & Daly, Mr. Peter Denis                   & male & 51.0 & 0 & 0 & 113055           & 26.5500 & E17         & S & Mr    \\\\\n",
       "\t 860 & 0 & 3 & Razi, Mr. Raihed                        & male &   NA & 0 & 0 & 2629             &  7.2292 &             & C & Mr    \\\\\n",
       "\t 861 & 0 & 3 & Hansen, Mr. Claus Peter                 & male & 41.0 & 2 & 0 & 350026           & 14.1083 &             & S & Mr    \\\\\n",
       "\t 862 & 0 & 2 & Giles, Mr. Frederick Edward             & male & 21.0 & 1 & 0 & 28134            & 11.5000 &             & S & Mr    \\\\\n",
       "\t 865 & 0 & 2 & Gill, Mr. John William                  & male & 24.0 & 0 & 0 & 233866           & 13.0000 &             & S & Mr    \\\\\n",
       "\t 868 & 0 & 1 & Roebling, Mr. Washington Augustus II    & male & 31.0 & 0 & 0 & PC 17590         & 50.4958 & A24         & S & Mr    \\\\\n",
       "\t 869 & 0 & 3 & van Melkebeke, Mr. Philemon             & male &   NA & 0 & 0 & 345777           &  9.5000 &             & S & Mr    \\\\\n",
       "\t 870 & 1 & 3 & Johnson, Master. Harold Theodor         & male &  4.0 & 1 & 1 & 347742           & 11.1333 &             & S & Master\\\\\n",
       "\t 871 & 0 & 3 & Balkic, Mr. Cerin                       & male & 26.0 & 0 & 0 & 349248           &  7.8958 &             & S & Mr    \\\\\n",
       "\t 873 & 0 & 1 & Carlsson, Mr. Frans Olof                & male & 33.0 & 0 & 0 & 695              &  5.0000 & B51 B53 B55 & S & Mr    \\\\\n",
       "\t 874 & 0 & 3 & Vander Cruyssen, Mr. Victor             & male & 47.0 & 0 & 0 & 345765           &  9.0000 &             & S & Mr    \\\\\n",
       "\t 877 & 0 & 3 & Gustafsson, Mr. Alfred Ossian           & male & 20.0 & 0 & 0 & 7534             &  9.8458 &             & S & Mr    \\\\\n",
       "\t 878 & 0 & 3 & Petroff, Mr. Nedelio                    & male & 19.0 & 0 & 0 & 349212           &  7.8958 &             & S & Mr    \\\\\n",
       "\t 879 & 0 & 3 & Laleff, Mr. Kristo                      & male &   NA & 0 & 0 & 349217           &  7.8958 &             & S & Mr    \\\\\n",
       "\t 882 & 0 & 3 & Markun, Mr. Johann                      & male & 33.0 & 0 & 0 & 349257           &  7.8958 &             & S & Mr    \\\\\n",
       "\t 884 & 0 & 2 & Banfield, Mr. Frederick James           & male & 28.0 & 0 & 0 & C.A./SOTON 34068 & 10.5000 &             & S & Mr    \\\\\n",
       "\t 885 & 0 & 3 & Sutehall, Mr. Henry Jr                  & male & 25.0 & 0 & 0 & SOTON/OQ 392076  &  7.0500 &             & S & Mr    \\\\\n",
       "\t 887 & 0 & 2 & Montvila, Rev. Juozas                   & male & 27.0 & 0 & 0 & 211536           & 13.0000 &             & S & Rev   \\\\\n",
       "\t 890 & 1 & 1 & Behr, Mr. Karl Howell                   & male & 26.0 & 0 & 0 & 111369           & 30.0000 & C148        & C & Mr    \\\\\n",
       "\t 891 & 0 & 3 & Dooley, Mr. Patrick                     & male & 32.0 & 0 & 0 & 370376           &  7.7500 &             & Q & Mr    \\\\\n",
       "\\end{tabular}\n"
      ],
      "text/markdown": [
       "\n",
       "A data.frame: 577 × 13\n",
       "\n",
       "| PassengerId &lt;int&gt; | Survived &lt;int&gt; | Pclass &lt;int&gt; | Name &lt;chr&gt; | Sex &lt;chr&gt; | Age &lt;dbl&gt; | SibSp &lt;int&gt; | Parch &lt;int&gt; | Ticket &lt;chr&gt; | Fare &lt;dbl&gt; | Cabin &lt;chr&gt; | Embarked &lt;chr&gt; | Title &lt;chr&gt; |\n",
       "|---|---|---|---|---|---|---|---|---|---|---|---|---|\n",
       "|  1 | 0 | 3 | Braund, Mr. Owen Harris        | male | 22.0 | 1 | 0 | A/5 21171       |   7.2500 | <!----> | S | Mr     |\n",
       "|  5 | 0 | 3 | Allen, Mr. William Henry       | male | 35.0 | 0 | 0 | 373450          |   8.0500 | <!----> | S | Mr     |\n",
       "|  6 | 0 | 3 | Moran, Mr. James               | male |   NA | 0 | 0 | 330877          |   8.4583 | <!----> | Q | Mr     |\n",
       "|  7 | 0 | 1 | McCarthy, Mr. Timothy J        | male | 54.0 | 0 | 0 | 17463           |  51.8625 | E46         | S | Mr     |\n",
       "|  8 | 0 | 3 | Palsson, Master. Gosta Leonard | male |  2.0 | 3 | 1 | 349909          |  21.0750 | <!----> | S | Master |\n",
       "| 13 | 0 | 3 | Saundercock, Mr. William Henry | male | 20.0 | 0 | 0 | A/5. 2151       |   8.0500 | <!----> | S | Mr     |\n",
       "| 14 | 0 | 3 | Andersson, Mr. Anders Johan    | male | 39.0 | 1 | 5 | 347082          |  31.2750 | <!----> | S | Mr     |\n",
       "| 17 | 0 | 3 | Rice, Master. Eugene           | male |  2.0 | 4 | 1 | 382652          |  29.1250 | <!----> | Q | Master |\n",
       "| 18 | 1 | 2 | Williams, Mr. Charles Eugene   | male |   NA | 0 | 0 | 244373          |  13.0000 | <!----> | S | Mr     |\n",
       "| 21 | 0 | 2 | Fynney, Mr. Joseph J           | male | 35.0 | 0 | 0 | 239865          |  26.0000 | <!----> | S | Mr     |\n",
       "| 22 | 1 | 2 | Beesley, Mr. Lawrence          | male | 34.0 | 0 | 0 | 248698          |  13.0000 | D56         | S | Mr     |\n",
       "| 24 | 1 | 1 | Sloper, Mr. William Thompson   | male | 28.0 | 0 | 0 | 113788          |  35.5000 | A6          | S | Mr     |\n",
       "| 27 | 0 | 3 | Emir, Mr. Farred Chehab        | male |   NA | 0 | 0 | 2631            |   7.2250 | <!----> | C | Mr     |\n",
       "| 28 | 0 | 1 | Fortune, Mr. Charles Alexander | male | 19.0 | 3 | 2 | 19950           | 263.0000 | C23 C25 C27 | S | Mr     |\n",
       "| 30 | 0 | 3 | Todoroff, Mr. Lalio            | male |   NA | 0 | 0 | 349216          |   7.8958 | <!----> | S | Mr     |\n",
       "| 31 | 0 | 1 | Uruchurtu, Don. Manuel E       | male | 40.0 | 0 | 0 | PC 17601        |  27.7208 | <!----> | C | Don    |\n",
       "| 34 | 0 | 2 | Wheadon, Mr. Edward H          | male | 66.0 | 0 | 0 | C.A. 24579      |  10.5000 | <!----> | S | Mr     |\n",
       "| 35 | 0 | 1 | Meyer, Mr. Edgar Joseph        | male | 28.0 | 1 | 0 | PC 17604        |  82.1708 | <!----> | C | Mr     |\n",
       "| 36 | 0 | 1 | Holverson, Mr. Alexander Oskar | male | 42.0 | 1 | 0 | 113789          |  52.0000 | <!----> | S | Mr     |\n",
       "| 37 | 1 | 3 | Mamee, Mr. Hanna               | male |   NA | 0 | 0 | 2677            |   7.2292 | <!----> | C | Mr     |\n",
       "| 38 | 0 | 3 | Cann, Mr. Ernest Charles       | male | 21.0 | 0 | 0 | A./5. 2152      |   8.0500 | <!----> | S | Mr     |\n",
       "| 43 | 0 | 3 | Kraeff, Mr. Theodor            | male |   NA | 0 | 0 | 349253          |   7.8958 | <!----> | C | Mr     |\n",
       "| 46 | 0 | 3 | Rogers, Mr. William John       | male |   NA | 0 | 0 | S.C./A.4. 23567 |   8.0500 | <!----> | S | Mr     |\n",
       "| 47 | 0 | 3 | Lennon, Mr. Denis              | male |   NA | 1 | 0 | 370371          |  15.5000 | <!----> | Q | Mr     |\n",
       "| 49 | 0 | 3 | Samaan, Mr. Youssef            | male |   NA | 2 | 0 | 2662            |  21.6792 | <!----> | C | Mr     |\n",
       "| 51 | 0 | 3 | Panula, Master. Juha Niilo     | male |  7.0 | 4 | 1 | 3101295         |  39.6875 | <!----> | S | Master |\n",
       "| 52 | 0 | 3 | Nosworthy, Mr. Richard Cater   | male | 21.0 | 0 | 0 | A/4. 39886      |   7.8000 | <!----> | S | Mr     |\n",
       "| 55 | 0 | 1 | Ostby, Mr. Engelhart Cornelius | male | 65.0 | 0 | 1 | 113509          |  61.9792 | B30         | C | Mr     |\n",
       "| 56 | 1 | 1 | Woolner, Mr. Hugh              | male |   NA | 0 | 0 | 19947           |  35.5000 | C52         | S | Mr     |\n",
       "| 58 | 0 | 3 | Novel, Mr. Mansouer            | male | 28.5 | 0 | 0 | 2697            |   7.2292 | <!----> | C | Mr     |\n",
       "| ⋮ | ⋮ | ⋮ | ⋮ | ⋮ | ⋮ | ⋮ | ⋮ | ⋮ | ⋮ | ⋮ | ⋮ | ⋮ |\n",
       "| 841 | 0 | 3 | Alhomaki, Mr. Ilmari Rudolf             | male | 20.0 | 0 | 0 | SOTON/O2 3101287 |  7.9250 | <!----> | S | Mr     |\n",
       "| 842 | 0 | 2 | Mudd, Mr. Thomas Charles                | male | 16.0 | 0 | 0 | S.O./P.P. 3      | 10.5000 | <!----> | S | Mr     |\n",
       "| 844 | 0 | 3 | Lemberopolous, Mr. Peter L              | male | 34.5 | 0 | 0 | 2683             |  6.4375 | <!----> | C | Mr     |\n",
       "| 845 | 0 | 3 | Culumovic, Mr. Jeso                     | male | 17.0 | 0 | 0 | 315090           |  8.6625 | <!----> | S | Mr     |\n",
       "| 846 | 0 | 3 | Abbing, Mr. Anthony                     | male | 42.0 | 0 | 0 | C.A. 5547        |  7.5500 | <!----> | S | Mr     |\n",
       "| 847 | 0 | 3 | Sage, Mr. Douglas Bullen                | male |   NA | 8 | 2 | CA. 2343         | 69.5500 | <!----> | S | Mr     |\n",
       "| 848 | 0 | 3 | Markoff, Mr. Marin                      | male | 35.0 | 0 | 0 | 349213           |  7.8958 | <!----> | C | Mr     |\n",
       "| 849 | 0 | 2 | Harper, Rev. John                       | male | 28.0 | 0 | 1 | 248727           | 33.0000 | <!----> | S | Rev    |\n",
       "| 851 | 0 | 3 | Andersson, Master. Sigvard Harald Elias | male |  4.0 | 4 | 2 | 347082           | 31.2750 | <!----> | S | Master |\n",
       "| 852 | 0 | 3 | Svensson, Mr. Johan                     | male | 74.0 | 0 | 0 | 347060           |  7.7750 | <!----> | S | Mr     |\n",
       "| 858 | 1 | 1 | Daly, Mr. Peter Denis                   | male | 51.0 | 0 | 0 | 113055           | 26.5500 | E17         | S | Mr     |\n",
       "| 860 | 0 | 3 | Razi, Mr. Raihed                        | male |   NA | 0 | 0 | 2629             |  7.2292 | <!----> | C | Mr     |\n",
       "| 861 | 0 | 3 | Hansen, Mr. Claus Peter                 | male | 41.0 | 2 | 0 | 350026           | 14.1083 | <!----> | S | Mr     |\n",
       "| 862 | 0 | 2 | Giles, Mr. Frederick Edward             | male | 21.0 | 1 | 0 | 28134            | 11.5000 | <!----> | S | Mr     |\n",
       "| 865 | 0 | 2 | Gill, Mr. John William                  | male | 24.0 | 0 | 0 | 233866           | 13.0000 | <!----> | S | Mr     |\n",
       "| 868 | 0 | 1 | Roebling, Mr. Washington Augustus II    | male | 31.0 | 0 | 0 | PC 17590         | 50.4958 | A24         | S | Mr     |\n",
       "| 869 | 0 | 3 | van Melkebeke, Mr. Philemon             | male |   NA | 0 | 0 | 345777           |  9.5000 | <!----> | S | Mr     |\n",
       "| 870 | 1 | 3 | Johnson, Master. Harold Theodor         | male |  4.0 | 1 | 1 | 347742           | 11.1333 | <!----> | S | Master |\n",
       "| 871 | 0 | 3 | Balkic, Mr. Cerin                       | male | 26.0 | 0 | 0 | 349248           |  7.8958 | <!----> | S | Mr     |\n",
       "| 873 | 0 | 1 | Carlsson, Mr. Frans Olof                | male | 33.0 | 0 | 0 | 695              |  5.0000 | B51 B53 B55 | S | Mr     |\n",
       "| 874 | 0 | 3 | Vander Cruyssen, Mr. Victor             | male | 47.0 | 0 | 0 | 345765           |  9.0000 | <!----> | S | Mr     |\n",
       "| 877 | 0 | 3 | Gustafsson, Mr. Alfred Ossian           | male | 20.0 | 0 | 0 | 7534             |  9.8458 | <!----> | S | Mr     |\n",
       "| 878 | 0 | 3 | Petroff, Mr. Nedelio                    | male | 19.0 | 0 | 0 | 349212           |  7.8958 | <!----> | S | Mr     |\n",
       "| 879 | 0 | 3 | Laleff, Mr. Kristo                      | male |   NA | 0 | 0 | 349217           |  7.8958 | <!----> | S | Mr     |\n",
       "| 882 | 0 | 3 | Markun, Mr. Johann                      | male | 33.0 | 0 | 0 | 349257           |  7.8958 | <!----> | S | Mr     |\n",
       "| 884 | 0 | 2 | Banfield, Mr. Frederick James           | male | 28.0 | 0 | 0 | C.A./SOTON 34068 | 10.5000 | <!----> | S | Mr     |\n",
       "| 885 | 0 | 3 | Sutehall, Mr. Henry Jr                  | male | 25.0 | 0 | 0 | SOTON/OQ 392076  |  7.0500 | <!----> | S | Mr     |\n",
       "| 887 | 0 | 2 | Montvila, Rev. Juozas                   | male | 27.0 | 0 | 0 | 211536           | 13.0000 | <!----> | S | Rev    |\n",
       "| 890 | 1 | 1 | Behr, Mr. Karl Howell                   | male | 26.0 | 0 | 0 | 111369           | 30.0000 | C148        | C | Mr     |\n",
       "| 891 | 0 | 3 | Dooley, Mr. Patrick                     | male | 32.0 | 0 | 0 | 370376           |  7.7500 | <!----> | Q | Mr     |\n",
       "\n"
      ],
      "text/plain": [
       "    PassengerId Survived Pclass Name                                    Sex \n",
       "1    1          0        3      Braund, Mr. Owen Harris                 male\n",
       "2    5          0        3      Allen, Mr. William Henry                male\n",
       "3    6          0        3      Moran, Mr. James                        male\n",
       "4    7          0        1      McCarthy, Mr. Timothy J                 male\n",
       "5    8          0        3      Palsson, Master. Gosta Leonard          male\n",
       "6   13          0        3      Saundercock, Mr. William Henry          male\n",
       "7   14          0        3      Andersson, Mr. Anders Johan             male\n",
       "8   17          0        3      Rice, Master. Eugene                    male\n",
       "9   18          1        2      Williams, Mr. Charles Eugene            male\n",
       "10  21          0        2      Fynney, Mr. Joseph J                    male\n",
       "11  22          1        2      Beesley, Mr. Lawrence                   male\n",
       "12  24          1        1      Sloper, Mr. William Thompson            male\n",
       "13  27          0        3      Emir, Mr. Farred Chehab                 male\n",
       "14  28          0        1      Fortune, Mr. Charles Alexander          male\n",
       "15  30          0        3      Todoroff, Mr. Lalio                     male\n",
       "16  31          0        1      Uruchurtu, Don. Manuel E                male\n",
       "17  34          0        2      Wheadon, Mr. Edward H                   male\n",
       "18  35          0        1      Meyer, Mr. Edgar Joseph                 male\n",
       "19  36          0        1      Holverson, Mr. Alexander Oskar          male\n",
       "20  37          1        3      Mamee, Mr. Hanna                        male\n",
       "21  38          0        3      Cann, Mr. Ernest Charles                male\n",
       "22  43          0        3      Kraeff, Mr. Theodor                     male\n",
       "23  46          0        3      Rogers, Mr. William John                male\n",
       "24  47          0        3      Lennon, Mr. Denis                       male\n",
       "25  49          0        3      Samaan, Mr. Youssef                     male\n",
       "26  51          0        3      Panula, Master. Juha Niilo              male\n",
       "27  52          0        3      Nosworthy, Mr. Richard Cater            male\n",
       "28  55          0        1      Ostby, Mr. Engelhart Cornelius          male\n",
       "29  56          1        1      Woolner, Mr. Hugh                       male\n",
       "30  58          0        3      Novel, Mr. Mansouer                     male\n",
       "<U+22EE>   <U+22EE>    <U+22EE> <U+22EE> <U+22EE>                                <U+22EE>\n",
       "548 841         0        3      Alhomaki, Mr. Ilmari Rudolf             male\n",
       "549 842         0        2      Mudd, Mr. Thomas Charles                male\n",
       "550 844         0        3      Lemberopolous, Mr. Peter L              male\n",
       "551 845         0        3      Culumovic, Mr. Jeso                     male\n",
       "552 846         0        3      Abbing, Mr. Anthony                     male\n",
       "553 847         0        3      Sage, Mr. Douglas Bullen                male\n",
       "554 848         0        3      Markoff, Mr. Marin                      male\n",
       "555 849         0        2      Harper, Rev. John                       male\n",
       "556 851         0        3      Andersson, Master. Sigvard Harald Elias male\n",
       "557 852         0        3      Svensson, Mr. Johan                     male\n",
       "558 858         1        1      Daly, Mr. Peter Denis                   male\n",
       "559 860         0        3      Razi, Mr. Raihed                        male\n",
       "560 861         0        3      Hansen, Mr. Claus Peter                 male\n",
       "561 862         0        2      Giles, Mr. Frederick Edward             male\n",
       "562 865         0        2      Gill, Mr. John William                  male\n",
       "563 868         0        1      Roebling, Mr. Washington Augustus II    male\n",
       "564 869         0        3      van Melkebeke, Mr. Philemon             male\n",
       "565 870         1        3      Johnson, Master. Harold Theodor         male\n",
       "566 871         0        3      Balkic, Mr. Cerin                       male\n",
       "567 873         0        1      Carlsson, Mr. Frans Olof                male\n",
       "568 874         0        3      Vander Cruyssen, Mr. Victor             male\n",
       "569 877         0        3      Gustafsson, Mr. Alfred Ossian           male\n",
       "570 878         0        3      Petroff, Mr. Nedelio                    male\n",
       "571 879         0        3      Laleff, Mr. Kristo                      male\n",
       "572 882         0        3      Markun, Mr. Johann                      male\n",
       "573 884         0        2      Banfield, Mr. Frederick James           male\n",
       "574 885         0        3      Sutehall, Mr. Henry Jr                  male\n",
       "575 887         0        2      Montvila, Rev. Juozas                   male\n",
       "576 890         1        1      Behr, Mr. Karl Howell                   male\n",
       "577 891         0        3      Dooley, Mr. Patrick                     male\n",
       "    Age  SibSp Parch Ticket           Fare     Cabin       Embarked Title \n",
       "1   22.0 1     0     A/5 21171          7.2500             S        Mr    \n",
       "2   35.0 0     0     373450             8.0500             S        Mr    \n",
       "3     NA 0     0     330877             8.4583             Q        Mr    \n",
       "4   54.0 0     0     17463             51.8625 E46         S        Mr    \n",
       "5    2.0 3     1     349909            21.0750             S        Master\n",
       "6   20.0 0     0     A/5. 2151          8.0500             S        Mr    \n",
       "7   39.0 1     5     347082            31.2750             S        Mr    \n",
       "8    2.0 4     1     382652            29.1250             Q        Master\n",
       "9     NA 0     0     244373            13.0000             S        Mr    \n",
       "10  35.0 0     0     239865            26.0000             S        Mr    \n",
       "11  34.0 0     0     248698            13.0000 D56         S        Mr    \n",
       "12  28.0 0     0     113788            35.5000 A6          S        Mr    \n",
       "13    NA 0     0     2631               7.2250             C        Mr    \n",
       "14  19.0 3     2     19950            263.0000 C23 C25 C27 S        Mr    \n",
       "15    NA 0     0     349216             7.8958             S        Mr    \n",
       "16  40.0 0     0     PC 17601          27.7208             C        Don   \n",
       "17  66.0 0     0     C.A. 24579        10.5000             S        Mr    \n",
       "18  28.0 1     0     PC 17604          82.1708             C        Mr    \n",
       "19  42.0 1     0     113789            52.0000             S        Mr    \n",
       "20    NA 0     0     2677               7.2292             C        Mr    \n",
       "21  21.0 0     0     A./5. 2152         8.0500             S        Mr    \n",
       "22    NA 0     0     349253             7.8958             C        Mr    \n",
       "23    NA 0     0     S.C./A.4. 23567    8.0500             S        Mr    \n",
       "24    NA 1     0     370371            15.5000             Q        Mr    \n",
       "25    NA 2     0     2662              21.6792             C        Mr    \n",
       "26   7.0 4     1     3101295           39.6875             S        Master\n",
       "27  21.0 0     0     A/4. 39886         7.8000             S        Mr    \n",
       "28  65.0 0     1     113509            61.9792 B30         C        Mr    \n",
       "29    NA 0     0     19947             35.5000 C52         S        Mr    \n",
       "30  28.5 0     0     2697               7.2292             C        Mr    \n",
       "<U+22EE>   <U+22EE> <U+22EE> <U+22EE> <U+22EE>         <U+22EE> <U+22EE>    <U+22EE> <U+22EE>\n",
       "548 20.0 0     0     SOTON/O2 3101287  7.9250              S        Mr    \n",
       "549 16.0 0     0     S.O./P.P. 3      10.5000              S        Mr    \n",
       "550 34.5 0     0     2683              6.4375              C        Mr    \n",
       "551 17.0 0     0     315090            8.6625              S        Mr    \n",
       "552 42.0 0     0     C.A. 5547         7.5500              S        Mr    \n",
       "553   NA 8     2     CA. 2343         69.5500              S        Mr    \n",
       "554 35.0 0     0     349213            7.8958              C        Mr    \n",
       "555 28.0 0     1     248727           33.0000              S        Rev   \n",
       "556  4.0 4     2     347082           31.2750              S        Master\n",
       "557 74.0 0     0     347060            7.7750              S        Mr    \n",
       "558 51.0 0     0     113055           26.5500  E17         S        Mr    \n",
       "559   NA 0     0     2629              7.2292              C        Mr    \n",
       "560 41.0 2     0     350026           14.1083              S        Mr    \n",
       "561 21.0 1     0     28134            11.5000              S        Mr    \n",
       "562 24.0 0     0     233866           13.0000              S        Mr    \n",
       "563 31.0 0     0     PC 17590         50.4958  A24         S        Mr    \n",
       "564   NA 0     0     345777            9.5000              S        Mr    \n",
       "565  4.0 1     1     347742           11.1333              S        Master\n",
       "566 26.0 0     0     349248            7.8958              S        Mr    \n",
       "567 33.0 0     0     695               5.0000  B51 B53 B55 S        Mr    \n",
       "568 47.0 0     0     345765            9.0000              S        Mr    \n",
       "569 20.0 0     0     7534              9.8458              S        Mr    \n",
       "570 19.0 0     0     349212            7.8958              S        Mr    \n",
       "571   NA 0     0     349217            7.8958              S        Mr    \n",
       "572 33.0 0     0     349257            7.8958              S        Mr    \n",
       "573 28.0 0     0     C.A./SOTON 34068 10.5000              S        Mr    \n",
       "574 25.0 0     0     SOTON/OQ 392076   7.0500              S        Mr    \n",
       "575 27.0 0     0     211536           13.0000              S        Rev   \n",
       "576 26.0 0     0     111369           30.0000  C148        C        Mr    \n",
       "577 32.0 0     0     370376            7.7500              Q        Mr    "
      ]
     },
     "metadata": {},
     "output_type": "display_data"
    }
   ],
   "source": [
    "train %>% \n",
    "  filter(Sex == \"male\")"
   ]
  },
  {
   "cell_type": "markdown",
   "id": "34d5a423-cf38-41c6-ad3d-96a46b5d9c49",
   "metadata": {},
   "source": [
    "**Does our data give us any indication about whether men are likely to have survived or not?**"
   ]
  },
  {
   "cell_type": "markdown",
   "id": "d5e035b8-d291-4aa4-9ef1-7c859b234fe8",
   "metadata": {},
   "source": [
    "An initial view of the data seems to suggest that men typically did not survive (at least in the data we can see here)."
   ]
  },
  {
   "cell_type": "markdown",
   "id": "c793bcaf-b125-4446-8508-f7725233a0f2",
   "metadata": {},
   "source": [
    "**TO DO: Write the code to filter to filter to only return females**"
   ]
  },
  {
   "cell_type": "code",
   "execution_count": null,
   "id": "ba67ede2-9b78-43c6-a936-1925d061fb4c",
   "metadata": {},
   "outputs": [],
   "source": []
  },
  {
   "cell_type": "markdown",
   "id": "936189c4-9dbc-4ec4-b45b-f3cb71ce6cc6",
   "metadata": {},
   "source": [
    "**Does our data give us any indication about whether women are likely to have survived or not?**"
   ]
  },
  {
   "cell_type": "markdown",
   "id": "b9784596-b922-4dcc-8121-df2b90d62da8",
   "metadata": {},
   "source": [
    "An initial view of the data suggests that a lot of women did survive. We'll come on to this in more detail a little bit later."
   ]
  },
  {
   "cell_type": "markdown",
   "id": "a6d1dffa-b6e6-4529-a248-dab0dc30b094",
   "metadata": {},
   "source": [
    "What if we wanted to `arrange` our observations by increasing `Fare` to see if we can notice any trends? We can use `arrange` to achieve this."
   ]
  },
  {
   "cell_type": "markdown",
   "id": "adbbbaae-a519-4e0b-8deb-922ab40cd113",
   "metadata": {},
   "source": [
    "Arrange by increasing Fare."
   ]
  },
  {
   "cell_type": "code",
   "execution_count": 12,
   "id": "d8f1422e-375d-44c7-b4a4-c5d06227f104",
   "metadata": {},
   "outputs": [
    {
     "data": {
      "text/html": [
       "<table class=\"dataframe\">\n",
       "<caption>A data.frame: 891 × 13</caption>\n",
       "<thead>\n",
       "\t<tr><th scope=col>PassengerId</th><th scope=col>Survived</th><th scope=col>Pclass</th><th scope=col>Name</th><th scope=col>Sex</th><th scope=col>Age</th><th scope=col>SibSp</th><th scope=col>Parch</th><th scope=col>Ticket</th><th scope=col>Fare</th><th scope=col>Cabin</th><th scope=col>Embarked</th><th scope=col>Title</th></tr>\n",
       "\t<tr><th scope=col>&lt;int&gt;</th><th scope=col>&lt;int&gt;</th><th scope=col>&lt;int&gt;</th><th scope=col>&lt;chr&gt;</th><th scope=col>&lt;chr&gt;</th><th scope=col>&lt;dbl&gt;</th><th scope=col>&lt;int&gt;</th><th scope=col>&lt;int&gt;</th><th scope=col>&lt;chr&gt;</th><th scope=col>&lt;dbl&gt;</th><th scope=col>&lt;chr&gt;</th><th scope=col>&lt;chr&gt;</th><th scope=col>&lt;chr&gt;</th></tr>\n",
       "</thead>\n",
       "<tbody>\n",
       "\t<tr><td>180</td><td>0</td><td>3</td><td>Leonard, Mr. Lionel             </td><td>male  </td><td>36.0</td><td>0</td><td>0</td><td>LINE              </td><td>0.0000</td><td>           </td><td>S</td><td>Mr      </td></tr>\n",
       "\t<tr><td>264</td><td>0</td><td>1</td><td>Harrison, Mr. William           </td><td>male  </td><td>40.0</td><td>0</td><td>0</td><td>112059            </td><td>0.0000</td><td>B94        </td><td>S</td><td>Mr      </td></tr>\n",
       "\t<tr><td>272</td><td>1</td><td>3</td><td>Tornquist, Mr. William Henry    </td><td>male  </td><td>25.0</td><td>0</td><td>0</td><td>LINE              </td><td>0.0000</td><td>           </td><td>S</td><td>Mr      </td></tr>\n",
       "\t<tr><td>278</td><td>0</td><td>2</td><td>Parkes, Mr. Francis \"Frank\"     </td><td>male  </td><td>  NA</td><td>0</td><td>0</td><td>239853            </td><td>0.0000</td><td>           </td><td>S</td><td>Mr      </td></tr>\n",
       "\t<tr><td>303</td><td>0</td><td>3</td><td>Johnson, Mr. William Cahoone Jr </td><td>male  </td><td>19.0</td><td>0</td><td>0</td><td>LINE              </td><td>0.0000</td><td>           </td><td>S</td><td>Mr      </td></tr>\n",
       "\t<tr><td>414</td><td>0</td><td>2</td><td>Cunningham, Mr. Alfred Fleming  </td><td>male  </td><td>  NA</td><td>0</td><td>0</td><td>239853            </td><td>0.0000</td><td>           </td><td>S</td><td>Mr      </td></tr>\n",
       "\t<tr><td>467</td><td>0</td><td>2</td><td>Campbell, Mr. William           </td><td>male  </td><td>  NA</td><td>0</td><td>0</td><td>239853            </td><td>0.0000</td><td>           </td><td>S</td><td>Mr      </td></tr>\n",
       "\t<tr><td>482</td><td>0</td><td>2</td><td>Frost, Mr. Anthony Wood \"Archie\"</td><td>male  </td><td>  NA</td><td>0</td><td>0</td><td>239854            </td><td>0.0000</td><td>           </td><td>S</td><td>Mr      </td></tr>\n",
       "\t<tr><td>598</td><td>0</td><td>3</td><td>Johnson, Mr. Alfred             </td><td>male  </td><td>49.0</td><td>0</td><td>0</td><td>LINE              </td><td>0.0000</td><td>           </td><td>S</td><td>Mr      </td></tr>\n",
       "\t<tr><td>634</td><td>0</td><td>1</td><td>Parr, Mr. William Henry Marsh   </td><td>male  </td><td>  NA</td><td>0</td><td>0</td><td>112052            </td><td>0.0000</td><td>           </td><td>S</td><td>Mr      </td></tr>\n",
       "\t<tr><td>675</td><td>0</td><td>2</td><td>Watson, Mr. Ennis Hastings      </td><td>male  </td><td>  NA</td><td>0</td><td>0</td><td>239856            </td><td>0.0000</td><td>           </td><td>S</td><td>Mr      </td></tr>\n",
       "\t<tr><td>733</td><td>0</td><td>2</td><td>Knight, Mr. Robert J            </td><td>male  </td><td>  NA</td><td>0</td><td>0</td><td>239855            </td><td>0.0000</td><td>           </td><td>S</td><td>Mr      </td></tr>\n",
       "\t<tr><td>807</td><td>0</td><td>1</td><td>Andrews, Mr. Thomas Jr          </td><td>male  </td><td>39.0</td><td>0</td><td>0</td><td>112050            </td><td>0.0000</td><td>A36        </td><td>S</td><td>Mr      </td></tr>\n",
       "\t<tr><td>816</td><td>0</td><td>1</td><td>Fry, Mr. Richard                </td><td>male  </td><td>  NA</td><td>0</td><td>0</td><td>112058            </td><td>0.0000</td><td>B102       </td><td>S</td><td>Mr      </td></tr>\n",
       "\t<tr><td>823</td><td>0</td><td>1</td><td>Reuchlin, Jonkheer. John George </td><td>male  </td><td>38.0</td><td>0</td><td>0</td><td>19972             </td><td>0.0000</td><td>           </td><td>S</td><td>Jonkheer</td></tr>\n",
       "\t<tr><td>379</td><td>0</td><td>3</td><td>Betros, Mr. Tannous             </td><td>male  </td><td>20.0</td><td>0</td><td>0</td><td>2648              </td><td>4.0125</td><td>           </td><td>C</td><td>Mr      </td></tr>\n",
       "\t<tr><td>873</td><td>0</td><td>1</td><td>Carlsson, Mr. Frans Olof        </td><td>male  </td><td>33.0</td><td>0</td><td>0</td><td>695               </td><td>5.0000</td><td>B51 B53 B55</td><td>S</td><td>Mr      </td></tr>\n",
       "\t<tr><td>327</td><td>0</td><td>3</td><td>Nysveen, Mr. Johan Hansen       </td><td>male  </td><td>61.0</td><td>0</td><td>0</td><td>345364            </td><td>6.2375</td><td>           </td><td>S</td><td>Mr      </td></tr>\n",
       "\t<tr><td>844</td><td>0</td><td>3</td><td>Lemberopolous, Mr. Peter L      </td><td>male  </td><td>34.5</td><td>0</td><td>0</td><td>2683              </td><td>6.4375</td><td>           </td><td>C</td><td>Mr      </td></tr>\n",
       "\t<tr><td>819</td><td>0</td><td>3</td><td>Holm, Mr. John Fredrik Alexander</td><td>male  </td><td>43.0</td><td>0</td><td>0</td><td>C 7075            </td><td>6.4500</td><td>           </td><td>S</td><td>Mr      </td></tr>\n",
       "\t<tr><td>203</td><td>0</td><td>3</td><td>Johanson, Mr. Jakob Alfred      </td><td>male  </td><td>34.0</td><td>0</td><td>0</td><td>3101264           </td><td>6.4958</td><td>           </td><td>S</td><td>Mr      </td></tr>\n",
       "\t<tr><td>372</td><td>0</td><td>3</td><td>Wiklund, Mr. Jakob Alfred       </td><td>male  </td><td>18.0</td><td>1</td><td>0</td><td>3101267           </td><td>6.4958</td><td>           </td><td>S</td><td>Mr      </td></tr>\n",
       "\t<tr><td>144</td><td>0</td><td>3</td><td>Burke, Mr. Jeremiah             </td><td>male  </td><td>19.0</td><td>0</td><td>0</td><td>365222            </td><td>6.7500</td><td>           </td><td>Q</td><td>Mr      </td></tr>\n",
       "\t<tr><td>655</td><td>0</td><td>3</td><td>Hegarty, Miss. Hanora \"Nora\"    </td><td>female</td><td>18.0</td><td>0</td><td>0</td><td>365226            </td><td>6.7500</td><td>           </td><td>Q</td><td>Miss    </td></tr>\n",
       "\t<tr><td>412</td><td>0</td><td>3</td><td>Hart, Mr. Henry                 </td><td>male  </td><td>  NA</td><td>0</td><td>0</td><td>394140            </td><td>6.8583</td><td>           </td><td>Q</td><td>Mr      </td></tr>\n",
       "\t<tr><td>826</td><td>0</td><td>3</td><td>Flynn, Mr. John                 </td><td>male  </td><td>  NA</td><td>0</td><td>0</td><td>368323            </td><td>6.9500</td><td>           </td><td>Q</td><td>Mr      </td></tr>\n",
       "\t<tr><td>130</td><td>0</td><td>3</td><td>Ekstrom, Mr. Johan              </td><td>male  </td><td>45.0</td><td>0</td><td>0</td><td>347061            </td><td>6.9750</td><td>           </td><td>S</td><td>Mr      </td></tr>\n",
       "\t<tr><td>805</td><td>1</td><td>3</td><td>Hedman, Mr. Oskar Arvid         </td><td>male  </td><td>27.0</td><td>0</td><td>0</td><td>347089            </td><td>6.9750</td><td>           </td><td>S</td><td>Mr      </td></tr>\n",
       "\t<tr><td>478</td><td>0</td><td>3</td><td>Braund, Mr. Lewis Richard       </td><td>male  </td><td>29.0</td><td>1</td><td>0</td><td>3460              </td><td>7.0458</td><td>           </td><td>S</td><td>Mr      </td></tr>\n",
       "\t<tr><td>132</td><td>0</td><td>3</td><td>Coelho, Mr. Domingos Fernandeo  </td><td>male  </td><td>20.0</td><td>0</td><td>0</td><td>SOTON/O.Q. 3101307</td><td>7.0500</td><td>           </td><td>S</td><td>Mr      </td></tr>\n",
       "\t<tr><td>⋮</td><td>⋮</td><td>⋮</td><td>⋮</td><td>⋮</td><td>⋮</td><td>⋮</td><td>⋮</td><td>⋮</td><td>⋮</td><td>⋮</td><td>⋮</td><td>⋮</td></tr>\n",
       "\t<tr><td>196</td><td>1</td><td>1</td><td>Lurette, Miss. Elise                                 </td><td>female</td><td>58.00</td><td>0</td><td>0</td><td>PC 17569</td><td>146.5208</td><td>B80            </td><td>C</td><td>Miss  </td></tr>\n",
       "\t<tr><td>298</td><td>0</td><td>1</td><td>Allison, Miss. Helen Loraine                         </td><td>female</td><td> 2.00</td><td>1</td><td>2</td><td>113781  </td><td>151.5500</td><td>C22 C26        </td><td>S</td><td>Miss  </td></tr>\n",
       "\t<tr><td>306</td><td>1</td><td>1</td><td>Allison, Master. Hudson Trevor                       </td><td>male  </td><td> 0.92</td><td>1</td><td>2</td><td>113781  </td><td>151.5500</td><td>C22 C26        </td><td>S</td><td>Master</td></tr>\n",
       "\t<tr><td>499</td><td>0</td><td>1</td><td>Allison, Mrs. Hudson J C (Bessie Waldo Daniels)      </td><td>female</td><td>25.00</td><td>1</td><td>2</td><td>113781  </td><td>151.5500</td><td>C22 C26        </td><td>S</td><td>Mrs   </td></tr>\n",
       "\t<tr><td>709</td><td>1</td><td>1</td><td>Cleaver, Miss. Alice                                 </td><td>female</td><td>22.00</td><td>0</td><td>0</td><td>113781  </td><td>151.5500</td><td>               </td><td>S</td><td>Miss  </td></tr>\n",
       "\t<tr><td>269</td><td>1</td><td>1</td><td>Graham, Mrs. William Thompson (Edith Junkins)        </td><td>female</td><td>58.00</td><td>0</td><td>1</td><td>PC 17582</td><td>153.4625</td><td>C125           </td><td>S</td><td>Mrs   </td></tr>\n",
       "\t<tr><td>333</td><td>0</td><td>1</td><td>Graham, Mr. George Edward                            </td><td>male  </td><td>38.00</td><td>0</td><td>1</td><td>PC 17582</td><td>153.4625</td><td>C91            </td><td>S</td><td>Mr    </td></tr>\n",
       "\t<tr><td>610</td><td>1</td><td>1</td><td>Shutes, Miss. Elizabeth W                            </td><td>female</td><td>40.00</td><td>0</td><td>0</td><td>PC 17582</td><td>153.4625</td><td>C125           </td><td>S</td><td>Miss  </td></tr>\n",
       "\t<tr><td>319</td><td>1</td><td>1</td><td>Wick, Miss. Mary Natalie                             </td><td>female</td><td>31.00</td><td>0</td><td>2</td><td>36928   </td><td>164.8667</td><td>C7             </td><td>S</td><td>Miss  </td></tr>\n",
       "\t<tr><td>857</td><td>1</td><td>1</td><td>Wick, Mrs. George Dennick (Mary Hitchcock)           </td><td>female</td><td>45.00</td><td>1</td><td>1</td><td>36928   </td><td>164.8667</td><td>               </td><td>S</td><td>Mrs   </td></tr>\n",
       "\t<tr><td>690</td><td>1</td><td>1</td><td>Madill, Miss. Georgette Alexandra                    </td><td>female</td><td>15.00</td><td>0</td><td>1</td><td>24160   </td><td>211.3375</td><td>B5             </td><td>S</td><td>Miss  </td></tr>\n",
       "\t<tr><td>731</td><td>1</td><td>1</td><td>Allen, Miss. Elisabeth Walton                        </td><td>female</td><td>29.00</td><td>0</td><td>0</td><td>24160   </td><td>211.3375</td><td>B5             </td><td>S</td><td>Miss  </td></tr>\n",
       "\t<tr><td>780</td><td>1</td><td>1</td><td>Robert, Mrs. Edward Scott (Elisabeth Walton McMillan)</td><td>female</td><td>43.00</td><td>0</td><td>1</td><td>24160   </td><td>211.3375</td><td>B3             </td><td>S</td><td>Mrs   </td></tr>\n",
       "\t<tr><td>378</td><td>0</td><td>1</td><td>Widener, Mr. Harry Elkins                            </td><td>male  </td><td>27.00</td><td>0</td><td>2</td><td>113503  </td><td>211.5000</td><td>C82            </td><td>C</td><td>Mr    </td></tr>\n",
       "\t<tr><td>528</td><td>0</td><td>1</td><td>Farthing, Mr. John                                   </td><td>male  </td><td>   NA</td><td>0</td><td>0</td><td>PC 17483</td><td>221.7792</td><td>C95            </td><td>S</td><td>Mr    </td></tr>\n",
       "\t<tr><td>381</td><td>1</td><td>1</td><td>Bidois, Miss. Rosalie                                </td><td>female</td><td>42.00</td><td>0</td><td>0</td><td>PC 17757</td><td>227.5250</td><td>               </td><td>C</td><td>Miss  </td></tr>\n",
       "\t<tr><td>558</td><td>0</td><td>1</td><td>Robbins, Mr. Victor                                  </td><td>male  </td><td>   NA</td><td>0</td><td>0</td><td>PC 17757</td><td>227.5250</td><td>               </td><td>C</td><td>Mr    </td></tr>\n",
       "\t<tr><td>701</td><td>1</td><td>1</td><td>Astor, Mrs. John Jacob (Madeleine Talmadge Force)    </td><td>female</td><td>18.00</td><td>1</td><td>0</td><td>PC 17757</td><td>227.5250</td><td>C62 C64        </td><td>C</td><td>Mrs   </td></tr>\n",
       "\t<tr><td>717</td><td>1</td><td>1</td><td>Endres, Miss. Caroline Louise                        </td><td>female</td><td>38.00</td><td>0</td><td>0</td><td>PC 17757</td><td>227.5250</td><td>C45            </td><td>C</td><td>Miss  </td></tr>\n",
       "\t<tr><td>119</td><td>0</td><td>1</td><td>Baxter, Mr. Quigg Edmond                             </td><td>male  </td><td>24.00</td><td>0</td><td>1</td><td>PC 17558</td><td>247.5208</td><td>B58 B60        </td><td>C</td><td>Mr    </td></tr>\n",
       "\t<tr><td>300</td><td>1</td><td>1</td><td>Baxter, Mrs. James (Helene DeLaudeniere Chaput)      </td><td>female</td><td>50.00</td><td>0</td><td>1</td><td>PC 17558</td><td>247.5208</td><td>B58 B60        </td><td>C</td><td>Mrs   </td></tr>\n",
       "\t<tr><td>312</td><td>1</td><td>1</td><td>Ryerson, Miss. Emily Borie                           </td><td>female</td><td>18.00</td><td>2</td><td>2</td><td>PC 17608</td><td>262.3750</td><td>B57 B59 B63 B66</td><td>C</td><td>Miss  </td></tr>\n",
       "\t<tr><td>743</td><td>1</td><td>1</td><td>Ryerson, Miss. Susan Parker \"Suzette\"                </td><td>female</td><td>21.00</td><td>2</td><td>2</td><td>PC 17608</td><td>262.3750</td><td>B57 B59 B63 B66</td><td>C</td><td>Miss  </td></tr>\n",
       "\t<tr><td> 28</td><td>0</td><td>1</td><td>Fortune, Mr. Charles Alexander                       </td><td>male  </td><td>19.00</td><td>3</td><td>2</td><td>19950   </td><td>263.0000</td><td>C23 C25 C27    </td><td>S</td><td>Mr    </td></tr>\n",
       "\t<tr><td> 89</td><td>1</td><td>1</td><td>Fortune, Miss. Mabel Helen                           </td><td>female</td><td>23.00</td><td>3</td><td>2</td><td>19950   </td><td>263.0000</td><td>C23 C25 C27    </td><td>S</td><td>Miss  </td></tr>\n",
       "\t<tr><td>342</td><td>1</td><td>1</td><td>Fortune, Miss. Alice Elizabeth                       </td><td>female</td><td>24.00</td><td>3</td><td>2</td><td>19950   </td><td>263.0000</td><td>C23 C25 C27    </td><td>S</td><td>Miss  </td></tr>\n",
       "\t<tr><td>439</td><td>0</td><td>1</td><td>Fortune, Mr. Mark                                    </td><td>male  </td><td>64.00</td><td>1</td><td>4</td><td>19950   </td><td>263.0000</td><td>C23 C25 C27    </td><td>S</td><td>Mr    </td></tr>\n",
       "\t<tr><td>259</td><td>1</td><td>1</td><td>Ward, Miss. Anna                                     </td><td>female</td><td>35.00</td><td>0</td><td>0</td><td>PC 17755</td><td>512.3292</td><td>               </td><td>C</td><td>Miss  </td></tr>\n",
       "\t<tr><td>680</td><td>1</td><td>1</td><td>Cardeza, Mr. Thomas Drake Martinez                   </td><td>male  </td><td>36.00</td><td>0</td><td>1</td><td>PC 17755</td><td>512.3292</td><td>B51 B53 B55    </td><td>C</td><td>Mr    </td></tr>\n",
       "\t<tr><td>738</td><td>1</td><td>1</td><td>Lesurer, Mr. Gustave J                               </td><td>male  </td><td>35.00</td><td>0</td><td>0</td><td>PC 17755</td><td>512.3292</td><td>B101           </td><td>C</td><td>Mr    </td></tr>\n",
       "</tbody>\n",
       "</table>\n"
      ],
      "text/latex": [
       "A data.frame: 891 × 13\n",
       "\\begin{tabular}{lllllllllllll}\n",
       " PassengerId & Survived & Pclass & Name & Sex & Age & SibSp & Parch & Ticket & Fare & Cabin & Embarked & Title\\\\\n",
       " <int> & <int> & <int> & <chr> & <chr> & <dbl> & <int> & <int> & <chr> & <dbl> & <chr> & <chr> & <chr>\\\\\n",
       "\\hline\n",
       "\t 180 & 0 & 3 & Leonard, Mr. Lionel              & male   & 36.0 & 0 & 0 & LINE               & 0.0000 &             & S & Mr      \\\\\n",
       "\t 264 & 0 & 1 & Harrison, Mr. William            & male   & 40.0 & 0 & 0 & 112059             & 0.0000 & B94         & S & Mr      \\\\\n",
       "\t 272 & 1 & 3 & Tornquist, Mr. William Henry     & male   & 25.0 & 0 & 0 & LINE               & 0.0000 &             & S & Mr      \\\\\n",
       "\t 278 & 0 & 2 & Parkes, Mr. Francis \"Frank\"      & male   &   NA & 0 & 0 & 239853             & 0.0000 &             & S & Mr      \\\\\n",
       "\t 303 & 0 & 3 & Johnson, Mr. William Cahoone Jr  & male   & 19.0 & 0 & 0 & LINE               & 0.0000 &             & S & Mr      \\\\\n",
       "\t 414 & 0 & 2 & Cunningham, Mr. Alfred Fleming   & male   &   NA & 0 & 0 & 239853             & 0.0000 &             & S & Mr      \\\\\n",
       "\t 467 & 0 & 2 & Campbell, Mr. William            & male   &   NA & 0 & 0 & 239853             & 0.0000 &             & S & Mr      \\\\\n",
       "\t 482 & 0 & 2 & Frost, Mr. Anthony Wood \"Archie\" & male   &   NA & 0 & 0 & 239854             & 0.0000 &             & S & Mr      \\\\\n",
       "\t 598 & 0 & 3 & Johnson, Mr. Alfred              & male   & 49.0 & 0 & 0 & LINE               & 0.0000 &             & S & Mr      \\\\\n",
       "\t 634 & 0 & 1 & Parr, Mr. William Henry Marsh    & male   &   NA & 0 & 0 & 112052             & 0.0000 &             & S & Mr      \\\\\n",
       "\t 675 & 0 & 2 & Watson, Mr. Ennis Hastings       & male   &   NA & 0 & 0 & 239856             & 0.0000 &             & S & Mr      \\\\\n",
       "\t 733 & 0 & 2 & Knight, Mr. Robert J             & male   &   NA & 0 & 0 & 239855             & 0.0000 &             & S & Mr      \\\\\n",
       "\t 807 & 0 & 1 & Andrews, Mr. Thomas Jr           & male   & 39.0 & 0 & 0 & 112050             & 0.0000 & A36         & S & Mr      \\\\\n",
       "\t 816 & 0 & 1 & Fry, Mr. Richard                 & male   &   NA & 0 & 0 & 112058             & 0.0000 & B102        & S & Mr      \\\\\n",
       "\t 823 & 0 & 1 & Reuchlin, Jonkheer. John George  & male   & 38.0 & 0 & 0 & 19972              & 0.0000 &             & S & Jonkheer\\\\\n",
       "\t 379 & 0 & 3 & Betros, Mr. Tannous              & male   & 20.0 & 0 & 0 & 2648               & 4.0125 &             & C & Mr      \\\\\n",
       "\t 873 & 0 & 1 & Carlsson, Mr. Frans Olof         & male   & 33.0 & 0 & 0 & 695                & 5.0000 & B51 B53 B55 & S & Mr      \\\\\n",
       "\t 327 & 0 & 3 & Nysveen, Mr. Johan Hansen        & male   & 61.0 & 0 & 0 & 345364             & 6.2375 &             & S & Mr      \\\\\n",
       "\t 844 & 0 & 3 & Lemberopolous, Mr. Peter L       & male   & 34.5 & 0 & 0 & 2683               & 6.4375 &             & C & Mr      \\\\\n",
       "\t 819 & 0 & 3 & Holm, Mr. John Fredrik Alexander & male   & 43.0 & 0 & 0 & C 7075             & 6.4500 &             & S & Mr      \\\\\n",
       "\t 203 & 0 & 3 & Johanson, Mr. Jakob Alfred       & male   & 34.0 & 0 & 0 & 3101264            & 6.4958 &             & S & Mr      \\\\\n",
       "\t 372 & 0 & 3 & Wiklund, Mr. Jakob Alfred        & male   & 18.0 & 1 & 0 & 3101267            & 6.4958 &             & S & Mr      \\\\\n",
       "\t 144 & 0 & 3 & Burke, Mr. Jeremiah              & male   & 19.0 & 0 & 0 & 365222             & 6.7500 &             & Q & Mr      \\\\\n",
       "\t 655 & 0 & 3 & Hegarty, Miss. Hanora \"Nora\"     & female & 18.0 & 0 & 0 & 365226             & 6.7500 &             & Q & Miss    \\\\\n",
       "\t 412 & 0 & 3 & Hart, Mr. Henry                  & male   &   NA & 0 & 0 & 394140             & 6.8583 &             & Q & Mr      \\\\\n",
       "\t 826 & 0 & 3 & Flynn, Mr. John                  & male   &   NA & 0 & 0 & 368323             & 6.9500 &             & Q & Mr      \\\\\n",
       "\t 130 & 0 & 3 & Ekstrom, Mr. Johan               & male   & 45.0 & 0 & 0 & 347061             & 6.9750 &             & S & Mr      \\\\\n",
       "\t 805 & 1 & 3 & Hedman, Mr. Oskar Arvid          & male   & 27.0 & 0 & 0 & 347089             & 6.9750 &             & S & Mr      \\\\\n",
       "\t 478 & 0 & 3 & Braund, Mr. Lewis Richard        & male   & 29.0 & 1 & 0 & 3460               & 7.0458 &             & S & Mr      \\\\\n",
       "\t 132 & 0 & 3 & Coelho, Mr. Domingos Fernandeo   & male   & 20.0 & 0 & 0 & SOTON/O.Q. 3101307 & 7.0500 &             & S & Mr      \\\\\n",
       "\t ⋮ & ⋮ & ⋮ & ⋮ & ⋮ & ⋮ & ⋮ & ⋮ & ⋮ & ⋮ & ⋮ & ⋮ & ⋮\\\\\n",
       "\t 196 & 1 & 1 & Lurette, Miss. Elise                                  & female & 58.00 & 0 & 0 & PC 17569 & 146.5208 & B80             & C & Miss  \\\\\n",
       "\t 298 & 0 & 1 & Allison, Miss. Helen Loraine                          & female &  2.00 & 1 & 2 & 113781   & 151.5500 & C22 C26         & S & Miss  \\\\\n",
       "\t 306 & 1 & 1 & Allison, Master. Hudson Trevor                        & male   &  0.92 & 1 & 2 & 113781   & 151.5500 & C22 C26         & S & Master\\\\\n",
       "\t 499 & 0 & 1 & Allison, Mrs. Hudson J C (Bessie Waldo Daniels)       & female & 25.00 & 1 & 2 & 113781   & 151.5500 & C22 C26         & S & Mrs   \\\\\n",
       "\t 709 & 1 & 1 & Cleaver, Miss. Alice                                  & female & 22.00 & 0 & 0 & 113781   & 151.5500 &                 & S & Miss  \\\\\n",
       "\t 269 & 1 & 1 & Graham, Mrs. William Thompson (Edith Junkins)         & female & 58.00 & 0 & 1 & PC 17582 & 153.4625 & C125            & S & Mrs   \\\\\n",
       "\t 333 & 0 & 1 & Graham, Mr. George Edward                             & male   & 38.00 & 0 & 1 & PC 17582 & 153.4625 & C91             & S & Mr    \\\\\n",
       "\t 610 & 1 & 1 & Shutes, Miss. Elizabeth W                             & female & 40.00 & 0 & 0 & PC 17582 & 153.4625 & C125            & S & Miss  \\\\\n",
       "\t 319 & 1 & 1 & Wick, Miss. Mary Natalie                              & female & 31.00 & 0 & 2 & 36928    & 164.8667 & C7              & S & Miss  \\\\\n",
       "\t 857 & 1 & 1 & Wick, Mrs. George Dennick (Mary Hitchcock)            & female & 45.00 & 1 & 1 & 36928    & 164.8667 &                 & S & Mrs   \\\\\n",
       "\t 690 & 1 & 1 & Madill, Miss. Georgette Alexandra                     & female & 15.00 & 0 & 1 & 24160    & 211.3375 & B5              & S & Miss  \\\\\n",
       "\t 731 & 1 & 1 & Allen, Miss. Elisabeth Walton                         & female & 29.00 & 0 & 0 & 24160    & 211.3375 & B5              & S & Miss  \\\\\n",
       "\t 780 & 1 & 1 & Robert, Mrs. Edward Scott (Elisabeth Walton McMillan) & female & 43.00 & 0 & 1 & 24160    & 211.3375 & B3              & S & Mrs   \\\\\n",
       "\t 378 & 0 & 1 & Widener, Mr. Harry Elkins                             & male   & 27.00 & 0 & 2 & 113503   & 211.5000 & C82             & C & Mr    \\\\\n",
       "\t 528 & 0 & 1 & Farthing, Mr. John                                    & male   &    NA & 0 & 0 & PC 17483 & 221.7792 & C95             & S & Mr    \\\\\n",
       "\t 381 & 1 & 1 & Bidois, Miss. Rosalie                                 & female & 42.00 & 0 & 0 & PC 17757 & 227.5250 &                 & C & Miss  \\\\\n",
       "\t 558 & 0 & 1 & Robbins, Mr. Victor                                   & male   &    NA & 0 & 0 & PC 17757 & 227.5250 &                 & C & Mr    \\\\\n",
       "\t 701 & 1 & 1 & Astor, Mrs. John Jacob (Madeleine Talmadge Force)     & female & 18.00 & 1 & 0 & PC 17757 & 227.5250 & C62 C64         & C & Mrs   \\\\\n",
       "\t 717 & 1 & 1 & Endres, Miss. Caroline Louise                         & female & 38.00 & 0 & 0 & PC 17757 & 227.5250 & C45             & C & Miss  \\\\\n",
       "\t 119 & 0 & 1 & Baxter, Mr. Quigg Edmond                              & male   & 24.00 & 0 & 1 & PC 17558 & 247.5208 & B58 B60         & C & Mr    \\\\\n",
       "\t 300 & 1 & 1 & Baxter, Mrs. James (Helene DeLaudeniere Chaput)       & female & 50.00 & 0 & 1 & PC 17558 & 247.5208 & B58 B60         & C & Mrs   \\\\\n",
       "\t 312 & 1 & 1 & Ryerson, Miss. Emily Borie                            & female & 18.00 & 2 & 2 & PC 17608 & 262.3750 & B57 B59 B63 B66 & C & Miss  \\\\\n",
       "\t 743 & 1 & 1 & Ryerson, Miss. Susan Parker \"Suzette\"                 & female & 21.00 & 2 & 2 & PC 17608 & 262.3750 & B57 B59 B63 B66 & C & Miss  \\\\\n",
       "\t  28 & 0 & 1 & Fortune, Mr. Charles Alexander                        & male   & 19.00 & 3 & 2 & 19950    & 263.0000 & C23 C25 C27     & S & Mr    \\\\\n",
       "\t  89 & 1 & 1 & Fortune, Miss. Mabel Helen                            & female & 23.00 & 3 & 2 & 19950    & 263.0000 & C23 C25 C27     & S & Miss  \\\\\n",
       "\t 342 & 1 & 1 & Fortune, Miss. Alice Elizabeth                        & female & 24.00 & 3 & 2 & 19950    & 263.0000 & C23 C25 C27     & S & Miss  \\\\\n",
       "\t 439 & 0 & 1 & Fortune, Mr. Mark                                     & male   & 64.00 & 1 & 4 & 19950    & 263.0000 & C23 C25 C27     & S & Mr    \\\\\n",
       "\t 259 & 1 & 1 & Ward, Miss. Anna                                      & female & 35.00 & 0 & 0 & PC 17755 & 512.3292 &                 & C & Miss  \\\\\n",
       "\t 680 & 1 & 1 & Cardeza, Mr. Thomas Drake Martinez                    & male   & 36.00 & 0 & 1 & PC 17755 & 512.3292 & B51 B53 B55     & C & Mr    \\\\\n",
       "\t 738 & 1 & 1 & Lesurer, Mr. Gustave J                                & male   & 35.00 & 0 & 0 & PC 17755 & 512.3292 & B101            & C & Mr    \\\\\n",
       "\\end{tabular}\n"
      ],
      "text/markdown": [
       "\n",
       "A data.frame: 891 × 13\n",
       "\n",
       "| PassengerId &lt;int&gt; | Survived &lt;int&gt; | Pclass &lt;int&gt; | Name &lt;chr&gt; | Sex &lt;chr&gt; | Age &lt;dbl&gt; | SibSp &lt;int&gt; | Parch &lt;int&gt; | Ticket &lt;chr&gt; | Fare &lt;dbl&gt; | Cabin &lt;chr&gt; | Embarked &lt;chr&gt; | Title &lt;chr&gt; |\n",
       "|---|---|---|---|---|---|---|---|---|---|---|---|---|\n",
       "| 180 | 0 | 3 | Leonard, Mr. Lionel              | male   | 36.0 | 0 | 0 | LINE               | 0.0000 | <!----> | S | Mr       |\n",
       "| 264 | 0 | 1 | Harrison, Mr. William            | male   | 40.0 | 0 | 0 | 112059             | 0.0000 | B94         | S | Mr       |\n",
       "| 272 | 1 | 3 | Tornquist, Mr. William Henry     | male   | 25.0 | 0 | 0 | LINE               | 0.0000 | <!----> | S | Mr       |\n",
       "| 278 | 0 | 2 | Parkes, Mr. Francis \"Frank\"      | male   |   NA | 0 | 0 | 239853             | 0.0000 | <!----> | S | Mr       |\n",
       "| 303 | 0 | 3 | Johnson, Mr. William Cahoone Jr  | male   | 19.0 | 0 | 0 | LINE               | 0.0000 | <!----> | S | Mr       |\n",
       "| 414 | 0 | 2 | Cunningham, Mr. Alfred Fleming   | male   |   NA | 0 | 0 | 239853             | 0.0000 | <!----> | S | Mr       |\n",
       "| 467 | 0 | 2 | Campbell, Mr. William            | male   |   NA | 0 | 0 | 239853             | 0.0000 | <!----> | S | Mr       |\n",
       "| 482 | 0 | 2 | Frost, Mr. Anthony Wood \"Archie\" | male   |   NA | 0 | 0 | 239854             | 0.0000 | <!----> | S | Mr       |\n",
       "| 598 | 0 | 3 | Johnson, Mr. Alfred              | male   | 49.0 | 0 | 0 | LINE               | 0.0000 | <!----> | S | Mr       |\n",
       "| 634 | 0 | 1 | Parr, Mr. William Henry Marsh    | male   |   NA | 0 | 0 | 112052             | 0.0000 | <!----> | S | Mr       |\n",
       "| 675 | 0 | 2 | Watson, Mr. Ennis Hastings       | male   |   NA | 0 | 0 | 239856             | 0.0000 | <!----> | S | Mr       |\n",
       "| 733 | 0 | 2 | Knight, Mr. Robert J             | male   |   NA | 0 | 0 | 239855             | 0.0000 | <!----> | S | Mr       |\n",
       "| 807 | 0 | 1 | Andrews, Mr. Thomas Jr           | male   | 39.0 | 0 | 0 | 112050             | 0.0000 | A36         | S | Mr       |\n",
       "| 816 | 0 | 1 | Fry, Mr. Richard                 | male   |   NA | 0 | 0 | 112058             | 0.0000 | B102        | S | Mr       |\n",
       "| 823 | 0 | 1 | Reuchlin, Jonkheer. John George  | male   | 38.0 | 0 | 0 | 19972              | 0.0000 | <!----> | S | Jonkheer |\n",
       "| 379 | 0 | 3 | Betros, Mr. Tannous              | male   | 20.0 | 0 | 0 | 2648               | 4.0125 | <!----> | C | Mr       |\n",
       "| 873 | 0 | 1 | Carlsson, Mr. Frans Olof         | male   | 33.0 | 0 | 0 | 695                | 5.0000 | B51 B53 B55 | S | Mr       |\n",
       "| 327 | 0 | 3 | Nysveen, Mr. Johan Hansen        | male   | 61.0 | 0 | 0 | 345364             | 6.2375 | <!----> | S | Mr       |\n",
       "| 844 | 0 | 3 | Lemberopolous, Mr. Peter L       | male   | 34.5 | 0 | 0 | 2683               | 6.4375 | <!----> | C | Mr       |\n",
       "| 819 | 0 | 3 | Holm, Mr. John Fredrik Alexander | male   | 43.0 | 0 | 0 | C 7075             | 6.4500 | <!----> | S | Mr       |\n",
       "| 203 | 0 | 3 | Johanson, Mr. Jakob Alfred       | male   | 34.0 | 0 | 0 | 3101264            | 6.4958 | <!----> | S | Mr       |\n",
       "| 372 | 0 | 3 | Wiklund, Mr. Jakob Alfred        | male   | 18.0 | 1 | 0 | 3101267            | 6.4958 | <!----> | S | Mr       |\n",
       "| 144 | 0 | 3 | Burke, Mr. Jeremiah              | male   | 19.0 | 0 | 0 | 365222             | 6.7500 | <!----> | Q | Mr       |\n",
       "| 655 | 0 | 3 | Hegarty, Miss. Hanora \"Nora\"     | female | 18.0 | 0 | 0 | 365226             | 6.7500 | <!----> | Q | Miss     |\n",
       "| 412 | 0 | 3 | Hart, Mr. Henry                  | male   |   NA | 0 | 0 | 394140             | 6.8583 | <!----> | Q | Mr       |\n",
       "| 826 | 0 | 3 | Flynn, Mr. John                  | male   |   NA | 0 | 0 | 368323             | 6.9500 | <!----> | Q | Mr       |\n",
       "| 130 | 0 | 3 | Ekstrom, Mr. Johan               | male   | 45.0 | 0 | 0 | 347061             | 6.9750 | <!----> | S | Mr       |\n",
       "| 805 | 1 | 3 | Hedman, Mr. Oskar Arvid          | male   | 27.0 | 0 | 0 | 347089             | 6.9750 | <!----> | S | Mr       |\n",
       "| 478 | 0 | 3 | Braund, Mr. Lewis Richard        | male   | 29.0 | 1 | 0 | 3460               | 7.0458 | <!----> | S | Mr       |\n",
       "| 132 | 0 | 3 | Coelho, Mr. Domingos Fernandeo   | male   | 20.0 | 0 | 0 | SOTON/O.Q. 3101307 | 7.0500 | <!----> | S | Mr       |\n",
       "| ⋮ | ⋮ | ⋮ | ⋮ | ⋮ | ⋮ | ⋮ | ⋮ | ⋮ | ⋮ | ⋮ | ⋮ | ⋮ |\n",
       "| 196 | 1 | 1 | Lurette, Miss. Elise                                  | female | 58.00 | 0 | 0 | PC 17569 | 146.5208 | B80             | C | Miss   |\n",
       "| 298 | 0 | 1 | Allison, Miss. Helen Loraine                          | female |  2.00 | 1 | 2 | 113781   | 151.5500 | C22 C26         | S | Miss   |\n",
       "| 306 | 1 | 1 | Allison, Master. Hudson Trevor                        | male   |  0.92 | 1 | 2 | 113781   | 151.5500 | C22 C26         | S | Master |\n",
       "| 499 | 0 | 1 | Allison, Mrs. Hudson J C (Bessie Waldo Daniels)       | female | 25.00 | 1 | 2 | 113781   | 151.5500 | C22 C26         | S | Mrs    |\n",
       "| 709 | 1 | 1 | Cleaver, Miss. Alice                                  | female | 22.00 | 0 | 0 | 113781   | 151.5500 | <!----> | S | Miss   |\n",
       "| 269 | 1 | 1 | Graham, Mrs. William Thompson (Edith Junkins)         | female | 58.00 | 0 | 1 | PC 17582 | 153.4625 | C125            | S | Mrs    |\n",
       "| 333 | 0 | 1 | Graham, Mr. George Edward                             | male   | 38.00 | 0 | 1 | PC 17582 | 153.4625 | C91             | S | Mr     |\n",
       "| 610 | 1 | 1 | Shutes, Miss. Elizabeth W                             | female | 40.00 | 0 | 0 | PC 17582 | 153.4625 | C125            | S | Miss   |\n",
       "| 319 | 1 | 1 | Wick, Miss. Mary Natalie                              | female | 31.00 | 0 | 2 | 36928    | 164.8667 | C7              | S | Miss   |\n",
       "| 857 | 1 | 1 | Wick, Mrs. George Dennick (Mary Hitchcock)            | female | 45.00 | 1 | 1 | 36928    | 164.8667 | <!----> | S | Mrs    |\n",
       "| 690 | 1 | 1 | Madill, Miss. Georgette Alexandra                     | female | 15.00 | 0 | 1 | 24160    | 211.3375 | B5              | S | Miss   |\n",
       "| 731 | 1 | 1 | Allen, Miss. Elisabeth Walton                         | female | 29.00 | 0 | 0 | 24160    | 211.3375 | B5              | S | Miss   |\n",
       "| 780 | 1 | 1 | Robert, Mrs. Edward Scott (Elisabeth Walton McMillan) | female | 43.00 | 0 | 1 | 24160    | 211.3375 | B3              | S | Mrs    |\n",
       "| 378 | 0 | 1 | Widener, Mr. Harry Elkins                             | male   | 27.00 | 0 | 2 | 113503   | 211.5000 | C82             | C | Mr     |\n",
       "| 528 | 0 | 1 | Farthing, Mr. John                                    | male   |    NA | 0 | 0 | PC 17483 | 221.7792 | C95             | S | Mr     |\n",
       "| 381 | 1 | 1 | Bidois, Miss. Rosalie                                 | female | 42.00 | 0 | 0 | PC 17757 | 227.5250 | <!----> | C | Miss   |\n",
       "| 558 | 0 | 1 | Robbins, Mr. Victor                                   | male   |    NA | 0 | 0 | PC 17757 | 227.5250 | <!----> | C | Mr     |\n",
       "| 701 | 1 | 1 | Astor, Mrs. John Jacob (Madeleine Talmadge Force)     | female | 18.00 | 1 | 0 | PC 17757 | 227.5250 | C62 C64         | C | Mrs    |\n",
       "| 717 | 1 | 1 | Endres, Miss. Caroline Louise                         | female | 38.00 | 0 | 0 | PC 17757 | 227.5250 | C45             | C | Miss   |\n",
       "| 119 | 0 | 1 | Baxter, Mr. Quigg Edmond                              | male   | 24.00 | 0 | 1 | PC 17558 | 247.5208 | B58 B60         | C | Mr     |\n",
       "| 300 | 1 | 1 | Baxter, Mrs. James (Helene DeLaudeniere Chaput)       | female | 50.00 | 0 | 1 | PC 17558 | 247.5208 | B58 B60         | C | Mrs    |\n",
       "| 312 | 1 | 1 | Ryerson, Miss. Emily Borie                            | female | 18.00 | 2 | 2 | PC 17608 | 262.3750 | B57 B59 B63 B66 | C | Miss   |\n",
       "| 743 | 1 | 1 | Ryerson, Miss. Susan Parker \"Suzette\"                 | female | 21.00 | 2 | 2 | PC 17608 | 262.3750 | B57 B59 B63 B66 | C | Miss   |\n",
       "|  28 | 0 | 1 | Fortune, Mr. Charles Alexander                        | male   | 19.00 | 3 | 2 | 19950    | 263.0000 | C23 C25 C27     | S | Mr     |\n",
       "|  89 | 1 | 1 | Fortune, Miss. Mabel Helen                            | female | 23.00 | 3 | 2 | 19950    | 263.0000 | C23 C25 C27     | S | Miss   |\n",
       "| 342 | 1 | 1 | Fortune, Miss. Alice Elizabeth                        | female | 24.00 | 3 | 2 | 19950    | 263.0000 | C23 C25 C27     | S | Miss   |\n",
       "| 439 | 0 | 1 | Fortune, Mr. Mark                                     | male   | 64.00 | 1 | 4 | 19950    | 263.0000 | C23 C25 C27     | S | Mr     |\n",
       "| 259 | 1 | 1 | Ward, Miss. Anna                                      | female | 35.00 | 0 | 0 | PC 17755 | 512.3292 | <!----> | C | Miss   |\n",
       "| 680 | 1 | 1 | Cardeza, Mr. Thomas Drake Martinez                    | male   | 36.00 | 0 | 1 | PC 17755 | 512.3292 | B51 B53 B55     | C | Mr     |\n",
       "| 738 | 1 | 1 | Lesurer, Mr. Gustave J                                | male   | 35.00 | 0 | 0 | PC 17755 | 512.3292 | B101            | C | Mr     |\n",
       "\n"
      ],
      "text/plain": [
       "    PassengerId Survived Pclass\n",
       "1   180         0        3     \n",
       "2   264         0        1     \n",
       "3   272         1        3     \n",
       "4   278         0        2     \n",
       "5   303         0        3     \n",
       "6   414         0        2     \n",
       "7   467         0        2     \n",
       "8   482         0        2     \n",
       "9   598         0        3     \n",
       "10  634         0        1     \n",
       "11  675         0        2     \n",
       "12  733         0        2     \n",
       "13  807         0        1     \n",
       "14  816         0        1     \n",
       "15  823         0        1     \n",
       "16  379         0        3     \n",
       "17  873         0        1     \n",
       "18  327         0        3     \n",
       "19  844         0        3     \n",
       "20  819         0        3     \n",
       "21  203         0        3     \n",
       "22  372         0        3     \n",
       "23  144         0        3     \n",
       "24  655         0        3     \n",
       "25  412         0        3     \n",
       "26  826         0        3     \n",
       "27  130         0        3     \n",
       "28  805         1        3     \n",
       "29  478         0        3     \n",
       "30  132         0        3     \n",
       "<U+22EE>   <U+22EE>    <U+22EE> <U+22EE>\n",
       "862 196         1        1     \n",
       "863 298         0        1     \n",
       "864 306         1        1     \n",
       "865 499         0        1     \n",
       "866 709         1        1     \n",
       "867 269         1        1     \n",
       "868 333         0        1     \n",
       "869 610         1        1     \n",
       "870 319         1        1     \n",
       "871 857         1        1     \n",
       "872 690         1        1     \n",
       "873 731         1        1     \n",
       "874 780         1        1     \n",
       "875 378         0        1     \n",
       "876 528         0        1     \n",
       "877 381         1        1     \n",
       "878 558         0        1     \n",
       "879 701         1        1     \n",
       "880 717         1        1     \n",
       "881 119         0        1     \n",
       "882 300         1        1     \n",
       "883 312         1        1     \n",
       "884 743         1        1     \n",
       "885  28         0        1     \n",
       "886  89         1        1     \n",
       "887 342         1        1     \n",
       "888 439         0        1     \n",
       "889 259         1        1     \n",
       "890 680         1        1     \n",
       "891 738         1        1     \n",
       "    Name                                                  Sex    Age   SibSp\n",
       "1   Leonard, Mr. Lionel                                   male   36.0  0    \n",
       "2   Harrison, Mr. William                                 male   40.0  0    \n",
       "3   Tornquist, Mr. William Henry                          male   25.0  0    \n",
       "4   Parkes, Mr. Francis \"Frank\"                           male     NA  0    \n",
       "5   Johnson, Mr. William Cahoone Jr                       male   19.0  0    \n",
       "6   Cunningham, Mr. Alfred Fleming                        male     NA  0    \n",
       "7   Campbell, Mr. William                                 male     NA  0    \n",
       "8   Frost, Mr. Anthony Wood \"Archie\"                      male     NA  0    \n",
       "9   Johnson, Mr. Alfred                                   male   49.0  0    \n",
       "10  Parr, Mr. William Henry Marsh                         male     NA  0    \n",
       "11  Watson, Mr. Ennis Hastings                            male     NA  0    \n",
       "12  Knight, Mr. Robert J                                  male     NA  0    \n",
       "13  Andrews, Mr. Thomas Jr                                male   39.0  0    \n",
       "14  Fry, Mr. Richard                                      male     NA  0    \n",
       "15  Reuchlin, Jonkheer. John George                       male   38.0  0    \n",
       "16  Betros, Mr. Tannous                                   male   20.0  0    \n",
       "17  Carlsson, Mr. Frans Olof                              male   33.0  0    \n",
       "18  Nysveen, Mr. Johan Hansen                             male   61.0  0    \n",
       "19  Lemberopolous, Mr. Peter L                            male   34.5  0    \n",
       "20  Holm, Mr. John Fredrik Alexander                      male   43.0  0    \n",
       "21  Johanson, Mr. Jakob Alfred                            male   34.0  0    \n",
       "22  Wiklund, Mr. Jakob Alfred                             male   18.0  1    \n",
       "23  Burke, Mr. Jeremiah                                   male   19.0  0    \n",
       "24  Hegarty, Miss. Hanora \"Nora\"                          female 18.0  0    \n",
       "25  Hart, Mr. Henry                                       male     NA  0    \n",
       "26  Flynn, Mr. John                                       male     NA  0    \n",
       "27  Ekstrom, Mr. Johan                                    male   45.0  0    \n",
       "28  Hedman, Mr. Oskar Arvid                               male   27.0  0    \n",
       "29  Braund, Mr. Lewis Richard                             male   29.0  1    \n",
       "30  Coelho, Mr. Domingos Fernandeo                        male   20.0  0    \n",
       "<U+22EE>   <U+22EE>                                              <U+22EE> <U+22EE> <U+22EE>\n",
       "862 Lurette, Miss. Elise                                  female 58.00 0    \n",
       "863 Allison, Miss. Helen Loraine                          female  2.00 1    \n",
       "864 Allison, Master. Hudson Trevor                        male    0.92 1    \n",
       "865 Allison, Mrs. Hudson J C (Bessie Waldo Daniels)       female 25.00 1    \n",
       "866 Cleaver, Miss. Alice                                  female 22.00 0    \n",
       "867 Graham, Mrs. William Thompson (Edith Junkins)         female 58.00 0    \n",
       "868 Graham, Mr. George Edward                             male   38.00 0    \n",
       "869 Shutes, Miss. Elizabeth W                             female 40.00 0    \n",
       "870 Wick, Miss. Mary Natalie                              female 31.00 0    \n",
       "871 Wick, Mrs. George Dennick (Mary Hitchcock)            female 45.00 1    \n",
       "872 Madill, Miss. Georgette Alexandra                     female 15.00 0    \n",
       "873 Allen, Miss. Elisabeth Walton                         female 29.00 0    \n",
       "874 Robert, Mrs. Edward Scott (Elisabeth Walton McMillan) female 43.00 0    \n",
       "875 Widener, Mr. Harry Elkins                             male   27.00 0    \n",
       "876 Farthing, Mr. John                                    male      NA 0    \n",
       "877 Bidois, Miss. Rosalie                                 female 42.00 0    \n",
       "878 Robbins, Mr. Victor                                   male      NA 0    \n",
       "879 Astor, Mrs. John Jacob (Madeleine Talmadge Force)     female 18.00 1    \n",
       "880 Endres, Miss. Caroline Louise                         female 38.00 0    \n",
       "881 Baxter, Mr. Quigg Edmond                              male   24.00 0    \n",
       "882 Baxter, Mrs. James (Helene DeLaudeniere Chaput)       female 50.00 0    \n",
       "883 Ryerson, Miss. Emily Borie                            female 18.00 2    \n",
       "884 Ryerson, Miss. Susan Parker \"Suzette\"                 female 21.00 2    \n",
       "885 Fortune, Mr. Charles Alexander                        male   19.00 3    \n",
       "886 Fortune, Miss. Mabel Helen                            female 23.00 3    \n",
       "887 Fortune, Miss. Alice Elizabeth                        female 24.00 3    \n",
       "888 Fortune, Mr. Mark                                     male   64.00 1    \n",
       "889 Ward, Miss. Anna                                      female 35.00 0    \n",
       "890 Cardeza, Mr. Thomas Drake Martinez                    male   36.00 0    \n",
       "891 Lesurer, Mr. Gustave J                                male   35.00 0    \n",
       "    Parch Ticket             Fare     Cabin           Embarked Title   \n",
       "1   0     LINE               0.0000                   S        Mr      \n",
       "2   0     112059             0.0000   B94             S        Mr      \n",
       "3   0     LINE               0.0000                   S        Mr      \n",
       "4   0     239853             0.0000                   S        Mr      \n",
       "5   0     LINE               0.0000                   S        Mr      \n",
       "6   0     239853             0.0000                   S        Mr      \n",
       "7   0     239853             0.0000                   S        Mr      \n",
       "8   0     239854             0.0000                   S        Mr      \n",
       "9   0     LINE               0.0000                   S        Mr      \n",
       "10  0     112052             0.0000                   S        Mr      \n",
       "11  0     239856             0.0000                   S        Mr      \n",
       "12  0     239855             0.0000                   S        Mr      \n",
       "13  0     112050             0.0000   A36             S        Mr      \n",
       "14  0     112058             0.0000   B102            S        Mr      \n",
       "15  0     19972              0.0000                   S        Jonkheer\n",
       "16  0     2648               4.0125                   C        Mr      \n",
       "17  0     695                5.0000   B51 B53 B55     S        Mr      \n",
       "18  0     345364             6.2375                   S        Mr      \n",
       "19  0     2683               6.4375                   C        Mr      \n",
       "20  0     C 7075             6.4500                   S        Mr      \n",
       "21  0     3101264            6.4958                   S        Mr      \n",
       "22  0     3101267            6.4958                   S        Mr      \n",
       "23  0     365222             6.7500                   Q        Mr      \n",
       "24  0     365226             6.7500                   Q        Miss    \n",
       "25  0     394140             6.8583                   Q        Mr      \n",
       "26  0     368323             6.9500                   Q        Mr      \n",
       "27  0     347061             6.9750                   S        Mr      \n",
       "28  0     347089             6.9750                   S        Mr      \n",
       "29  0     3460               7.0458                   S        Mr      \n",
       "30  0     SOTON/O.Q. 3101307 7.0500                   S        Mr      \n",
       "<U+22EE>   <U+22EE> <U+22EE>           <U+22EE> <U+22EE>        <U+22EE> <U+22EE>\n",
       "862 0     PC 17569           146.5208 B80             C        Miss    \n",
       "863 2     113781             151.5500 C22 C26         S        Miss    \n",
       "864 2     113781             151.5500 C22 C26         S        Master  \n",
       "865 2     113781             151.5500 C22 C26         S        Mrs     \n",
       "866 0     113781             151.5500                 S        Miss    \n",
       "867 1     PC 17582           153.4625 C125            S        Mrs     \n",
       "868 1     PC 17582           153.4625 C91             S        Mr      \n",
       "869 0     PC 17582           153.4625 C125            S        Miss    \n",
       "870 2     36928              164.8667 C7              S        Miss    \n",
       "871 1     36928              164.8667                 S        Mrs     \n",
       "872 1     24160              211.3375 B5              S        Miss    \n",
       "873 0     24160              211.3375 B5              S        Miss    \n",
       "874 1     24160              211.3375 B3              S        Mrs     \n",
       "875 2     113503             211.5000 C82             C        Mr      \n",
       "876 0     PC 17483           221.7792 C95             S        Mr      \n",
       "877 0     PC 17757           227.5250                 C        Miss    \n",
       "878 0     PC 17757           227.5250                 C        Mr      \n",
       "879 0     PC 17757           227.5250 C62 C64         C        Mrs     \n",
       "880 0     PC 17757           227.5250 C45             C        Miss    \n",
       "881 1     PC 17558           247.5208 B58 B60         C        Mr      \n",
       "882 1     PC 17558           247.5208 B58 B60         C        Mrs     \n",
       "883 2     PC 17608           262.3750 B57 B59 B63 B66 C        Miss    \n",
       "884 2     PC 17608           262.3750 B57 B59 B63 B66 C        Miss    \n",
       "885 2     19950              263.0000 C23 C25 C27     S        Mr      \n",
       "886 2     19950              263.0000 C23 C25 C27     S        Miss    \n",
       "887 2     19950              263.0000 C23 C25 C27     S        Miss    \n",
       "888 4     19950              263.0000 C23 C25 C27     S        Mr      \n",
       "889 0     PC 17755           512.3292                 C        Miss    \n",
       "890 1     PC 17755           512.3292 B51 B53 B55     C        Mr      \n",
       "891 0     PC 17755           512.3292 B101            C        Mr      "
      ]
     },
     "metadata": {},
     "output_type": "display_data"
    }
   ],
   "source": [
    "train %>%\n",
    "  arrange(Fare)"
   ]
  },
  {
   "cell_type": "markdown",
   "id": "1607e829-b746-4ecd-9cc9-11f98f32da12",
   "metadata": {},
   "source": [
    "**Does our data give us any indication about whether fare paid has an effect on the chance of survival or not?**"
   ]
  },
  {
   "cell_type": "markdown",
   "id": "3285517b-a2a8-4991-ac64-d638642630fa",
   "metadata": {},
   "source": [
    "From the data we can see, a lot of the people who paid less did not survive the disaster. That's something interesting that we've just discovered just by re-arranging our data."
   ]
  },
  {
   "cell_type": "markdown",
   "id": "fdaad2e6-3b51-4dd4-b6c7-a8fa1532cd15",
   "metadata": {},
   "source": [
    "The second half of the dataset (those who paid a higher fare) we can see a lot of the people who paid more did survive the disaster. We can confirm this using `arrange` in descending order."
   ]
  },
  {
   "cell_type": "code",
   "execution_count": 13,
   "id": "cbd2db16-3955-47b2-af10-1e11d9b7c032",
   "metadata": {},
   "outputs": [
    {
     "data": {
      "text/html": [
       "<table class=\"dataframe\">\n",
       "<caption>A data.frame: 891 × 13</caption>\n",
       "<thead>\n",
       "\t<tr><th scope=col>PassengerId</th><th scope=col>Survived</th><th scope=col>Pclass</th><th scope=col>Name</th><th scope=col>Sex</th><th scope=col>Age</th><th scope=col>SibSp</th><th scope=col>Parch</th><th scope=col>Ticket</th><th scope=col>Fare</th><th scope=col>Cabin</th><th scope=col>Embarked</th><th scope=col>Title</th></tr>\n",
       "\t<tr><th scope=col>&lt;int&gt;</th><th scope=col>&lt;int&gt;</th><th scope=col>&lt;int&gt;</th><th scope=col>&lt;chr&gt;</th><th scope=col>&lt;chr&gt;</th><th scope=col>&lt;dbl&gt;</th><th scope=col>&lt;int&gt;</th><th scope=col>&lt;int&gt;</th><th scope=col>&lt;chr&gt;</th><th scope=col>&lt;dbl&gt;</th><th scope=col>&lt;chr&gt;</th><th scope=col>&lt;chr&gt;</th><th scope=col>&lt;chr&gt;</th></tr>\n",
       "</thead>\n",
       "<tbody>\n",
       "\t<tr><td>259</td><td>1</td><td>1</td><td>Ward, Miss. Anna                                     </td><td>female</td><td>35.00</td><td>0</td><td>0</td><td>PC 17755</td><td>512.3292</td><td>               </td><td>C</td><td>Miss  </td></tr>\n",
       "\t<tr><td>680</td><td>1</td><td>1</td><td>Cardeza, Mr. Thomas Drake Martinez                   </td><td>male  </td><td>36.00</td><td>0</td><td>1</td><td>PC 17755</td><td>512.3292</td><td>B51 B53 B55    </td><td>C</td><td>Mr    </td></tr>\n",
       "\t<tr><td>738</td><td>1</td><td>1</td><td>Lesurer, Mr. Gustave J                               </td><td>male  </td><td>35.00</td><td>0</td><td>0</td><td>PC 17755</td><td>512.3292</td><td>B101           </td><td>C</td><td>Mr    </td></tr>\n",
       "\t<tr><td> 28</td><td>0</td><td>1</td><td>Fortune, Mr. Charles Alexander                       </td><td>male  </td><td>19.00</td><td>3</td><td>2</td><td>19950   </td><td>263.0000</td><td>C23 C25 C27    </td><td>S</td><td>Mr    </td></tr>\n",
       "\t<tr><td> 89</td><td>1</td><td>1</td><td>Fortune, Miss. Mabel Helen                           </td><td>female</td><td>23.00</td><td>3</td><td>2</td><td>19950   </td><td>263.0000</td><td>C23 C25 C27    </td><td>S</td><td>Miss  </td></tr>\n",
       "\t<tr><td>342</td><td>1</td><td>1</td><td>Fortune, Miss. Alice Elizabeth                       </td><td>female</td><td>24.00</td><td>3</td><td>2</td><td>19950   </td><td>263.0000</td><td>C23 C25 C27    </td><td>S</td><td>Miss  </td></tr>\n",
       "\t<tr><td>439</td><td>0</td><td>1</td><td>Fortune, Mr. Mark                                    </td><td>male  </td><td>64.00</td><td>1</td><td>4</td><td>19950   </td><td>263.0000</td><td>C23 C25 C27    </td><td>S</td><td>Mr    </td></tr>\n",
       "\t<tr><td>312</td><td>1</td><td>1</td><td>Ryerson, Miss. Emily Borie                           </td><td>female</td><td>18.00</td><td>2</td><td>2</td><td>PC 17608</td><td>262.3750</td><td>B57 B59 B63 B66</td><td>C</td><td>Miss  </td></tr>\n",
       "\t<tr><td>743</td><td>1</td><td>1</td><td>Ryerson, Miss. Susan Parker \"Suzette\"                </td><td>female</td><td>21.00</td><td>2</td><td>2</td><td>PC 17608</td><td>262.3750</td><td>B57 B59 B63 B66</td><td>C</td><td>Miss  </td></tr>\n",
       "\t<tr><td>119</td><td>0</td><td>1</td><td>Baxter, Mr. Quigg Edmond                             </td><td>male  </td><td>24.00</td><td>0</td><td>1</td><td>PC 17558</td><td>247.5208</td><td>B58 B60        </td><td>C</td><td>Mr    </td></tr>\n",
       "\t<tr><td>300</td><td>1</td><td>1</td><td>Baxter, Mrs. James (Helene DeLaudeniere Chaput)      </td><td>female</td><td>50.00</td><td>0</td><td>1</td><td>PC 17558</td><td>247.5208</td><td>B58 B60        </td><td>C</td><td>Mrs   </td></tr>\n",
       "\t<tr><td>381</td><td>1</td><td>1</td><td>Bidois, Miss. Rosalie                                </td><td>female</td><td>42.00</td><td>0</td><td>0</td><td>PC 17757</td><td>227.5250</td><td>               </td><td>C</td><td>Miss  </td></tr>\n",
       "\t<tr><td>558</td><td>0</td><td>1</td><td>Robbins, Mr. Victor                                  </td><td>male  </td><td>   NA</td><td>0</td><td>0</td><td>PC 17757</td><td>227.5250</td><td>               </td><td>C</td><td>Mr    </td></tr>\n",
       "\t<tr><td>701</td><td>1</td><td>1</td><td>Astor, Mrs. John Jacob (Madeleine Talmadge Force)    </td><td>female</td><td>18.00</td><td>1</td><td>0</td><td>PC 17757</td><td>227.5250</td><td>C62 C64        </td><td>C</td><td>Mrs   </td></tr>\n",
       "\t<tr><td>717</td><td>1</td><td>1</td><td>Endres, Miss. Caroline Louise                        </td><td>female</td><td>38.00</td><td>0</td><td>0</td><td>PC 17757</td><td>227.5250</td><td>C45            </td><td>C</td><td>Miss  </td></tr>\n",
       "\t<tr><td>528</td><td>0</td><td>1</td><td>Farthing, Mr. John                                   </td><td>male  </td><td>   NA</td><td>0</td><td>0</td><td>PC 17483</td><td>221.7792</td><td>C95            </td><td>S</td><td>Mr    </td></tr>\n",
       "\t<tr><td>378</td><td>0</td><td>1</td><td>Widener, Mr. Harry Elkins                            </td><td>male  </td><td>27.00</td><td>0</td><td>2</td><td>113503  </td><td>211.5000</td><td>C82            </td><td>C</td><td>Mr    </td></tr>\n",
       "\t<tr><td>690</td><td>1</td><td>1</td><td>Madill, Miss. Georgette Alexandra                    </td><td>female</td><td>15.00</td><td>0</td><td>1</td><td>24160   </td><td>211.3375</td><td>B5             </td><td>S</td><td>Miss  </td></tr>\n",
       "\t<tr><td>731</td><td>1</td><td>1</td><td>Allen, Miss. Elisabeth Walton                        </td><td>female</td><td>29.00</td><td>0</td><td>0</td><td>24160   </td><td>211.3375</td><td>B5             </td><td>S</td><td>Miss  </td></tr>\n",
       "\t<tr><td>780</td><td>1</td><td>1</td><td>Robert, Mrs. Edward Scott (Elisabeth Walton McMillan)</td><td>female</td><td>43.00</td><td>0</td><td>1</td><td>24160   </td><td>211.3375</td><td>B3             </td><td>S</td><td>Mrs   </td></tr>\n",
       "\t<tr><td>319</td><td>1</td><td>1</td><td>Wick, Miss. Mary Natalie                             </td><td>female</td><td>31.00</td><td>0</td><td>2</td><td>36928   </td><td>164.8667</td><td>C7             </td><td>S</td><td>Miss  </td></tr>\n",
       "\t<tr><td>857</td><td>1</td><td>1</td><td>Wick, Mrs. George Dennick (Mary Hitchcock)           </td><td>female</td><td>45.00</td><td>1</td><td>1</td><td>36928   </td><td>164.8667</td><td>               </td><td>S</td><td>Mrs   </td></tr>\n",
       "\t<tr><td>269</td><td>1</td><td>1</td><td>Graham, Mrs. William Thompson (Edith Junkins)        </td><td>female</td><td>58.00</td><td>0</td><td>1</td><td>PC 17582</td><td>153.4625</td><td>C125           </td><td>S</td><td>Mrs   </td></tr>\n",
       "\t<tr><td>333</td><td>0</td><td>1</td><td>Graham, Mr. George Edward                            </td><td>male  </td><td>38.00</td><td>0</td><td>1</td><td>PC 17582</td><td>153.4625</td><td>C91            </td><td>S</td><td>Mr    </td></tr>\n",
       "\t<tr><td>610</td><td>1</td><td>1</td><td>Shutes, Miss. Elizabeth W                            </td><td>female</td><td>40.00</td><td>0</td><td>0</td><td>PC 17582</td><td>153.4625</td><td>C125           </td><td>S</td><td>Miss  </td></tr>\n",
       "\t<tr><td>298</td><td>0</td><td>1</td><td>Allison, Miss. Helen Loraine                         </td><td>female</td><td> 2.00</td><td>1</td><td>2</td><td>113781  </td><td>151.5500</td><td>C22 C26        </td><td>S</td><td>Miss  </td></tr>\n",
       "\t<tr><td>306</td><td>1</td><td>1</td><td>Allison, Master. Hudson Trevor                       </td><td>male  </td><td> 0.92</td><td>1</td><td>2</td><td>113781  </td><td>151.5500</td><td>C22 C26        </td><td>S</td><td>Master</td></tr>\n",
       "\t<tr><td>499</td><td>0</td><td>1</td><td>Allison, Mrs. Hudson J C (Bessie Waldo Daniels)      </td><td>female</td><td>25.00</td><td>1</td><td>2</td><td>113781  </td><td>151.5500</td><td>C22 C26        </td><td>S</td><td>Mrs   </td></tr>\n",
       "\t<tr><td>709</td><td>1</td><td>1</td><td>Cleaver, Miss. Alice                                 </td><td>female</td><td>22.00</td><td>0</td><td>0</td><td>113781  </td><td>151.5500</td><td>               </td><td>S</td><td>Miss  </td></tr>\n",
       "\t<tr><td> 32</td><td>1</td><td>1</td><td>Spencer, Mrs. William Augustus (Marie Eugenie)       </td><td>female</td><td>   NA</td><td>1</td><td>0</td><td>PC 17569</td><td>146.5208</td><td>B78            </td><td>C</td><td>Mrs   </td></tr>\n",
       "\t<tr><td>⋮</td><td>⋮</td><td>⋮</td><td>⋮</td><td>⋮</td><td>⋮</td><td>⋮</td><td>⋮</td><td>⋮</td><td>⋮</td><td>⋮</td><td>⋮</td><td>⋮</td></tr>\n",
       "\t<tr><td>885</td><td>0</td><td>3</td><td>Sutehall, Mr. Henry Jr          </td><td>male  </td><td>25.0</td><td>0</td><td>0</td><td>SOTON/OQ 392076</td><td>7.0500</td><td>           </td><td>S</td><td>Mr      </td></tr>\n",
       "\t<tr><td>478</td><td>0</td><td>3</td><td>Braund, Mr. Lewis Richard       </td><td>male  </td><td>29.0</td><td>1</td><td>0</td><td>3460           </td><td>7.0458</td><td>           </td><td>S</td><td>Mr      </td></tr>\n",
       "\t<tr><td>130</td><td>0</td><td>3</td><td>Ekstrom, Mr. Johan              </td><td>male  </td><td>45.0</td><td>0</td><td>0</td><td>347061         </td><td>6.9750</td><td>           </td><td>S</td><td>Mr      </td></tr>\n",
       "\t<tr><td>805</td><td>1</td><td>3</td><td>Hedman, Mr. Oskar Arvid         </td><td>male  </td><td>27.0</td><td>0</td><td>0</td><td>347089         </td><td>6.9750</td><td>           </td><td>S</td><td>Mr      </td></tr>\n",
       "\t<tr><td>826</td><td>0</td><td>3</td><td>Flynn, Mr. John                 </td><td>male  </td><td>  NA</td><td>0</td><td>0</td><td>368323         </td><td>6.9500</td><td>           </td><td>Q</td><td>Mr      </td></tr>\n",
       "\t<tr><td>412</td><td>0</td><td>3</td><td>Hart, Mr. Henry                 </td><td>male  </td><td>  NA</td><td>0</td><td>0</td><td>394140         </td><td>6.8583</td><td>           </td><td>Q</td><td>Mr      </td></tr>\n",
       "\t<tr><td>144</td><td>0</td><td>3</td><td>Burke, Mr. Jeremiah             </td><td>male  </td><td>19.0</td><td>0</td><td>0</td><td>365222         </td><td>6.7500</td><td>           </td><td>Q</td><td>Mr      </td></tr>\n",
       "\t<tr><td>655</td><td>0</td><td>3</td><td>Hegarty, Miss. Hanora \"Nora\"    </td><td>female</td><td>18.0</td><td>0</td><td>0</td><td>365226         </td><td>6.7500</td><td>           </td><td>Q</td><td>Miss    </td></tr>\n",
       "\t<tr><td>203</td><td>0</td><td>3</td><td>Johanson, Mr. Jakob Alfred      </td><td>male  </td><td>34.0</td><td>0</td><td>0</td><td>3101264        </td><td>6.4958</td><td>           </td><td>S</td><td>Mr      </td></tr>\n",
       "\t<tr><td>372</td><td>0</td><td>3</td><td>Wiklund, Mr. Jakob Alfred       </td><td>male  </td><td>18.0</td><td>1</td><td>0</td><td>3101267        </td><td>6.4958</td><td>           </td><td>S</td><td>Mr      </td></tr>\n",
       "\t<tr><td>819</td><td>0</td><td>3</td><td>Holm, Mr. John Fredrik Alexander</td><td>male  </td><td>43.0</td><td>0</td><td>0</td><td>C 7075         </td><td>6.4500</td><td>           </td><td>S</td><td>Mr      </td></tr>\n",
       "\t<tr><td>844</td><td>0</td><td>3</td><td>Lemberopolous, Mr. Peter L      </td><td>male  </td><td>34.5</td><td>0</td><td>0</td><td>2683           </td><td>6.4375</td><td>           </td><td>C</td><td>Mr      </td></tr>\n",
       "\t<tr><td>327</td><td>0</td><td>3</td><td>Nysveen, Mr. Johan Hansen       </td><td>male  </td><td>61.0</td><td>0</td><td>0</td><td>345364         </td><td>6.2375</td><td>           </td><td>S</td><td>Mr      </td></tr>\n",
       "\t<tr><td>873</td><td>0</td><td>1</td><td>Carlsson, Mr. Frans Olof        </td><td>male  </td><td>33.0</td><td>0</td><td>0</td><td>695            </td><td>5.0000</td><td>B51 B53 B55</td><td>S</td><td>Mr      </td></tr>\n",
       "\t<tr><td>379</td><td>0</td><td>3</td><td>Betros, Mr. Tannous             </td><td>male  </td><td>20.0</td><td>0</td><td>0</td><td>2648           </td><td>4.0125</td><td>           </td><td>C</td><td>Mr      </td></tr>\n",
       "\t<tr><td>180</td><td>0</td><td>3</td><td>Leonard, Mr. Lionel             </td><td>male  </td><td>36.0</td><td>0</td><td>0</td><td>LINE           </td><td>0.0000</td><td>           </td><td>S</td><td>Mr      </td></tr>\n",
       "\t<tr><td>264</td><td>0</td><td>1</td><td>Harrison, Mr. William           </td><td>male  </td><td>40.0</td><td>0</td><td>0</td><td>112059         </td><td>0.0000</td><td>B94        </td><td>S</td><td>Mr      </td></tr>\n",
       "\t<tr><td>272</td><td>1</td><td>3</td><td>Tornquist, Mr. William Henry    </td><td>male  </td><td>25.0</td><td>0</td><td>0</td><td>LINE           </td><td>0.0000</td><td>           </td><td>S</td><td>Mr      </td></tr>\n",
       "\t<tr><td>278</td><td>0</td><td>2</td><td>Parkes, Mr. Francis \"Frank\"     </td><td>male  </td><td>  NA</td><td>0</td><td>0</td><td>239853         </td><td>0.0000</td><td>           </td><td>S</td><td>Mr      </td></tr>\n",
       "\t<tr><td>303</td><td>0</td><td>3</td><td>Johnson, Mr. William Cahoone Jr </td><td>male  </td><td>19.0</td><td>0</td><td>0</td><td>LINE           </td><td>0.0000</td><td>           </td><td>S</td><td>Mr      </td></tr>\n",
       "\t<tr><td>414</td><td>0</td><td>2</td><td>Cunningham, Mr. Alfred Fleming  </td><td>male  </td><td>  NA</td><td>0</td><td>0</td><td>239853         </td><td>0.0000</td><td>           </td><td>S</td><td>Mr      </td></tr>\n",
       "\t<tr><td>467</td><td>0</td><td>2</td><td>Campbell, Mr. William           </td><td>male  </td><td>  NA</td><td>0</td><td>0</td><td>239853         </td><td>0.0000</td><td>           </td><td>S</td><td>Mr      </td></tr>\n",
       "\t<tr><td>482</td><td>0</td><td>2</td><td>Frost, Mr. Anthony Wood \"Archie\"</td><td>male  </td><td>  NA</td><td>0</td><td>0</td><td>239854         </td><td>0.0000</td><td>           </td><td>S</td><td>Mr      </td></tr>\n",
       "\t<tr><td>598</td><td>0</td><td>3</td><td>Johnson, Mr. Alfred             </td><td>male  </td><td>49.0</td><td>0</td><td>0</td><td>LINE           </td><td>0.0000</td><td>           </td><td>S</td><td>Mr      </td></tr>\n",
       "\t<tr><td>634</td><td>0</td><td>1</td><td>Parr, Mr. William Henry Marsh   </td><td>male  </td><td>  NA</td><td>0</td><td>0</td><td>112052         </td><td>0.0000</td><td>           </td><td>S</td><td>Mr      </td></tr>\n",
       "\t<tr><td>675</td><td>0</td><td>2</td><td>Watson, Mr. Ennis Hastings      </td><td>male  </td><td>  NA</td><td>0</td><td>0</td><td>239856         </td><td>0.0000</td><td>           </td><td>S</td><td>Mr      </td></tr>\n",
       "\t<tr><td>733</td><td>0</td><td>2</td><td>Knight, Mr. Robert J            </td><td>male  </td><td>  NA</td><td>0</td><td>0</td><td>239855         </td><td>0.0000</td><td>           </td><td>S</td><td>Mr      </td></tr>\n",
       "\t<tr><td>807</td><td>0</td><td>1</td><td>Andrews, Mr. Thomas Jr          </td><td>male  </td><td>39.0</td><td>0</td><td>0</td><td>112050         </td><td>0.0000</td><td>A36        </td><td>S</td><td>Mr      </td></tr>\n",
       "\t<tr><td>816</td><td>0</td><td>1</td><td>Fry, Mr. Richard                </td><td>male  </td><td>  NA</td><td>0</td><td>0</td><td>112058         </td><td>0.0000</td><td>B102       </td><td>S</td><td>Mr      </td></tr>\n",
       "\t<tr><td>823</td><td>0</td><td>1</td><td>Reuchlin, Jonkheer. John George </td><td>male  </td><td>38.0</td><td>0</td><td>0</td><td>19972          </td><td>0.0000</td><td>           </td><td>S</td><td>Jonkheer</td></tr>\n",
       "</tbody>\n",
       "</table>\n"
      ],
      "text/latex": [
       "A data.frame: 891 × 13\n",
       "\\begin{tabular}{lllllllllllll}\n",
       " PassengerId & Survived & Pclass & Name & Sex & Age & SibSp & Parch & Ticket & Fare & Cabin & Embarked & Title\\\\\n",
       " <int> & <int> & <int> & <chr> & <chr> & <dbl> & <int> & <int> & <chr> & <dbl> & <chr> & <chr> & <chr>\\\\\n",
       "\\hline\n",
       "\t 259 & 1 & 1 & Ward, Miss. Anna                                      & female & 35.00 & 0 & 0 & PC 17755 & 512.3292 &                 & C & Miss  \\\\\n",
       "\t 680 & 1 & 1 & Cardeza, Mr. Thomas Drake Martinez                    & male   & 36.00 & 0 & 1 & PC 17755 & 512.3292 & B51 B53 B55     & C & Mr    \\\\\n",
       "\t 738 & 1 & 1 & Lesurer, Mr. Gustave J                                & male   & 35.00 & 0 & 0 & PC 17755 & 512.3292 & B101            & C & Mr    \\\\\n",
       "\t  28 & 0 & 1 & Fortune, Mr. Charles Alexander                        & male   & 19.00 & 3 & 2 & 19950    & 263.0000 & C23 C25 C27     & S & Mr    \\\\\n",
       "\t  89 & 1 & 1 & Fortune, Miss. Mabel Helen                            & female & 23.00 & 3 & 2 & 19950    & 263.0000 & C23 C25 C27     & S & Miss  \\\\\n",
       "\t 342 & 1 & 1 & Fortune, Miss. Alice Elizabeth                        & female & 24.00 & 3 & 2 & 19950    & 263.0000 & C23 C25 C27     & S & Miss  \\\\\n",
       "\t 439 & 0 & 1 & Fortune, Mr. Mark                                     & male   & 64.00 & 1 & 4 & 19950    & 263.0000 & C23 C25 C27     & S & Mr    \\\\\n",
       "\t 312 & 1 & 1 & Ryerson, Miss. Emily Borie                            & female & 18.00 & 2 & 2 & PC 17608 & 262.3750 & B57 B59 B63 B66 & C & Miss  \\\\\n",
       "\t 743 & 1 & 1 & Ryerson, Miss. Susan Parker \"Suzette\"                 & female & 21.00 & 2 & 2 & PC 17608 & 262.3750 & B57 B59 B63 B66 & C & Miss  \\\\\n",
       "\t 119 & 0 & 1 & Baxter, Mr. Quigg Edmond                              & male   & 24.00 & 0 & 1 & PC 17558 & 247.5208 & B58 B60         & C & Mr    \\\\\n",
       "\t 300 & 1 & 1 & Baxter, Mrs. James (Helene DeLaudeniere Chaput)       & female & 50.00 & 0 & 1 & PC 17558 & 247.5208 & B58 B60         & C & Mrs   \\\\\n",
       "\t 381 & 1 & 1 & Bidois, Miss. Rosalie                                 & female & 42.00 & 0 & 0 & PC 17757 & 227.5250 &                 & C & Miss  \\\\\n",
       "\t 558 & 0 & 1 & Robbins, Mr. Victor                                   & male   &    NA & 0 & 0 & PC 17757 & 227.5250 &                 & C & Mr    \\\\\n",
       "\t 701 & 1 & 1 & Astor, Mrs. John Jacob (Madeleine Talmadge Force)     & female & 18.00 & 1 & 0 & PC 17757 & 227.5250 & C62 C64         & C & Mrs   \\\\\n",
       "\t 717 & 1 & 1 & Endres, Miss. Caroline Louise                         & female & 38.00 & 0 & 0 & PC 17757 & 227.5250 & C45             & C & Miss  \\\\\n",
       "\t 528 & 0 & 1 & Farthing, Mr. John                                    & male   &    NA & 0 & 0 & PC 17483 & 221.7792 & C95             & S & Mr    \\\\\n",
       "\t 378 & 0 & 1 & Widener, Mr. Harry Elkins                             & male   & 27.00 & 0 & 2 & 113503   & 211.5000 & C82             & C & Mr    \\\\\n",
       "\t 690 & 1 & 1 & Madill, Miss. Georgette Alexandra                     & female & 15.00 & 0 & 1 & 24160    & 211.3375 & B5              & S & Miss  \\\\\n",
       "\t 731 & 1 & 1 & Allen, Miss. Elisabeth Walton                         & female & 29.00 & 0 & 0 & 24160    & 211.3375 & B5              & S & Miss  \\\\\n",
       "\t 780 & 1 & 1 & Robert, Mrs. Edward Scott (Elisabeth Walton McMillan) & female & 43.00 & 0 & 1 & 24160    & 211.3375 & B3              & S & Mrs   \\\\\n",
       "\t 319 & 1 & 1 & Wick, Miss. Mary Natalie                              & female & 31.00 & 0 & 2 & 36928    & 164.8667 & C7              & S & Miss  \\\\\n",
       "\t 857 & 1 & 1 & Wick, Mrs. George Dennick (Mary Hitchcock)            & female & 45.00 & 1 & 1 & 36928    & 164.8667 &                 & S & Mrs   \\\\\n",
       "\t 269 & 1 & 1 & Graham, Mrs. William Thompson (Edith Junkins)         & female & 58.00 & 0 & 1 & PC 17582 & 153.4625 & C125            & S & Mrs   \\\\\n",
       "\t 333 & 0 & 1 & Graham, Mr. George Edward                             & male   & 38.00 & 0 & 1 & PC 17582 & 153.4625 & C91             & S & Mr    \\\\\n",
       "\t 610 & 1 & 1 & Shutes, Miss. Elizabeth W                             & female & 40.00 & 0 & 0 & PC 17582 & 153.4625 & C125            & S & Miss  \\\\\n",
       "\t 298 & 0 & 1 & Allison, Miss. Helen Loraine                          & female &  2.00 & 1 & 2 & 113781   & 151.5500 & C22 C26         & S & Miss  \\\\\n",
       "\t 306 & 1 & 1 & Allison, Master. Hudson Trevor                        & male   &  0.92 & 1 & 2 & 113781   & 151.5500 & C22 C26         & S & Master\\\\\n",
       "\t 499 & 0 & 1 & Allison, Mrs. Hudson J C (Bessie Waldo Daniels)       & female & 25.00 & 1 & 2 & 113781   & 151.5500 & C22 C26         & S & Mrs   \\\\\n",
       "\t 709 & 1 & 1 & Cleaver, Miss. Alice                                  & female & 22.00 & 0 & 0 & 113781   & 151.5500 &                 & S & Miss  \\\\\n",
       "\t  32 & 1 & 1 & Spencer, Mrs. William Augustus (Marie Eugenie)        & female &    NA & 1 & 0 & PC 17569 & 146.5208 & B78             & C & Mrs   \\\\\n",
       "\t ⋮ & ⋮ & ⋮ & ⋮ & ⋮ & ⋮ & ⋮ & ⋮ & ⋮ & ⋮ & ⋮ & ⋮ & ⋮\\\\\n",
       "\t 885 & 0 & 3 & Sutehall, Mr. Henry Jr           & male   & 25.0 & 0 & 0 & SOTON/OQ 392076 & 7.0500 &             & S & Mr      \\\\\n",
       "\t 478 & 0 & 3 & Braund, Mr. Lewis Richard        & male   & 29.0 & 1 & 0 & 3460            & 7.0458 &             & S & Mr      \\\\\n",
       "\t 130 & 0 & 3 & Ekstrom, Mr. Johan               & male   & 45.0 & 0 & 0 & 347061          & 6.9750 &             & S & Mr      \\\\\n",
       "\t 805 & 1 & 3 & Hedman, Mr. Oskar Arvid          & male   & 27.0 & 0 & 0 & 347089          & 6.9750 &             & S & Mr      \\\\\n",
       "\t 826 & 0 & 3 & Flynn, Mr. John                  & male   &   NA & 0 & 0 & 368323          & 6.9500 &             & Q & Mr      \\\\\n",
       "\t 412 & 0 & 3 & Hart, Mr. Henry                  & male   &   NA & 0 & 0 & 394140          & 6.8583 &             & Q & Mr      \\\\\n",
       "\t 144 & 0 & 3 & Burke, Mr. Jeremiah              & male   & 19.0 & 0 & 0 & 365222          & 6.7500 &             & Q & Mr      \\\\\n",
       "\t 655 & 0 & 3 & Hegarty, Miss. Hanora \"Nora\"     & female & 18.0 & 0 & 0 & 365226          & 6.7500 &             & Q & Miss    \\\\\n",
       "\t 203 & 0 & 3 & Johanson, Mr. Jakob Alfred       & male   & 34.0 & 0 & 0 & 3101264         & 6.4958 &             & S & Mr      \\\\\n",
       "\t 372 & 0 & 3 & Wiklund, Mr. Jakob Alfred        & male   & 18.0 & 1 & 0 & 3101267         & 6.4958 &             & S & Mr      \\\\\n",
       "\t 819 & 0 & 3 & Holm, Mr. John Fredrik Alexander & male   & 43.0 & 0 & 0 & C 7075          & 6.4500 &             & S & Mr      \\\\\n",
       "\t 844 & 0 & 3 & Lemberopolous, Mr. Peter L       & male   & 34.5 & 0 & 0 & 2683            & 6.4375 &             & C & Mr      \\\\\n",
       "\t 327 & 0 & 3 & Nysveen, Mr. Johan Hansen        & male   & 61.0 & 0 & 0 & 345364          & 6.2375 &             & S & Mr      \\\\\n",
       "\t 873 & 0 & 1 & Carlsson, Mr. Frans Olof         & male   & 33.0 & 0 & 0 & 695             & 5.0000 & B51 B53 B55 & S & Mr      \\\\\n",
       "\t 379 & 0 & 3 & Betros, Mr. Tannous              & male   & 20.0 & 0 & 0 & 2648            & 4.0125 &             & C & Mr      \\\\\n",
       "\t 180 & 0 & 3 & Leonard, Mr. Lionel              & male   & 36.0 & 0 & 0 & LINE            & 0.0000 &             & S & Mr      \\\\\n",
       "\t 264 & 0 & 1 & Harrison, Mr. William            & male   & 40.0 & 0 & 0 & 112059          & 0.0000 & B94         & S & Mr      \\\\\n",
       "\t 272 & 1 & 3 & Tornquist, Mr. William Henry     & male   & 25.0 & 0 & 0 & LINE            & 0.0000 &             & S & Mr      \\\\\n",
       "\t 278 & 0 & 2 & Parkes, Mr. Francis \"Frank\"      & male   &   NA & 0 & 0 & 239853          & 0.0000 &             & S & Mr      \\\\\n",
       "\t 303 & 0 & 3 & Johnson, Mr. William Cahoone Jr  & male   & 19.0 & 0 & 0 & LINE            & 0.0000 &             & S & Mr      \\\\\n",
       "\t 414 & 0 & 2 & Cunningham, Mr. Alfred Fleming   & male   &   NA & 0 & 0 & 239853          & 0.0000 &             & S & Mr      \\\\\n",
       "\t 467 & 0 & 2 & Campbell, Mr. William            & male   &   NA & 0 & 0 & 239853          & 0.0000 &             & S & Mr      \\\\\n",
       "\t 482 & 0 & 2 & Frost, Mr. Anthony Wood \"Archie\" & male   &   NA & 0 & 0 & 239854          & 0.0000 &             & S & Mr      \\\\\n",
       "\t 598 & 0 & 3 & Johnson, Mr. Alfred              & male   & 49.0 & 0 & 0 & LINE            & 0.0000 &             & S & Mr      \\\\\n",
       "\t 634 & 0 & 1 & Parr, Mr. William Henry Marsh    & male   &   NA & 0 & 0 & 112052          & 0.0000 &             & S & Mr      \\\\\n",
       "\t 675 & 0 & 2 & Watson, Mr. Ennis Hastings       & male   &   NA & 0 & 0 & 239856          & 0.0000 &             & S & Mr      \\\\\n",
       "\t 733 & 0 & 2 & Knight, Mr. Robert J             & male   &   NA & 0 & 0 & 239855          & 0.0000 &             & S & Mr      \\\\\n",
       "\t 807 & 0 & 1 & Andrews, Mr. Thomas Jr           & male   & 39.0 & 0 & 0 & 112050          & 0.0000 & A36         & S & Mr      \\\\\n",
       "\t 816 & 0 & 1 & Fry, Mr. Richard                 & male   &   NA & 0 & 0 & 112058          & 0.0000 & B102        & S & Mr      \\\\\n",
       "\t 823 & 0 & 1 & Reuchlin, Jonkheer. John George  & male   & 38.0 & 0 & 0 & 19972           & 0.0000 &             & S & Jonkheer\\\\\n",
       "\\end{tabular}\n"
      ],
      "text/markdown": [
       "\n",
       "A data.frame: 891 × 13\n",
       "\n",
       "| PassengerId &lt;int&gt; | Survived &lt;int&gt; | Pclass &lt;int&gt; | Name &lt;chr&gt; | Sex &lt;chr&gt; | Age &lt;dbl&gt; | SibSp &lt;int&gt; | Parch &lt;int&gt; | Ticket &lt;chr&gt; | Fare &lt;dbl&gt; | Cabin &lt;chr&gt; | Embarked &lt;chr&gt; | Title &lt;chr&gt; |\n",
       "|---|---|---|---|---|---|---|---|---|---|---|---|---|\n",
       "| 259 | 1 | 1 | Ward, Miss. Anna                                      | female | 35.00 | 0 | 0 | PC 17755 | 512.3292 | <!----> | C | Miss   |\n",
       "| 680 | 1 | 1 | Cardeza, Mr. Thomas Drake Martinez                    | male   | 36.00 | 0 | 1 | PC 17755 | 512.3292 | B51 B53 B55     | C | Mr     |\n",
       "| 738 | 1 | 1 | Lesurer, Mr. Gustave J                                | male   | 35.00 | 0 | 0 | PC 17755 | 512.3292 | B101            | C | Mr     |\n",
       "|  28 | 0 | 1 | Fortune, Mr. Charles Alexander                        | male   | 19.00 | 3 | 2 | 19950    | 263.0000 | C23 C25 C27     | S | Mr     |\n",
       "|  89 | 1 | 1 | Fortune, Miss. Mabel Helen                            | female | 23.00 | 3 | 2 | 19950    | 263.0000 | C23 C25 C27     | S | Miss   |\n",
       "| 342 | 1 | 1 | Fortune, Miss. Alice Elizabeth                        | female | 24.00 | 3 | 2 | 19950    | 263.0000 | C23 C25 C27     | S | Miss   |\n",
       "| 439 | 0 | 1 | Fortune, Mr. Mark                                     | male   | 64.00 | 1 | 4 | 19950    | 263.0000 | C23 C25 C27     | S | Mr     |\n",
       "| 312 | 1 | 1 | Ryerson, Miss. Emily Borie                            | female | 18.00 | 2 | 2 | PC 17608 | 262.3750 | B57 B59 B63 B66 | C | Miss   |\n",
       "| 743 | 1 | 1 | Ryerson, Miss. Susan Parker \"Suzette\"                 | female | 21.00 | 2 | 2 | PC 17608 | 262.3750 | B57 B59 B63 B66 | C | Miss   |\n",
       "| 119 | 0 | 1 | Baxter, Mr. Quigg Edmond                              | male   | 24.00 | 0 | 1 | PC 17558 | 247.5208 | B58 B60         | C | Mr     |\n",
       "| 300 | 1 | 1 | Baxter, Mrs. James (Helene DeLaudeniere Chaput)       | female | 50.00 | 0 | 1 | PC 17558 | 247.5208 | B58 B60         | C | Mrs    |\n",
       "| 381 | 1 | 1 | Bidois, Miss. Rosalie                                 | female | 42.00 | 0 | 0 | PC 17757 | 227.5250 | <!----> | C | Miss   |\n",
       "| 558 | 0 | 1 | Robbins, Mr. Victor                                   | male   |    NA | 0 | 0 | PC 17757 | 227.5250 | <!----> | C | Mr     |\n",
       "| 701 | 1 | 1 | Astor, Mrs. John Jacob (Madeleine Talmadge Force)     | female | 18.00 | 1 | 0 | PC 17757 | 227.5250 | C62 C64         | C | Mrs    |\n",
       "| 717 | 1 | 1 | Endres, Miss. Caroline Louise                         | female | 38.00 | 0 | 0 | PC 17757 | 227.5250 | C45             | C | Miss   |\n",
       "| 528 | 0 | 1 | Farthing, Mr. John                                    | male   |    NA | 0 | 0 | PC 17483 | 221.7792 | C95             | S | Mr     |\n",
       "| 378 | 0 | 1 | Widener, Mr. Harry Elkins                             | male   | 27.00 | 0 | 2 | 113503   | 211.5000 | C82             | C | Mr     |\n",
       "| 690 | 1 | 1 | Madill, Miss. Georgette Alexandra                     | female | 15.00 | 0 | 1 | 24160    | 211.3375 | B5              | S | Miss   |\n",
       "| 731 | 1 | 1 | Allen, Miss. Elisabeth Walton                         | female | 29.00 | 0 | 0 | 24160    | 211.3375 | B5              | S | Miss   |\n",
       "| 780 | 1 | 1 | Robert, Mrs. Edward Scott (Elisabeth Walton McMillan) | female | 43.00 | 0 | 1 | 24160    | 211.3375 | B3              | S | Mrs    |\n",
       "| 319 | 1 | 1 | Wick, Miss. Mary Natalie                              | female | 31.00 | 0 | 2 | 36928    | 164.8667 | C7              | S | Miss   |\n",
       "| 857 | 1 | 1 | Wick, Mrs. George Dennick (Mary Hitchcock)            | female | 45.00 | 1 | 1 | 36928    | 164.8667 | <!----> | S | Mrs    |\n",
       "| 269 | 1 | 1 | Graham, Mrs. William Thompson (Edith Junkins)         | female | 58.00 | 0 | 1 | PC 17582 | 153.4625 | C125            | S | Mrs    |\n",
       "| 333 | 0 | 1 | Graham, Mr. George Edward                             | male   | 38.00 | 0 | 1 | PC 17582 | 153.4625 | C91             | S | Mr     |\n",
       "| 610 | 1 | 1 | Shutes, Miss. Elizabeth W                             | female | 40.00 | 0 | 0 | PC 17582 | 153.4625 | C125            | S | Miss   |\n",
       "| 298 | 0 | 1 | Allison, Miss. Helen Loraine                          | female |  2.00 | 1 | 2 | 113781   | 151.5500 | C22 C26         | S | Miss   |\n",
       "| 306 | 1 | 1 | Allison, Master. Hudson Trevor                        | male   |  0.92 | 1 | 2 | 113781   | 151.5500 | C22 C26         | S | Master |\n",
       "| 499 | 0 | 1 | Allison, Mrs. Hudson J C (Bessie Waldo Daniels)       | female | 25.00 | 1 | 2 | 113781   | 151.5500 | C22 C26         | S | Mrs    |\n",
       "| 709 | 1 | 1 | Cleaver, Miss. Alice                                  | female | 22.00 | 0 | 0 | 113781   | 151.5500 | <!----> | S | Miss   |\n",
       "|  32 | 1 | 1 | Spencer, Mrs. William Augustus (Marie Eugenie)        | female |    NA | 1 | 0 | PC 17569 | 146.5208 | B78             | C | Mrs    |\n",
       "| ⋮ | ⋮ | ⋮ | ⋮ | ⋮ | ⋮ | ⋮ | ⋮ | ⋮ | ⋮ | ⋮ | ⋮ | ⋮ |\n",
       "| 885 | 0 | 3 | Sutehall, Mr. Henry Jr           | male   | 25.0 | 0 | 0 | SOTON/OQ 392076 | 7.0500 | <!----> | S | Mr       |\n",
       "| 478 | 0 | 3 | Braund, Mr. Lewis Richard        | male   | 29.0 | 1 | 0 | 3460            | 7.0458 | <!----> | S | Mr       |\n",
       "| 130 | 0 | 3 | Ekstrom, Mr. Johan               | male   | 45.0 | 0 | 0 | 347061          | 6.9750 | <!----> | S | Mr       |\n",
       "| 805 | 1 | 3 | Hedman, Mr. Oskar Arvid          | male   | 27.0 | 0 | 0 | 347089          | 6.9750 | <!----> | S | Mr       |\n",
       "| 826 | 0 | 3 | Flynn, Mr. John                  | male   |   NA | 0 | 0 | 368323          | 6.9500 | <!----> | Q | Mr       |\n",
       "| 412 | 0 | 3 | Hart, Mr. Henry                  | male   |   NA | 0 | 0 | 394140          | 6.8583 | <!----> | Q | Mr       |\n",
       "| 144 | 0 | 3 | Burke, Mr. Jeremiah              | male   | 19.0 | 0 | 0 | 365222          | 6.7500 | <!----> | Q | Mr       |\n",
       "| 655 | 0 | 3 | Hegarty, Miss. Hanora \"Nora\"     | female | 18.0 | 0 | 0 | 365226          | 6.7500 | <!----> | Q | Miss     |\n",
       "| 203 | 0 | 3 | Johanson, Mr. Jakob Alfred       | male   | 34.0 | 0 | 0 | 3101264         | 6.4958 | <!----> | S | Mr       |\n",
       "| 372 | 0 | 3 | Wiklund, Mr. Jakob Alfred        | male   | 18.0 | 1 | 0 | 3101267         | 6.4958 | <!----> | S | Mr       |\n",
       "| 819 | 0 | 3 | Holm, Mr. John Fredrik Alexander | male   | 43.0 | 0 | 0 | C 7075          | 6.4500 | <!----> | S | Mr       |\n",
       "| 844 | 0 | 3 | Lemberopolous, Mr. Peter L       | male   | 34.5 | 0 | 0 | 2683            | 6.4375 | <!----> | C | Mr       |\n",
       "| 327 | 0 | 3 | Nysveen, Mr. Johan Hansen        | male   | 61.0 | 0 | 0 | 345364          | 6.2375 | <!----> | S | Mr       |\n",
       "| 873 | 0 | 1 | Carlsson, Mr. Frans Olof         | male   | 33.0 | 0 | 0 | 695             | 5.0000 | B51 B53 B55 | S | Mr       |\n",
       "| 379 | 0 | 3 | Betros, Mr. Tannous              | male   | 20.0 | 0 | 0 | 2648            | 4.0125 | <!----> | C | Mr       |\n",
       "| 180 | 0 | 3 | Leonard, Mr. Lionel              | male   | 36.0 | 0 | 0 | LINE            | 0.0000 | <!----> | S | Mr       |\n",
       "| 264 | 0 | 1 | Harrison, Mr. William            | male   | 40.0 | 0 | 0 | 112059          | 0.0000 | B94         | S | Mr       |\n",
       "| 272 | 1 | 3 | Tornquist, Mr. William Henry     | male   | 25.0 | 0 | 0 | LINE            | 0.0000 | <!----> | S | Mr       |\n",
       "| 278 | 0 | 2 | Parkes, Mr. Francis \"Frank\"      | male   |   NA | 0 | 0 | 239853          | 0.0000 | <!----> | S | Mr       |\n",
       "| 303 | 0 | 3 | Johnson, Mr. William Cahoone Jr  | male   | 19.0 | 0 | 0 | LINE            | 0.0000 | <!----> | S | Mr       |\n",
       "| 414 | 0 | 2 | Cunningham, Mr. Alfred Fleming   | male   |   NA | 0 | 0 | 239853          | 0.0000 | <!----> | S | Mr       |\n",
       "| 467 | 0 | 2 | Campbell, Mr. William            | male   |   NA | 0 | 0 | 239853          | 0.0000 | <!----> | S | Mr       |\n",
       "| 482 | 0 | 2 | Frost, Mr. Anthony Wood \"Archie\" | male   |   NA | 0 | 0 | 239854          | 0.0000 | <!----> | S | Mr       |\n",
       "| 598 | 0 | 3 | Johnson, Mr. Alfred              | male   | 49.0 | 0 | 0 | LINE            | 0.0000 | <!----> | S | Mr       |\n",
       "| 634 | 0 | 1 | Parr, Mr. William Henry Marsh    | male   |   NA | 0 | 0 | 112052          | 0.0000 | <!----> | S | Mr       |\n",
       "| 675 | 0 | 2 | Watson, Mr. Ennis Hastings       | male   |   NA | 0 | 0 | 239856          | 0.0000 | <!----> | S | Mr       |\n",
       "| 733 | 0 | 2 | Knight, Mr. Robert J             | male   |   NA | 0 | 0 | 239855          | 0.0000 | <!----> | S | Mr       |\n",
       "| 807 | 0 | 1 | Andrews, Mr. Thomas Jr           | male   | 39.0 | 0 | 0 | 112050          | 0.0000 | A36         | S | Mr       |\n",
       "| 816 | 0 | 1 | Fry, Mr. Richard                 | male   |   NA | 0 | 0 | 112058          | 0.0000 | B102        | S | Mr       |\n",
       "| 823 | 0 | 1 | Reuchlin, Jonkheer. John George  | male   | 38.0 | 0 | 0 | 19972           | 0.0000 | <!----> | S | Jonkheer |\n",
       "\n"
      ],
      "text/plain": [
       "    PassengerId Survived Pclass\n",
       "1   259         1        1     \n",
       "2   680         1        1     \n",
       "3   738         1        1     \n",
       "4    28         0        1     \n",
       "5    89         1        1     \n",
       "6   342         1        1     \n",
       "7   439         0        1     \n",
       "8   312         1        1     \n",
       "9   743         1        1     \n",
       "10  119         0        1     \n",
       "11  300         1        1     \n",
       "12  381         1        1     \n",
       "13  558         0        1     \n",
       "14  701         1        1     \n",
       "15  717         1        1     \n",
       "16  528         0        1     \n",
       "17  378         0        1     \n",
       "18  690         1        1     \n",
       "19  731         1        1     \n",
       "20  780         1        1     \n",
       "21  319         1        1     \n",
       "22  857         1        1     \n",
       "23  269         1        1     \n",
       "24  333         0        1     \n",
       "25  610         1        1     \n",
       "26  298         0        1     \n",
       "27  306         1        1     \n",
       "28  499         0        1     \n",
       "29  709         1        1     \n",
       "30   32         1        1     \n",
       "<U+22EE>   <U+22EE>    <U+22EE> <U+22EE>\n",
       "862 885         0        3     \n",
       "863 478         0        3     \n",
       "864 130         0        3     \n",
       "865 805         1        3     \n",
       "866 826         0        3     \n",
       "867 412         0        3     \n",
       "868 144         0        3     \n",
       "869 655         0        3     \n",
       "870 203         0        3     \n",
       "871 372         0        3     \n",
       "872 819         0        3     \n",
       "873 844         0        3     \n",
       "874 327         0        3     \n",
       "875 873         0        1     \n",
       "876 379         0        3     \n",
       "877 180         0        3     \n",
       "878 264         0        1     \n",
       "879 272         1        3     \n",
       "880 278         0        2     \n",
       "881 303         0        3     \n",
       "882 414         0        2     \n",
       "883 467         0        2     \n",
       "884 482         0        2     \n",
       "885 598         0        3     \n",
       "886 634         0        1     \n",
       "887 675         0        2     \n",
       "888 733         0        2     \n",
       "889 807         0        1     \n",
       "890 816         0        1     \n",
       "891 823         0        1     \n",
       "    Name                                                  Sex    Age   SibSp\n",
       "1   Ward, Miss. Anna                                      female 35.00 0    \n",
       "2   Cardeza, Mr. Thomas Drake Martinez                    male   36.00 0    \n",
       "3   Lesurer, Mr. Gustave J                                male   35.00 0    \n",
       "4   Fortune, Mr. Charles Alexander                        male   19.00 3    \n",
       "5   Fortune, Miss. Mabel Helen                            female 23.00 3    \n",
       "6   Fortune, Miss. Alice Elizabeth                        female 24.00 3    \n",
       "7   Fortune, Mr. Mark                                     male   64.00 1    \n",
       "8   Ryerson, Miss. Emily Borie                            female 18.00 2    \n",
       "9   Ryerson, Miss. Susan Parker \"Suzette\"                 female 21.00 2    \n",
       "10  Baxter, Mr. Quigg Edmond                              male   24.00 0    \n",
       "11  Baxter, Mrs. James (Helene DeLaudeniere Chaput)       female 50.00 0    \n",
       "12  Bidois, Miss. Rosalie                                 female 42.00 0    \n",
       "13  Robbins, Mr. Victor                                   male      NA 0    \n",
       "14  Astor, Mrs. John Jacob (Madeleine Talmadge Force)     female 18.00 1    \n",
       "15  Endres, Miss. Caroline Louise                         female 38.00 0    \n",
       "16  Farthing, Mr. John                                    male      NA 0    \n",
       "17  Widener, Mr. Harry Elkins                             male   27.00 0    \n",
       "18  Madill, Miss. Georgette Alexandra                     female 15.00 0    \n",
       "19  Allen, Miss. Elisabeth Walton                         female 29.00 0    \n",
       "20  Robert, Mrs. Edward Scott (Elisabeth Walton McMillan) female 43.00 0    \n",
       "21  Wick, Miss. Mary Natalie                              female 31.00 0    \n",
       "22  Wick, Mrs. George Dennick (Mary Hitchcock)            female 45.00 1    \n",
       "23  Graham, Mrs. William Thompson (Edith Junkins)         female 58.00 0    \n",
       "24  Graham, Mr. George Edward                             male   38.00 0    \n",
       "25  Shutes, Miss. Elizabeth W                             female 40.00 0    \n",
       "26  Allison, Miss. Helen Loraine                          female  2.00 1    \n",
       "27  Allison, Master. Hudson Trevor                        male    0.92 1    \n",
       "28  Allison, Mrs. Hudson J C (Bessie Waldo Daniels)       female 25.00 1    \n",
       "29  Cleaver, Miss. Alice                                  female 22.00 0    \n",
       "30  Spencer, Mrs. William Augustus (Marie Eugenie)        female    NA 1    \n",
       "<U+22EE>   <U+22EE>                                              <U+22EE> <U+22EE> <U+22EE>\n",
       "862 Sutehall, Mr. Henry Jr                                male   25.0  0    \n",
       "863 Braund, Mr. Lewis Richard                             male   29.0  1    \n",
       "864 Ekstrom, Mr. Johan                                    male   45.0  0    \n",
       "865 Hedman, Mr. Oskar Arvid                               male   27.0  0    \n",
       "866 Flynn, Mr. John                                       male     NA  0    \n",
       "867 Hart, Mr. Henry                                       male     NA  0    \n",
       "868 Burke, Mr. Jeremiah                                   male   19.0  0    \n",
       "869 Hegarty, Miss. Hanora \"Nora\"                          female 18.0  0    \n",
       "870 Johanson, Mr. Jakob Alfred                            male   34.0  0    \n",
       "871 Wiklund, Mr. Jakob Alfred                             male   18.0  1    \n",
       "872 Holm, Mr. John Fredrik Alexander                      male   43.0  0    \n",
       "873 Lemberopolous, Mr. Peter L                            male   34.5  0    \n",
       "874 Nysveen, Mr. Johan Hansen                             male   61.0  0    \n",
       "875 Carlsson, Mr. Frans Olof                              male   33.0  0    \n",
       "876 Betros, Mr. Tannous                                   male   20.0  0    \n",
       "877 Leonard, Mr. Lionel                                   male   36.0  0    \n",
       "878 Harrison, Mr. William                                 male   40.0  0    \n",
       "879 Tornquist, Mr. William Henry                          male   25.0  0    \n",
       "880 Parkes, Mr. Francis \"Frank\"                           male     NA  0    \n",
       "881 Johnson, Mr. William Cahoone Jr                       male   19.0  0    \n",
       "882 Cunningham, Mr. Alfred Fleming                        male     NA  0    \n",
       "883 Campbell, Mr. William                                 male     NA  0    \n",
       "884 Frost, Mr. Anthony Wood \"Archie\"                      male     NA  0    \n",
       "885 Johnson, Mr. Alfred                                   male   49.0  0    \n",
       "886 Parr, Mr. William Henry Marsh                         male     NA  0    \n",
       "887 Watson, Mr. Ennis Hastings                            male     NA  0    \n",
       "888 Knight, Mr. Robert J                                  male     NA  0    \n",
       "889 Andrews, Mr. Thomas Jr                                male   39.0  0    \n",
       "890 Fry, Mr. Richard                                      male     NA  0    \n",
       "891 Reuchlin, Jonkheer. John George                       male   38.0  0    \n",
       "    Parch Ticket          Fare     Cabin           Embarked Title   \n",
       "1   0     PC 17755        512.3292                 C        Miss    \n",
       "2   1     PC 17755        512.3292 B51 B53 B55     C        Mr      \n",
       "3   0     PC 17755        512.3292 B101            C        Mr      \n",
       "4   2     19950           263.0000 C23 C25 C27     S        Mr      \n",
       "5   2     19950           263.0000 C23 C25 C27     S        Miss    \n",
       "6   2     19950           263.0000 C23 C25 C27     S        Miss    \n",
       "7   4     19950           263.0000 C23 C25 C27     S        Mr      \n",
       "8   2     PC 17608        262.3750 B57 B59 B63 B66 C        Miss    \n",
       "9   2     PC 17608        262.3750 B57 B59 B63 B66 C        Miss    \n",
       "10  1     PC 17558        247.5208 B58 B60         C        Mr      \n",
       "11  1     PC 17558        247.5208 B58 B60         C        Mrs     \n",
       "12  0     PC 17757        227.5250                 C        Miss    \n",
       "13  0     PC 17757        227.5250                 C        Mr      \n",
       "14  0     PC 17757        227.5250 C62 C64         C        Mrs     \n",
       "15  0     PC 17757        227.5250 C45             C        Miss    \n",
       "16  0     PC 17483        221.7792 C95             S        Mr      \n",
       "17  2     113503          211.5000 C82             C        Mr      \n",
       "18  1     24160           211.3375 B5              S        Miss    \n",
       "19  0     24160           211.3375 B5              S        Miss    \n",
       "20  1     24160           211.3375 B3              S        Mrs     \n",
       "21  2     36928           164.8667 C7              S        Miss    \n",
       "22  1     36928           164.8667                 S        Mrs     \n",
       "23  1     PC 17582        153.4625 C125            S        Mrs     \n",
       "24  1     PC 17582        153.4625 C91             S        Mr      \n",
       "25  0     PC 17582        153.4625 C125            S        Miss    \n",
       "26  2     113781          151.5500 C22 C26         S        Miss    \n",
       "27  2     113781          151.5500 C22 C26         S        Master  \n",
       "28  2     113781          151.5500 C22 C26         S        Mrs     \n",
       "29  0     113781          151.5500                 S        Miss    \n",
       "30  0     PC 17569        146.5208 B78             C        Mrs     \n",
       "<U+22EE>   <U+22EE> <U+22EE>        <U+22EE> <U+22EE>        <U+22EE> <U+22EE>\n",
       "862 0     SOTON/OQ 392076 7.0500                   S        Mr      \n",
       "863 0     3460            7.0458                   S        Mr      \n",
       "864 0     347061          6.9750                   S        Mr      \n",
       "865 0     347089          6.9750                   S        Mr      \n",
       "866 0     368323          6.9500                   Q        Mr      \n",
       "867 0     394140          6.8583                   Q        Mr      \n",
       "868 0     365222          6.7500                   Q        Mr      \n",
       "869 0     365226          6.7500                   Q        Miss    \n",
       "870 0     3101264         6.4958                   S        Mr      \n",
       "871 0     3101267         6.4958                   S        Mr      \n",
       "872 0     C 7075          6.4500                   S        Mr      \n",
       "873 0     2683            6.4375                   C        Mr      \n",
       "874 0     345364          6.2375                   S        Mr      \n",
       "875 0     695             5.0000   B51 B53 B55     S        Mr      \n",
       "876 0     2648            4.0125                   C        Mr      \n",
       "877 0     LINE            0.0000                   S        Mr      \n",
       "878 0     112059          0.0000   B94             S        Mr      \n",
       "879 0     LINE            0.0000                   S        Mr      \n",
       "880 0     239853          0.0000                   S        Mr      \n",
       "881 0     LINE            0.0000                   S        Mr      \n",
       "882 0     239853          0.0000                   S        Mr      \n",
       "883 0     239853          0.0000                   S        Mr      \n",
       "884 0     239854          0.0000                   S        Mr      \n",
       "885 0     LINE            0.0000                   S        Mr      \n",
       "886 0     112052          0.0000                   S        Mr      \n",
       "887 0     239856          0.0000                   S        Mr      \n",
       "888 0     239855          0.0000                   S        Mr      \n",
       "889 0     112050          0.0000   A36             S        Mr      \n",
       "890 0     112058          0.0000   B102            S        Mr      \n",
       "891 0     19972           0.0000                   S        Jonkheer"
      ]
     },
     "metadata": {},
     "output_type": "display_data"
    }
   ],
   "source": [
    "train %>% \n",
    "  arrange(desc(Fare))"
   ]
  },
  {
   "cell_type": "markdown",
   "id": "6eda9ad3-cf16-4ff7-a5d5-3e3361d3713f",
   "metadata": {},
   "source": [
    "## Creating new variables using `mutate` ## "
   ]
  },
  {
   "cell_type": "markdown",
   "id": "34bd3de1-36e6-4eb8-b8c0-349c2f146fd3",
   "metadata": {},
   "source": [
    "We can also create new variables to add to our dataset, to give us new insights."
   ]
  },
  {
   "cell_type": "markdown",
   "id": "7260930e-2632-4476-b068-8e7a1d1a7348",
   "metadata": {},
   "source": [
    "We know that the variable \"Parch\" is the number of parents and children while \"SibSp\" is the number of siblings and spouses. \n",
    "\n",
    "We can add these together to c a new variable \"FamSize\". To do so, we `mutate` the original variables into the new one."
   ]
  },
  {
   "cell_type": "markdown",
   "id": "987b4a4f-340f-4c09-910d-50607324bf2c",
   "metadata": {},
   "source": [
    "Create new column `FamSize` (size of family)"
   ]
  },
  {
   "cell_type": "code",
   "execution_count": null,
   "id": "886858bb-3088-45d6-ac9a-d940e512d3ea",
   "metadata": {},
   "outputs": [],
   "source": [
    "train %>% \n",
    "  mutate(FamSize = Parch + SibSp)"
   ]
  },
  {
   "cell_type": "markdown",
   "id": "ee5ec25c-a015-4aab-8ed4-b330b4eb9597",
   "metadata": {},
   "source": [
    "**Is it possible that larger families have a lower rate of survival?**"
   ]
  },
  {
   "cell_type": "markdown",
   "id": "94b943e2-f6a1-4c38-8168-534f61a61976",
   "metadata": {},
   "source": [
    "To test this, we can use our new variable \"FamSize\" and arrange by decreasing \"FamSize\"."
   ]
  },
  {
   "cell_type": "code",
   "execution_count": null,
   "id": "a17b5d5e-a7de-49c6-b8e3-6d937338bd19",
   "metadata": {},
   "outputs": [],
   "source": [
    "train %>% \n",
    "  mutate(FamSize = Parch + SibSp) %>% \n",
    "  arrange(desc(FamSize))"
   ]
  },
  {
   "cell_type": "markdown",
   "id": "c6e4ccd2-3d3c-40f4-b3b0-f599848c08e7",
   "metadata": {},
   "source": [
    "**Does our data give us any indication about whether larger families had an impact on the chance of survival or not?**"
   ]
  },
  {
   "cell_type": "markdown",
   "id": "b6804190-2c3f-4c4f-93bb-af37bafd4797",
   "metadata": {},
   "source": [
    "From the data we can see, some families had 7 or 10 members on-board, and all of the largest families we can see did not survive.\n",
    "\n",
    "We can also use `mutate` to amend existing columns, we might want to re-assign 0 and 1 in the \"Survived\" column to a Yes or No."
   ]
  },
  {
   "cell_type": "markdown",
   "id": "029c8aa9-9d50-41bf-a84b-63b10afb2196",
   "metadata": {},
   "source": [
    "Turn numerical values of Survived column to \"No\" & \"Yes\" (but assign to a new dataframe)"
   ]
  },
  {
   "cell_type": "code",
   "execution_count": null,
   "id": "06d75901-82df-446c-8869-cf0e93ad3ed9",
   "metadata": {},
   "outputs": [],
   "source": [
    "survived <- train %>%\n",
    "  mutate(Survived = ifelse(Survived == 0, \"No\", \"Yes\"))"
   ]
  },
  {
   "cell_type": "code",
   "execution_count": null,
   "id": "4a196233-0af5-4b44-9d4d-706b0a3d4aa5",
   "metadata": {},
   "outputs": [],
   "source": [
    "head(survived)"
   ]
  },
  {
   "cell_type": "markdown",
   "id": "47391eef-0347-4d93-9d22-0ff5ed9b847a",
   "metadata": {},
   "source": [
    "Notice that the Survived column has amended 0 to No, and 1 to Yes, which makes the dataset a little more user-friendly."
   ]
  },
  {
   "cell_type": "markdown",
   "id": "3c74f01f-40ee-4c37-9ac7-a3c0541ecc01",
   "metadata": {},
   "source": [
    "**Recap:**\n",
    "\n",
    "* We've imported our Titanic data and viewed some of the data\n",
    "* We've used the pipe operator `%>%`\n",
    "* We can now use `dplyr` to wrangle our data to `filter`, `arrange` and create new features by `mutating` existing ones.\n",
    "\n",
    "**Next:**\n",
    "\n",
    "* We'll plot our data using `ggplot2` to get a visual view to derive new insights."
   ]
  },
  {
   "cell_type": "markdown",
   "id": "dfde3013-8007-498d-99f5-7d110d2c63db",
   "metadata": {},
   "source": [
    "## Plotting data"
   ]
  },
  {
   "cell_type": "markdown",
   "id": "db08eaee-6b30-4370-b92e-fd373b59ccb2",
   "metadata": {},
   "source": [
    "To plot our data using `ggplot2`, we need to specify three things:\n",
    "\n",
    "* Data\n",
    "* Aesthetics (e.g. what's on the x-axis and y-axis)\n",
    "* Plot (e.g. barplot, scatterplot)\n",
    "\n",
    "**About ggplot:**\n",
    "\n",
    "* We can read the `ggplot2` code like a sentence to understand what is happening: \n",
    "\n",
    "`ggplot(train, aes(x = Age, y = Fare)) +\n",
    "  geom_point()`\n",
    "\n",
    "**How to read the code**\n",
    "\n",
    "We take the titanic `train` data and we map `Age` to the x axis and `Fare` to the y axis, we then add points on as the layer of the plot.\n",
    "\n",
    "The first question that springs to mind regarding the Titanic is **\"How many people survived?\"**"
   ]
  },
  {
   "cell_type": "markdown",
   "id": "7fc58572-f5fa-435c-9262-280e0b69b7d8",
   "metadata": {},
   "source": [
    "Plot barplot of passenger surivival rate."
   ]
  },
  {
   "cell_type": "code",
   "execution_count": null,
   "id": "ab9f97bd-c204-4ccc-bf99-0886f298c9fb",
   "metadata": {},
   "outputs": [],
   "source": [
    "ggplot(survived, aes(x = Survived)) +\n",
    "  geom_bar()"
   ]
  },
  {
   "cell_type": "markdown",
   "id": "46d4c87d-ccc4-4058-85f4-8b3c39fa9e5e",
   "metadata": {},
   "source": [
    "This is useful, but it's quite tricky to see from this plot to know what proportion survived. We can make this clearer by returning the proportion. We can do so using the `prop.table` function."
   ]
  },
  {
   "cell_type": "code",
   "execution_count": null,
   "id": "ac75fbc0-eab2-43e6-9f8b-5355dddd81a9",
   "metadata": {},
   "outputs": [],
   "source": [
    "prop.table(table(survived$Survived))"
   ]
  },
  {
   "cell_type": "markdown",
   "id": "e4d276e1-d0d6-47e1-9d8f-d0c082440715",
   "metadata": {},
   "source": [
    "We can see that only 38.4% of all passengers who on-boarded the Titanic survived."
   ]
  },
  {
   "cell_type": "markdown",
   "id": "b3181a35-10c4-44c3-b7b8-35677524dd4a",
   "metadata": {},
   "source": [
    "We might want to investigate if the Age of any given passenger correlates with the fare paid. We can do this using a scatterplot, know as `geom_point` in `ggplot`."
   ]
  },
  {
   "cell_type": "markdown",
   "id": "bacdfaaf-4199-423e-a7d5-9c0ccc93458a",
   "metadata": {},
   "source": [
    "Scatter plot of `Age` vs `Fare`."
   ]
  },
  {
   "cell_type": "code",
   "execution_count": null,
   "id": "58620bf7-c393-4246-876b-47e15df6f5a0",
   "metadata": {},
   "outputs": [],
   "source": [
    "ggplot(survived, aes(x = Age, y = Fare)) +\n",
    "  geom_point()"
   ]
  },
  {
   "cell_type": "markdown",
   "id": "5c6eb977-c980-44a1-940d-fe3741b21474",
   "metadata": {},
   "source": [
    "*We receive a warning above the plot, the 177 records have been removed with missing values. This is because of those NULL values we identified earlier.*"
   ]
  },
  {
   "cell_type": "markdown",
   "id": "5897af3a-9e40-4f8c-a56a-656633c84719",
   "metadata": {},
   "source": [
    "**Does our data give us any indication about whether there was any correlation between fare paid and age of the passenger?**"
   ]
  },
  {
   "cell_type": "markdown",
   "id": "599d49f7-229e-45e5-96ab-0ea266940782",
   "metadata": {},
   "source": [
    "We can see that the majority of points within the data have a fare of £100 or less. There are also two notable outliers who had a fare greater than £500!"
   ]
  },
  {
   "cell_type": "markdown",
   "id": "b285d794-815e-44b8-811e-d3d8ffdf4090",
   "metadata": {},
   "source": [
    "If we use the previous barplot and colour each point by `Sex` to see if there are any correlations between `Sex`, `Age` and `Fare`."
   ]
  },
  {
   "cell_type": "markdown",
   "id": "9a29c94e-f572-4d68-ba1c-12fd2078d5b4",
   "metadata": {},
   "source": [
    "Scatter plot of `Age` vs `Fare` coloured by `Sex`."
   ]
  },
  {
   "cell_type": "code",
   "execution_count": null,
   "id": "780862cb-d687-45f2-a73e-7efc678518ea",
   "metadata": {},
   "outputs": [],
   "source": [
    "ggplot(survived, aes(x = Age, y = Fare, color = Sex)) +\n",
    "  geom_point()"
   ]
  },
  {
   "cell_type": "markdown",
   "id": "f4898159-6b76-4733-a1fc-653e72c82153",
   "metadata": {},
   "source": [
    "The plot above is useful, we can now see the data points are coloured by sex, as well as our original fare and age, but what if we wanted to add the Survived variable to the plot, to see if that shows us anything of interest?\n",
    "\n",
    "**We can use `facet_grid` to produce multiple plots at the same time**"
   ]
  },
  {
   "cell_type": "markdown",
   "id": "1c5c1310-2203-4f70-ac04-33839c62026c",
   "metadata": {},
   "source": [
    "Scatter plot of Age vs Fare colored by Sex faceted by Survived."
   ]
  },
  {
   "cell_type": "code",
   "execution_count": null,
   "id": "2696bc0b-cfaf-434e-b5fd-8573143151c1",
   "metadata": {},
   "outputs": [],
   "source": [
    "ggplot(survived, aes(x = Age, y = Fare, color = Sex)) +\n",
    "  geom_point() +\n",
    "  facet_grid(~Survived)"
   ]
  },
  {
   "cell_type": "markdown",
   "id": "190db4b4-f851-4f43-b274-821be5614da8",
   "metadata": {},
   "source": [
    "**Does our data give us any indication about whether Sex had an impact on the chance of survival or not?** \n",
    "\n",
    "We see that the survival rate amongst women was significantly higher when compared to men.\n",
    "\n",
    "It is believed that in case of rescue operations during disasters, women's safety is prioritised. It certainly looks as though this is the case, with women much more likely to survive.\n",
    "\n",
    "We can create a bar plot to see if this was the case overall, by plotting Sex and whether they survived or not."
   ]
  },
  {
   "cell_type": "markdown",
   "id": "46b061d4-7e29-4f95-a5d7-cf888d77628d",
   "metadata": {},
   "source": [
    "Plot barplot of passenger `Sex` & fill according to `Survival`."
   ]
  },
  {
   "cell_type": "code",
   "execution_count": null,
   "id": "f339e588-12c5-4375-bd0f-0a9c98d9e5d6",
   "metadata": {},
   "outputs": [],
   "source": [
    "ggplot(survived, aes(x = Sex, fill = Survived)) +\n",
    "  geom_bar()"
   ]
  },
  {
   "cell_type": "markdown",
   "id": "a6200321-69bc-48e6-b9eb-0fed94ff88dd",
   "metadata": {},
   "source": [
    "**Does our data give us any indication about whether Sex had an impact on the chance of survival or not?** "
   ]
  },
  {
   "cell_type": "markdown",
   "id": "f1783e9c-9ef1-4259-bd0a-c286af520004",
   "metadata": {},
   "source": [
    "We see that the survival rate amongst women was significantly higher when compared to men."
   ]
  },
  {
   "cell_type": "markdown",
   "id": "1d6d70c1-c8f1-4908-956c-b779098d4228",
   "metadata": {},
   "source": [
    "Can we see any differences depending on the type of ticket they held? This can be determined using the `pclass` variable e.g. 1st, 2nd or 3rd class."
   ]
  },
  {
   "cell_type": "markdown",
   "id": "8d75959e-c435-4b5b-8a5b-08a8d298e172",
   "metadata": {},
   "source": [
    "**TO DO: Using the created survivded dataset, plot pclass against survived column using as a barplot.**"
   ]
  },
  {
   "cell_type": "code",
   "execution_count": null,
   "id": "92be5b02-7585-4be8-9f66-8cfb7867a555",
   "metadata": {},
   "outputs": [],
   "source": [
    "#ggplot(survived, aes(x = Pclass, fill = Survived)) +\n",
    "#  geom_bar()"
   ]
  },
  {
   "cell_type": "markdown",
   "id": "7a76e2e8-6499-4e11-ab87-2bed3e55e8e6",
   "metadata": {},
   "source": [
    "**Does our data give us any indication about whether class had an impact on the chance of survival or not?** "
   ]
  },
  {
   "cell_type": "markdown",
   "id": "691d8eb2-88c8-405a-a6cd-ad44aab8b9ef",
   "metadata": {},
   "source": [
    "There were 3 groups of passengers, depending upon the class they were travelling in - 1st class, 2nd class and 3rd class. \n",
    "\n",
    "We see that over 50% of the passengers were travelling in the 3rd class, but a much higher proportion of passengers in 1st class survived.\n",
    "\n",
    "Could it be preferential treatment why the passengers travelling first class, or could it be because the 3rd class compartments were in the lower extremity of the ship? Or could it be down to the placement of the lifeboats and how accessible they are to each class?"
   ]
  },
  {
   "cell_type": "markdown",
   "id": "b695eaa1-65d6-4375-9fc9-bf7390ab9ef2",
   "metadata": {},
   "source": [
    "TO DO: *Add in picture of titanic classes*"
   ]
  },
  {
   "cell_type": "code",
   "execution_count": null,
   "id": "872f988f-fc5f-4102-b74b-29544828a8e8",
   "metadata": {},
   "outputs": [],
   "source": [
    "ggplot(survived, aes(x = Age, fill = Survived)) +\n",
    "  geom_histogram(binwidth = 3, position = \"fill\") +\n",
    "  ylab(\"Frequency\")"
   ]
  },
  {
   "cell_type": "markdown",
   "id": "12c1b298-bdff-4e4b-aa50-be4f80692f3d",
   "metadata": {},
   "source": [
    "**Does our data give us any indication about whether age had an impact on the chance of survival or not?** "
   ]
  },
  {
   "cell_type": "markdown",
   "id": "ceecab23-e7d3-4d13-a6dc-c9ac4a7baf1e",
   "metadata": {},
   "source": [
    "We can see that young children, particularly up to 10 years old, had a greater chance of survival. From the previous plot we see that women are more likely to survive than men. \n",
    "\n",
    "The captain explicitly issued an order for women and children to be saved first. As a result, the survival rate for women was three times higher than for men."
   ]
  },
  {
   "cell_type": "markdown",
   "id": "6eec9e0c-2819-47ab-9409-e0e526ea21f0",
   "metadata": {},
   "source": [
    "**Recap:**\n",
    "\n",
    "* We've imported our Titanic data and viewed some of the data\n",
    "* We've used the pipe operator `%>%`\n",
    "* We can use `dplyr` to wrangle our data to `filter`, `arrange` and create new features by `mutating` existing ones.\n",
    "* We've plotted our data using `ggplot2`.\n",
    "\n",
    "**Next:**\n",
    "\n",
    "* Learn how to `summarise` our data.\n"
   ]
  },
  {
   "cell_type": "markdown",
   "id": "60a72df4-7c38-4d80-bb6f-ac0e902aaf44",
   "metadata": {},
   "source": [
    "## Summarizing and grouping data ##"
   ]
  },
  {
   "cell_type": "markdown",
   "id": "8b56fa8a-ef8a-49ad-8188-e5b0ba3e537e",
   "metadata": {},
   "source": [
    "The summarize function reduces a data frame to a summary of just one vector or value. Many times, these summaries are calculated by grouping observations using a factor or categorical variables first. \n",
    "\n",
    "Use the `summarise` verb to find out the mean fare paid."
   ]
  },
  {
   "cell_type": "code",
   "execution_count": null,
   "id": "7edd52f4-db18-49b6-8593-6c47e3fbf735",
   "metadata": {},
   "outputs": [],
   "source": [
    "train %>% \n",
    "  summarise(meanFare = mean(Fare))"
   ]
  },
  {
   "cell_type": "markdown",
   "id": "15bb5617-60b7-41cd-91b1-682d8a600251",
   "metadata": {},
   "source": [
    "We can use the `filter` and `summarise` functions to find out the mean fare paid among men."
   ]
  },
  {
   "cell_type": "code",
   "execution_count": null,
   "id": "dded20c2-34f0-425b-b7bc-5a7ca695dcd3",
   "metadata": {},
   "outputs": [],
   "source": [
    "train %>% \n",
    "  filter(Sex == \"male\") %>% \n",
    "  summarise(meanFare = mean(Fare))"
   ]
  },
  {
   "cell_type": "markdown",
   "id": "432052a2-2968-453e-bad6-ed3dc6f988fd",
   "metadata": {},
   "source": [
    "Use the `filter` and `summarise` verbs to find out the mean fare paid among women."
   ]
  },
  {
   "cell_type": "code",
   "execution_count": null,
   "id": "6a0c6018-3f6f-4efe-9263-a36db3646049",
   "metadata": {},
   "outputs": [],
   "source": [
    "#train %>% \n",
    "#  filter(Sex == \"female\") %>% \n",
    "#  summarise(meanFare = mean(Fare))"
   ]
  },
  {
   "cell_type": "markdown",
   "id": "73c012d5-fbd0-4c9c-a4ed-5cdad0280809",
   "metadata": {},
   "source": [
    "We can extend on this again, using the `filter` and `summarise` functions to find out the mean fare paid among women **and** how many women survived."
   ]
  },
  {
   "cell_type": "code",
   "execution_count": null,
   "id": "c9ce4367-14c0-42ef-b473-a36e63166cf1",
   "metadata": {},
   "outputs": [],
   "source": [
    "train %>% \n",
    "  filter(Sex == \"female\") %>%\n",
    "  summarise(meanFare = mean(Fare), \n",
    "            NumSurv = sum(Survived))"
   ]
  },
  {
   "cell_type": "markdown",
   "id": "96381f8b-f204-4b30-80e5-dddd37b1077b",
   "metadata": {},
   "source": [
    "We can use Use the `group_by` and `summarise` functions to find the mean fare and number of survivors and group by `Sex`."
   ]
  },
  {
   "cell_type": "code",
   "execution_count": null,
   "id": "2d55fb69-9eda-4918-aef3-37b07ea7f3dd",
   "metadata": {},
   "outputs": [],
   "source": [
    "train %>% \n",
    "  group_by(Sex) %>% \n",
    "  summarise(meanFare = mean(Fare),\n",
    "            NumSurv = sum(Survived))"
   ]
  },
  {
   "cell_type": "markdown",
   "id": "18bddf66-43ca-48d5-b609-4a5509b5708b",
   "metadata": {},
   "source": [
    "Use the `group_by` and `summarise` functions to find the mean fare and proportion of survivors and group by `Sex`."
   ]
  },
  {
   "cell_type": "code",
   "execution_count": null,
   "id": "108ac6a4-c2d8-4082-a075-8303ef637f91",
   "metadata": {},
   "outputs": [],
   "source": [
    "train %>% \n",
    "  group_by(Sex) %>% \n",
    "  summarise(meanFare = mean(Fare),\n",
    "            NumSurv = sum(Survived)/n())"
   ]
  },
  {
   "cell_type": "markdown",
   "id": "c2cb1e17-8a37-46b2-8290-6651451922e7",
   "metadata": {},
   "source": [
    "Can we do the same using PClass to see if the class of ticket has any significant impact on survival?"
   ]
  },
  {
   "cell_type": "code",
   "execution_count": null,
   "id": "11d767df-fba5-451f-a9fb-d1fe9bcfcdd8",
   "metadata": {},
   "outputs": [],
   "source": [
    "train %>% \n",
    "  group_by(Pclass) %>% \n",
    "  summarise(meanFare = mean(Fare),\n",
    "            NumSurv = sum(Survived)/n())"
   ]
  },
  {
   "cell_type": "markdown",
   "id": "06cab8e8-1cb0-4b6a-82c2-6e184401493f",
   "metadata": {},
   "source": [
    "**Does our data give us any indication about whether class had an impact on the chance of survival or not?**\n",
    "\n",
    "* Around 6 in 10 passengers within first class survived\n",
    "* Around 5 in 10 passengers within second class survived\n",
    "* Around 2 in 10 passengers within third class survived "
   ]
  },
  {
   "cell_type": "markdown",
   "id": "ef7dea4a-ab9a-46ee-a206-aafdbfeeac62",
   "metadata": {
    "jp-MarkdownHeadingCollapsed": true,
    "tags": []
   },
   "source": [
    "## In Summary ##\n",
    "\n",
    "* We've imported the Titanic train data and viewed some of the data.\n",
    "* We've used the pipe operator `%>%`.\n",
    "* We can use `dplyr` to wrangle our data to `filter`, `arrange` and create new features by `mutating` existing ones.\n",
    "* We can plot our data using `ggplot2`.\n",
    "* We can summarise our data using `summarise`.\n",
    "\n",
    "## Interested to know more? ##\n",
    "\n",
    "Feel free to play around and do your own exploratory analysis, thinking about which fields you could explore or combine to create new insights.\n",
    "\n",
    "## Thanks for joining! ##"
   ]
  }
 ],
 "metadata": {
  "kernelspec": {
   "display_name": "R",
   "language": "R",
   "name": "ir"
  },
  "language_info": {
   "codemirror_mode": "r",
   "file_extension": ".r",
   "mimetype": "text/x-r-source",
   "name": "R",
   "pygments_lexer": "r",
   "version": "4.1.1"
  }
 },
 "nbformat": 4,
 "nbformat_minor": 5
}
