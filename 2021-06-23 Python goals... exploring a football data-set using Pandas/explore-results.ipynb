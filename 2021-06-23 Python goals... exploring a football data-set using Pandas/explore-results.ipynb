{
 "cells": [
  {
   "cell_type": "markdown",
   "id": "4c473d25-9e57-46c6-82b1-05adb413c324",
   "metadata": {},
   "source": [
    "# Python goals... exploring a football data-set using Pandas"
   ]
  },
  {
   "cell_type": "code",
   "execution_count": 1,
   "id": "620484a2-8b2e-4642-a682-48c872ca35ee",
   "metadata": {},
   "outputs": [],
   "source": [
    "# Import any packages\n",
    "import pandas as pd\n",
    "import matplotlib\n",
    "\n",
    "# Make the plots appear inline\n",
    "%matplotlib inline"
   ]
  },
  {
   "cell_type": "markdown",
   "id": "e2a0d9e5-7779-4241-ac3a-aa100a9c1a3d",
   "metadata": {},
   "source": [
    "## Plot the number of International matches that took place each year?"
   ]
  },
  {
   "cell_type": "markdown",
   "id": "210fb8ce-2615-448c-9531-e62cd4e49273",
   "metadata": {},
   "source": [
    "Read in the `results.csv` file which is saved in the same directory as this notebook and save it to a Pandas DataFrame named `results_df`."
   ]
  },
  {
   "cell_type": "code",
   "execution_count": 2,
   "id": "d40fbbcc-96f6-426e-8770-4d4f3315b05a",
   "metadata": {},
   "outputs": [],
   "source": [
    "results_df = pd.read_csv('results.csv')"
   ]
  },
  {
   "cell_type": "markdown",
   "id": "e6bef6e9-6962-4658-97cb-96e761183317",
   "metadata": {},
   "source": [
    "The columns included in `results.csv` are:\n",
    "\n",
    "* `date` - date of the match\n",
    "* `home_team` - the name of the home team\n",
    "* `away_team` - the name of the away team\n",
    "* `home_score` - full-time home team score including extra time, not including penalty-shootouts\n",
    "* `away_score` - full-time away team score including extra time, not including penalty-shootouts\n",
    "* `tournament` - the name of the tournament\n",
    "* `city` - the name of the city/town/administrative unit where the match was played\n",
    "* `country` - the name of the country where the match was played\n",
    "* `neutral` - boolean column indicating whether the match was played at a neutral venue\n",
    "\n",
    "More information can be found in the [GitHub repo](https://github.com/martj42/international_results) for this data-set.\n",
    "\n",
    "Look at the first 5 records of `results_df` by using using the Pandas `head()` method."
   ]
  },
  {
   "cell_type": "code",
   "execution_count": 3,
   "id": "02dec352-fe5e-45b1-b667-4387f53641bd",
   "metadata": {},
   "outputs": [
    {
     "data": {
      "text/html": [
       "<div>\n",
       "<style scoped>\n",
       "    .dataframe tbody tr th:only-of-type {\n",
       "        vertical-align: middle;\n",
       "    }\n",
       "\n",
       "    .dataframe tbody tr th {\n",
       "        vertical-align: top;\n",
       "    }\n",
       "\n",
       "    .dataframe thead th {\n",
       "        text-align: right;\n",
       "    }\n",
       "</style>\n",
       "<table border=\"1\" class=\"dataframe\">\n",
       "  <thead>\n",
       "    <tr style=\"text-align: right;\">\n",
       "      <th></th>\n",
       "      <th>date</th>\n",
       "      <th>home_team</th>\n",
       "      <th>away_team</th>\n",
       "      <th>home_score</th>\n",
       "      <th>away_score</th>\n",
       "      <th>tournament</th>\n",
       "      <th>city</th>\n",
       "      <th>country</th>\n",
       "      <th>neutral</th>\n",
       "    </tr>\n",
       "  </thead>\n",
       "  <tbody>\n",
       "    <tr>\n",
       "      <th>0</th>\n",
       "      <td>1872-11-30</td>\n",
       "      <td>Scotland</td>\n",
       "      <td>England</td>\n",
       "      <td>0</td>\n",
       "      <td>0</td>\n",
       "      <td>Friendly</td>\n",
       "      <td>Glasgow</td>\n",
       "      <td>Scotland</td>\n",
       "      <td>False</td>\n",
       "    </tr>\n",
       "    <tr>\n",
       "      <th>1</th>\n",
       "      <td>1873-03-08</td>\n",
       "      <td>England</td>\n",
       "      <td>Scotland</td>\n",
       "      <td>4</td>\n",
       "      <td>2</td>\n",
       "      <td>Friendly</td>\n",
       "      <td>London</td>\n",
       "      <td>England</td>\n",
       "      <td>False</td>\n",
       "    </tr>\n",
       "    <tr>\n",
       "      <th>2</th>\n",
       "      <td>1874-03-07</td>\n",
       "      <td>Scotland</td>\n",
       "      <td>England</td>\n",
       "      <td>2</td>\n",
       "      <td>1</td>\n",
       "      <td>Friendly</td>\n",
       "      <td>Glasgow</td>\n",
       "      <td>Scotland</td>\n",
       "      <td>False</td>\n",
       "    </tr>\n",
       "    <tr>\n",
       "      <th>3</th>\n",
       "      <td>1875-03-06</td>\n",
       "      <td>England</td>\n",
       "      <td>Scotland</td>\n",
       "      <td>2</td>\n",
       "      <td>2</td>\n",
       "      <td>Friendly</td>\n",
       "      <td>London</td>\n",
       "      <td>England</td>\n",
       "      <td>False</td>\n",
       "    </tr>\n",
       "    <tr>\n",
       "      <th>4</th>\n",
       "      <td>1876-03-04</td>\n",
       "      <td>Scotland</td>\n",
       "      <td>England</td>\n",
       "      <td>3</td>\n",
       "      <td>0</td>\n",
       "      <td>Friendly</td>\n",
       "      <td>Glasgow</td>\n",
       "      <td>Scotland</td>\n",
       "      <td>False</td>\n",
       "    </tr>\n",
       "  </tbody>\n",
       "</table>\n",
       "</div>"
      ],
      "text/plain": [
       "         date home_team away_team  home_score  away_score tournament     city  \\\n",
       "0  1872-11-30  Scotland   England           0           0   Friendly  Glasgow   \n",
       "1  1873-03-08   England  Scotland           4           2   Friendly   London   \n",
       "2  1874-03-07  Scotland   England           2           1   Friendly  Glasgow   \n",
       "3  1875-03-06   England  Scotland           2           2   Friendly   London   \n",
       "4  1876-03-04  Scotland   England           3           0   Friendly  Glasgow   \n",
       "\n",
       "    country  neutral  \n",
       "0  Scotland    False  \n",
       "1   England    False  \n",
       "2  Scotland    False  \n",
       "3   England    False  \n",
       "4  Scotland    False  "
      ]
     },
     "execution_count": 3,
     "metadata": {},
     "output_type": "execute_result"
    }
   ],
   "source": [
    "results_df.head()"
   ]
  },
  {
   "cell_type": "markdown",
   "id": "bba8f393-11f2-49ce-8f41-d146169a7740",
   "metadata": {},
   "source": [
    "Each row represents a single International football match.\n",
    "\n",
    "Look at the last 5 records of `results_df` by using using the Pandas `tail()` method."
   ]
  },
  {
   "cell_type": "code",
   "execution_count": 4,
   "id": "e887c66c-abc3-4586-a395-c306fe7787dd",
   "metadata": {},
   "outputs": [
    {
     "data": {
      "text/html": [
       "<div>\n",
       "<style scoped>\n",
       "    .dataframe tbody tr th:only-of-type {\n",
       "        vertical-align: middle;\n",
       "    }\n",
       "\n",
       "    .dataframe tbody tr th {\n",
       "        vertical-align: top;\n",
       "    }\n",
       "\n",
       "    .dataframe thead th {\n",
       "        text-align: right;\n",
       "    }\n",
       "</style>\n",
       "<table border=\"1\" class=\"dataframe\">\n",
       "  <thead>\n",
       "    <tr style=\"text-align: right;\">\n",
       "      <th></th>\n",
       "      <th>date</th>\n",
       "      <th>home_team</th>\n",
       "      <th>away_team</th>\n",
       "      <th>home_score</th>\n",
       "      <th>away_score</th>\n",
       "      <th>tournament</th>\n",
       "      <th>city</th>\n",
       "      <th>country</th>\n",
       "      <th>neutral</th>\n",
       "    </tr>\n",
       "  </thead>\n",
       "  <tbody>\n",
       "    <tr>\n",
       "      <th>42178</th>\n",
       "      <td>2021-06-08</td>\n",
       "      <td>Morocco</td>\n",
       "      <td>Ghana</td>\n",
       "      <td>1</td>\n",
       "      <td>0</td>\n",
       "      <td>Friendly</td>\n",
       "      <td>Rabat</td>\n",
       "      <td>Morocco</td>\n",
       "      <td>False</td>\n",
       "    </tr>\n",
       "    <tr>\n",
       "      <th>42179</th>\n",
       "      <td>2021-06-08</td>\n",
       "      <td>Mozambique</td>\n",
       "      <td>Eswatini</td>\n",
       "      <td>1</td>\n",
       "      <td>1</td>\n",
       "      <td>Friendly</td>\n",
       "      <td>Maputo</td>\n",
       "      <td>Mozambique</td>\n",
       "      <td>False</td>\n",
       "    </tr>\n",
       "    <tr>\n",
       "      <th>42180</th>\n",
       "      <td>2021-06-08</td>\n",
       "      <td>Poland</td>\n",
       "      <td>Iceland</td>\n",
       "      <td>2</td>\n",
       "      <td>2</td>\n",
       "      <td>Friendly</td>\n",
       "      <td>Poznan</td>\n",
       "      <td>Poland</td>\n",
       "      <td>False</td>\n",
       "    </tr>\n",
       "    <tr>\n",
       "      <th>42181</th>\n",
       "      <td>2021-06-08</td>\n",
       "      <td>Senegal</td>\n",
       "      <td>Cape Verde</td>\n",
       "      <td>2</td>\n",
       "      <td>0</td>\n",
       "      <td>Friendly</td>\n",
       "      <td>Thiès</td>\n",
       "      <td>Senegal</td>\n",
       "      <td>False</td>\n",
       "    </tr>\n",
       "    <tr>\n",
       "      <th>42182</th>\n",
       "      <td>2021-06-08</td>\n",
       "      <td>Spain</td>\n",
       "      <td>Lithuania</td>\n",
       "      <td>4</td>\n",
       "      <td>0</td>\n",
       "      <td>Friendly</td>\n",
       "      <td>Leganés</td>\n",
       "      <td>Spain</td>\n",
       "      <td>False</td>\n",
       "    </tr>\n",
       "  </tbody>\n",
       "</table>\n",
       "</div>"
      ],
      "text/plain": [
       "             date   home_team   away_team  home_score  away_score tournament  \\\n",
       "42178  2021-06-08     Morocco       Ghana           1           0   Friendly   \n",
       "42179  2021-06-08  Mozambique    Eswatini           1           1   Friendly   \n",
       "42180  2021-06-08      Poland     Iceland           2           2   Friendly   \n",
       "42181  2021-06-08     Senegal  Cape Verde           2           0   Friendly   \n",
       "42182  2021-06-08       Spain   Lithuania           4           0   Friendly   \n",
       "\n",
       "          city     country  neutral  \n",
       "42178    Rabat     Morocco    False  \n",
       "42179   Maputo  Mozambique    False  \n",
       "42180   Poznan      Poland    False  \n",
       "42181    Thiès     Senegal    False  \n",
       "42182  Leganés       Spain    False  "
      ]
     },
     "execution_count": 4,
     "metadata": {},
     "output_type": "execute_result"
    }
   ],
   "source": [
    "results_df.tail()"
   ]
  },
  {
   "cell_type": "markdown",
   "id": "90976df7-b741-4846-a396-3816a35917da",
   "metadata": {},
   "source": [
    "Familiarise ourselves with the data-set by checking the number of rows and columns using the Pandas `shape` attribute."
   ]
  },
  {
   "cell_type": "code",
   "execution_count": 5,
   "id": "708cce81-a360-42ad-9a78-8857d11f5a55",
   "metadata": {},
   "outputs": [
    {
     "data": {
      "text/plain": [
       "(42183, 9)"
      ]
     },
     "execution_count": 5,
     "metadata": {},
     "output_type": "execute_result"
    }
   ],
   "source": [
    "results_df.shape"
   ]
  },
  {
   "cell_type": "markdown",
   "id": "1998d784-7b11-45c9-bc13-ee42ffdefbbb",
   "metadata": {},
   "source": [
    "Check the datatypes of the columns using the Pandas `dtypes` attribute."
   ]
  },
  {
   "cell_type": "code",
   "execution_count": 6,
   "id": "2dc8db2e-3cae-46c4-8de5-ddbce11e919b",
   "metadata": {},
   "outputs": [
    {
     "data": {
      "text/plain": [
       "date          object\n",
       "home_team     object\n",
       "away_team     object\n",
       "home_score     int64\n",
       "away_score     int64\n",
       "tournament    object\n",
       "city          object\n",
       "country       object\n",
       "neutral         bool\n",
       "dtype: object"
      ]
     },
     "execution_count": 6,
     "metadata": {},
     "output_type": "execute_result"
    }
   ],
   "source": [
    "results_df.dtypes"
   ]
  },
  {
   "cell_type": "markdown",
   "id": "353f75ef-e27e-4e50-ba6e-600b09b416cd",
   "metadata": {},
   "source": [
    "The `date` column is of type `object`, which isn't very useful and does not make use of the fact that the column is actually a date, we can select the column as a Pandas Series to inspect."
   ]
  },
  {
   "cell_type": "code",
   "execution_count": 7,
   "id": "612fc6cf-589b-409b-8e66-837ea4369f36",
   "metadata": {},
   "outputs": [
    {
     "data": {
      "text/plain": [
       "0        1872-11-30\n",
       "1        1873-03-08\n",
       "2        1874-03-07\n",
       "3        1875-03-06\n",
       "4        1876-03-04\n",
       "            ...    \n",
       "42178    2021-06-08\n",
       "42179    2021-06-08\n",
       "42180    2021-06-08\n",
       "42181    2021-06-08\n",
       "42182    2021-06-08\n",
       "Name: date, Length: 42183, dtype: object"
      ]
     },
     "execution_count": 7,
     "metadata": {},
     "output_type": "execute_result"
    }
   ],
   "source": [
    "results_df['date']"
   ]
  },
  {
   "cell_type": "markdown",
   "id": "b3d39c5d-e876-4ce9-9a99-ed4be71ac3b7",
   "metadata": {},
   "source": [
    "Now use `pd.to_datetime()` on the `date` column in `results_df` to convert to a `datetime` datatype Series."
   ]
  },
  {
   "cell_type": "code",
   "execution_count": 8,
   "id": "464cd640-8e77-4587-9d3d-68bdc038b635",
   "metadata": {},
   "outputs": [
    {
     "data": {
      "text/plain": [
       "0       1872-11-30\n",
       "1       1873-03-08\n",
       "2       1874-03-07\n",
       "3       1875-03-06\n",
       "4       1876-03-04\n",
       "           ...    \n",
       "42178   2021-06-08\n",
       "42179   2021-06-08\n",
       "42180   2021-06-08\n",
       "42181   2021-06-08\n",
       "42182   2021-06-08\n",
       "Name: date, Length: 42183, dtype: datetime64[ns]"
      ]
     },
     "execution_count": 8,
     "metadata": {},
     "output_type": "execute_result"
    }
   ],
   "source": [
    "pd.to_datetime(results_df['date'])"
   ]
  },
  {
   "cell_type": "markdown",
   "id": "d9c7f906-09bc-4527-b536-f8b0cfd042a0",
   "metadata": {},
   "source": [
    "Assign the Series to a new column to `results_df` called `date_time`."
   ]
  },
  {
   "cell_type": "code",
   "execution_count": 9,
   "id": "e53c46a8-9695-4a7d-9b2f-17aad84be054",
   "metadata": {},
   "outputs": [],
   "source": [
    "results_df['date_time'] = pd.to_datetime(results_df['date'])"
   ]
  },
  {
   "cell_type": "markdown",
   "id": "ff202a66-fd1e-47cc-bdd7-a0fea3d98f47",
   "metadata": {},
   "source": [
    "Check that the new column has the correct datatype."
   ]
  },
  {
   "cell_type": "code",
   "execution_count": 10,
   "id": "c677f6a6-e5c4-45cc-9cba-6b526ff7622e",
   "metadata": {},
   "outputs": [
    {
     "data": {
      "text/plain": [
       "date                  object\n",
       "home_team             object\n",
       "away_team             object\n",
       "home_score             int64\n",
       "away_score             int64\n",
       "tournament            object\n",
       "city                  object\n",
       "country               object\n",
       "neutral                 bool\n",
       "date_time     datetime64[ns]\n",
       "dtype: object"
      ]
     },
     "execution_count": 10,
     "metadata": {},
     "output_type": "execute_result"
    }
   ],
   "source": [
    "results_df.dtypes"
   ]
  },
  {
   "cell_type": "markdown",
   "id": "eb8969a1-fb39-4ee2-bc4f-b6c85600a472",
   "metadata": {},
   "source": [
    "Through the use of the `dt` namespace, convenient attributes such as `year` can be extracted."
   ]
  },
  {
   "cell_type": "code",
   "execution_count": 11,
   "id": "6d942593-7bfa-428f-8259-2488bbc7a5de",
   "metadata": {},
   "outputs": [
    {
     "data": {
      "text/plain": [
       "0        1872\n",
       "1        1873\n",
       "2        1874\n",
       "3        1875\n",
       "4        1876\n",
       "         ... \n",
       "42178    2021\n",
       "42179    2021\n",
       "42180    2021\n",
       "42181    2021\n",
       "42182    2021\n",
       "Name: date_time, Length: 42183, dtype: int64"
      ]
     },
     "execution_count": 11,
     "metadata": {},
     "output_type": "execute_result"
    }
   ],
   "source": [
    "results_df['date_time'].dt.year"
   ]
  },
  {
   "cell_type": "markdown",
   "id": "5f1baaf3-d97c-4bad-9d39-cbb51eb0a760",
   "metadata": {},
   "source": [
    "Count the occurance of each `year` by using Pandas `value_counts()`."
   ]
  },
  {
   "cell_type": "code",
   "execution_count": 12,
   "id": "92bcb759-b446-4cab-8916-3441cebada21",
   "metadata": {},
   "outputs": [
    {
     "data": {
      "text/plain": [
       "2019    1155\n",
       "2008    1092\n",
       "2011    1083\n",
       "2004    1066\n",
       "2000    1026\n",
       "        ... \n",
       "1878       2\n",
       "1872       1\n",
       "1874       1\n",
       "1875       1\n",
       "1873       1\n",
       "Name: date_time, Length: 150, dtype: int64"
      ]
     },
     "execution_count": 12,
     "metadata": {},
     "output_type": "execute_result"
    }
   ],
   "source": [
    "results_df['date_time'].dt.year.value_counts()"
   ]
  },
  {
   "cell_type": "markdown",
   "id": "7f1580fd-5b98-40cc-86a7-4ea64da21e96",
   "metadata": {},
   "source": [
    "The index is the `year` and the value is the count relating to it, it is sorted in descending order by default.\n",
    "\n",
    "In order to plot we must sort by the index using Pandas `sort_index()`."
   ]
  },
  {
   "cell_type": "code",
   "execution_count": 13,
   "id": "90db6801-1de4-4bb4-b8f3-05d742916969",
   "metadata": {},
   "outputs": [
    {
     "data": {
      "text/plain": [
       "1872       1\n",
       "1873       1\n",
       "1874       1\n",
       "1875       1\n",
       "1876       2\n",
       "        ... \n",
       "2017     958\n",
       "2018     905\n",
       "2019    1155\n",
       "2020     286\n",
       "2021     282\n",
       "Name: date_time, Length: 150, dtype: int64"
      ]
     },
     "execution_count": 13,
     "metadata": {},
     "output_type": "execute_result"
    }
   ],
   "source": [
    "results_df['date_time'].dt.year.value_counts().sort_index()"
   ]
  },
  {
   "cell_type": "markdown",
   "id": "79c091ae-758d-4a46-bf66-abf26c483ba5",
   "metadata": {},
   "source": [
    "By simply using Pandas `plot()` we can visualise the nuber of international matches each year (the default plot type is a line)."
   ]
  },
  {
   "cell_type": "code",
   "execution_count": 14,
   "id": "17bb10e6-4c06-43a1-96e5-fc2519524f9c",
   "metadata": {},
   "outputs": [
    {
     "data": {
      "text/plain": [
       "<AxesSubplot:>"
      ]
     },
     "execution_count": 14,
     "metadata": {},
     "output_type": "execute_result"
    },
    {
     "data": {
      "image/png": "[encoded data removed]",
      "text/plain": [
       "<Figure size 432x288 with 1 Axes>"
      ]
     },
     "metadata": {
      "needs_background": "light"
     },
     "output_type": "display_data"
    }
   ],
   "source": [
    "results_df['date_time'].dt.year.value_counts().sort_index().plot()"
   ]
  },
  {
   "cell_type": "markdown",
   "id": "ec1174db-fb04-4f8c-a29a-8ed14c59a24e",
   "metadata": {},
   "source": [
    "Although the plot could certainly use some visual enhancements, a simple Pandas one-liner is able to convey the number of matches that took place each year!"
   ]
  },
  {
   "cell_type": "markdown",
   "id": "ec7251b0-f96d-4237-aa54-805cfffc9427",
   "metadata": {},
   "source": [
    "## Filtering the time-series for more fine grained detail"
   ]
  },
  {
   "cell_type": "markdown",
   "id": "5ce3b1a4-6fcb-47e7-b3f2-a00dde529744",
   "metadata": {},
   "source": [
    "It would also be insightful to take a look at a narrower range of International matches. \n",
    "\n",
    "Create a boolean Series from the `date_time` column."
   ]
  },
  {
   "cell_type": "code",
   "execution_count": 15,
   "id": "66cdbe9a-40fc-43e8-97fb-71e5dc0d1b08",
   "metadata": {},
   "outputs": [
    {
     "data": {
      "text/plain": [
       "0        False\n",
       "1        False\n",
       "2        False\n",
       "3        False\n",
       "4        False\n",
       "         ...  \n",
       "42178     True\n",
       "42179     True\n",
       "42180     True\n",
       "42181     True\n",
       "42182     True\n",
       "Name: date_time, Length: 42183, dtype: bool"
      ]
     },
     "execution_count": 15,
     "metadata": {},
     "output_type": "execute_result"
    }
   ],
   "source": [
    "results_df['date_time'].dt.year >= 2014"
   ]
  },
  {
   "cell_type": "markdown",
   "id": "75046b19-cbfe-4562-91e6-254678ceeab4",
   "metadata": {},
   "source": [
    "Slice the Series and only keep rows that are `True`."
   ]
  },
  {
   "cell_type": "code",
   "execution_count": 16,
   "id": "ae07f282-fb36-40bd-a636-a4d9c4dec4cd",
   "metadata": {},
   "outputs": [
    {
     "data": {
      "text/plain": [
       "35806    2014\n",
       "35807    2014\n",
       "35808    2014\n",
       "35809    2014\n",
       "35810    2014\n",
       "         ... \n",
       "42178    2021\n",
       "42179    2021\n",
       "42180    2021\n",
       "42181    2021\n",
       "42182    2021\n",
       "Name: date_time, Length: 6377, dtype: int64"
      ]
     },
     "execution_count": 16,
     "metadata": {},
     "output_type": "execute_result"
    }
   ],
   "source": [
    "results_df['date_time'].dt.year[results_df['date_time'].dt.year >= 2014]"
   ]
  },
  {
   "cell_type": "markdown",
   "id": "a47d5259-215b-41c2-9ab0-9bd14a180916",
   "metadata": {},
   "source": [
    "As previously, use Pandas `value_counts()` to count the occurances each year."
   ]
  },
  {
   "cell_type": "code",
   "execution_count": 17,
   "id": "1dc463fb-45a7-4469-b01c-a530a168d800",
   "metadata": {},
   "outputs": [
    {
     "data": {
      "text/plain": [
       "2019    1155\n",
       "2015    1003\n",
       "2017     958\n",
       "2016     928\n",
       "2018     905\n",
       "2014     860\n",
       "2020     286\n",
       "2021     282\n",
       "Name: date_time, dtype: int64"
      ]
     },
     "execution_count": 17,
     "metadata": {},
     "output_type": "execute_result"
    }
   ],
   "source": [
    "results_df['date_time'].dt.year[results_df['date_time'].dt.year >= 2014].value_counts()"
   ]
  },
  {
   "cell_type": "markdown",
   "id": "a534b221-3ed3-4fdc-b0b7-46ed28b2588f",
   "metadata": {},
   "source": [
    "Then sort it by the index using Pandas `sort_index()`."
   ]
  },
  {
   "cell_type": "code",
   "execution_count": 18,
   "id": "c110f591-8de7-4779-9387-cbde75925e37",
   "metadata": {},
   "outputs": [
    {
     "data": {
      "text/plain": [
       "2014     860\n",
       "2015    1003\n",
       "2016     928\n",
       "2017     958\n",
       "2018     905\n",
       "2019    1155\n",
       "2020     286\n",
       "2021     282\n",
       "Name: date_time, dtype: int64"
      ]
     },
     "execution_count": 18,
     "metadata": {},
     "output_type": "execute_result"
    }
   ],
   "source": [
    "results_df['date_time'].dt.year[results_df['date_time'].dt.year >= 2014].value_counts().sort_index()"
   ]
  },
  {
   "cell_type": "markdown",
   "id": "6451fdde-3e21-4ed7-afbe-d41b83d15ffe",
   "metadata": {},
   "source": [
    "Now using Pandas `plot()` to visualise the Series."
   ]
  },
  {
   "cell_type": "code",
   "execution_count": 19,
   "id": "c7e1d207-48f5-4916-9f7f-be54c58cac9a",
   "metadata": {},
   "outputs": [
    {
     "data": {
      "text/plain": [
       "<AxesSubplot:>"
      ]
     },
     "execution_count": 19,
     "metadata": {},
     "output_type": "execute_result"
    },
    {
     "data": {
      "image/png": "[encoded data removed]",
      "text/plain": [
       "<Figure size 432x288 with 1 Axes>"
      ]
     },
     "metadata": {
      "needs_background": "light"
     },
     "output_type": "display_data"
    }
   ],
   "source": [
    "results_df['date_time'].dt.year[results_df['date_time'].dt.year >= 2014].value_counts().sort_index().plot()"
   ]
  },
  {
   "cell_type": "markdown",
   "id": "18b4007c-bdf4-421f-958f-402b2fbe3ed2",
   "metadata": {},
   "source": [
    "There is a large drop in the final two years. 2020 is low mainly due to COVID and 2021 is partly COVID and partly an unfinished year. \n",
    "\n",
    "We can see this using Pandas `max()` on the `date_time` column."
   ]
  },
  {
   "cell_type": "code",
   "execution_count": 20,
   "id": "c5dff68e-1533-4df5-9d87-c70354ad6b53",
   "metadata": {},
   "outputs": [
    {
     "data": {
      "text/plain": [
       "Timestamp('2021-06-08 00:00:00')"
      ]
     },
     "execution_count": 20,
     "metadata": {},
     "output_type": "execute_result"
    }
   ],
   "source": [
    "results_df['date_time'].max()"
   ]
  },
  {
   "cell_type": "markdown",
   "id": "2bea44f6-08f6-44c6-8892-91fbd6121558",
   "metadata": {},
   "source": [
    "## Which Tournament type is the most exciting?"
   ]
  },
  {
   "cell_type": "markdown",
   "id": "97434c9d-d111-4bff-a8f1-ff57123521ed",
   "metadata": {},
   "source": [
    "The most exciting International tournament could be defined in many ways, but one way to define it may be to investigate the goals scored! \n",
    "\n",
    "To begin with, create a new column `total_score` which calculates the `home_score` + `away_score` to give the total number of goals in each International match."
   ]
  },
  {
   "cell_type": "code",
   "execution_count": 21,
   "id": "dc482aa0-8141-4ed7-ada1-a7785b5c2060",
   "metadata": {},
   "outputs": [],
   "source": [
    "results_df['total_score'] = results_df['home_score'] + results_df['away_score']"
   ]
  },
  {
   "cell_type": "markdown",
   "id": "a3ab4717-08d7-4a12-b947-af9828114439",
   "metadata": {},
   "source": [
    "Now check a random 5 records from the DataFrame to validate the calculation."
   ]
  },
  {
   "cell_type": "code",
   "execution_count": 22,
   "id": "ca6d1377-c2f4-4955-b606-60b930371e9b",
   "metadata": {},
   "outputs": [
    {
     "data": {
      "text/html": [
       "<div>\n",
       "<style scoped>\n",
       "    .dataframe tbody tr th:only-of-type {\n",
       "        vertical-align: middle;\n",
       "    }\n",
       "\n",
       "    .dataframe tbody tr th {\n",
       "        vertical-align: top;\n",
       "    }\n",
       "\n",
       "    .dataframe thead th {\n",
       "        text-align: right;\n",
       "    }\n",
       "</style>\n",
       "<table border=\"1\" class=\"dataframe\">\n",
       "  <thead>\n",
       "    <tr style=\"text-align: right;\">\n",
       "      <th></th>\n",
       "      <th>total_score</th>\n",
       "      <th>home_score</th>\n",
       "      <th>away_score</th>\n",
       "    </tr>\n",
       "  </thead>\n",
       "  <tbody>\n",
       "    <tr>\n",
       "      <th>31047</th>\n",
       "      <td>2</td>\n",
       "      <td>1</td>\n",
       "      <td>1</td>\n",
       "    </tr>\n",
       "    <tr>\n",
       "      <th>1889</th>\n",
       "      <td>2</td>\n",
       "      <td>1</td>\n",
       "      <td>1</td>\n",
       "    </tr>\n",
       "    <tr>\n",
       "      <th>10112</th>\n",
       "      <td>3</td>\n",
       "      <td>1</td>\n",
       "      <td>2</td>\n",
       "    </tr>\n",
       "    <tr>\n",
       "      <th>33842</th>\n",
       "      <td>1</td>\n",
       "      <td>1</td>\n",
       "      <td>0</td>\n",
       "    </tr>\n",
       "    <tr>\n",
       "      <th>13956</th>\n",
       "      <td>3</td>\n",
       "      <td>2</td>\n",
       "      <td>1</td>\n",
       "    </tr>\n",
       "  </tbody>\n",
       "</table>\n",
       "</div>"
      ],
      "text/plain": [
       "       total_score  home_score  away_score\n",
       "31047            2           1           1\n",
       "1889             2           1           1\n",
       "10112            3           1           2\n",
       "33842            1           1           0\n",
       "13956            3           2           1"
      ]
     },
     "execution_count": 22,
     "metadata": {},
     "output_type": "execute_result"
    }
   ],
   "source": [
    "results_df[['total_score', 'home_score', 'away_score']].sample(5)"
   ]
  },
  {
   "cell_type": "markdown",
   "id": "82e5f7c6-cb41-4eef-8606-3f90695aef85",
   "metadata": {},
   "source": [
    "For each tournament we can ue Pandas `groupby()` to calculate the average number of match goals and determine the most exciting tournament based on this metric!\n",
    "\n",
    "Firstly we will filter to tournaments with >= 100 matches in the DataFrame to ensure that there is a reasonable sample size.\n",
    "\n",
    "Use Pandas `value_counts()` on the `tournament` column to return a Series indexed by `tournament` with the value being the number of matches in the tournament."
   ]
  },
  {
   "cell_type": "code",
   "execution_count": 23,
   "id": "7ce9516f-1547-4ee9-85f6-9a825df1fca0",
   "metadata": {},
   "outputs": [
    {
     "data": {
      "text/plain": [
       "Friendly                                17273\n",
       "FIFA World Cup qualification             7378\n",
       "UEFA Euro qualification                  2582\n",
       "African Cup of Nations qualification     1719\n",
       "FIFA World Cup                            900\n",
       "                                        ...  \n",
       "OSN Cup                                     4\n",
       "World Unity Cup                             4\n",
       "Atlantic Heritage Cup                       2\n",
       "AFF Championship qualification              2\n",
       "Copa América qualification                  2\n",
       "Name: tournament, Length: 112, dtype: int64"
      ]
     },
     "execution_count": 23,
     "metadata": {},
     "output_type": "execute_result"
    }
   ],
   "source": [
    "results_df['tournament'].value_counts()"
   ]
  },
  {
   "cell_type": "markdown",
   "id": "8ce5294d-1351-4aa5-b176-3314d81e4928",
   "metadata": {},
   "source": [
    "Assign this to a variable called `tournament_count`."
   ]
  },
  {
   "cell_type": "code",
   "execution_count": 24,
   "id": "342d2f43-5661-4ff1-8aae-21e7ccca6c08",
   "metadata": {},
   "outputs": [],
   "source": [
    "tournament_count = results_df['tournament'].value_counts()"
   ]
  },
  {
   "cell_type": "markdown",
   "id": "b3f73d85-8976-4276-a5a4-36ce31d3d076",
   "metadata": {},
   "source": [
    "See which tournaments have over 100 matches by using boolean indexing as previously."
   ]
  },
  {
   "cell_type": "code",
   "execution_count": 25,
   "id": "f5ca4ac2-dd39-4c36-aa8e-d5ce098cd4c3",
   "metadata": {},
   "outputs": [
    {
     "data": {
      "text/plain": [
       "Friendly                                17273\n",
       "FIFA World Cup qualification             7378\n",
       "UEFA Euro qualification                  2582\n",
       "African Cup of Nations qualification     1719\n",
       "FIFA World Cup                            900\n",
       "Copa América                              813\n",
       "AFC Asian Cup qualification               724\n",
       "African Cup of Nations                    690\n",
       "CECAFA Cup                                620\n",
       "CFU Caribbean Cup qualification           606\n",
       "British Championship                      505\n",
       "Merdeka Tournament                        503\n",
       "Gulf Cup                                  380\n",
       "AFC Asian Cup                             370\n",
       "Island Games                              350\n",
       "Gold Cup                                  327\n",
       "UEFA Nations League                       304\n",
       "AFF Championship                          293\n",
       "COSAFA Cup                                292\n",
       "UEFA Euro                                 286\n",
       "Nordic Championship                       283\n",
       "African Nations Championship              264\n",
       "CFU Caribbean Cup                         251\n",
       "Amílcar Cabral Cup                        235\n",
       "King's Cup                                234\n",
       "South Pacific Games                       205\n",
       "UNCAF Cup                                 164\n",
       "Korea Cup                                 159\n",
       "Confederations Cup                        140\n",
       "SAFF Cup                                  136\n",
       "International Cup                         127\n",
       "CCCF Championship                         123\n",
       "UAFA Cup                                  122\n",
       "EAFF Championship                         122\n",
       "CONCACAF Nations League                   102\n",
       "Oceania Nations Cup                       101\n",
       "CONIFA World Football Cup                 101\n",
       "Windward Islands Tournament               101\n",
       "AFC Challenge Cup                         100\n",
       "Name: tournament, dtype: int64"
      ]
     },
     "execution_count": 25,
     "metadata": {},
     "output_type": "execute_result"
    }
   ],
   "source": [
    "tournament_count[tournament_count >= 100]"
   ]
  },
  {
   "cell_type": "markdown",
   "id": "9fd1d2d0-ece2-4647-8910-fe0f9d76b210",
   "metadata": {},
   "source": [
    "Now assign the index of this Series to a variable called `most_common_tournaments`."
   ]
  },
  {
   "cell_type": "code",
   "execution_count": 26,
   "id": "d57acf8d-f736-4c7c-98d7-35a11975a582",
   "metadata": {},
   "outputs": [],
   "source": [
    "most_common_tournaments = tournament_count[tournament_count >= 100].index"
   ]
  },
  {
   "cell_type": "markdown",
   "id": "a850a199-b34e-4f6b-afda-250d8cd346dc",
   "metadata": {},
   "source": [
    "Check that `most_common_tournaments` is what we expect."
   ]
  },
  {
   "cell_type": "code",
   "execution_count": 27,
   "id": "c667021c-f45e-4047-9631-2933fa656bb0",
   "metadata": {},
   "outputs": [
    {
     "data": {
      "text/plain": [
       "Index(['Friendly', 'FIFA World Cup qualification', 'UEFA Euro qualification',\n",
       "       'African Cup of Nations qualification', 'FIFA World Cup',\n",
       "       'Copa América', 'AFC Asian Cup qualification', 'African Cup of Nations',\n",
       "       'CECAFA Cup', 'CFU Caribbean Cup qualification', 'British Championship',\n",
       "       'Merdeka Tournament', 'Gulf Cup', 'AFC Asian Cup', 'Island Games',\n",
       "       'Gold Cup', 'UEFA Nations League', 'AFF Championship', 'COSAFA Cup',\n",
       "       'UEFA Euro', 'Nordic Championship', 'African Nations Championship',\n",
       "       'CFU Caribbean Cup', 'Amílcar Cabral Cup', 'King's Cup',\n",
       "       'South Pacific Games', 'UNCAF Cup', 'Korea Cup', 'Confederations Cup',\n",
       "       'SAFF Cup', 'International Cup', 'CCCF Championship', 'UAFA Cup',\n",
       "       'EAFF Championship', 'CONCACAF Nations League', 'Oceania Nations Cup',\n",
       "       'CONIFA World Football Cup', 'Windward Islands Tournament',\n",
       "       'AFC Challenge Cup'],\n",
       "      dtype='object')"
      ]
     },
     "execution_count": 27,
     "metadata": {},
     "output_type": "execute_result"
    }
   ],
   "source": [
    "most_common_tournaments"
   ]
  },
  {
   "cell_type": "markdown",
   "id": "6a71ad2e-6627-483e-aae8-614b487b5e3f",
   "metadata": {},
   "source": [
    "Filter `results_df` using Pandas `isin()` to retain rows in `most_common_tournaments` using boolean indexing and assign to a variable called `most_common_tournaments_df`."
   ]
  },
  {
   "cell_type": "code",
   "execution_count": 28,
   "id": "44043a65-7a63-4816-9cc6-a68a5ecf4ead",
   "metadata": {},
   "outputs": [],
   "source": [
    "most_common_tournaments_df = results_df[results_df.tournament.isin(most_common_tournaments)]"
   ]
  },
  {
   "cell_type": "markdown",
   "id": "955fe12a-df35-4c3b-bb5f-03330825871e",
   "metadata": {},
   "source": [
    "Check the `shape` of this to confirm we have subsetted the data-set."
   ]
  },
  {
   "cell_type": "code",
   "execution_count": 29,
   "id": "065829e7-4c34-41f5-a4b8-4fc159262197",
   "metadata": {},
   "outputs": [
    {
     "data": {
      "text/plain": [
       "(39985, 11)"
      ]
     },
     "execution_count": 29,
     "metadata": {},
     "output_type": "execute_result"
    }
   ],
   "source": [
    "most_common_tournaments_df.shape"
   ]
  },
  {
   "cell_type": "markdown",
   "id": "09a8b779-e864-4410-809c-749d34508f93",
   "metadata": {},
   "source": [
    "Now use Pandas `groupby()` in conjunction with Pandas `agg()` to find the average number of `total_score` per `tournament`."
   ]
  },
  {
   "cell_type": "code",
   "execution_count": 30,
   "id": "2b023335-cd98-4359-ba6a-e54756f8bae0",
   "metadata": {},
   "outputs": [
    {
     "data": {
      "text/html": [
       "<div>\n",
       "<style scoped>\n",
       "    .dataframe tbody tr th:only-of-type {\n",
       "        vertical-align: middle;\n",
       "    }\n",
       "\n",
       "    .dataframe tbody tr th {\n",
       "        vertical-align: top;\n",
       "    }\n",
       "\n",
       "    .dataframe thead th {\n",
       "        text-align: right;\n",
       "    }\n",
       "</style>\n",
       "<table border=\"1\" class=\"dataframe\">\n",
       "  <thead>\n",
       "    <tr style=\"text-align: right;\">\n",
       "      <th></th>\n",
       "      <th>count</th>\n",
       "      <th>mean</th>\n",
       "      <th>median</th>\n",
       "    </tr>\n",
       "    <tr>\n",
       "      <th>tournament</th>\n",
       "      <th></th>\n",
       "      <th></th>\n",
       "      <th></th>\n",
       "    </tr>\n",
       "  </thead>\n",
       "  <tbody>\n",
       "    <tr>\n",
       "      <th>AFC Asian Cup</th>\n",
       "      <td>370</td>\n",
       "      <td>2.667568</td>\n",
       "      <td>2</td>\n",
       "    </tr>\n",
       "    <tr>\n",
       "      <th>AFC Asian Cup qualification</th>\n",
       "      <td>724</td>\n",
       "      <td>3.341160</td>\n",
       "      <td>3</td>\n",
       "    </tr>\n",
       "    <tr>\n",
       "      <th>AFC Challenge Cup</th>\n",
       "      <td>100</td>\n",
       "      <td>2.660000</td>\n",
       "      <td>2</td>\n",
       "    </tr>\n",
       "    <tr>\n",
       "      <th>AFF Championship</th>\n",
       "      <td>293</td>\n",
       "      <td>3.430034</td>\n",
       "      <td>3</td>\n",
       "    </tr>\n",
       "    <tr>\n",
       "      <th>African Cup of Nations</th>\n",
       "      <td>690</td>\n",
       "      <td>2.421739</td>\n",
       "      <td>2</td>\n",
       "    </tr>\n",
       "    <tr>\n",
       "      <th>African Cup of Nations qualification</th>\n",
       "      <td>1719</td>\n",
       "      <td>2.375218</td>\n",
       "      <td>2</td>\n",
       "    </tr>\n",
       "    <tr>\n",
       "      <th>African Nations Championship</th>\n",
       "      <td>264</td>\n",
       "      <td>2.541667</td>\n",
       "      <td>2</td>\n",
       "    </tr>\n",
       "    <tr>\n",
       "      <th>Amílcar Cabral Cup</th>\n",
       "      <td>235</td>\n",
       "      <td>2.246809</td>\n",
       "      <td>2</td>\n",
       "    </tr>\n",
       "    <tr>\n",
       "      <th>British Championship</th>\n",
       "      <td>505</td>\n",
       "      <td>3.520792</td>\n",
       "      <td>3</td>\n",
       "    </tr>\n",
       "    <tr>\n",
       "      <th>CCCF Championship</th>\n",
       "      <td>123</td>\n",
       "      <td>4.463415</td>\n",
       "      <td>4</td>\n",
       "    </tr>\n",
       "    <tr>\n",
       "      <th>CECAFA Cup</th>\n",
       "      <td>620</td>\n",
       "      <td>2.514516</td>\n",
       "      <td>2</td>\n",
       "    </tr>\n",
       "    <tr>\n",
       "      <th>CFU Caribbean Cup</th>\n",
       "      <td>251</td>\n",
       "      <td>2.884462</td>\n",
       "      <td>3</td>\n",
       "    </tr>\n",
       "    <tr>\n",
       "      <th>CFU Caribbean Cup qualification</th>\n",
       "      <td>606</td>\n",
       "      <td>3.506601</td>\n",
       "      <td>3</td>\n",
       "    </tr>\n",
       "    <tr>\n",
       "      <th>CONCACAF Nations League</th>\n",
       "      <td>102</td>\n",
       "      <td>3.205882</td>\n",
       "      <td>3</td>\n",
       "    </tr>\n",
       "    <tr>\n",
       "      <th>CONIFA World Football Cup</th>\n",
       "      <td>101</td>\n",
       "      <td>4.198020</td>\n",
       "      <td>4</td>\n",
       "    </tr>\n",
       "    <tr>\n",
       "      <th>COSAFA Cup</th>\n",
       "      <td>292</td>\n",
       "      <td>2.219178</td>\n",
       "      <td>2</td>\n",
       "    </tr>\n",
       "    <tr>\n",
       "      <th>Confederations Cup</th>\n",
       "      <td>140</td>\n",
       "      <td>3.021429</td>\n",
       "      <td>3</td>\n",
       "    </tr>\n",
       "    <tr>\n",
       "      <th>Copa América</th>\n",
       "      <td>813</td>\n",
       "      <td>3.205412</td>\n",
       "      <td>3</td>\n",
       "    </tr>\n",
       "    <tr>\n",
       "      <th>EAFF Championship</th>\n",
       "      <td>122</td>\n",
       "      <td>3.901639</td>\n",
       "      <td>3</td>\n",
       "    </tr>\n",
       "    <tr>\n",
       "      <th>FIFA World Cup</th>\n",
       "      <td>900</td>\n",
       "      <td>2.831111</td>\n",
       "      <td>3</td>\n",
       "    </tr>\n",
       "    <tr>\n",
       "      <th>FIFA World Cup qualification</th>\n",
       "      <td>7378</td>\n",
       "      <td>2.895907</td>\n",
       "      <td>3</td>\n",
       "    </tr>\n",
       "    <tr>\n",
       "      <th>Friendly</th>\n",
       "      <td>17273</td>\n",
       "      <td>2.895386</td>\n",
       "      <td>3</td>\n",
       "    </tr>\n",
       "    <tr>\n",
       "      <th>Gold Cup</th>\n",
       "      <td>327</td>\n",
       "      <td>2.761468</td>\n",
       "      <td>2</td>\n",
       "    </tr>\n",
       "    <tr>\n",
       "      <th>Gulf Cup</th>\n",
       "      <td>380</td>\n",
       "      <td>2.500000</td>\n",
       "      <td>2</td>\n",
       "    </tr>\n",
       "    <tr>\n",
       "      <th>International Cup</th>\n",
       "      <td>127</td>\n",
       "      <td>4.173228</td>\n",
       "      <td>4</td>\n",
       "    </tr>\n",
       "    <tr>\n",
       "      <th>Island Games</th>\n",
       "      <td>350</td>\n",
       "      <td>4.014286</td>\n",
       "      <td>3</td>\n",
       "    </tr>\n",
       "    <tr>\n",
       "      <th>King's Cup</th>\n",
       "      <td>234</td>\n",
       "      <td>2.952991</td>\n",
       "      <td>3</td>\n",
       "    </tr>\n",
       "    <tr>\n",
       "      <th>Korea Cup</th>\n",
       "      <td>159</td>\n",
       "      <td>3.075472</td>\n",
       "      <td>3</td>\n",
       "    </tr>\n",
       "    <tr>\n",
       "      <th>Merdeka Tournament</th>\n",
       "      <td>503</td>\n",
       "      <td>3.341948</td>\n",
       "      <td>3</td>\n",
       "    </tr>\n",
       "    <tr>\n",
       "      <th>Nordic Championship</th>\n",
       "      <td>283</td>\n",
       "      <td>3.844523</td>\n",
       "      <td>3</td>\n",
       "    </tr>\n",
       "    <tr>\n",
       "      <th>Oceania Nations Cup</th>\n",
       "      <td>101</td>\n",
       "      <td>4.336634</td>\n",
       "      <td>4</td>\n",
       "    </tr>\n",
       "    <tr>\n",
       "      <th>SAFF Cup</th>\n",
       "      <td>136</td>\n",
       "      <td>2.875000</td>\n",
       "      <td>3</td>\n",
       "    </tr>\n",
       "    <tr>\n",
       "      <th>South Pacific Games</th>\n",
       "      <td>205</td>\n",
       "      <td>5.912195</td>\n",
       "      <td>4</td>\n",
       "    </tr>\n",
       "    <tr>\n",
       "      <th>UAFA Cup</th>\n",
       "      <td>122</td>\n",
       "      <td>2.852459</td>\n",
       "      <td>3</td>\n",
       "    </tr>\n",
       "    <tr>\n",
       "      <th>UEFA Euro</th>\n",
       "      <td>286</td>\n",
       "      <td>2.402098</td>\n",
       "      <td>2</td>\n",
       "    </tr>\n",
       "    <tr>\n",
       "      <th>UEFA Euro qualification</th>\n",
       "      <td>2582</td>\n",
       "      <td>2.829589</td>\n",
       "      <td>3</td>\n",
       "    </tr>\n",
       "    <tr>\n",
       "      <th>UEFA Nations League</th>\n",
       "      <td>304</td>\n",
       "      <td>2.335526</td>\n",
       "      <td>2</td>\n",
       "    </tr>\n",
       "    <tr>\n",
       "      <th>UNCAF Cup</th>\n",
       "      <td>164</td>\n",
       "      <td>2.548780</td>\n",
       "      <td>2</td>\n",
       "    </tr>\n",
       "    <tr>\n",
       "      <th>Windward Islands Tournament</th>\n",
       "      <td>101</td>\n",
       "      <td>3.247525</td>\n",
       "      <td>3</td>\n",
       "    </tr>\n",
       "  </tbody>\n",
       "</table>\n",
       "</div>"
      ],
      "text/plain": [
       "                                      count      mean  median\n",
       "tournament                                                   \n",
       "AFC Asian Cup                           370  2.667568       2\n",
       "AFC Asian Cup qualification             724  3.341160       3\n",
       "AFC Challenge Cup                       100  2.660000       2\n",
       "AFF Championship                        293  3.430034       3\n",
       "African Cup of Nations                  690  2.421739       2\n",
       "African Cup of Nations qualification   1719  2.375218       2\n",
       "African Nations Championship            264  2.541667       2\n",
       "Amílcar Cabral Cup                      235  2.246809       2\n",
       "British Championship                    505  3.520792       3\n",
       "CCCF Championship                       123  4.463415       4\n",
       "CECAFA Cup                              620  2.514516       2\n",
       "CFU Caribbean Cup                       251  2.884462       3\n",
       "CFU Caribbean Cup qualification         606  3.506601       3\n",
       "CONCACAF Nations League                 102  3.205882       3\n",
       "CONIFA World Football Cup               101  4.198020       4\n",
       "COSAFA Cup                              292  2.219178       2\n",
       "Confederations Cup                      140  3.021429       3\n",
       "Copa América                            813  3.205412       3\n",
       "EAFF Championship                       122  3.901639       3\n",
       "FIFA World Cup                          900  2.831111       3\n",
       "FIFA World Cup qualification           7378  2.895907       3\n",
       "Friendly                              17273  2.895386       3\n",
       "Gold Cup                                327  2.761468       2\n",
       "Gulf Cup                                380  2.500000       2\n",
       "International Cup                       127  4.173228       4\n",
       "Island Games                            350  4.014286       3\n",
       "King's Cup                              234  2.952991       3\n",
       "Korea Cup                               159  3.075472       3\n",
       "Merdeka Tournament                      503  3.341948       3\n",
       "Nordic Championship                     283  3.844523       3\n",
       "Oceania Nations Cup                     101  4.336634       4\n",
       "SAFF Cup                                136  2.875000       3\n",
       "South Pacific Games                     205  5.912195       4\n",
       "UAFA Cup                                122  2.852459       3\n",
       "UEFA Euro                               286  2.402098       2\n",
       "UEFA Euro qualification                2582  2.829589       3\n",
       "UEFA Nations League                     304  2.335526       2\n",
       "UNCAF Cup                               164  2.548780       2\n",
       "Windward Islands Tournament             101  3.247525       3"
      ]
     },
     "execution_count": 30,
     "metadata": {},
     "output_type": "execute_result"
    }
   ],
   "source": [
    "most_common_tournaments_df.groupby('tournament')['total_score'].agg(['count', 'mean', 'median'])"
   ]
  },
  {
   "cell_type": "markdown",
   "id": "c9b64c88-647f-42ae-91c7-5879318efef3",
   "metadata": {},
   "source": [
    "Sort it by `mean` using Pandas `sort_values()` and use Pandas `tail()` to view the top 5 tournaments."
   ]
  },
  {
   "cell_type": "code",
   "execution_count": 31,
   "id": "44ecb982-6d5c-42a5-96b8-8e158d136095",
   "metadata": {},
   "outputs": [
    {
     "data": {
      "text/html": [
       "<div>\n",
       "<style scoped>\n",
       "    .dataframe tbody tr th:only-of-type {\n",
       "        vertical-align: middle;\n",
       "    }\n",
       "\n",
       "    .dataframe tbody tr th {\n",
       "        vertical-align: top;\n",
       "    }\n",
       "\n",
       "    .dataframe thead th {\n",
       "        text-align: right;\n",
       "    }\n",
       "</style>\n",
       "<table border=\"1\" class=\"dataframe\">\n",
       "  <thead>\n",
       "    <tr style=\"text-align: right;\">\n",
       "      <th></th>\n",
       "      <th>count</th>\n",
       "      <th>mean</th>\n",
       "      <th>median</th>\n",
       "    </tr>\n",
       "    <tr>\n",
       "      <th>tournament</th>\n",
       "      <th></th>\n",
       "      <th></th>\n",
       "      <th></th>\n",
       "    </tr>\n",
       "  </thead>\n",
       "  <tbody>\n",
       "    <tr>\n",
       "      <th>International Cup</th>\n",
       "      <td>127</td>\n",
       "      <td>4.173228</td>\n",
       "      <td>4</td>\n",
       "    </tr>\n",
       "    <tr>\n",
       "      <th>CONIFA World Football Cup</th>\n",
       "      <td>101</td>\n",
       "      <td>4.198020</td>\n",
       "      <td>4</td>\n",
       "    </tr>\n",
       "    <tr>\n",
       "      <th>Oceania Nations Cup</th>\n",
       "      <td>101</td>\n",
       "      <td>4.336634</td>\n",
       "      <td>4</td>\n",
       "    </tr>\n",
       "    <tr>\n",
       "      <th>CCCF Championship</th>\n",
       "      <td>123</td>\n",
       "      <td>4.463415</td>\n",
       "      <td>4</td>\n",
       "    </tr>\n",
       "    <tr>\n",
       "      <th>South Pacific Games</th>\n",
       "      <td>205</td>\n",
       "      <td>5.912195</td>\n",
       "      <td>4</td>\n",
       "    </tr>\n",
       "  </tbody>\n",
       "</table>\n",
       "</div>"
      ],
      "text/plain": [
       "                           count      mean  median\n",
       "tournament                                        \n",
       "International Cup            127  4.173228       4\n",
       "CONIFA World Football Cup    101  4.198020       4\n",
       "Oceania Nations Cup          101  4.336634       4\n",
       "CCCF Championship            123  4.463415       4\n",
       "South Pacific Games          205  5.912195       4"
      ]
     },
     "execution_count": 31,
     "metadata": {},
     "output_type": "execute_result"
    }
   ],
   "source": [
    "most_common_tournaments_df.groupby('tournament')['total_score'].agg(['count', 'mean', 'median']).sort_values('mean').tail()"
   ]
  },
  {
   "cell_type": "markdown",
   "id": "4c1e3b4a-14db-4965-9404-2d068cfc812a",
   "metadata": {},
   "source": [
    "Plot this as a horizontal bar chart using Pandas `plot(kind='barh')`. Notice that we tweak the code slightly to use Pandas `mean()` instead of Pandas `agg()` to make it easier to just plot the mean."
   ]
  },
  {
   "cell_type": "code",
   "execution_count": 32,
   "id": "1791a69d-307c-48e4-9c16-e1a4da524ef6",
   "metadata": {},
   "outputs": [
    {
     "data": {
      "text/plain": [
       "<AxesSubplot:ylabel='tournament'>"
      ]
     },
     "execution_count": 32,
     "metadata": {},
     "output_type": "execute_result"
    },
    {
     "data": {
      "image/png": "[encoded data removed]",
      "text/plain": [
       "<Figure size 432x288 with 1 Axes>"
      ]
     },
     "metadata": {
      "needs_background": "light"
     },
     "output_type": "display_data"
    }
   ],
   "source": [
    "most_common_tournaments_df.groupby('tournament')['total_score'].mean().sort_values().tail().plot(kind='barh')"
   ]
  },
  {
   "cell_type": "markdown",
   "id": "a20d19fd-d000-47e7-8dd6-33dc21d8fafe",
   "metadata": {},
   "source": [
    "## Which scores are most common at the Euros?"
   ]
  },
  {
   "cell_type": "markdown",
   "id": "853bd7e6-5b1e-4d2f-9525-16ac99ba1c03",
   "metadata": {},
   "source": [
    "Lets look at the score distribution of matches in the Euros! \n",
    "\n",
    "Start by filtering `results_df` using boolean indexing."
   ]
  },
  {
   "cell_type": "code",
   "execution_count": 33,
   "id": "85c2d465-1058-4897-b170-cbc8a5e35bf4",
   "metadata": {},
   "outputs": [],
   "source": [
    "euro_df = results_df[results_df['tournament'] == 'UEFA Euro']"
   ]
  },
  {
   "cell_type": "markdown",
   "id": "4c18cc59-edf3-48eb-a6b7-049516a7aa83",
   "metadata": {},
   "source": [
    "Check we have the correct data by using Pandas `head()` and `tail()`."
   ]
  },
  {
   "cell_type": "code",
   "execution_count": 34,
   "id": "590c6e8d-f984-44ce-a2b3-7d3a38e2aed4",
   "metadata": {},
   "outputs": [
    {
     "data": {
      "text/html": [
       "<div>\n",
       "<style scoped>\n",
       "    .dataframe tbody tr th:only-of-type {\n",
       "        vertical-align: middle;\n",
       "    }\n",
       "\n",
       "    .dataframe tbody tr th {\n",
       "        vertical-align: top;\n",
       "    }\n",
       "\n",
       "    .dataframe thead th {\n",
       "        text-align: right;\n",
       "    }\n",
       "</style>\n",
       "<table border=\"1\" class=\"dataframe\">\n",
       "  <thead>\n",
       "    <tr style=\"text-align: right;\">\n",
       "      <th></th>\n",
       "      <th>date</th>\n",
       "      <th>home_team</th>\n",
       "      <th>away_team</th>\n",
       "      <th>home_score</th>\n",
       "      <th>away_score</th>\n",
       "      <th>tournament</th>\n",
       "      <th>city</th>\n",
       "      <th>country</th>\n",
       "      <th>neutral</th>\n",
       "      <th>date_time</th>\n",
       "      <th>total_score</th>\n",
       "    </tr>\n",
       "  </thead>\n",
       "  <tbody>\n",
       "    <tr>\n",
       "      <th>4747</th>\n",
       "      <td>1960-07-06</td>\n",
       "      <td>Czechoslovakia</td>\n",
       "      <td>Russia</td>\n",
       "      <td>0</td>\n",
       "      <td>3</td>\n",
       "      <td>UEFA Euro</td>\n",
       "      <td>Marseille</td>\n",
       "      <td>France</td>\n",
       "      <td>True</td>\n",
       "      <td>1960-07-06</td>\n",
       "      <td>3</td>\n",
       "    </tr>\n",
       "    <tr>\n",
       "      <th>4748</th>\n",
       "      <td>1960-07-06</td>\n",
       "      <td>France</td>\n",
       "      <td>Yugoslavia</td>\n",
       "      <td>4</td>\n",
       "      <td>5</td>\n",
       "      <td>UEFA Euro</td>\n",
       "      <td>Paris</td>\n",
       "      <td>France</td>\n",
       "      <td>False</td>\n",
       "      <td>1960-07-06</td>\n",
       "      <td>9</td>\n",
       "    </tr>\n",
       "    <tr>\n",
       "      <th>4750</th>\n",
       "      <td>1960-07-09</td>\n",
       "      <td>France</td>\n",
       "      <td>Czechoslovakia</td>\n",
       "      <td>0</td>\n",
       "      <td>2</td>\n",
       "      <td>UEFA Euro</td>\n",
       "      <td>Marseille</td>\n",
       "      <td>France</td>\n",
       "      <td>False</td>\n",
       "      <td>1960-07-09</td>\n",
       "      <td>2</td>\n",
       "    </tr>\n",
       "    <tr>\n",
       "      <th>4755</th>\n",
       "      <td>1960-07-10</td>\n",
       "      <td>Russia</td>\n",
       "      <td>Yugoslavia</td>\n",
       "      <td>2</td>\n",
       "      <td>1</td>\n",
       "      <td>UEFA Euro</td>\n",
       "      <td>Paris</td>\n",
       "      <td>France</td>\n",
       "      <td>True</td>\n",
       "      <td>1960-07-10</td>\n",
       "      <td>3</td>\n",
       "    </tr>\n",
       "    <tr>\n",
       "      <th>5644</th>\n",
       "      <td>1964-06-17</td>\n",
       "      <td>Denmark</td>\n",
       "      <td>Russia</td>\n",
       "      <td>0</td>\n",
       "      <td>3</td>\n",
       "      <td>UEFA Euro</td>\n",
       "      <td>Barcelona</td>\n",
       "      <td>Spain</td>\n",
       "      <td>True</td>\n",
       "      <td>1964-06-17</td>\n",
       "      <td>3</td>\n",
       "    </tr>\n",
       "  </tbody>\n",
       "</table>\n",
       "</div>"
      ],
      "text/plain": [
       "            date       home_team       away_team  home_score  away_score  \\\n",
       "4747  1960-07-06  Czechoslovakia          Russia           0           3   \n",
       "4748  1960-07-06          France      Yugoslavia           4           5   \n",
       "4750  1960-07-09          France  Czechoslovakia           0           2   \n",
       "4755  1960-07-10          Russia      Yugoslavia           2           1   \n",
       "5644  1964-06-17         Denmark          Russia           0           3   \n",
       "\n",
       "     tournament       city country  neutral  date_time  total_score  \n",
       "4747  UEFA Euro  Marseille  France     True 1960-07-06            3  \n",
       "4748  UEFA Euro      Paris  France    False 1960-07-06            9  \n",
       "4750  UEFA Euro  Marseille  France    False 1960-07-09            2  \n",
       "4755  UEFA Euro      Paris  France     True 1960-07-10            3  \n",
       "5644  UEFA Euro  Barcelona   Spain     True 1964-06-17            3  "
      ]
     },
     "execution_count": 34,
     "metadata": {},
     "output_type": "execute_result"
    }
   ],
   "source": [
    "euro_df.head()"
   ]
  },
  {
   "cell_type": "code",
   "execution_count": 35,
   "id": "8b274d64-680f-4272-a7dd-2164da460f5c",
   "metadata": {},
   "outputs": [
    {
     "data": {
      "text/html": [
       "<div>\n",
       "<style scoped>\n",
       "    .dataframe tbody tr th:only-of-type {\n",
       "        vertical-align: middle;\n",
       "    }\n",
       "\n",
       "    .dataframe tbody tr th {\n",
       "        vertical-align: top;\n",
       "    }\n",
       "\n",
       "    .dataframe thead th {\n",
       "        text-align: right;\n",
       "    }\n",
       "</style>\n",
       "<table border=\"1\" class=\"dataframe\">\n",
       "  <thead>\n",
       "    <tr style=\"text-align: right;\">\n",
       "      <th></th>\n",
       "      <th>date</th>\n",
       "      <th>home_team</th>\n",
       "      <th>away_team</th>\n",
       "      <th>home_score</th>\n",
       "      <th>away_score</th>\n",
       "      <th>tournament</th>\n",
       "      <th>city</th>\n",
       "      <th>country</th>\n",
       "      <th>neutral</th>\n",
       "      <th>date_time</th>\n",
       "      <th>total_score</th>\n",
       "    </tr>\n",
       "  </thead>\n",
       "  <tbody>\n",
       "    <tr>\n",
       "      <th>38181</th>\n",
       "      <td>2016-07-02</td>\n",
       "      <td>Germany</td>\n",
       "      <td>Italy</td>\n",
       "      <td>1</td>\n",
       "      <td>1</td>\n",
       "      <td>UEFA Euro</td>\n",
       "      <td>Bordeaux</td>\n",
       "      <td>France</td>\n",
       "      <td>True</td>\n",
       "      <td>2016-07-02</td>\n",
       "      <td>2</td>\n",
       "    </tr>\n",
       "    <tr>\n",
       "      <th>38184</th>\n",
       "      <td>2016-07-03</td>\n",
       "      <td>France</td>\n",
       "      <td>Iceland</td>\n",
       "      <td>5</td>\n",
       "      <td>2</td>\n",
       "      <td>UEFA Euro</td>\n",
       "      <td>Saint-Denis</td>\n",
       "      <td>France</td>\n",
       "      <td>False</td>\n",
       "      <td>2016-07-03</td>\n",
       "      <td>7</td>\n",
       "    </tr>\n",
       "    <tr>\n",
       "      <th>38186</th>\n",
       "      <td>2016-07-06</td>\n",
       "      <td>Portugal</td>\n",
       "      <td>Wales</td>\n",
       "      <td>2</td>\n",
       "      <td>0</td>\n",
       "      <td>UEFA Euro</td>\n",
       "      <td>Lyon</td>\n",
       "      <td>France</td>\n",
       "      <td>True</td>\n",
       "      <td>2016-07-06</td>\n",
       "      <td>2</td>\n",
       "    </tr>\n",
       "    <tr>\n",
       "      <th>38187</th>\n",
       "      <td>2016-07-07</td>\n",
       "      <td>France</td>\n",
       "      <td>Germany</td>\n",
       "      <td>2</td>\n",
       "      <td>0</td>\n",
       "      <td>UEFA Euro</td>\n",
       "      <td>Marseille</td>\n",
       "      <td>France</td>\n",
       "      <td>False</td>\n",
       "      <td>2016-07-07</td>\n",
       "      <td>2</td>\n",
       "    </tr>\n",
       "    <tr>\n",
       "      <th>38188</th>\n",
       "      <td>2016-07-10</td>\n",
       "      <td>France</td>\n",
       "      <td>Portugal</td>\n",
       "      <td>0</td>\n",
       "      <td>1</td>\n",
       "      <td>UEFA Euro</td>\n",
       "      <td>Saint-Denis</td>\n",
       "      <td>France</td>\n",
       "      <td>False</td>\n",
       "      <td>2016-07-10</td>\n",
       "      <td>1</td>\n",
       "    </tr>\n",
       "  </tbody>\n",
       "</table>\n",
       "</div>"
      ],
      "text/plain": [
       "             date home_team away_team  home_score  away_score tournament  \\\n",
       "38181  2016-07-02   Germany     Italy           1           1  UEFA Euro   \n",
       "38184  2016-07-03    France   Iceland           5           2  UEFA Euro   \n",
       "38186  2016-07-06  Portugal     Wales           2           0  UEFA Euro   \n",
       "38187  2016-07-07    France   Germany           2           0  UEFA Euro   \n",
       "38188  2016-07-10    France  Portugal           0           1  UEFA Euro   \n",
       "\n",
       "              city country  neutral  date_time  total_score  \n",
       "38181     Bordeaux  France     True 2016-07-02            2  \n",
       "38184  Saint-Denis  France    False 2016-07-03            7  \n",
       "38186         Lyon  France     True 2016-07-06            2  \n",
       "38187    Marseille  France    False 2016-07-07            2  \n",
       "38188  Saint-Denis  France    False 2016-07-10            1  "
      ]
     },
     "execution_count": 35,
     "metadata": {},
     "output_type": "execute_result"
    }
   ],
   "source": [
    "euro_df.tail()"
   ]
  },
  {
   "cell_type": "markdown",
   "id": "fb775840-bee5-4769-ad06-b4e6854936bf",
   "metadata": {},
   "source": [
    "Pefect, the Euros are every 4 years normally but last years is missing due to COVID.\n",
    "\n",
    "Lets check if the mean score has changed over the years. We use similar syntax to before but ensuring we are group by the year not the whole `date_time`!"
   ]
  },
  {
   "cell_type": "code",
   "execution_count": 36,
   "id": "4378fbbf-363b-40f0-91e2-63386a941d3b",
   "metadata": {},
   "outputs": [
    {
     "data": {
      "text/plain": [
       "<AxesSubplot:xlabel='date_time'>"
      ]
     },
     "execution_count": 36,
     "metadata": {},
     "output_type": "execute_result"
    },
    {
     "data": {
      "image/png": "[encoded data removed]",
      "text/plain": [
       "<Figure size 432x288 with 1 Axes>"
      ]
     },
     "metadata": {
      "needs_background": "light"
     },
     "output_type": "display_data"
    }
   ],
   "source": [
    "euro_df.groupby(euro_df['date_time'].dt.year)['total_score'].mean().plot()"
   ]
  },
  {
   "cell_type": "markdown",
   "id": "fb6686b7-c8ae-4a8b-a297-e7cfb96d4743",
   "metadata": {},
   "source": [
    "Looks like there was quite a bit of variation prior to 1980, so we will filter them out using boolean indexing and create a new Pandas DataFrame called `recent_euro_df`."
   ]
  },
  {
   "cell_type": "code",
   "execution_count": 37,
   "id": "8ffa1e30-baf9-4b6c-82cb-1a598d4c7744",
   "metadata": {},
   "outputs": [],
   "source": [
    "recent_euro_df = euro_df[euro_df['date_time'].dt.year >= 1980]"
   ]
  },
  {
   "cell_type": "markdown",
   "id": "879872e9-dd0d-4662-8eed-6932b3042631",
   "metadata": {},
   "source": [
    "Again check using `head()` and `tail()` that we have the correct data."
   ]
  },
  {
   "cell_type": "code",
   "execution_count": 38,
   "id": "4995ccc7-2850-4d6f-90b6-ae3b656cbe35",
   "metadata": {},
   "outputs": [
    {
     "data": {
      "text/html": [
       "<div>\n",
       "<style scoped>\n",
       "    .dataframe tbody tr th:only-of-type {\n",
       "        vertical-align: middle;\n",
       "    }\n",
       "\n",
       "    .dataframe tbody tr th {\n",
       "        vertical-align: top;\n",
       "    }\n",
       "\n",
       "    .dataframe thead th {\n",
       "        text-align: right;\n",
       "    }\n",
       "</style>\n",
       "<table border=\"1\" class=\"dataframe\">\n",
       "  <thead>\n",
       "    <tr style=\"text-align: right;\">\n",
       "      <th></th>\n",
       "      <th>date</th>\n",
       "      <th>home_team</th>\n",
       "      <th>away_team</th>\n",
       "      <th>home_score</th>\n",
       "      <th>away_score</th>\n",
       "      <th>tournament</th>\n",
       "      <th>city</th>\n",
       "      <th>country</th>\n",
       "      <th>neutral</th>\n",
       "      <th>date_time</th>\n",
       "      <th>total_score</th>\n",
       "    </tr>\n",
       "  </thead>\n",
       "  <tbody>\n",
       "    <tr>\n",
       "      <th>11292</th>\n",
       "      <td>1980-06-11</td>\n",
       "      <td>Czechoslovakia</td>\n",
       "      <td>Germany</td>\n",
       "      <td>0</td>\n",
       "      <td>1</td>\n",
       "      <td>UEFA Euro</td>\n",
       "      <td>Rome</td>\n",
       "      <td>Italy</td>\n",
       "      <td>True</td>\n",
       "      <td>1980-06-11</td>\n",
       "      <td>1</td>\n",
       "    </tr>\n",
       "    <tr>\n",
       "      <th>11293</th>\n",
       "      <td>1980-06-11</td>\n",
       "      <td>Netherlands</td>\n",
       "      <td>Greece</td>\n",
       "      <td>1</td>\n",
       "      <td>0</td>\n",
       "      <td>UEFA Euro</td>\n",
       "      <td>Naples</td>\n",
       "      <td>Italy</td>\n",
       "      <td>True</td>\n",
       "      <td>1980-06-11</td>\n",
       "      <td>1</td>\n",
       "    </tr>\n",
       "    <tr>\n",
       "      <th>11294</th>\n",
       "      <td>1980-06-12</td>\n",
       "      <td>Belgium</td>\n",
       "      <td>England</td>\n",
       "      <td>1</td>\n",
       "      <td>1</td>\n",
       "      <td>UEFA Euro</td>\n",
       "      <td>Turin</td>\n",
       "      <td>Italy</td>\n",
       "      <td>True</td>\n",
       "      <td>1980-06-12</td>\n",
       "      <td>2</td>\n",
       "    </tr>\n",
       "    <tr>\n",
       "      <th>11296</th>\n",
       "      <td>1980-06-12</td>\n",
       "      <td>Italy</td>\n",
       "      <td>Spain</td>\n",
       "      <td>0</td>\n",
       "      <td>0</td>\n",
       "      <td>UEFA Euro</td>\n",
       "      <td>Milan</td>\n",
       "      <td>Italy</td>\n",
       "      <td>False</td>\n",
       "      <td>1980-06-12</td>\n",
       "      <td>0</td>\n",
       "    </tr>\n",
       "    <tr>\n",
       "      <th>11301</th>\n",
       "      <td>1980-06-14</td>\n",
       "      <td>Germany</td>\n",
       "      <td>Netherlands</td>\n",
       "      <td>3</td>\n",
       "      <td>2</td>\n",
       "      <td>UEFA Euro</td>\n",
       "      <td>Naples</td>\n",
       "      <td>Italy</td>\n",
       "      <td>True</td>\n",
       "      <td>1980-06-14</td>\n",
       "      <td>5</td>\n",
       "    </tr>\n",
       "  </tbody>\n",
       "</table>\n",
       "</div>"
      ],
      "text/plain": [
       "             date       home_team    away_team  home_score  away_score  \\\n",
       "11292  1980-06-11  Czechoslovakia      Germany           0           1   \n",
       "11293  1980-06-11     Netherlands       Greece           1           0   \n",
       "11294  1980-06-12         Belgium      England           1           1   \n",
       "11296  1980-06-12           Italy        Spain           0           0   \n",
       "11301  1980-06-14         Germany  Netherlands           3           2   \n",
       "\n",
       "      tournament    city country  neutral  date_time  total_score  \n",
       "11292  UEFA Euro    Rome   Italy     True 1980-06-11            1  \n",
       "11293  UEFA Euro  Naples   Italy     True 1980-06-11            1  \n",
       "11294  UEFA Euro   Turin   Italy     True 1980-06-12            2  \n",
       "11296  UEFA Euro   Milan   Italy    False 1980-06-12            0  \n",
       "11301  UEFA Euro  Naples   Italy     True 1980-06-14            5  "
      ]
     },
     "execution_count": 38,
     "metadata": {},
     "output_type": "execute_result"
    }
   ],
   "source": [
    "recent_euro_df.head()"
   ]
  },
  {
   "cell_type": "code",
   "execution_count": 39,
   "id": "d5259841-a2bf-4e91-958d-2a7be01a6d74",
   "metadata": {},
   "outputs": [
    {
     "data": {
      "text/html": [
       "<div>\n",
       "<style scoped>\n",
       "    .dataframe tbody tr th:only-of-type {\n",
       "        vertical-align: middle;\n",
       "    }\n",
       "\n",
       "    .dataframe tbody tr th {\n",
       "        vertical-align: top;\n",
       "    }\n",
       "\n",
       "    .dataframe thead th {\n",
       "        text-align: right;\n",
       "    }\n",
       "</style>\n",
       "<table border=\"1\" class=\"dataframe\">\n",
       "  <thead>\n",
       "    <tr style=\"text-align: right;\">\n",
       "      <th></th>\n",
       "      <th>date</th>\n",
       "      <th>home_team</th>\n",
       "      <th>away_team</th>\n",
       "      <th>home_score</th>\n",
       "      <th>away_score</th>\n",
       "      <th>tournament</th>\n",
       "      <th>city</th>\n",
       "      <th>country</th>\n",
       "      <th>neutral</th>\n",
       "      <th>date_time</th>\n",
       "      <th>total_score</th>\n",
       "    </tr>\n",
       "  </thead>\n",
       "  <tbody>\n",
       "    <tr>\n",
       "      <th>38181</th>\n",
       "      <td>2016-07-02</td>\n",
       "      <td>Germany</td>\n",
       "      <td>Italy</td>\n",
       "      <td>1</td>\n",
       "      <td>1</td>\n",
       "      <td>UEFA Euro</td>\n",
       "      <td>Bordeaux</td>\n",
       "      <td>France</td>\n",
       "      <td>True</td>\n",
       "      <td>2016-07-02</td>\n",
       "      <td>2</td>\n",
       "    </tr>\n",
       "    <tr>\n",
       "      <th>38184</th>\n",
       "      <td>2016-07-03</td>\n",
       "      <td>France</td>\n",
       "      <td>Iceland</td>\n",
       "      <td>5</td>\n",
       "      <td>2</td>\n",
       "      <td>UEFA Euro</td>\n",
       "      <td>Saint-Denis</td>\n",
       "      <td>France</td>\n",
       "      <td>False</td>\n",
       "      <td>2016-07-03</td>\n",
       "      <td>7</td>\n",
       "    </tr>\n",
       "    <tr>\n",
       "      <th>38186</th>\n",
       "      <td>2016-07-06</td>\n",
       "      <td>Portugal</td>\n",
       "      <td>Wales</td>\n",
       "      <td>2</td>\n",
       "      <td>0</td>\n",
       "      <td>UEFA Euro</td>\n",
       "      <td>Lyon</td>\n",
       "      <td>France</td>\n",
       "      <td>True</td>\n",
       "      <td>2016-07-06</td>\n",
       "      <td>2</td>\n",
       "    </tr>\n",
       "    <tr>\n",
       "      <th>38187</th>\n",
       "      <td>2016-07-07</td>\n",
       "      <td>France</td>\n",
       "      <td>Germany</td>\n",
       "      <td>2</td>\n",
       "      <td>0</td>\n",
       "      <td>UEFA Euro</td>\n",
       "      <td>Marseille</td>\n",
       "      <td>France</td>\n",
       "      <td>False</td>\n",
       "      <td>2016-07-07</td>\n",
       "      <td>2</td>\n",
       "    </tr>\n",
       "    <tr>\n",
       "      <th>38188</th>\n",
       "      <td>2016-07-10</td>\n",
       "      <td>France</td>\n",
       "      <td>Portugal</td>\n",
       "      <td>0</td>\n",
       "      <td>1</td>\n",
       "      <td>UEFA Euro</td>\n",
       "      <td>Saint-Denis</td>\n",
       "      <td>France</td>\n",
       "      <td>False</td>\n",
       "      <td>2016-07-10</td>\n",
       "      <td>1</td>\n",
       "    </tr>\n",
       "  </tbody>\n",
       "</table>\n",
       "</div>"
      ],
      "text/plain": [
       "             date home_team away_team  home_score  away_score tournament  \\\n",
       "38181  2016-07-02   Germany     Italy           1           1  UEFA Euro   \n",
       "38184  2016-07-03    France   Iceland           5           2  UEFA Euro   \n",
       "38186  2016-07-06  Portugal     Wales           2           0  UEFA Euro   \n",
       "38187  2016-07-07    France   Germany           2           0  UEFA Euro   \n",
       "38188  2016-07-10    France  Portugal           0           1  UEFA Euro   \n",
       "\n",
       "              city country  neutral  date_time  total_score  \n",
       "38181     Bordeaux  France     True 2016-07-02            2  \n",
       "38184  Saint-Denis  France    False 2016-07-03            7  \n",
       "38186         Lyon  France     True 2016-07-06            2  \n",
       "38187    Marseille  France    False 2016-07-07            2  \n",
       "38188  Saint-Denis  France    False 2016-07-10            1  "
      ]
     },
     "execution_count": 39,
     "metadata": {},
     "output_type": "execute_result"
    }
   ],
   "source": [
    "recent_euro_df.tail()"
   ]
  },
  {
   "cell_type": "markdown",
   "id": "8e537324-47d5-4422-96de-a3aaafd5ae99",
   "metadata": {},
   "source": [
    "We want to ensure we count the scores correctly.\n",
    "\n",
    "* When `recent_euro_df['neutral'] == True` then whether or not the team is home or away is irrelevant to the score (they are technically both away)\n",
    "\n",
    "* When `recent_euro_df['neutral'] == False` then the `home_score` and `away_score` order matters.\n",
    "\n",
    "We will start by using boolean indexing to subset a copy of `recent_euro_df` with only neutral matches."
   ]
  },
  {
   "cell_type": "code",
   "execution_count": 40,
   "id": "251773d5-2651-4e60-879c-68b66ff8d849",
   "metadata": {},
   "outputs": [],
   "source": [
    "neutral_recent_euro_df = recent_euro_df[recent_euro_df['neutral']].copy() # Notice we don't have to include == True"
   ]
  },
  {
   "cell_type": "markdown",
   "id": "a404a7ba-2b27-4ff1-9153-85e719b99124",
   "metadata": {},
   "source": [
    "Now create new columns (`min_score` and `max_score`) to order the scoreline logically."
   ]
  },
  {
   "cell_type": "code",
   "execution_count": 41,
   "id": "bf104dbe-a3d9-466c-a9f7-726861543450",
   "metadata": {},
   "outputs": [],
   "source": [
    "neutral_recent_euro_df['min_score'] = neutral_recent_euro_df[['home_score', 'away_score']].min(axis=1)\n",
    "neutral_recent_euro_df['max_score'] = neutral_recent_euro_df[['home_score', 'away_score']].max(axis=1)"
   ]
  },
  {
   "cell_type": "markdown",
   "id": "feb8fd99-642e-4f41-8320-d8d18a23244d",
   "metadata": {},
   "source": [
    "Check a random 5 records fromt the DataFrame to validate the new columns."
   ]
  },
  {
   "cell_type": "code",
   "execution_count": 42,
   "id": "5123d61f-8b85-4c74-a12b-0b1989e31ca3",
   "metadata": {},
   "outputs": [
    {
     "data": {
      "text/html": [
       "<div>\n",
       "<style scoped>\n",
       "    .dataframe tbody tr th:only-of-type {\n",
       "        vertical-align: middle;\n",
       "    }\n",
       "\n",
       "    .dataframe tbody tr th {\n",
       "        vertical-align: top;\n",
       "    }\n",
       "\n",
       "    .dataframe thead th {\n",
       "        text-align: right;\n",
       "    }\n",
       "</style>\n",
       "<table border=\"1\" class=\"dataframe\">\n",
       "  <thead>\n",
       "    <tr style=\"text-align: right;\">\n",
       "      <th></th>\n",
       "      <th>home_score</th>\n",
       "      <th>away_score</th>\n",
       "      <th>min_score</th>\n",
       "      <th>max_score</th>\n",
       "    </tr>\n",
       "  </thead>\n",
       "  <tbody>\n",
       "    <tr>\n",
       "      <th>14998</th>\n",
       "      <td>0</td>\n",
       "      <td>1</td>\n",
       "      <td>0</td>\n",
       "      <td>1</td>\n",
       "    </tr>\n",
       "    <tr>\n",
       "      <th>38121</th>\n",
       "      <td>1</td>\n",
       "      <td>1</td>\n",
       "      <td>1</td>\n",
       "      <td>1</td>\n",
       "    </tr>\n",
       "    <tr>\n",
       "      <th>26721</th>\n",
       "      <td>0</td>\n",
       "      <td>1</td>\n",
       "      <td>0</td>\n",
       "      <td>1</td>\n",
       "    </tr>\n",
       "    <tr>\n",
       "      <th>13098</th>\n",
       "      <td>2</td>\n",
       "      <td>1</td>\n",
       "      <td>1</td>\n",
       "      <td>2</td>\n",
       "    </tr>\n",
       "    <tr>\n",
       "      <th>19674</th>\n",
       "      <td>0</td>\n",
       "      <td>1</td>\n",
       "      <td>0</td>\n",
       "      <td>1</td>\n",
       "    </tr>\n",
       "  </tbody>\n",
       "</table>\n",
       "</div>"
      ],
      "text/plain": [
       "       home_score  away_score  min_score  max_score\n",
       "14998           0           1          0          1\n",
       "38121           1           1          1          1\n",
       "26721           0           1          0          1\n",
       "13098           2           1          1          2\n",
       "19674           0           1          0          1"
      ]
     },
     "execution_count": 42,
     "metadata": {},
     "output_type": "execute_result"
    }
   ],
   "source": [
    "neutral_recent_euro_df[['home_score', 'away_score', 'min_score', 'max_score']].sample(5)"
   ]
  },
  {
   "cell_type": "markdown",
   "id": "a1e0ffcf-91ee-4537-8708-79c90961d3a7",
   "metadata": {},
   "source": [
    "Use Pandas `groupby()` on `min_score` and `max_score` with Pandas `size()` to get the number of matches for each score."
   ]
  },
  {
   "cell_type": "code",
   "execution_count": 43,
   "id": "955efdb0-106a-4beb-94de-7d71fd4fcfa5",
   "metadata": {},
   "outputs": [
    {
     "data": {
      "text/plain": [
       "min_score  max_score\n",
       "0          0            22\n",
       "           1            42\n",
       "           2            28\n",
       "           3            16\n",
       "           4             3\n",
       "           5             2\n",
       "1          1            27\n",
       "           2            36\n",
       "           3            10\n",
       "           4             3\n",
       "2          2             4\n",
       "           3            11\n",
       "           4             2\n",
       "3          3             3\n",
       "           4             1\n",
       "dtype: int64"
      ]
     },
     "execution_count": 43,
     "metadata": {},
     "output_type": "execute_result"
    }
   ],
   "source": [
    "neutral_recent_euro_df.groupby(['min_score', 'max_score']).size()"
   ]
  },
  {
   "cell_type": "markdown",
   "id": "0b3dead3-655f-4861-bafb-90427c8d9076",
   "metadata": {},
   "source": [
    "We can convert this into something more asthetically pleasing by using Pandas `unstack(fill_value=0)` to pivot the levels in the table and fill the empty cells with 0."
   ]
  },
  {
   "cell_type": "code",
   "execution_count": 44,
   "id": "406b13d4-14fb-4f0c-9cda-fb3d5f7c489c",
   "metadata": {},
   "outputs": [
    {
     "data": {
      "text/html": [
       "<div>\n",
       "<style scoped>\n",
       "    .dataframe tbody tr th:only-of-type {\n",
       "        vertical-align: middle;\n",
       "    }\n",
       "\n",
       "    .dataframe tbody tr th {\n",
       "        vertical-align: top;\n",
       "    }\n",
       "\n",
       "    .dataframe thead th {\n",
       "        text-align: right;\n",
       "    }\n",
       "</style>\n",
       "<table border=\"1\" class=\"dataframe\">\n",
       "  <thead>\n",
       "    <tr style=\"text-align: right;\">\n",
       "      <th>max_score</th>\n",
       "      <th>0</th>\n",
       "      <th>1</th>\n",
       "      <th>2</th>\n",
       "      <th>3</th>\n",
       "      <th>4</th>\n",
       "      <th>5</th>\n",
       "    </tr>\n",
       "    <tr>\n",
       "      <th>min_score</th>\n",
       "      <th></th>\n",
       "      <th></th>\n",
       "      <th></th>\n",
       "      <th></th>\n",
       "      <th></th>\n",
       "      <th></th>\n",
       "    </tr>\n",
       "  </thead>\n",
       "  <tbody>\n",
       "    <tr>\n",
       "      <th>0</th>\n",
       "      <td>22</td>\n",
       "      <td>42</td>\n",
       "      <td>28</td>\n",
       "      <td>16</td>\n",
       "      <td>3</td>\n",
       "      <td>2</td>\n",
       "    </tr>\n",
       "    <tr>\n",
       "      <th>1</th>\n",
       "      <td>0</td>\n",
       "      <td>27</td>\n",
       "      <td>36</td>\n",
       "      <td>10</td>\n",
       "      <td>3</td>\n",
       "      <td>0</td>\n",
       "    </tr>\n",
       "    <tr>\n",
       "      <th>2</th>\n",
       "      <td>0</td>\n",
       "      <td>0</td>\n",
       "      <td>4</td>\n",
       "      <td>11</td>\n",
       "      <td>2</td>\n",
       "      <td>0</td>\n",
       "    </tr>\n",
       "    <tr>\n",
       "      <th>3</th>\n",
       "      <td>0</td>\n",
       "      <td>0</td>\n",
       "      <td>0</td>\n",
       "      <td>3</td>\n",
       "      <td>1</td>\n",
       "      <td>0</td>\n",
       "    </tr>\n",
       "  </tbody>\n",
       "</table>\n",
       "</div>"
      ],
      "text/plain": [
       "max_score   0   1   2   3  4  5\n",
       "min_score                      \n",
       "0          22  42  28  16  3  2\n",
       "1           0  27  36  10  3  0\n",
       "2           0   0   4  11  2  0\n",
       "3           0   0   0   3  1  0"
      ]
     },
     "execution_count": 44,
     "metadata": {},
     "output_type": "execute_result"
    }
   ],
   "source": [
    "neutral_recent_euro_df.groupby(['min_score', 'max_score']).size().unstack(fill_value=0)"
   ]
  },
  {
   "cell_type": "markdown",
   "id": "eec33cc9-6a85-4f0d-becd-dafce6617f9c",
   "metadata": {},
   "source": [
    "Gradient fill the background based on the number of matches using `style` and `background_gradient(axis=None)` to fill based on both axis at once."
   ]
  },
  {
   "cell_type": "code",
   "execution_count": 45,
   "id": "79837ec3-2252-48a9-b9a5-74b79dcaf8ec",
   "metadata": {},
   "outputs": [
    {
     "data": {
      "text/html": [
       "<style  type=\"text/css\" >\n",
       "#T_15748_row0_col0{\n",
       "            background-color:  #67a4cc;\n",
       "            color:  #000000;\n",
       "        }#T_15748_row0_col1{\n",
       "            background-color:  #023858;\n",
       "            color:  #f1f1f1;\n",
       "        }#T_15748_row0_col2{\n",
       "            background-color:  #2685bb;\n",
       "            color:  #000000;\n",
       "        }#T_15748_row0_col3{\n",
       "            background-color:  #a4bcda;\n",
       "            color:  #000000;\n",
       "        }#T_15748_row0_col4,#T_15748_row1_col4,#T_15748_row3_col3{\n",
       "            background-color:  #f4eef6;\n",
       "            color:  #000000;\n",
       "        }#T_15748_row0_col5,#T_15748_row2_col4{\n",
       "            background-color:  #f8f1f8;\n",
       "            color:  #000000;\n",
       "        }#T_15748_row1_col0,#T_15748_row1_col5,#T_15748_row2_col0,#T_15748_row2_col1,#T_15748_row2_col5,#T_15748_row3_col0,#T_15748_row3_col1,#T_15748_row3_col2,#T_15748_row3_col5{\n",
       "            background-color:  #fff7fb;\n",
       "            color:  #000000;\n",
       "        }#T_15748_row1_col1{\n",
       "            background-color:  #2f8bbe;\n",
       "            color:  #000000;\n",
       "        }#T_15748_row1_col2{\n",
       "            background-color:  #045d92;\n",
       "            color:  #f1f1f1;\n",
       "        }#T_15748_row1_col3{\n",
       "            background-color:  #d3d4e7;\n",
       "            color:  #000000;\n",
       "        }#T_15748_row2_col2{\n",
       "            background-color:  #f1ebf4;\n",
       "            color:  #000000;\n",
       "        }#T_15748_row2_col3{\n",
       "            background-color:  #cccfe5;\n",
       "            color:  #000000;\n",
       "        }#T_15748_row3_col4{\n",
       "            background-color:  #fbf4f9;\n",
       "            color:  #000000;\n",
       "        }</style><table id=\"T_15748_\" ><thead>    <tr>        <th class=\"index_name level0\" >max_score</th>        <th class=\"col_heading level0 col0\" >0</th>        <th class=\"col_heading level0 col1\" >1</th>        <th class=\"col_heading level0 col2\" >2</th>        <th class=\"col_heading level0 col3\" >3</th>        <th class=\"col_heading level0 col4\" >4</th>        <th class=\"col_heading level0 col5\" >5</th>    </tr>    <tr>        <th class=\"index_name level0\" >min_score</th>        <th class=\"blank\" ></th>        <th class=\"blank\" ></th>        <th class=\"blank\" ></th>        <th class=\"blank\" ></th>        <th class=\"blank\" ></th>        <th class=\"blank\" ></th>    </tr></thead><tbody>\n",
       "                <tr>\n",
       "                        <th id=\"T_15748_level0_row0\" class=\"row_heading level0 row0\" >0</th>\n",
       "                        <td id=\"T_15748_row0_col0\" class=\"data row0 col0\" >22</td>\n",
       "                        <td id=\"T_15748_row0_col1\" class=\"data row0 col1\" >42</td>\n",
       "                        <td id=\"T_15748_row0_col2\" class=\"data row0 col2\" >28</td>\n",
       "                        <td id=\"T_15748_row0_col3\" class=\"data row0 col3\" >16</td>\n",
       "                        <td id=\"T_15748_row0_col4\" class=\"data row0 col4\" >3</td>\n",
       "                        <td id=\"T_15748_row0_col5\" class=\"data row0 col5\" >2</td>\n",
       "            </tr>\n",
       "            <tr>\n",
       "                        <th id=\"T_15748_level0_row1\" class=\"row_heading level0 row1\" >1</th>\n",
       "                        <td id=\"T_15748_row1_col0\" class=\"data row1 col0\" >0</td>\n",
       "                        <td id=\"T_15748_row1_col1\" class=\"data row1 col1\" >27</td>\n",
       "                        <td id=\"T_15748_row1_col2\" class=\"data row1 col2\" >36</td>\n",
       "                        <td id=\"T_15748_row1_col3\" class=\"data row1 col3\" >10</td>\n",
       "                        <td id=\"T_15748_row1_col4\" class=\"data row1 col4\" >3</td>\n",
       "                        <td id=\"T_15748_row1_col5\" class=\"data row1 col5\" >0</td>\n",
       "            </tr>\n",
       "            <tr>\n",
       "                        <th id=\"T_15748_level0_row2\" class=\"row_heading level0 row2\" >2</th>\n",
       "                        <td id=\"T_15748_row2_col0\" class=\"data row2 col0\" >0</td>\n",
       "                        <td id=\"T_15748_row2_col1\" class=\"data row2 col1\" >0</td>\n",
       "                        <td id=\"T_15748_row2_col2\" class=\"data row2 col2\" >4</td>\n",
       "                        <td id=\"T_15748_row2_col3\" class=\"data row2 col3\" >11</td>\n",
       "                        <td id=\"T_15748_row2_col4\" class=\"data row2 col4\" >2</td>\n",
       "                        <td id=\"T_15748_row2_col5\" class=\"data row2 col5\" >0</td>\n",
       "            </tr>\n",
       "            <tr>\n",
       "                        <th id=\"T_15748_level0_row3\" class=\"row_heading level0 row3\" >3</th>\n",
       "                        <td id=\"T_15748_row3_col0\" class=\"data row3 col0\" >0</td>\n",
       "                        <td id=\"T_15748_row3_col1\" class=\"data row3 col1\" >0</td>\n",
       "                        <td id=\"T_15748_row3_col2\" class=\"data row3 col2\" >0</td>\n",
       "                        <td id=\"T_15748_row3_col3\" class=\"data row3 col3\" >3</td>\n",
       "                        <td id=\"T_15748_row3_col4\" class=\"data row3 col4\" >1</td>\n",
       "                        <td id=\"T_15748_row3_col5\" class=\"data row3 col5\" >0</td>\n",
       "            </tr>\n",
       "    </tbody></table>"
      ],
      "text/plain": [
       "<pandas.io.formats.style.Styler at 0x1a9b6799340>"
      ]
     },
     "execution_count": 45,
     "metadata": {},
     "output_type": "execute_result"
    }
   ],
   "source": [
    "neutral_recent_euro_df.groupby(['min_score', 'max_score']).size().unstack(fill_value=0).style.background_gradient(axis=None)"
   ]
  },
  {
   "cell_type": "markdown",
   "id": "2b3437db-a465-4113-8cc5-e27f6498c454",
   "metadata": {},
   "source": [
    "We can see the most common score for a neutral match is 0-1 (or 1-0)."
   ]
  },
  {
   "cell_type": "markdown",
   "id": "06e4d4d5-8f61-4122-8391-bbd68220af09",
   "metadata": {},
   "source": [
    "Now repeat the analysis when `recent_euro_df['neutral'] == False` and the `home_score` and `away_score` order matters.\n",
    "\n",
    "Start by using boolean indexing to subset a copy of `recent_euro_df` with only non-neutral matches."
   ]
  },
  {
   "cell_type": "code",
   "execution_count": 46,
   "id": "1bdbf78d-6f9a-4e67-86da-5b3fdb5959b9",
   "metadata": {},
   "outputs": [],
   "source": [
    "non_neutral_recent_euro_df = recent_euro_df[~recent_euro_df['neutral']].copy()"
   ]
  },
  {
   "cell_type": "markdown",
   "id": "62504606-fe2d-4fd2-b68d-0e0c90cdc8e2",
   "metadata": {},
   "source": [
    "Use Pandas `groupby()` on `home_score` and `away_score` with Pandas `size()` to get the number of matches for each score."
   ]
  },
  {
   "cell_type": "code",
   "execution_count": 47,
   "id": "ba8e6c05-94fa-4724-a219-18a4b216168a",
   "metadata": {},
   "outputs": [
    {
     "data": {
      "text/plain": [
       "home_score  away_score\n",
       "0           0             5\n",
       "            1             7\n",
       "            2             3\n",
       "1           0             5\n",
       "            1             8\n",
       "            2             3\n",
       "2           0             8\n",
       "            1             6\n",
       "            2             1\n",
       "            3             1\n",
       "3           0             1\n",
       "            2             3\n",
       "4           1             1\n",
       "5           0             1\n",
       "            2             1\n",
       "6           1             1\n",
       "dtype: int64"
      ]
     },
     "execution_count": 47,
     "metadata": {},
     "output_type": "execute_result"
    }
   ],
   "source": [
    "non_neutral_recent_euro_df.groupby(['home_score', 'away_score']).size()"
   ]
  },
  {
   "cell_type": "markdown",
   "id": "38e4295e-5536-4789-b36d-0bed4bd71f9f",
   "metadata": {},
   "source": [
    "We can convert this into something more asthetically pleasing by using Pandas `unstack(fill_value=0)` to pivot the levels in the table and fill the empty cells with 0."
   ]
  },
  {
   "cell_type": "code",
   "execution_count": 48,
   "id": "bf03d311-a4b8-4aa8-bdc6-b2d33e419d3c",
   "metadata": {},
   "outputs": [
    {
     "data": {
      "text/html": [
       "<div>\n",
       "<style scoped>\n",
       "    .dataframe tbody tr th:only-of-type {\n",
       "        vertical-align: middle;\n",
       "    }\n",
       "\n",
       "    .dataframe tbody tr th {\n",
       "        vertical-align: top;\n",
       "    }\n",
       "\n",
       "    .dataframe thead th {\n",
       "        text-align: right;\n",
       "    }\n",
       "</style>\n",
       "<table border=\"1\" class=\"dataframe\">\n",
       "  <thead>\n",
       "    <tr style=\"text-align: right;\">\n",
       "      <th>away_score</th>\n",
       "      <th>0</th>\n",
       "      <th>1</th>\n",
       "      <th>2</th>\n",
       "      <th>3</th>\n",
       "    </tr>\n",
       "    <tr>\n",
       "      <th>home_score</th>\n",
       "      <th></th>\n",
       "      <th></th>\n",
       "      <th></th>\n",
       "      <th></th>\n",
       "    </tr>\n",
       "  </thead>\n",
       "  <tbody>\n",
       "    <tr>\n",
       "      <th>0</th>\n",
       "      <td>5</td>\n",
       "      <td>7</td>\n",
       "      <td>3</td>\n",
       "      <td>0</td>\n",
       "    </tr>\n",
       "    <tr>\n",
       "      <th>1</th>\n",
       "      <td>5</td>\n",
       "      <td>8</td>\n",
       "      <td>3</td>\n",
       "      <td>0</td>\n",
       "    </tr>\n",
       "    <tr>\n",
       "      <th>2</th>\n",
       "      <td>8</td>\n",
       "      <td>6</td>\n",
       "      <td>1</td>\n",
       "      <td>1</td>\n",
       "    </tr>\n",
       "    <tr>\n",
       "      <th>3</th>\n",
       "      <td>1</td>\n",
       "      <td>0</td>\n",
       "      <td>3</td>\n",
       "      <td>0</td>\n",
       "    </tr>\n",
       "    <tr>\n",
       "      <th>4</th>\n",
       "      <td>0</td>\n",
       "      <td>1</td>\n",
       "      <td>0</td>\n",
       "      <td>0</td>\n",
       "    </tr>\n",
       "    <tr>\n",
       "      <th>5</th>\n",
       "      <td>1</td>\n",
       "      <td>0</td>\n",
       "      <td>1</td>\n",
       "      <td>0</td>\n",
       "    </tr>\n",
       "    <tr>\n",
       "      <th>6</th>\n",
       "      <td>0</td>\n",
       "      <td>1</td>\n",
       "      <td>0</td>\n",
       "      <td>0</td>\n",
       "    </tr>\n",
       "  </tbody>\n",
       "</table>\n",
       "</div>"
      ],
      "text/plain": [
       "away_score  0  1  2  3\n",
       "home_score            \n",
       "0           5  7  3  0\n",
       "1           5  8  3  0\n",
       "2           8  6  1  1\n",
       "3           1  0  3  0\n",
       "4           0  1  0  0\n",
       "5           1  0  1  0\n",
       "6           0  1  0  0"
      ]
     },
     "execution_count": 48,
     "metadata": {},
     "output_type": "execute_result"
    }
   ],
   "source": [
    "non_neutral_recent_euro_df.groupby(['home_score', 'away_score']).size().unstack(fill_value=0)"
   ]
  },
  {
   "cell_type": "markdown",
   "id": "44a5a1dd-9c49-408e-b80b-b9f0067a5034",
   "metadata": {},
   "source": [
    "Gradient fill the background based on the number of matches using style and background_gradient(axis=None) to fill based on both axis at once."
   ]
  },
  {
   "cell_type": "code",
   "execution_count": 49,
   "id": "87c9cc59-51f8-4b36-96a2-e7ce2991feab",
   "metadata": {},
   "outputs": [
    {
     "data": {
      "text/html": [
       "<style  type=\"text/css\" >\n",
       "#T_ae8e4_row0_col0,#T_ae8e4_row1_col0{\n",
       "            background-color:  #358fc0;\n",
       "            color:  #000000;\n",
       "        }#T_ae8e4_row0_col1{\n",
       "            background-color:  #04598c;\n",
       "            color:  #f1f1f1;\n",
       "        }#T_ae8e4_row0_col2,#T_ae8e4_row1_col2,#T_ae8e4_row3_col2{\n",
       "            background-color:  #a5bddb;\n",
       "            color:  #000000;\n",
       "        }#T_ae8e4_row0_col3,#T_ae8e4_row1_col3,#T_ae8e4_row3_col1,#T_ae8e4_row3_col3,#T_ae8e4_row4_col0,#T_ae8e4_row4_col2,#T_ae8e4_row4_col3,#T_ae8e4_row5_col1,#T_ae8e4_row5_col3,#T_ae8e4_row6_col0,#T_ae8e4_row6_col2,#T_ae8e4_row6_col3{\n",
       "            background-color:  #fff7fb;\n",
       "            color:  #000000;\n",
       "        }#T_ae8e4_row1_col1,#T_ae8e4_row2_col0{\n",
       "            background-color:  #023858;\n",
       "            color:  #f1f1f1;\n",
       "        }#T_ae8e4_row2_col1{\n",
       "            background-color:  #056faf;\n",
       "            color:  #f1f1f1;\n",
       "        }#T_ae8e4_row2_col2,#T_ae8e4_row2_col3,#T_ae8e4_row3_col0,#T_ae8e4_row4_col1,#T_ae8e4_row5_col0,#T_ae8e4_row5_col2,#T_ae8e4_row6_col1{\n",
       "            background-color:  #ece7f2;\n",
       "            color:  #000000;\n",
       "        }</style><table id=\"T_ae8e4_\" ><thead>    <tr>        <th class=\"index_name level0\" >away_score</th>        <th class=\"col_heading level0 col0\" >0</th>        <th class=\"col_heading level0 col1\" >1</th>        <th class=\"col_heading level0 col2\" >2</th>        <th class=\"col_heading level0 col3\" >3</th>    </tr>    <tr>        <th class=\"index_name level0\" >home_score</th>        <th class=\"blank\" ></th>        <th class=\"blank\" ></th>        <th class=\"blank\" ></th>        <th class=\"blank\" ></th>    </tr></thead><tbody>\n",
       "                <tr>\n",
       "                        <th id=\"T_ae8e4_level0_row0\" class=\"row_heading level0 row0\" >0</th>\n",
       "                        <td id=\"T_ae8e4_row0_col0\" class=\"data row0 col0\" >5</td>\n",
       "                        <td id=\"T_ae8e4_row0_col1\" class=\"data row0 col1\" >7</td>\n",
       "                        <td id=\"T_ae8e4_row0_col2\" class=\"data row0 col2\" >3</td>\n",
       "                        <td id=\"T_ae8e4_row0_col3\" class=\"data row0 col3\" >0</td>\n",
       "            </tr>\n",
       "            <tr>\n",
       "                        <th id=\"T_ae8e4_level0_row1\" class=\"row_heading level0 row1\" >1</th>\n",
       "                        <td id=\"T_ae8e4_row1_col0\" class=\"data row1 col0\" >5</td>\n",
       "                        <td id=\"T_ae8e4_row1_col1\" class=\"data row1 col1\" >8</td>\n",
       "                        <td id=\"T_ae8e4_row1_col2\" class=\"data row1 col2\" >3</td>\n",
       "                        <td id=\"T_ae8e4_row1_col3\" class=\"data row1 col3\" >0</td>\n",
       "            </tr>\n",
       "            <tr>\n",
       "                        <th id=\"T_ae8e4_level0_row2\" class=\"row_heading level0 row2\" >2</th>\n",
       "                        <td id=\"T_ae8e4_row2_col0\" class=\"data row2 col0\" >8</td>\n",
       "                        <td id=\"T_ae8e4_row2_col1\" class=\"data row2 col1\" >6</td>\n",
       "                        <td id=\"T_ae8e4_row2_col2\" class=\"data row2 col2\" >1</td>\n",
       "                        <td id=\"T_ae8e4_row2_col3\" class=\"data row2 col3\" >1</td>\n",
       "            </tr>\n",
       "            <tr>\n",
       "                        <th id=\"T_ae8e4_level0_row3\" class=\"row_heading level0 row3\" >3</th>\n",
       "                        <td id=\"T_ae8e4_row3_col0\" class=\"data row3 col0\" >1</td>\n",
       "                        <td id=\"T_ae8e4_row3_col1\" class=\"data row3 col1\" >0</td>\n",
       "                        <td id=\"T_ae8e4_row3_col2\" class=\"data row3 col2\" >3</td>\n",
       "                        <td id=\"T_ae8e4_row3_col3\" class=\"data row3 col3\" >0</td>\n",
       "            </tr>\n",
       "            <tr>\n",
       "                        <th id=\"T_ae8e4_level0_row4\" class=\"row_heading level0 row4\" >4</th>\n",
       "                        <td id=\"T_ae8e4_row4_col0\" class=\"data row4 col0\" >0</td>\n",
       "                        <td id=\"T_ae8e4_row4_col1\" class=\"data row4 col1\" >1</td>\n",
       "                        <td id=\"T_ae8e4_row4_col2\" class=\"data row4 col2\" >0</td>\n",
       "                        <td id=\"T_ae8e4_row4_col3\" class=\"data row4 col3\" >0</td>\n",
       "            </tr>\n",
       "            <tr>\n",
       "                        <th id=\"T_ae8e4_level0_row5\" class=\"row_heading level0 row5\" >5</th>\n",
       "                        <td id=\"T_ae8e4_row5_col0\" class=\"data row5 col0\" >1</td>\n",
       "                        <td id=\"T_ae8e4_row5_col1\" class=\"data row5 col1\" >0</td>\n",
       "                        <td id=\"T_ae8e4_row5_col2\" class=\"data row5 col2\" >1</td>\n",
       "                        <td id=\"T_ae8e4_row5_col3\" class=\"data row5 col3\" >0</td>\n",
       "            </tr>\n",
       "            <tr>\n",
       "                        <th id=\"T_ae8e4_level0_row6\" class=\"row_heading level0 row6\" >6</th>\n",
       "                        <td id=\"T_ae8e4_row6_col0\" class=\"data row6 col0\" >0</td>\n",
       "                        <td id=\"T_ae8e4_row6_col1\" class=\"data row6 col1\" >1</td>\n",
       "                        <td id=\"T_ae8e4_row6_col2\" class=\"data row6 col2\" >0</td>\n",
       "                        <td id=\"T_ae8e4_row6_col3\" class=\"data row6 col3\" >0</td>\n",
       "            </tr>\n",
       "    </tbody></table>"
      ],
      "text/plain": [
       "<pandas.io.formats.style.Styler at 0x1a9b6b829a0>"
      ]
     },
     "execution_count": 49,
     "metadata": {},
     "output_type": "execute_result"
    }
   ],
   "source": [
    "non_neutral_recent_euro_df.groupby(['home_score', 'away_score']).size().unstack(fill_value=0).style.background_gradient(axis=None)"
   ]
  },
  {
   "cell_type": "markdown",
   "id": "4e6eaf1d-3ca6-43d1-98b7-186f7211651e",
   "metadata": {},
   "source": [
    "The most common scorelines for non-neutral matches are 2-0 and 1-1, but the sample size is much less than for neutral matches."
   ]
  }
 ],
 "metadata": {
  "kernelspec": {
   "display_name": "Python 3",
   "language": "python",
   "name": "python3"
  },
  "language_info": {
   "codemirror_mode": {
    "name": "ipython",
    "version": 3
   },
   "file_extension": ".py",
   "mimetype": "text/x-python",
   "name": "python",
   "nbconvert_exporter": "python",
   "pygments_lexer": "ipython3",
   "version": "3.9.4"
  }
 },
 "nbformat": 4,
 "nbformat_minor": 5
}
