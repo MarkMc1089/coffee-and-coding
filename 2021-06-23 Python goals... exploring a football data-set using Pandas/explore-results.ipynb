{
 "cells": [
  {
   "cell_type": "markdown",
   "id": "4c473d25-9e57-46c6-82b1-05adb413c324",
   "metadata": {},
   "source": [
    "# Python goals... exploring a football data-set using Pandas"
   ]
  },
  {
   "cell_type": "code",
   "execution_count": null,
   "id": "620484a2-8b2e-4642-a682-48c872ca35ee",
   "metadata": {},
   "outputs": [],
   "source": [
    "# Import any packages\n",
    "import pandas as pd\n",
    "import matplotlib\n",
    "\n",
    "# Make the plots appear inline\n",
    "%matplotlib inline"
   ]
  },
  {
   "cell_type": "markdown",
   "id": "e2a0d9e5-7779-4241-ac3a-aa100a9c1a3d",
   "metadata": {},
   "source": [
    "## Plot the number of International matches that took place each year?"
   ]
  },
  {
   "cell_type": "markdown",
   "id": "210fb8ce-2615-448c-9531-e62cd4e49273",
   "metadata": {},
   "source": [
    "Read in the `results.csv` file which is saved in the same directory as this notebook and save it to a Pandas DataFrame named `results_df`."
   ]
  },
  {
   "cell_type": "code",
   "execution_count": null,
   "id": "d40fbbcc-96f6-426e-8770-4d4f3315b05a",
   "metadata": {},
   "outputs": [],
   "source": [
    "results_df = pd.read_csv('results.csv')"
   ]
  },
  {
   "cell_type": "markdown",
   "id": "e6bef6e9-6962-4658-97cb-96e761183317",
   "metadata": {},
   "source": [
    "Look at the first 5 records of `results_df` by using using the Pandas `head()` method."
   ]
  },
  {
   "cell_type": "code",
   "execution_count": null,
   "id": "02dec352-fe5e-45b1-b667-4387f53641bd",
   "metadata": {},
   "outputs": [],
   "source": [
    "results_df.head()"
   ]
  },
  {
   "cell_type": "markdown",
   "id": "bba8f393-11f2-49ce-8f41-d146169a7740",
   "metadata": {},
   "source": [
    "Each row represents a single International football match.\n",
    "\n",
    "Look at the last 5 records of `results_df` by using using the Pandas `tail()` method."
   ]
  },
  {
   "cell_type": "code",
   "execution_count": null,
   "id": "e887c66c-abc3-4586-a395-c306fe7787dd",
   "metadata": {},
   "outputs": [],
   "source": [
    "results_df.tail()"
   ]
  },
  {
   "cell_type": "markdown",
   "id": "90976df7-b741-4846-a396-3816a35917da",
   "metadata": {},
   "source": [
    "Familiarise ourselves with the data-set by checking the number of rows and columns using the Pandas `shape` attribute."
   ]
  },
  {
   "cell_type": "code",
   "execution_count": null,
   "id": "708cce81-a360-42ad-9a78-8857d11f5a55",
   "metadata": {},
   "outputs": [],
   "source": [
    "results_df.shape"
   ]
  },
  {
   "cell_type": "markdown",
   "id": "1998d784-7b11-45c9-bc13-ee42ffdefbbb",
   "metadata": {},
   "source": [
    "Check the datatypes of the columns using the Pandas `dtypes` attribute."
   ]
  },
  {
   "cell_type": "code",
   "execution_count": null,
   "id": "2dc8db2e-3cae-46c4-8de5-ddbce11e919b",
   "metadata": {},
   "outputs": [],
   "source": [
    "results_df.dtypes"
   ]
  },
  {
   "cell_type": "markdown",
   "id": "353f75ef-e27e-4e50-ba6e-600b09b416cd",
   "metadata": {},
   "source": [
    "The `date` column is of type `object`, which isn't very useful and does not make use of the fact that the column is actually a date, we can select the column as a Pandas Series to inspect."
   ]
  },
  {
   "cell_type": "code",
   "execution_count": null,
   "id": "612fc6cf-589b-409b-8e66-837ea4369f36",
   "metadata": {},
   "outputs": [],
   "source": [
    "results_df['date']"
   ]
  },
  {
   "cell_type": "markdown",
   "id": "b3d39c5d-e876-4ce9-9a99-ed4be71ac3b7",
   "metadata": {},
   "source": [
    "Now use `pd.to_datetime()` on the `date` column in `results_df` to convert to a `datetime` datatype Series."
   ]
  },
  {
   "cell_type": "code",
   "execution_count": null,
   "id": "464cd640-8e77-4587-9d3d-68bdc038b635",
   "metadata": {},
   "outputs": [],
   "source": [
    "pd.to_datetime(results_df['date'])"
   ]
  },
  {
   "cell_type": "markdown",
   "id": "d9c7f906-09bc-4527-b536-f8b0cfd042a0",
   "metadata": {},
   "source": [
    "Assign the Series to a new column to `results_df` called `date_time`."
   ]
  },
  {
   "cell_type": "code",
   "execution_count": null,
   "id": "e53c46a8-9695-4a7d-9b2f-17aad84be054",
   "metadata": {},
   "outputs": [],
   "source": [
    "results_df['date_time'] = pd.to_datetime(results_df['date'])"
   ]
  },
  {
   "cell_type": "markdown",
   "id": "ff202a66-fd1e-47cc-bdd7-a0fea3d98f47",
   "metadata": {},
   "source": [
    "Check that the new column has the correct datatype."
   ]
  },
  {
   "cell_type": "code",
   "execution_count": null,
   "id": "c677f6a6-e5c4-45cc-9cba-6b526ff7622e",
   "metadata": {},
   "outputs": [],
   "source": [
    "results_df.dtypes"
   ]
  },
  {
   "cell_type": "markdown",
   "id": "eb8969a1-fb39-4ee2-bc4f-b6c85600a472",
   "metadata": {},
   "source": [
    "Through the use of the `dt` namespace, convenient attributes such as `year` can be extracted."
   ]
  },
  {
   "cell_type": "code",
   "execution_count": null,
   "id": "6d942593-7bfa-428f-8259-2488bbc7a5de",
   "metadata": {},
   "outputs": [],
   "source": [
    "results_df['date_time'].dt.year"
   ]
  },
  {
   "cell_type": "markdown",
   "id": "5f1baaf3-d97c-4bad-9d39-cbb51eb0a760",
   "metadata": {},
   "source": [
    "Count the occurance of each `year` by using Pandas `value_counts()`."
   ]
  },
  {
   "cell_type": "code",
   "execution_count": null,
   "id": "92bcb759-b446-4cab-8916-3441cebada21",
   "metadata": {},
   "outputs": [],
   "source": [
    "results_df['date_time'].dt.year.value_counts()"
   ]
  },
  {
   "cell_type": "markdown",
   "id": "7f1580fd-5b98-40cc-86a7-4ea64da21e96",
   "metadata": {},
   "source": [
    "The index is the `year` and the value is the count relating to it, it is sorted in descending order by default.\n",
    "\n",
    "In order to plot we must sort by the index using Pandas `sort_index()`."
   ]
  },
  {
   "cell_type": "code",
   "execution_count": null,
   "id": "90db6801-1de4-4bb4-b8f3-05d742916969",
   "metadata": {},
   "outputs": [],
   "source": [
    "results_df['date_time'].dt.year.value_counts().sort_index()"
   ]
  },
  {
   "cell_type": "markdown",
   "id": "79c091ae-758d-4a46-bf66-abf26c483ba5",
   "metadata": {},
   "source": [
    "By simply using Pandas `plot()` we can visualise the nuber of international matches each year (the default plot type is a line).\n",
    "\n",
    "Although the plot could certainly use some visual enhancements, a simple Pandas one-liner is able to convey the number of matches that took place each year!"
   ]
  },
  {
   "cell_type": "code",
   "execution_count": null,
   "id": "17bb10e6-4c06-43a1-96e5-fc2519524f9c",
   "metadata": {},
   "outputs": [],
   "source": [
    "results_df['date_time'].dt.year.value_counts().sort_index().plot()"
   ]
  },
  {
   "cell_type": "markdown",
   "id": "ec7251b0-f96d-4237-aa54-805cfffc9427",
   "metadata": {},
   "source": [
    "## Filtering the time-series for more fine grained detail"
   ]
  },
  {
   "cell_type": "markdown",
   "id": "5ce3b1a4-6fcb-47e7-b3f2-a00dde529744",
   "metadata": {},
   "source": [
    "It would also be insightful to take a look at a narrower range of International matches. \n",
    "\n",
    "Create a boolean Series from the `date_time` column."
   ]
  },
  {
   "cell_type": "code",
   "execution_count": null,
   "id": "66cdbe9a-40fc-43e8-97fb-71e5dc0d1b08",
   "metadata": {},
   "outputs": [],
   "source": [
    "results_df['date_time'].dt.year >= 2014"
   ]
  },
  {
   "cell_type": "markdown",
   "id": "75046b19-cbfe-4562-91e6-254678ceeab4",
   "metadata": {},
   "source": [
    "Slice the Series and only keep rows that are `True`."
   ]
  },
  {
   "cell_type": "code",
   "execution_count": null,
   "id": "ae07f282-fb36-40bd-a636-a4d9c4dec4cd",
   "metadata": {},
   "outputs": [],
   "source": [
    "results_df['date_time'].dt.year[results_df['date_time'].dt.year >= 2014]"
   ]
  },
  {
   "cell_type": "markdown",
   "id": "a47d5259-215b-41c2-9ab0-9bd14a180916",
   "metadata": {},
   "source": [
    "As previously, use Pandas `value_counts()` to count the occurances each year."
   ]
  },
  {
   "cell_type": "code",
   "execution_count": null,
   "id": "1dc463fb-45a7-4469-b01c-a530a168d800",
   "metadata": {},
   "outputs": [],
   "source": [
    "results_df['date_time'].dt.year[results_df['date_time'].dt.year >= 2014].value_counts()"
   ]
  },
  {
   "cell_type": "markdown",
   "id": "a534b221-3ed3-4fdc-b0b7-46ed28b2588f",
   "metadata": {},
   "source": [
    "Then sort it by the index using Pandas `sort_index()`."
   ]
  },
  {
   "cell_type": "code",
   "execution_count": null,
   "id": "c110f591-8de7-4779-9387-cbde75925e37",
   "metadata": {},
   "outputs": [],
   "source": [
    "results_df['date_time'].dt.year[results_df['date_time'].dt.year >= 2014].value_counts().sort_index()"
   ]
  },
  {
   "cell_type": "markdown",
   "id": "6451fdde-3e21-4ed7-afbe-d41b83d15ffe",
   "metadata": {},
   "source": [
    "Now using Pandas `plot()` to visualise the Series."
   ]
  },
  {
   "cell_type": "code",
   "execution_count": null,
   "id": "c7e1d207-48f5-4916-9f7f-be54c58cac9a",
   "metadata": {},
   "outputs": [],
   "source": [
    "results_df['date_time'].dt.year[results_df['date_time'].dt.year >= 2014].value_counts().sort_index().plot()"
   ]
  },
  {
   "cell_type": "markdown",
   "id": "18b4007c-bdf4-421f-958f-402b2fbe3ed2",
   "metadata": {},
   "source": [
    "There is a large drop in the final two years. 2020 is low mainly due to COVID and 2021 is partly COVID and partly an unfinished year. \n",
    "\n",
    "We can see this using Pandas `max()` on the `date_time` column."
   ]
  },
  {
   "cell_type": "code",
   "execution_count": null,
   "id": "c5dff68e-1533-4df5-9d87-c70354ad6b53",
   "metadata": {},
   "outputs": [],
   "source": [
    "results_df['date_time'].max()"
   ]
  },
  {
   "cell_type": "markdown",
   "id": "2bea44f6-08f6-44c6-8892-91fbd6121558",
   "metadata": {},
   "source": [
    "## Which Tournament type is the most exciting?"
   ]
  },
  {
   "cell_type": "markdown",
   "id": "97434c9d-d111-4bff-a8f1-ff57123521ed",
   "metadata": {},
   "source": [
    "The most exciting International tournament could be defined in many ways, but one way to define it may be to investigate the goals scored! \n",
    "\n",
    "To begin with, create a new column `total_score` which calculates the `home_score` + `away_score` to give the total number of goals in each International match."
   ]
  },
  {
   "cell_type": "code",
   "execution_count": null,
   "id": "dc482aa0-8141-4ed7-ada1-a7785b5c2060",
   "metadata": {},
   "outputs": [],
   "source": [
    "results_df['total_score'] = results_df['home_score'] + results_df['away_score']"
   ]
  },
  {
   "cell_type": "markdown",
   "id": "a3ab4717-08d7-4a12-b947-af9828114439",
   "metadata": {},
   "source": [
    "Now check a random 5 records from the DataFrame to validate the calculation."
   ]
  },
  {
   "cell_type": "code",
   "execution_count": null,
   "id": "ca6d1377-c2f4-4955-b606-60b930371e9b",
   "metadata": {},
   "outputs": [],
   "source": [
    "results_df[['total_score', 'home_score', 'away_score']].sample(5)"
   ]
  },
  {
   "cell_type": "markdown",
   "id": "82e5f7c6-cb41-4eef-8606-3f90695aef85",
   "metadata": {},
   "source": [
    "For each tournament we can ue Pandas `groupby()` to calculate the average number of match goals and determine the most exciting tournament based on this metric!\n",
    "\n",
    "Firstly we will filter to tournaments with >= 100 matches in the DataFrame to ensure that there is a reasonable sample size.\n",
    "\n",
    "Use Pandas `value_counts()` on the `tournament` column to return a Series indexed by `tournament` with the value being the number of matches in the tournament."
   ]
  },
  {
   "cell_type": "code",
   "execution_count": null,
   "id": "7ce9516f-1547-4ee9-85f6-9a825df1fca0",
   "metadata": {},
   "outputs": [],
   "source": [
    "results_df['tournament'].value_counts()"
   ]
  },
  {
   "cell_type": "markdown",
   "id": "8ce5294d-1351-4aa5-b176-3314d81e4928",
   "metadata": {},
   "source": [
    "Assign this to a variable called `tournament_count`."
   ]
  },
  {
   "cell_type": "code",
   "execution_count": null,
   "id": "342d2f43-5661-4ff1-8aae-21e7ccca6c08",
   "metadata": {},
   "outputs": [],
   "source": [
    "tournament_count = results_df['tournament'].value_counts()"
   ]
  },
  {
   "cell_type": "markdown",
   "id": "b3f73d85-8976-4276-a5a4-36ce31d3d076",
   "metadata": {},
   "source": [
    "See which tournaments have over 100 matches by using boolean indexing as previously."
   ]
  },
  {
   "cell_type": "code",
   "execution_count": null,
   "id": "f5ca4ac2-dd39-4c36-aa8e-d5ce098cd4c3",
   "metadata": {},
   "outputs": [],
   "source": [
    "tournament_count[tournament_count >= 100]"
   ]
  },
  {
   "cell_type": "markdown",
   "id": "9fd1d2d0-ece2-4647-8910-fe0f9d76b210",
   "metadata": {},
   "source": [
    "Now assign the index of this Series to a variable called `most_common_tournaments`."
   ]
  },
  {
   "cell_type": "code",
   "execution_count": null,
   "id": "d57acf8d-f736-4c7c-98d7-35a11975a582",
   "metadata": {},
   "outputs": [],
   "source": [
    "most_common_tournaments = tournament_count[tournament_count >= 100].index"
   ]
  },
  {
   "cell_type": "markdown",
   "id": "a850a199-b34e-4f6b-afda-250d8cd346dc",
   "metadata": {},
   "source": [
    "Check that `most_common_tournaments` is what we expect"
   ]
  },
  {
   "cell_type": "code",
   "execution_count": null,
   "id": "c667021c-f45e-4047-9631-2933fa656bb0",
   "metadata": {},
   "outputs": [],
   "source": [
    "most_common_tournaments"
   ]
  },
  {
   "cell_type": "markdown",
   "id": "6a71ad2e-6627-483e-aae8-614b487b5e3f",
   "metadata": {},
   "source": [
    "Filter `results_df` using Pandas `isin()` to retain rows in `most_common_tournaments` using boolean indexing and assign to a variable called `most_common_tournaments_df`."
   ]
  },
  {
   "cell_type": "code",
   "execution_count": null,
   "id": "44043a65-7a63-4816-9cc6-a68a5ecf4ead",
   "metadata": {},
   "outputs": [],
   "source": [
    "most_common_tournaments_df = results_df[results_df.tournament.isin(most_common_tournaments)]"
   ]
  },
  {
   "cell_type": "markdown",
   "id": "955fe12a-df35-4c3b-bb5f-03330825871e",
   "metadata": {},
   "source": [
    "Check the `shape` of this to confirm we have subsetted the data-set."
   ]
  },
  {
   "cell_type": "code",
   "execution_count": null,
   "id": "065829e7-4c34-41f5-a4b8-4fc159262197",
   "metadata": {},
   "outputs": [],
   "source": [
    "most_common_tournaments_df.shape"
   ]
  },
  {
   "cell_type": "markdown",
   "id": "09a8b779-e864-4410-809c-749d34508f93",
   "metadata": {},
   "source": [
    "Now use Pandas `groupby()` in conjunction with Pandas `agg()` to find the average number of `total_score` per `tournament`."
   ]
  },
  {
   "cell_type": "code",
   "execution_count": null,
   "id": "2b023335-cd98-4359-ba6a-e54756f8bae0",
   "metadata": {},
   "outputs": [],
   "source": [
    "most_common_tournaments_df.groupby('tournament')['total_score'].agg(['count', 'mean', 'median'])"
   ]
  },
  {
   "cell_type": "markdown",
   "id": "c9b64c88-647f-42ae-91c7-5879318efef3",
   "metadata": {},
   "source": [
    "Sort it by `mean` using Pandas `sort_values()` and use Pandas `tail()` to view the top 5 tournaments."
   ]
  },
  {
   "cell_type": "code",
   "execution_count": null,
   "id": "44ecb982-6d5c-42a5-96b8-8e158d136095",
   "metadata": {},
   "outputs": [],
   "source": [
    "most_common_tournaments_df.groupby('tournament')['total_score'].agg(['count', 'mean', 'median']).sort_values('mean').tail()"
   ]
  },
  {
   "cell_type": "markdown",
   "id": "4c1e3b4a-14db-4965-9404-2d068cfc812a",
   "metadata": {},
   "source": [
    "Plot this as a horizontal bar chart using Pandas `plot(kind='barh')`. Notice that we tweak the code slightly to use Pandas `mean()` instead of Pandas `agg()` to make it easier to just plot the mean."
   ]
  },
  {
   "cell_type": "code",
   "execution_count": null,
   "id": "1791a69d-307c-48e4-9c16-e1a4da524ef6",
   "metadata": {},
   "outputs": [],
   "source": [
    "most_common_tournaments_df.groupby('tournament')['total_score'].mean().sort_values().tail().plot(kind='barh')"
   ]
  },
  {
   "cell_type": "markdown",
   "id": "a20d19fd-d000-47e7-8dd6-33dc21d8fafe",
   "metadata": {},
   "source": [
    "## What scores are most common at the Euros?"
   ]
  },
  {
   "cell_type": "markdown",
   "id": "853bd7e6-5b1e-4d2f-9525-16ac99ba1c03",
   "metadata": {},
   "source": [
    "Lets look at the score distribution of matches in the Euros! \n",
    "\n",
    "Start by filtering `results_df` using boolean indexing."
   ]
  },
  {
   "cell_type": "code",
   "execution_count": null,
   "id": "85c2d465-1058-4897-b170-cbc8a5e35bf4",
   "metadata": {},
   "outputs": [],
   "source": [
    "euro_df = results_df[results_df['tournament'] == 'UEFA Euro']"
   ]
  },
  {
   "cell_type": "markdown",
   "id": "4c18cc59-edf3-48eb-a6b7-049516a7aa83",
   "metadata": {},
   "source": [
    "Check we have the correct data by using Pandas `head()` and `tail()`."
   ]
  },
  {
   "cell_type": "code",
   "execution_count": null,
   "id": "590c6e8d-f984-44ce-a2b3-7d3a38e2aed4",
   "metadata": {},
   "outputs": [],
   "source": [
    "euro_df.head()"
   ]
  },
  {
   "cell_type": "code",
   "execution_count": null,
   "id": "8b274d64-680f-4272-a7dd-2164da460f5c",
   "metadata": {},
   "outputs": [],
   "source": [
    "euro_df.tail()"
   ]
  },
  {
   "cell_type": "markdown",
   "id": "fb775840-bee5-4769-ad06-b4e6854936bf",
   "metadata": {},
   "source": [
    "Pefect, the Euros are every 4 years normally but last years is missing due to COVID.\n",
    "\n",
    "Lets check if the mean score has changed over the years. We use similar syntax to before but ensuring we are group by the year not the whole `date_time`!"
   ]
  },
  {
   "cell_type": "code",
   "execution_count": null,
   "id": "4378fbbf-363b-40f0-91e2-63386a941d3b",
   "metadata": {},
   "outputs": [],
   "source": [
    "euro_df.groupby(euro_df['date_time'].dt.year)['total_score'].mean().plot()"
   ]
  },
  {
   "cell_type": "markdown",
   "id": "fb6686b7-c8ae-4a8b-a297-e7cfb96d4743",
   "metadata": {},
   "source": [
    "Looks like there was quite a bit of variation prior to 1980, so we will filter them out using boolean indexing and create a new Pandas DataFrame called `recent_euro_df`."
   ]
  },
  {
   "cell_type": "code",
   "execution_count": null,
   "id": "8ffa1e30-baf9-4b6c-82cb-1a598d4c7744",
   "metadata": {},
   "outputs": [],
   "source": [
    "recent_euro_df = euro_df[euro_df['date_time'].dt.year >= 1980]"
   ]
  },
  {
   "cell_type": "markdown",
   "id": "879872e9-dd0d-4662-8eed-6932b3042631",
   "metadata": {},
   "source": [
    "Again check using `head()` and `tail()` that we have the correct data"
   ]
  },
  {
   "cell_type": "code",
   "execution_count": null,
   "id": "4995ccc7-2850-4d6f-90b6-ae3b656cbe35",
   "metadata": {},
   "outputs": [],
   "source": [
    "recent_euro_df.head()"
   ]
  },
  {
   "cell_type": "code",
   "execution_count": null,
   "id": "d5259841-a2bf-4e91-958d-2a7be01a6d74",
   "metadata": {},
   "outputs": [],
   "source": [
    "recent_euro_df.tail()"
   ]
  },
  {
   "cell_type": "markdown",
   "id": "8538ebde-6dd3-48ba-a344-d2c5d7d01f7a",
   "metadata": {},
   "source": [
    "Looks great, now we can use Pandas `groupby()` on `home_score` and `away_score` with Pandas `size()` to get the number of matches for each score."
   ]
  },
  {
   "cell_type": "code",
   "execution_count": null,
   "id": "955efdb0-106a-4beb-94de-7d71fd4fcfa5",
   "metadata": {},
   "outputs": [],
   "source": [
    "recent_euro_df.groupby(['home_score', 'away_score']).size()"
   ]
  },
  {
   "cell_type": "markdown",
   "id": "0b3dead3-655f-4861-bafb-90427c8d9076",
   "metadata": {},
   "source": [
    "We can convert this into something more asthetically pleasing by using Pandas `unstack(fill_value=0)` to pivot the levels in the table and fill the empty cells with 0."
   ]
  },
  {
   "cell_type": "code",
   "execution_count": null,
   "id": "406b13d4-14fb-4f0c-9cda-fb3d5f7c489c",
   "metadata": {},
   "outputs": [],
   "source": [
    "recent_euro_df.groupby(['home_score', 'away_score']).size().unstack(fill_value=0)"
   ]
  },
  {
   "cell_type": "markdown",
   "id": "eec33cc9-6a85-4f0d-becd-dafce6617f9c",
   "metadata": {},
   "source": [
    "Gradient fill the background based on the number of matches using `style` and `background_gradient(axis=None)` to fill based on both axis at once."
   ]
  },
  {
   "cell_type": "code",
   "execution_count": null,
   "id": "79837ec3-2252-48a9-b9a5-74b79dcaf8ec",
   "metadata": {},
   "outputs": [],
   "source": [
    "recent_euro_df.groupby(['home_score', 'away_score']).size().unstack(fill_value=0).style.background_gradient(axis=None)"
   ]
  }
 ],
 "metadata": {
  "kernelspec": {
   "display_name": "Python 3",
   "language": "python",
   "name": "python3"
  },
  "language_info": {
   "codemirror_mode": {
    "name": "ipython",
    "version": 3
   },
   "file_extension": ".py",
   "mimetype": "text/x-python",
   "name": "python",
   "nbconvert_exporter": "python",
   "pygments_lexer": "ipython3",
   "version": "3.9.4"
  }
 },
 "nbformat": 4,
 "nbformat_minor": 5
}
