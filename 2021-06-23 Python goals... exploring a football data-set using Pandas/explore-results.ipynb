{
 "cells": [
  {
   "cell_type": "markdown",
   "id": "4c473d25-9e57-46c6-82b1-05adb413c324",
   "metadata": {},
   "source": [
    "# Python goals... exploring a football data-set using Pandas"
   ]
  },
  {
   "cell_type": "code",
   "execution_count": 1,
   "id": "620484a2-8b2e-4642-a682-48c872ca35ee",
   "metadata": {},
   "outputs": [],
   "source": [
    "# Import any packages\n",
    "import pandas as pd\n",
    "import matplotlib\n",
    "\n",
    "# Make the plots appear inline\n",
    "%matplotlib inline"
   ]
  },
  {
   "cell_type": "markdown",
   "id": "e2a0d9e5-7779-4241-ac3a-aa100a9c1a3d",
   "metadata": {},
   "source": [
    "## Plot the number of International matches that took place each year?"
   ]
  },
  {
   "cell_type": "markdown",
   "id": "210fb8ce-2615-448c-9531-e62cd4e49273",
   "metadata": {},
   "source": [
    "Read in the `results.csv` file which is saved in the same directory as this notebook and save it to a Pandas DataFrame named `results`."
   ]
  },
  {
   "cell_type": "code",
   "execution_count": 2,
   "id": "d40fbbcc-96f6-426e-8770-4d4f3315b05a",
   "metadata": {},
   "outputs": [],
   "source": [
    "results = pd.read_csv('results.csv')"
   ]
  },
  {
   "cell_type": "markdown",
   "id": "e6bef6e9-6962-4658-97cb-96e761183317",
   "metadata": {},
   "source": [
    "Look at the first 5 records of `results` by using using the Pandas `head()` method."
   ]
  },
  {
   "cell_type": "code",
   "execution_count": 3,
   "id": "02dec352-fe5e-45b1-b667-4387f53641bd",
   "metadata": {},
   "outputs": [
    {
     "data": {
      "text/html": [
       "<div>\n",
       "<style scoped>\n",
       "    .dataframe tbody tr th:only-of-type {\n",
       "        vertical-align: middle;\n",
       "    }\n",
       "\n",
       "    .dataframe tbody tr th {\n",
       "        vertical-align: top;\n",
       "    }\n",
       "\n",
       "    .dataframe thead th {\n",
       "        text-align: right;\n",
       "    }\n",
       "</style>\n",
       "<table border=\"1\" class=\"dataframe\">\n",
       "  <thead>\n",
       "    <tr style=\"text-align: right;\">\n",
       "      <th></th>\n",
       "      <th>date</th>\n",
       "      <th>home_team</th>\n",
       "      <th>away_team</th>\n",
       "      <th>home_score</th>\n",
       "      <th>away_score</th>\n",
       "      <th>tournament</th>\n",
       "      <th>city</th>\n",
       "      <th>country</th>\n",
       "      <th>neutral</th>\n",
       "    </tr>\n",
       "  </thead>\n",
       "  <tbody>\n",
       "    <tr>\n",
       "      <th>0</th>\n",
       "      <td>1872-11-30</td>\n",
       "      <td>Scotland</td>\n",
       "      <td>England</td>\n",
       "      <td>0</td>\n",
       "      <td>0</td>\n",
       "      <td>Friendly</td>\n",
       "      <td>Glasgow</td>\n",
       "      <td>Scotland</td>\n",
       "      <td>False</td>\n",
       "    </tr>\n",
       "    <tr>\n",
       "      <th>1</th>\n",
       "      <td>1873-03-08</td>\n",
       "      <td>England</td>\n",
       "      <td>Scotland</td>\n",
       "      <td>4</td>\n",
       "      <td>2</td>\n",
       "      <td>Friendly</td>\n",
       "      <td>London</td>\n",
       "      <td>England</td>\n",
       "      <td>False</td>\n",
       "    </tr>\n",
       "    <tr>\n",
       "      <th>2</th>\n",
       "      <td>1874-03-07</td>\n",
       "      <td>Scotland</td>\n",
       "      <td>England</td>\n",
       "      <td>2</td>\n",
       "      <td>1</td>\n",
       "      <td>Friendly</td>\n",
       "      <td>Glasgow</td>\n",
       "      <td>Scotland</td>\n",
       "      <td>False</td>\n",
       "    </tr>\n",
       "    <tr>\n",
       "      <th>3</th>\n",
       "      <td>1875-03-06</td>\n",
       "      <td>England</td>\n",
       "      <td>Scotland</td>\n",
       "      <td>2</td>\n",
       "      <td>2</td>\n",
       "      <td>Friendly</td>\n",
       "      <td>London</td>\n",
       "      <td>England</td>\n",
       "      <td>False</td>\n",
       "    </tr>\n",
       "    <tr>\n",
       "      <th>4</th>\n",
       "      <td>1876-03-04</td>\n",
       "      <td>Scotland</td>\n",
       "      <td>England</td>\n",
       "      <td>3</td>\n",
       "      <td>0</td>\n",
       "      <td>Friendly</td>\n",
       "      <td>Glasgow</td>\n",
       "      <td>Scotland</td>\n",
       "      <td>False</td>\n",
       "    </tr>\n",
       "  </tbody>\n",
       "</table>\n",
       "</div>"
      ],
      "text/plain": [
       "         date home_team away_team  home_score  away_score tournament     city  \\\n",
       "0  1872-11-30  Scotland   England           0           0   Friendly  Glasgow   \n",
       "1  1873-03-08   England  Scotland           4           2   Friendly   London   \n",
       "2  1874-03-07  Scotland   England           2           1   Friendly  Glasgow   \n",
       "3  1875-03-06   England  Scotland           2           2   Friendly   London   \n",
       "4  1876-03-04  Scotland   England           3           0   Friendly  Glasgow   \n",
       "\n",
       "    country  neutral  \n",
       "0  Scotland    False  \n",
       "1   England    False  \n",
       "2  Scotland    False  \n",
       "3   England    False  \n",
       "4  Scotland    False  "
      ]
     },
     "execution_count": 3,
     "metadata": {},
     "output_type": "execute_result"
    }
   ],
   "source": [
    "results.head()"
   ]
  },
  {
   "cell_type": "markdown",
   "id": "bba8f393-11f2-49ce-8f41-d146169a7740",
   "metadata": {},
   "source": [
    "Each row represents a single International football match.\n",
    "\n",
    "Look at the last 5 records of `results` by using using the Pandas `tail()` method."
   ]
  },
  {
   "cell_type": "code",
   "execution_count": 4,
   "id": "e887c66c-abc3-4586-a395-c306fe7787dd",
   "metadata": {},
   "outputs": [
    {
     "data": {
      "text/html": [
       "<div>\n",
       "<style scoped>\n",
       "    .dataframe tbody tr th:only-of-type {\n",
       "        vertical-align: middle;\n",
       "    }\n",
       "\n",
       "    .dataframe tbody tr th {\n",
       "        vertical-align: top;\n",
       "    }\n",
       "\n",
       "    .dataframe thead th {\n",
       "        text-align: right;\n",
       "    }\n",
       "</style>\n",
       "<table border=\"1\" class=\"dataframe\">\n",
       "  <thead>\n",
       "    <tr style=\"text-align: right;\">\n",
       "      <th></th>\n",
       "      <th>date</th>\n",
       "      <th>home_team</th>\n",
       "      <th>away_team</th>\n",
       "      <th>home_score</th>\n",
       "      <th>away_score</th>\n",
       "      <th>tournament</th>\n",
       "      <th>city</th>\n",
       "      <th>country</th>\n",
       "      <th>neutral</th>\n",
       "    </tr>\n",
       "  </thead>\n",
       "  <tbody>\n",
       "    <tr>\n",
       "      <th>42178</th>\n",
       "      <td>2021-06-08</td>\n",
       "      <td>Morocco</td>\n",
       "      <td>Ghana</td>\n",
       "      <td>1</td>\n",
       "      <td>0</td>\n",
       "      <td>Friendly</td>\n",
       "      <td>Rabat</td>\n",
       "      <td>Morocco</td>\n",
       "      <td>False</td>\n",
       "    </tr>\n",
       "    <tr>\n",
       "      <th>42179</th>\n",
       "      <td>2021-06-08</td>\n",
       "      <td>Mozambique</td>\n",
       "      <td>Eswatini</td>\n",
       "      <td>1</td>\n",
       "      <td>1</td>\n",
       "      <td>Friendly</td>\n",
       "      <td>Maputo</td>\n",
       "      <td>Mozambique</td>\n",
       "      <td>False</td>\n",
       "    </tr>\n",
       "    <tr>\n",
       "      <th>42180</th>\n",
       "      <td>2021-06-08</td>\n",
       "      <td>Poland</td>\n",
       "      <td>Iceland</td>\n",
       "      <td>2</td>\n",
       "      <td>2</td>\n",
       "      <td>Friendly</td>\n",
       "      <td>Poznan</td>\n",
       "      <td>Poland</td>\n",
       "      <td>False</td>\n",
       "    </tr>\n",
       "    <tr>\n",
       "      <th>42181</th>\n",
       "      <td>2021-06-08</td>\n",
       "      <td>Senegal</td>\n",
       "      <td>Cape Verde</td>\n",
       "      <td>2</td>\n",
       "      <td>0</td>\n",
       "      <td>Friendly</td>\n",
       "      <td>Thiès</td>\n",
       "      <td>Senegal</td>\n",
       "      <td>False</td>\n",
       "    </tr>\n",
       "    <tr>\n",
       "      <th>42182</th>\n",
       "      <td>2021-06-08</td>\n",
       "      <td>Spain</td>\n",
       "      <td>Lithuania</td>\n",
       "      <td>4</td>\n",
       "      <td>0</td>\n",
       "      <td>Friendly</td>\n",
       "      <td>Leganés</td>\n",
       "      <td>Spain</td>\n",
       "      <td>False</td>\n",
       "    </tr>\n",
       "  </tbody>\n",
       "</table>\n",
       "</div>"
      ],
      "text/plain": [
       "             date   home_team   away_team  home_score  away_score tournament  \\\n",
       "42178  2021-06-08     Morocco       Ghana           1           0   Friendly   \n",
       "42179  2021-06-08  Mozambique    Eswatini           1           1   Friendly   \n",
       "42180  2021-06-08      Poland     Iceland           2           2   Friendly   \n",
       "42181  2021-06-08     Senegal  Cape Verde           2           0   Friendly   \n",
       "42182  2021-06-08       Spain   Lithuania           4           0   Friendly   \n",
       "\n",
       "          city     country  neutral  \n",
       "42178    Rabat     Morocco    False  \n",
       "42179   Maputo  Mozambique    False  \n",
       "42180   Poznan      Poland    False  \n",
       "42181    Thiès     Senegal    False  \n",
       "42182  Leganés       Spain    False  "
      ]
     },
     "execution_count": 4,
     "metadata": {},
     "output_type": "execute_result"
    }
   ],
   "source": [
    "results.tail()"
   ]
  },
  {
   "cell_type": "markdown",
   "id": "90976df7-b741-4846-a396-3816a35917da",
   "metadata": {},
   "source": [
    "Familiarise ourselves with the data-set by checking the number of rows and columns using the Pandas `shape` attribute."
   ]
  },
  {
   "cell_type": "code",
   "execution_count": 5,
   "id": "708cce81-a360-42ad-9a78-8857d11f5a55",
   "metadata": {},
   "outputs": [
    {
     "data": {
      "text/plain": [
       "(42183, 9)"
      ]
     },
     "execution_count": 5,
     "metadata": {},
     "output_type": "execute_result"
    }
   ],
   "source": [
    "results.shape"
   ]
  },
  {
   "cell_type": "markdown",
   "id": "1998d784-7b11-45c9-bc13-ee42ffdefbbb",
   "metadata": {},
   "source": [
    "Check the datatypes of the columns using the Pandas `dtypes` attribute."
   ]
  },
  {
   "cell_type": "code",
   "execution_count": 6,
   "id": "2dc8db2e-3cae-46c4-8de5-ddbce11e919b",
   "metadata": {},
   "outputs": [
    {
     "data": {
      "text/plain": [
       "date          object\n",
       "home_team     object\n",
       "away_team     object\n",
       "home_score     int64\n",
       "away_score     int64\n",
       "tournament    object\n",
       "city          object\n",
       "country       object\n",
       "neutral         bool\n",
       "dtype: object"
      ]
     },
     "execution_count": 6,
     "metadata": {},
     "output_type": "execute_result"
    }
   ],
   "source": [
    "results.dtypes"
   ]
  },
  {
   "cell_type": "markdown",
   "id": "353f75ef-e27e-4e50-ba6e-600b09b416cd",
   "metadata": {},
   "source": [
    "The `date` column is of type `object`, which isn't very useful and does not make use of the fact that the column is actually a date, we can select the column as a Pandas Series to inspect."
   ]
  },
  {
   "cell_type": "code",
   "execution_count": 7,
   "id": "612fc6cf-589b-409b-8e66-837ea4369f36",
   "metadata": {},
   "outputs": [
    {
     "data": {
      "text/plain": [
       "0        1872-11-30\n",
       "1        1873-03-08\n",
       "2        1874-03-07\n",
       "3        1875-03-06\n",
       "4        1876-03-04\n",
       "            ...    \n",
       "42178    2021-06-08\n",
       "42179    2021-06-08\n",
       "42180    2021-06-08\n",
       "42181    2021-06-08\n",
       "42182    2021-06-08\n",
       "Name: date, Length: 42183, dtype: object"
      ]
     },
     "execution_count": 7,
     "metadata": {},
     "output_type": "execute_result"
    }
   ],
   "source": [
    "results['date']"
   ]
  },
  {
   "cell_type": "markdown",
   "id": "b3d39c5d-e876-4ce9-9a99-ed4be71ac3b7",
   "metadata": {},
   "source": [
    "Now use `pd.to_datetime()` on the `date` column in the `results` DataFrame to convert to a `datetime` datatype Series."
   ]
  },
  {
   "cell_type": "code",
   "execution_count": 8,
   "id": "464cd640-8e77-4587-9d3d-68bdc038b635",
   "metadata": {},
   "outputs": [
    {
     "data": {
      "text/plain": [
       "0       1872-11-30\n",
       "1       1873-03-08\n",
       "2       1874-03-07\n",
       "3       1875-03-06\n",
       "4       1876-03-04\n",
       "           ...    \n",
       "42178   2021-06-08\n",
       "42179   2021-06-08\n",
       "42180   2021-06-08\n",
       "42181   2021-06-08\n",
       "42182   2021-06-08\n",
       "Name: date, Length: 42183, dtype: datetime64[ns]"
      ]
     },
     "execution_count": 8,
     "metadata": {},
     "output_type": "execute_result"
    }
   ],
   "source": [
    "pd.to_datetime(results['date'])"
   ]
  },
  {
   "cell_type": "markdown",
   "id": "d9c7f906-09bc-4527-b536-f8b0cfd042a0",
   "metadata": {},
   "source": [
    "Assign the Series to a new column in `results` called `date_time`."
   ]
  },
  {
   "cell_type": "code",
   "execution_count": 9,
   "id": "e53c46a8-9695-4a7d-9b2f-17aad84be054",
   "metadata": {},
   "outputs": [],
   "source": [
    "results['date_time'] = pd.to_datetime(results['date'])"
   ]
  },
  {
   "cell_type": "markdown",
   "id": "ff202a66-fd1e-47cc-bdd7-a0fea3d98f47",
   "metadata": {},
   "source": [
    "Check that the new column has the correct datatype."
   ]
  },
  {
   "cell_type": "code",
   "execution_count": 10,
   "id": "c677f6a6-e5c4-45cc-9cba-6b526ff7622e",
   "metadata": {},
   "outputs": [
    {
     "data": {
      "text/plain": [
       "date                  object\n",
       "home_team             object\n",
       "away_team             object\n",
       "home_score             int64\n",
       "away_score             int64\n",
       "tournament            object\n",
       "city                  object\n",
       "country               object\n",
       "neutral                 bool\n",
       "date_time     datetime64[ns]\n",
       "dtype: object"
      ]
     },
     "execution_count": 10,
     "metadata": {},
     "output_type": "execute_result"
    }
   ],
   "source": [
    "results.dtypes"
   ]
  },
  {
   "cell_type": "markdown",
   "id": "eb8969a1-fb39-4ee2-bc4f-b6c85600a472",
   "metadata": {},
   "source": [
    "Through the use of the `dt` namespace, convenient attributes such as `year` can be extracted."
   ]
  },
  {
   "cell_type": "code",
   "execution_count": 11,
   "id": "6d942593-7bfa-428f-8259-2488bbc7a5de",
   "metadata": {},
   "outputs": [
    {
     "data": {
      "text/plain": [
       "0        1872\n",
       "1        1873\n",
       "2        1874\n",
       "3        1875\n",
       "4        1876\n",
       "         ... \n",
       "42178    2021\n",
       "42179    2021\n",
       "42180    2021\n",
       "42181    2021\n",
       "42182    2021\n",
       "Name: date_time, Length: 42183, dtype: int64"
      ]
     },
     "execution_count": 11,
     "metadata": {},
     "output_type": "execute_result"
    }
   ],
   "source": [
    "results['date_time'].dt.year"
   ]
  },
  {
   "cell_type": "markdown",
   "id": "5f1baaf3-d97c-4bad-9d39-cbb51eb0a760",
   "metadata": {},
   "source": [
    "Count the occurance of each `year` by using Pandas `value_counts()`."
   ]
  },
  {
   "cell_type": "code",
   "execution_count": 12,
   "id": "92bcb759-b446-4cab-8916-3441cebada21",
   "metadata": {},
   "outputs": [
    {
     "data": {
      "text/plain": [
       "2019    1155\n",
       "2008    1092\n",
       "2011    1083\n",
       "2004    1066\n",
       "2000    1026\n",
       "        ... \n",
       "1878       2\n",
       "1872       1\n",
       "1874       1\n",
       "1875       1\n",
       "1873       1\n",
       "Name: date_time, Length: 150, dtype: int64"
      ]
     },
     "execution_count": 12,
     "metadata": {},
     "output_type": "execute_result"
    }
   ],
   "source": [
    "results['date_time'].dt.year.value_counts()"
   ]
  },
  {
   "cell_type": "markdown",
   "id": "7f1580fd-5b98-40cc-86a7-4ea64da21e96",
   "metadata": {},
   "source": [
    "The index is the `year` and the value is the count relating to it, it is sorted in descending order by default.\n",
    "\n",
    "In order to plot we must sort by the index using Pandas `sort_index()`."
   ]
  },
  {
   "cell_type": "code",
   "execution_count": 13,
   "id": "90db6801-1de4-4bb4-b8f3-05d742916969",
   "metadata": {},
   "outputs": [
    {
     "data": {
      "text/plain": [
       "1872       1\n",
       "1873       1\n",
       "1874       1\n",
       "1875       1\n",
       "1876       2\n",
       "        ... \n",
       "2017     958\n",
       "2018     905\n",
       "2019    1155\n",
       "2020     286\n",
       "2021     282\n",
       "Name: date_time, Length: 150, dtype: int64"
      ]
     },
     "execution_count": 13,
     "metadata": {},
     "output_type": "execute_result"
    }
   ],
   "source": [
    "results['date_time'].dt.year.value_counts().sort_index()"
   ]
  },
  {
   "cell_type": "markdown",
   "id": "79c091ae-758d-4a46-bf66-abf26c483ba5",
   "metadata": {},
   "source": [
    "By simply using Pandas `plot()` we can visualise the nuber of international matches each year (the default plot type is a line).\n",
    "\n",
    "Although the plot could certainly use some visual enhancements, a simple Pandas one-liner is able to convey the number of matches that took place each year!"
   ]
  },
  {
   "cell_type": "code",
   "execution_count": 14,
   "id": "17bb10e6-4c06-43a1-96e5-fc2519524f9c",
   "metadata": {},
   "outputs": [
    {
     "data": {
      "text/plain": [
       "<AxesSubplot:>"
      ]
     },
     "execution_count": 14,
     "metadata": {},
     "output_type": "execute_result"
    },
    {
     "data": {
      "image/png": "[encoded data removed]",
      "text/plain": [
       "<Figure size 432x288 with 1 Axes>"
      ]
     },
     "metadata": {
      "needs_background": "light"
     },
     "output_type": "display_data"
    }
   ],
   "source": [
    "results['date_time'].dt.year.value_counts().sort_index().plot()"
   ]
  },
  {
   "cell_type": "markdown",
   "id": "ec7251b0-f96d-4237-aa54-805cfffc9427",
   "metadata": {},
   "source": [
    "## Filtering the time-series for more fine grained detail"
   ]
  },
  {
   "cell_type": "markdown",
   "id": "5ce3b1a4-6fcb-47e7-b3f2-a00dde529744",
   "metadata": {},
   "source": [
    "It would also be insightful to take a look at a narrower range of International matches. \n",
    "\n",
    "Create a boolean Series from the `date_time` column."
   ]
  },
  {
   "cell_type": "code",
   "execution_count": 15,
   "id": "66cdbe9a-40fc-43e8-97fb-71e5dc0d1b08",
   "metadata": {},
   "outputs": [
    {
     "data": {
      "text/plain": [
       "0        False\n",
       "1        False\n",
       "2        False\n",
       "3        False\n",
       "4        False\n",
       "         ...  \n",
       "42178     True\n",
       "42179     True\n",
       "42180     True\n",
       "42181     True\n",
       "42182     True\n",
       "Name: date_time, Length: 42183, dtype: bool"
      ]
     },
     "execution_count": 15,
     "metadata": {},
     "output_type": "execute_result"
    }
   ],
   "source": [
    "results['date_time'].dt.year >= 2014"
   ]
  },
  {
   "cell_type": "markdown",
   "id": "75046b19-cbfe-4562-91e6-254678ceeab4",
   "metadata": {},
   "source": [
    "Slice the Series and only keep rows that are `True`."
   ]
  },
  {
   "cell_type": "code",
   "execution_count": 16,
   "id": "ae07f282-fb36-40bd-a636-a4d9c4dec4cd",
   "metadata": {},
   "outputs": [
    {
     "data": {
      "text/plain": [
       "35806    2014\n",
       "35807    2014\n",
       "35808    2014\n",
       "35809    2014\n",
       "35810    2014\n",
       "         ... \n",
       "42178    2021\n",
       "42179    2021\n",
       "42180    2021\n",
       "42181    2021\n",
       "42182    2021\n",
       "Name: date_time, Length: 6377, dtype: int64"
      ]
     },
     "execution_count": 16,
     "metadata": {},
     "output_type": "execute_result"
    }
   ],
   "source": [
    "results['date_time'].dt.year[results['date_time'].dt.year >= 2014]"
   ]
  },
  {
   "cell_type": "markdown",
   "id": "a47d5259-215b-41c2-9ab0-9bd14a180916",
   "metadata": {},
   "source": [
    "As previously, use Pandas `value_counts()` to count the occurances each year."
   ]
  },
  {
   "cell_type": "code",
   "execution_count": 17,
   "id": "1dc463fb-45a7-4469-b01c-a530a168d800",
   "metadata": {},
   "outputs": [
    {
     "data": {
      "text/plain": [
       "2019    1155\n",
       "2015    1003\n",
       "2017     958\n",
       "2016     928\n",
       "2018     905\n",
       "2014     860\n",
       "2020     286\n",
       "2021     282\n",
       "Name: date_time, dtype: int64"
      ]
     },
     "execution_count": 17,
     "metadata": {},
     "output_type": "execute_result"
    }
   ],
   "source": [
    "results['date_time'].dt.year[results['date_time'].dt.year >= 2014].value_counts()"
   ]
  },
  {
   "cell_type": "markdown",
   "id": "a534b221-3ed3-4fdc-b0b7-46ed28b2588f",
   "metadata": {},
   "source": [
    "Then sort it by the index using Pandas `sort_index()`."
   ]
  },
  {
   "cell_type": "code",
   "execution_count": 18,
   "id": "c110f591-8de7-4779-9387-cbde75925e37",
   "metadata": {},
   "outputs": [
    {
     "data": {
      "text/plain": [
       "2014     860\n",
       "2015    1003\n",
       "2016     928\n",
       "2017     958\n",
       "2018     905\n",
       "2019    1155\n",
       "2020     286\n",
       "2021     282\n",
       "Name: date_time, dtype: int64"
      ]
     },
     "execution_count": 18,
     "metadata": {},
     "output_type": "execute_result"
    }
   ],
   "source": [
    "results['date_time'].dt.year[results['date_time'].dt.year >= 2014].value_counts().sort_index()"
   ]
  },
  {
   "cell_type": "markdown",
   "id": "6451fdde-3e21-4ed7-afbe-d41b83d15ffe",
   "metadata": {},
   "source": [
    "Now using Pandas `plot()` to visualise the Series."
   ]
  },
  {
   "cell_type": "code",
   "execution_count": 19,
   "id": "c7e1d207-48f5-4916-9f7f-be54c58cac9a",
   "metadata": {},
   "outputs": [
    {
     "data": {
      "text/plain": [
       "<AxesSubplot:>"
      ]
     },
     "execution_count": 19,
     "metadata": {},
     "output_type": "execute_result"
    },
    {
     "data": {
      "image/png": "[encoded data removed]",
      "text/plain": [
       "<Figure size 432x288 with 1 Axes>"
      ]
     },
     "metadata": {
      "needs_background": "light"
     },
     "output_type": "display_data"
    }
   ],
   "source": [
    "results['date_time'].dt.year[results['date_time'].dt.year >= 2014].value_counts().sort_index().plot()"
   ]
  },
  {
   "cell_type": "markdown",
   "id": "18b4007c-bdf4-421f-958f-402b2fbe3ed2",
   "metadata": {},
   "source": [
    "There is a large drop in the final two years. 2020 is low mainly due to COVID and 2021 is partly COVID and partly an unfinished year. \n",
    "\n",
    "We can see this using Pandas `max()` on the `date_time` column."
   ]
  },
  {
   "cell_type": "code",
   "execution_count": 20,
   "id": "c5dff68e-1533-4df5-9d87-c70354ad6b53",
   "metadata": {},
   "outputs": [
    {
     "data": {
      "text/plain": [
       "Timestamp('2021-06-08 00:00:00')"
      ]
     },
     "execution_count": 20,
     "metadata": {},
     "output_type": "execute_result"
    }
   ],
   "source": [
    "results['date_time'].max()"
   ]
  }
 ],
 "metadata": {
  "kernelspec": {
   "display_name": "Python 3",
   "language": "python",
   "name": "python3"
  },
  "language_info": {
   "codemirror_mode": {
    "name": "ipython",
    "version": 3
   },
   "file_extension": ".py",
   "mimetype": "text/x-python",
   "name": "python",
   "nbconvert_exporter": "python",
   "pygments_lexer": "ipython3",
   "version": "3.9.4"
  }
 },
 "nbformat": 4,
 "nbformat_minor": 5
}
