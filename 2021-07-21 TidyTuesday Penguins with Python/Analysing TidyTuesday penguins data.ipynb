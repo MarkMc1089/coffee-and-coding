{
 "cells": [
  {
   "cell_type": "markdown",
   "id": "cardiovascular-revolution",
   "metadata": {},
   "source": [
    "## Get the data from TidyTuesday GitHub\n"
   ]
  },
  {
   "cell_type": "code",
   "execution_count": null,
   "id": "9f1f4808-9476-4071-b5a2-6b85b7c3e3c2",
   "metadata": {},
   "outputs": [],
   "source": [
    "# Import libraries for today's session\n",
    "import pandas as pd\n",
    "import seaborn as sns\n",
    "import numpy as np\n",
    "import matplotlib.pyplot as plt\n",
    "import scipy.stats as st\n",
    "import sklearn\n",
    "import statsmodels.api as sm"
   ]
  },
  {
   "cell_type": "markdown",
   "id": "democratic-integration",
   "metadata": {},
   "source": [
    "Data is loaded from the RforDatascience GitHub. However, it is also available through python libraries, seaborn and sklearn. "
   ]
  },
  {
   "cell_type": "code",
   "execution_count": null,
   "id": "geological-result",
   "metadata": {},
   "outputs": [],
   "source": [
    "penguins = pd.read_csv('https://raw.githubusercontent.com/rfordatascience/tidytuesday/master/data/2020/2020-07-28/penguins.csv')\n",
    "\n",
    "# If you want to load data from seaborn, using this\n",
    "# penguins = sns.load_dataset('penguins')\n"
   ]
  },
  {
   "cell_type": "markdown",
   "id": "secure-zealand",
   "metadata": {},
   "source": [
    "### **Data Dictionary**"
   ]
  },
  {
   "cell_type": "markdown",
   "id": "southwest-nudist",
   "metadata": {},
   "source": [
    "The columns included in `penguins` are: \n",
    "\n",
    "<div id = 'adelie'>\n",
    "    <div class = \"inline-block\">\n",
    "        <figure><img src = 'adelie.jfif' width = \"20%\" height = \"20%\"><figcaption>Adelie</figcaption></figure>\n",
    "    </div>\n",
    "    <div class = \"inline-block\">\n",
    "        <figure><img src = 'gentoo.jpg' width = \"20%\" height = \"20%\"><figcaption>Gentoo</figcaption></figure>\n",
    "    </div>\n",
    "    <div class = \"inline-block\">\n",
    "        <figure><img src = 'chinstrap.jfif' width = \"10%\" height = \"10%\"><figcaption>Chinstrap</figcaption></figure>\n",
    "    </div>\n",
    " </div>   \n",
    "        \n",
    "\n",
    " \n",
    "| Variable | Class   | Description   |\n",
    "|------|------|------|\n",
    "|   species  | integer| Penguin speciese (Adelie, Gentoo, Chinstrap)\n",
    "|   island   | integer| Island where recorded (Biscoe, Dream, Torgersen)\n",
    "|   bill_length_mm  |  double  | Bill length in millimieters (also known as culmen length)\n",
    "|   bill_depth_mm  |  double  | Bill depth in millimieters\n",
    "|   flipper_length_mm  | integer  | Flipper length in mm\n",
    "|   body_mass_g  |  integer  | Body mass in grams\n",
    "|   sex   | integer | sex of the animal\n",
    "|   year  | integer  | year recorded\n",
    "\n",
    "More information about **TidyTuesday** in general can be found in the [TidyTuesday GitHub](https://github.com/rfordatascience/tidytuesday/blob/master/data/2020/2020-07-28/readme.md)"
   ]
  },
  {
   "cell_type": "markdown",
   "id": "still-twist",
   "metadata": {},
   "source": [
    "## 1. Explore the data "
   ]
  },
  {
   "cell_type": "markdown",
   "id": "ef9f0767-d170-4c4c-be82-4d2e2c734749",
   "metadata": {},
   "source": [
    "Let's look at the first 5 records of `penguins`. (Note: in `R` it will be `head(penguins)`)"
   ]
  },
  {
   "cell_type": "markdown",
   "id": "fc8a6133-48e2-4ea8-85fb-fe34d408c82b",
   "metadata": {},
   "source": [
    "Your Answer:"
   ]
  },
  {
   "cell_type": "code",
   "execution_count": null,
   "id": "d21abb4d-031c-4a59-ba28-dba4fdc42bb4",
   "metadata": {},
   "outputs": [],
   "source": []
  },
  {
   "cell_type": "markdown",
   "id": "eb554c64-6618-4aa6-b485-ed6f1e1464e0",
   "metadata": {},
   "source": [
    "Can you also try to find out the **shape** of the data to find out number of rows and columns? "
   ]
  },
  {
   "cell_type": "markdown",
   "id": "b11b70d6-132a-4d04-9eac-e30401fe6041",
   "metadata": {},
   "source": [
    "Your Answer:"
   ]
  },
  {
   "cell_type": "code",
   "execution_count": null,
   "id": "d84a7370-05f2-4c72-9561-a4072ba3388c",
   "metadata": {},
   "outputs": [],
   "source": []
  },
  {
   "cell_type": "code",
   "execution_count": null,
   "id": "adjustable-reduction",
   "metadata": {
    "scrolled": true
   },
   "outputs": [],
   "source": [
    "penguins.info()"
   ]
  },
  {
   "cell_type": "markdown",
   "id": "artificial-contractor",
   "metadata": {},
   "source": [
    "`pandas.info()` function prints information about a dataframe including the index data type and columns, non-null values and memory usage. "
   ]
  },
  {
   "cell_type": "markdown",
   "id": "90545a02-ebc1-4818-af42-fe67cac46ba6",
   "metadata": {},
   "source": [
    "Similar to `pandas.info()`, we can use `DataFrame.describe` to generate descriptive statistics of DataFrame columns. (Note: in R, summary())"
   ]
  },
  {
   "cell_type": "code",
   "execution_count": null,
   "id": "crazy-tampa",
   "metadata": {
    "scrolled": true
   },
   "outputs": [],
   "source": [
    "penguins.describe() "
   ]
  },
  {
   "cell_type": "code",
   "execution_count": null,
   "id": "a93d76aa-c40c-481e-af13-f2f1d8957fc2",
   "metadata": {},
   "outputs": [],
   "source": [
    "penguins.mode() # looking at the mode of data, We will use this for handling missing data part.... "
   ]
  },
  {
   "cell_type": "markdown",
   "id": "f1b951ee-eefb-427f-bc42-b1c1eae0a95b",
   "metadata": {},
   "source": [
    "Let's check the completeness of the penguins dataset!"
   ]
  },
  {
   "cell_type": "code",
   "execution_count": null,
   "id": "brave-lighting",
   "metadata": {},
   "outputs": [],
   "source": [
    "penguins[penguins.isnull().any(axis = 1)]"
   ]
  },
  {
   "cell_type": "markdown",
   "id": "canadian-masters",
   "metadata": {},
   "source": [
    "`bill_length_mm`, `bill_depth_mm`, `flipper_length_mm`, `body_mass_g` and `sex` would appear to have missing values. \n",
    "\n",
    "You can use `DataFrame.any` with parameter `axis = 1` for check at least one `True` in row by `DataFrame.isnull` with `boolean indexing`. "
   ]
  },
  {
   "cell_type": "markdown",
   "id": "excellent-karma",
   "metadata": {},
   "source": [
    "The most common `missing` (NaN) values are from **sex** column. \n",
    "Two rows (index 3 and 271) has almost all values are null. "
   ]
  },
  {
   "cell_type": "markdown",
   "id": "personal-vertex",
   "metadata": {},
   "source": [
    "## 2. Handle missing values"
   ]
  },
  {
   "cell_type": "markdown",
   "id": "dynamic-truck",
   "metadata": {},
   "source": [
    "Pandas document explains various ways of handling missing values. (https://pandas.pydata.org/pandas-docs/stable/user_guide/missing_data.html)\n"
   ]
  },
  {
   "cell_type": "markdown",
   "id": "super-blend",
   "metadata": {},
   "source": [
    "Let's check null data again."
   ]
  },
  {
   "cell_type": "code",
   "execution_count": null,
   "id": "small-teacher",
   "metadata": {},
   "outputs": [],
   "source": [
    "penguins.isnull().sum()"
   ]
  },
  {
   "cell_type": "markdown",
   "id": "portuguese-flush",
   "metadata": {},
   "source": [
    "First, we will drop 2 rows with null values for almost all variables."
   ]
  },
  {
   "cell_type": "code",
   "execution_count": null,
   "id": "059fc7c5-0196-458d-a867-3f46c6a00a4b",
   "metadata": {},
   "outputs": [],
   "source": [
    "penguins.drop(penguins[penguins['bill_length_mm'].isnull()].index, axis = 0, inplace = True)"
   ]
  },
  {
   "cell_type": "markdown",
   "id": "4e013b64-ff39-40b8-918e-2be31e224ebc",
   "metadata": {},
   "source": [
    "`inplace = True`, the data is modified in place. it means it will return nothing and the data frame is updated. (if you want to keep original one, you can give new DataFrame name and not setting inplace = True). "
   ]
  },
  {
   "cell_type": "markdown",
   "id": "578aeeee-282a-4009-ae88-9cf8f3e7924a",
   "metadata": {},
   "source": [
    "You can try to impute by using mean/median values of bill_length_mm, bill_depth_mm, flipper_length_mm, body_mass_g instead of drop them all together."
   ]
  },
  {
   "cell_type": "code",
   "execution_count": null,
   "id": "e46910fa-8ddb-436f-8d24-e7b807163895",
   "metadata": {},
   "outputs": [],
   "source": [
    "#penguins['bill_length_mm'] = penguins['bill_length_mm'].fillna(value = penguins['bill_length_mm'].mean())\n",
    "#penguins['bill_length_mm'] = penguins['bill_length_mm'].fillna(value = penguins['bill_length_mm'].median())"
   ]
  },
  {
   "cell_type": "markdown",
   "id": "mechanical-consultation",
   "metadata": {},
   "source": [
    "Let's impute the null values in sex with its mode (which is Male) (penguins.mode())"
   ]
  },
  {
   "cell_type": "code",
   "execution_count": null,
   "id": "327595c1-afbf-4b15-b1c7-83c0962ccb9c",
   "metadata": {},
   "outputs": [],
   "source": [
    "penguins['sex'] = penguins['sex'].fillna('male')"
   ]
  },
  {
   "cell_type": "markdown",
   "id": "3913fb2d-b002-4d00-8406-cc6635d1cda6",
   "metadata": {},
   "source": [
    "Let's check again for number of null values in the dataset"
   ]
  },
  {
   "cell_type": "code",
   "execution_count": null,
   "id": "1b3cf238-1a99-402d-acd9-e83d0cb84552",
   "metadata": {},
   "outputs": [],
   "source": [
    "penguins.isnull().sum()"
   ]
  },
  {
   "cell_type": "markdown",
   "id": "innovative-bottom",
   "metadata": {},
   "source": [
    "## 3. continue to explore the data "
   ]
  },
  {
   "cell_type": "markdown",
   "id": "functional-semiconductor",
   "metadata": {},
   "source": [
    "How many penguins in each species? "
   ]
  },
  {
   "cell_type": "code",
   "execution_count": null,
   "id": "complete-amount",
   "metadata": {},
   "outputs": [],
   "source": [
    "penguins['species'].value_counts()"
   ]
  },
  {
   "cell_type": "markdown",
   "id": "49e35328-bbf4-47a9-bcc8-0e67b4d7305f",
   "metadata": {},
   "source": [
    "value_counts() return a series containing counts of unique rows in the DataFrame. "
   ]
  },
  {
   "cell_type": "markdown",
   "id": "4d4a34ab-b6cd-4c85-b628-eaf7ec954541",
   "metadata": {},
   "source": [
    "Using seaborn library, let's create simple bar chart of species"
   ]
  },
  {
   "cell_type": "code",
   "execution_count": null,
   "id": "8ec4231d-c4f5-49c7-8258-576c73931380",
   "metadata": {},
   "outputs": [],
   "source": [
    "sns.countplot(x = 'species', data = penguins, palette = (\"#005EB8\",\"#0072CE\",\"#00A9CE\"))\n",
    "plt.title (\"Number of penguins by species\")\n",
    "plt.xlabel (\"Species\")\n",
    "_ = plt.ylabel(\"Number of penguins\")\n"
   ]
  },
  {
   "cell_type": "markdown",
   "id": "dressed-barrel",
   "metadata": {},
   "source": [
    "Now it's your turn! How many penguins in each island? Can you create bar chart by island?"
   ]
  },
  {
   "cell_type": "markdown",
   "id": "87a09fa5-6802-46a3-b3cd-1a8062ab0000",
   "metadata": {},
   "source": [
    "https://seaborn.pydata.org/examples/index.html (For more information about the Seaborn library)"
   ]
  },
  {
   "cell_type": "markdown",
   "id": "8292a3fe-2857-457e-9a00-026005918357",
   "metadata": {},
   "source": [
    "Your Answer:"
   ]
  },
  {
   "cell_type": "code",
   "execution_count": null,
   "id": "2c10dadb-cb82-483b-aa3a-0e177bc15315",
   "metadata": {},
   "outputs": [],
   "source": []
  },
  {
   "cell_type": "markdown",
   "id": "loved-nightlife",
   "metadata": {},
   "source": [
    "I want to briefly show to use Numpy library too. You can acheive the same thing. The difference is it returns as array (not DataFrame). Numpy, short for Numerical Python is one of the most important foundational packages for numerial computing in Python. (i.e. tensorflow, pytorch they are based on similar concept)"
   ]
  },
  {
   "cell_type": "code",
   "execution_count": 307,
   "id": "3028ba8c-132d-4812-996b-69844852ee9d",
   "metadata": {},
   "outputs": [
    {
     "data": {
      "text/plain": [
       "(array(['Biscoe', 'Dream', 'Torgersen'], dtype=object),\n",
       " array([167, 124,  51], dtype=int64))"
      ]
     },
     "execution_count": 307,
     "metadata": {},
     "output_type": "execute_result"
    }
   ],
   "source": [
    "np.unique(penguins.island, return_counts = True)"
   ]
  },
  {
   "cell_type": "markdown",
   "id": "af03edbd-c0f4-4e47-9b3b-859509b222e9",
   "metadata": {},
   "source": [
    "Let's carry on exploring other variables.\n",
    "We expect to see distinctive characters in bill length, bill depth, flipper length and body mass by species as these kinds of observations are what distinguish different species."
   ]
  },
  {
   "cell_type": "code",
   "execution_count": 310,
   "id": "b5b6c11a-ab53-45de-8020-c5a9c35a2cb0",
   "metadata": {},
   "outputs": [
    {
     "data": {
      "image/png": "[encoded data removed]",
      "text/plain": [
       "<Figure size 432x720 with 3 Axes>"
      ]
     },
     "metadata": {
      "needs_background": "light"
     },
     "output_type": "display_data"
    }
   ],
   "source": [
    "fig,axs = plt.subplots(3, figsize = (6,10))\n",
    "\n",
    "fig.suptitle(\"Bill lengh, depth, flipper lengh split by species\")\n",
    "\n",
    "sns.boxplot(y= 'bill_length_mm', x = 'species', data = penguins, ax= axs[0])\n",
    "sns.boxplot(y= 'flipper_length_mm', x = 'species', data = penguins, ax= axs[1])\n",
    "_ = sns.boxplot(y = 'bill_depth_mm', x = 'species', data = penguins, ax = axs[2])"
   ]
  },
  {
   "cell_type": "markdown",
   "id": "20826720-305d-4645-8b7c-972a8f233da8",
   "metadata": {},
   "source": [
    "Can you try to do boxplot for body mass by species? (just one boxplot so don't need fig, axs part) and which penguin species are the heaviest?"
   ]
  },
  {
   "cell_type": "markdown",
   "id": "f4f29609-46a1-4a0f-be09-88fed9e6deca",
   "metadata": {},
   "source": [
    "Your Answer:"
   ]
  },
  {
   "cell_type": "code",
   "execution_count": null,
   "id": "7d7fcc75-bfd2-4500-8233-5bc27556784a",
   "metadata": {},
   "outputs": [],
   "source": []
  },
  {
   "cell_type": "markdown",
   "id": "f2a57bfb-2eeb-435f-b707-8e359d499b82",
   "metadata": {},
   "source": [
    "We can also split body mass further by sex as well by using `hue` parameter. \n",
    "\n",
    "https://seaborn.pydata.org/tutorial/axis_grids.html\n"
   ]
  },
  {
   "cell_type": "code",
   "execution_count": null,
   "id": "f155222e-7eca-49ee-bb73-a680adc6064f",
   "metadata": {},
   "outputs": [],
   "source": [
    "sns.boxplot(y= 'body_mass_g', x = 'species', data = penguins, hue = 'sex' )\n",
    "plt.title (\"Penguin's body mass compared by sex\")\n",
    "plt.xlabel (\"Species\")\n",
    "_ = plt.ylabel(\"Body mass (g)\")\n"
   ]
  },
  {
   "cell_type": "markdown",
   "id": "d6c46b6a-487b-4e05-aa58-3071ace42136",
   "metadata": {},
   "source": [
    "All species weight does vary against sex. Shall we try simple t-test using numpy to see if female and male penguins' body mass is significantly different?"
   ]
  },
  {
   "cell_type": "code",
   "execution_count": null,
   "id": "f001bff3-2c47-4e17-ada8-38d2c69a9a95",
   "metadata": {},
   "outputs": [],
   "source": [
    "f = penguins[penguins.sex == 'female']['body_mass_g'].to_numpy()/1000 #simply change to kg"
   ]
  },
  {
   "cell_type": "code",
   "execution_count": null,
   "id": "f401b3a9-41d5-4dc9-b894-0fc5e262831c",
   "metadata": {},
   "outputs": [],
   "source": [
    "m = penguins[penguins.sex == 'male']['body_mass_g'].to_numpy()/1000 #simply change to kg"
   ]
  },
  {
   "cell_type": "code",
   "execution_count": null,
   "id": "53476624-ac95-4953-a4f8-77e1128b1fa6",
   "metadata": {},
   "outputs": [],
   "source": [
    "st.ttest_ind(f, m, equal_var = False)"
   ]
  },
  {
   "cell_type": "markdown",
   "id": "aa2e2326-9989-4025-a01c-d3754c473489",
   "metadata": {},
   "source": [
    "Okay - t-test suggests that body mass in female/male penguins are significantly different. "
   ]
  },
  {
   "cell_type": "markdown",
   "id": "arbitrary-fraud",
   "metadata": {},
   "source": [
    "## 4. Predict penguin sex"
   ]
  },
  {
   "cell_type": "markdown",
   "id": "dramatic-cabinet",
   "metadata": {},
   "source": [
    "We've looked into various syntax to explore data. Let's build a simple model to predice penguin's sex."
   ]
  },
  {
   "cell_type": "code",
   "execution_count": null,
   "id": "a307a1b3-eb09-4ed6-b147-dfc8659aab3d",
   "metadata": {},
   "outputs": [],
   "source": [
    "np.unique(penguins['sex'], return_counts = True)"
   ]
  },
  {
   "cell_type": "code",
   "execution_count": null,
   "id": "74d9f55e-f193-4176-9de2-5a5977434252",
   "metadata": {},
   "outputs": [],
   "source": [
    "np.unique(penguins['species'], return_counts = True)"
   ]
  },
  {
   "cell_type": "markdown",
   "id": "7c9d1c17-bd16-454a-8c4b-e6d0a21b4038",
   "metadata": {},
   "source": [
    "Can you try to see unique count of island using numpy way?"
   ]
  },
  {
   "cell_type": "markdown",
   "id": "8c26c943-56c3-49c3-852a-be80e4dcfca9",
   "metadata": {},
   "source": [
    "Your Answer:"
   ]
  },
  {
   "cell_type": "code",
   "execution_count": null,
   "id": "a46d83d3-f043-4653-9a68-a002d7d570ea",
   "metadata": {},
   "outputs": [],
   "source": []
  },
  {
   "cell_type": "code",
   "execution_count": null,
   "id": "e3303a10-395f-467f-836c-5a02428d2693",
   "metadata": {},
   "outputs": [],
   "source": [
    "sns.displot(penguins['bill_length_mm'], color = '#006747', kde = True)\n",
    "plt.title (\"All penguin's bill length distribution\")\n",
    "plt.xlabel (\"Bill length (mm)\")\n",
    "_ = plt.ylabel(\"Number of penguins\")\n"
   ]
  },
  {
   "cell_type": "markdown",
   "id": "24aa73ad-0d37-48e0-99b1-cf5e32ecd748",
   "metadata": {},
   "source": [
    "Can you plot bill depth(bill_depth_mm) using displot? You can give different colours,title and x and y label title too."
   ]
  },
  {
   "cell_type": "markdown",
   "id": "8cb089d5-cd42-4075-88f0-eff71a1a02b1",
   "metadata": {},
   "source": [
    "Your Answer:"
   ]
  },
  {
   "cell_type": "code",
   "execution_count": null,
   "id": "938833cc-5c3d-4e10-92b4-45986f5d86ed",
   "metadata": {},
   "outputs": [],
   "source": []
  },
  {
   "cell_type": "code",
   "execution_count": null,
   "id": "96526f5b-3e80-47ee-b0fd-4129d45644d4",
   "metadata": {},
   "outputs": [],
   "source": [
    "# seaborn relational plot \n",
    "_ = sns.relplot(x = 'bill_length_mm', y = 'bill_depth_mm', data = penguins, hue = 'sex', size = 'body_mass_g' , col = 'species')"
   ]
  },
  {
   "cell_type": "markdown",
   "id": "87eb9931-b3b7-4adb-9432-d4aa64717720",
   "metadata": {},
   "source": [
    "ggplot equivalent for the comparison: \n",
    "penguins %>%\n",
    "  ggplot(aes(bill_length_mm, bill_depth_mm, color = sex, size = body_mass_g)) +\n",
    "  geom_point(alpha = 0.5) +\n",
    "  facet_wrap(~species)"
   ]
  },
  {
   "cell_type": "markdown",
   "id": "5115960a-1efb-4533-8047-ea21febb8843",
   "metadata": {},
   "source": [
    "It looks like female penguins are smaller with different bills. "
   ]
  },
  {
   "cell_type": "markdown",
   "id": "d033bba3-fd37-4551-87d0-a318cbc94ea7",
   "metadata": {},
   "source": [
    "Let's create a new column and we will recode: 1 = male / 0 = female."
   ]
  },
  {
   "cell_type": "code",
   "execution_count": null,
   "id": "fe25fc43-c2f3-4414-87eb-c200af44e03a",
   "metadata": {},
   "outputs": [],
   "source": [
    "penguins['sex_recode'] = penguins['sex']\n",
    "penguins"
   ]
  },
  {
   "cell_type": "code",
   "execution_count": null,
   "id": "a15e34f7-728f-4c9d-ab8e-6c24237eb8f8",
   "metadata": {},
   "outputs": [],
   "source": [
    "penguins['sex_recode'] = np.where(penguins['sex'] == 'male', 1, 0) \n",
    "penguins\n",
    "# Quick note: \n",
    "#penguins = penguins.replace({'species_recode' : { 'Adelie' : 0, 'Gentoo' : 1, 'Chinstrap' : 3 }}): if you have mutiple columns you can do this way (key:value mapping)"
   ]
  },
  {
   "cell_type": "code",
   "execution_count": null,
   "id": "7c2b2778-cb3a-4359-a047-62b889691efd",
   "metadata": {},
   "outputs": [],
   "source": [
    "y = penguins['sex_recode']\n",
    "y"
   ]
  },
  {
   "cell_type": "markdown",
   "id": "3254458b-f1b1-4624-89dc-8ee23e0ba0b4",
   "metadata": {},
   "source": [
    "Using Pandas.get_dummies function to convert categories variables (i.e. sex, island) into dummy/indicator variables. We can use dummy variables into our logistic regression.\n",
    "https://pandas.pydata.org/docs/reference/api/pandas.get_dummies.html"
   ]
  },
  {
   "cell_type": "code",
   "execution_count": null,
   "id": "eefc1ae5-8f29-49c4-bfb4-b21519282739",
   "metadata": {},
   "outputs": [],
   "source": [
    "s = pd.get_dummies(penguins['species'])\n",
    "s"
   ]
  },
  {
   "cell_type": "code",
   "execution_count": null,
   "id": "b7a5cf70-b5d7-4829-ba29-5facbb53b7e2",
   "metadata": {},
   "outputs": [],
   "source": [
    "X = pd.concat([s.Chinstrap, s.Gentoo, penguins.flipper_length_mm, penguins.bill_length_mm, penguins.bill_depth_mm, penguins.body_mass_g, ], axis = 1)\n",
    "X"
   ]
  },
  {
   "cell_type": "markdown",
   "id": "82198bb6-cd66-4a3b-85da-527150165b6c",
   "metadata": {},
   "source": [
    "We use *Statsmodels* and this is a python module which provides various functions for estimating different statistical models and performing statistical tests. "
   ]
  },
  {
   "cell_type": "code",
   "execution_count": null,
   "id": "1919c007-32de-44d6-839b-ef21cac5c75d",
   "metadata": {},
   "outputs": [],
   "source": [
    "X = sm.add_constant(X)\n",
    "X"
   ]
  },
  {
   "cell_type": "markdown",
   "id": "ef003c36-404e-4ae6-b882-5ace93e9955b",
   "metadata": {},
   "source": [
    "Run logistic model using *Statsmodels.Logit* function"
   ]
  },
  {
   "cell_type": "code",
   "execution_count": null,
   "id": "fe5366b1-1ab8-469c-8b1b-c6b65265e84a",
   "metadata": {},
   "outputs": [],
   "source": [
    "model = sm.Logit(y, X) "
   ]
  },
  {
   "cell_type": "code",
   "execution_count": null,
   "id": "562f476c-8b56-45ff-9070-e41a64cde047",
   "metadata": {},
   "outputs": [],
   "source": [
    "result = model.fit()"
   ]
  },
  {
   "cell_type": "code",
   "execution_count": null,
   "id": "504fb458-c685-4d01-bd7c-c5ff6ba58d40",
   "metadata": {},
   "outputs": [],
   "source": [
    "result.summary()"
   ]
  },
  {
   "cell_type": "code",
   "execution_count": null,
   "id": "1c1e9751-ac4e-4ccb-8376-3aefc2e0f5c1",
   "metadata": {},
   "outputs": [],
   "source": [
    "pd.options.display.float_format = '{:.5f}'.format # to turn off scientific notation\n",
    "params = result.params\n"
   ]
  },
  {
   "cell_type": "code",
   "execution_count": null,
   "id": "c114290e-9e3e-44ae-ba51-e1f482dbd50f",
   "metadata": {},
   "outputs": [],
   "source": [
    "# Odd ratio\n",
    "print(np.exp(params))"
   ]
  },
  {
   "cell_type": "markdown",
   "id": "8e71a7fd-4891-4d50-89c0-4b313d767237",
   "metadata": {},
   "source": [
    "The largest odd ratio is for bill depth , with second largest for bill length. An increase of 1mm in bill depth corresponds to almost four times higher odds of being male. We can think that characterisrics of bills must be associated with penguin's sex."
   ]
  },
  {
   "cell_type": "markdown",
   "id": "trained-pioneer",
   "metadata": {},
   "source": [
    "## Predict penguin sex using sklearn library"
   ]
  },
  {
   "cell_type": "markdown",
   "id": "secret-subsection",
   "metadata": {},
   "source": [
    "Building Machine Learning Models using Sklearn library. "
   ]
  },
  {
   "cell_type": "code",
   "execution_count": null,
   "id": "f9262bca-4b56-48b4-a6df-87d04aafb530",
   "metadata": {},
   "outputs": [],
   "source": [
    "X = penguins.iloc[:,2:5].values\n",
    "X\n",
    "y = penguins.iloc[:,6].values\n",
    "y"
   ]
  },
  {
   "cell_type": "markdown",
   "id": "a8f34fc3-a24c-433a-a53f-49ab32688de8",
   "metadata": {},
   "source": [
    "pandas.iloc: integer location based indexing for selection by position. \n",
    "\n",
    "https://pandas.pydata.org/pandas-docs/stable/reference/api/pandas.DataFrame.iloc.html"
   ]
  },
  {
   "cell_type": "code",
   "execution_count": null,
   "id": "f5ad862a-e90c-4921-b584-67429a913c9c",
   "metadata": {},
   "outputs": [],
   "source": [
    "from sklearn.preprocessing import LabelEncoder\n",
    "le = LabelEncoder()\n",
    "y = le.fit_transform(y)\n",
    "y"
   ]
  },
  {
   "cell_type": "markdown",
   "id": "15d252ff-b151-4886-987a-09032fbc4336",
   "metadata": {},
   "source": [
    "Encode targer labels (sex in our case) with value between 0 and n_classes-1 (0 = female, 1= male)"
   ]
  },
  {
   "cell_type": "code",
   "execution_count": null,
   "id": "fc171485-dc53-42f1-abed-94cf397c8326",
   "metadata": {},
   "outputs": [],
   "source": [
    "from sklearn.model_selection import train_test_split\n",
    "X_train,X_test,y_train,y_test=train_test_split(X,y,test_size=0.3,random_state=0)\n",
    "X_train"
   ]
  },
  {
   "cell_type": "markdown",
   "id": "1ef3d07e-292f-4346-9c60-10cb0394d6e0",
   "metadata": {},
   "source": [
    "Split arrays or matrices into random train and test subsets.\n",
    "https://scikit-learn.org/stable/modules/generated/sklearn.model_selection.train_test_split.html\n",
    "when random_state is set to an integer, train_test_split will return same results for each execution."
   ]
  },
  {
   "cell_type": "code",
   "execution_count": null,
   "id": "ab45276a-a4a4-40d6-9ff5-272e8dd479b9",
   "metadata": {},
   "outputs": [],
   "source": [
    "from sklearn.ensemble import RandomForestClassifier\n",
    "random_forest = RandomForestClassifier(n_estimators=100)\n",
    "random_forest"
   ]
  },
  {
   "cell_type": "markdown",
   "id": "4dbe8d44-b127-4a16-b2e8-a19e518459a8",
   "metadata": {},
   "source": [
    "https://scikit-learn.org/stable/modules/generated/sklearn.ensemble.RandomForestClassifier.html\n",
    "n_estimators: the number of trees in the forest. default is 100 and we kept default value"
   ]
  },
  {
   "cell_type": "code",
   "execution_count": null,
   "id": "8496ac92-b2b0-4ae7-9dce-594a6b1365e9",
   "metadata": {},
   "outputs": [],
   "source": [
    "random_forest.fit(X_train, y_train)"
   ]
  },
  {
   "cell_type": "code",
   "execution_count": null,
   "id": "cc9b45d2-c9e1-4da5-9401-5bebcf02cdcd",
   "metadata": {},
   "outputs": [],
   "source": [
    "Y_prediction = random_forest.predict(X_test)\n",
    "Y_prediction"
   ]
  },
  {
   "cell_type": "code",
   "execution_count": null,
   "id": "611911fd-a10b-475f-b365-ff7b7b434e12",
   "metadata": {},
   "outputs": [],
   "source": [
    "from sklearn.metrics import make_scorer, accuracy_score,precision_score, recall_score, f1_score\n",
    "accuracy_rf=round(accuracy_score(y_test,Y_prediction)* 100, 2)\n",
    "accuracy_rf"
   ]
  },
  {
   "cell_type": "code",
   "execution_count": null,
   "id": "f6bcf0d5-8dfb-49b6-a0bb-9e243e2e0176",
   "metadata": {},
   "outputs": [],
   "source": [
    "from sklearn.metrics import confusion_matrix\n",
    "cm = confusion_matrix(y_test, Y_prediction)\n",
    "accuracy = accuracy_score(y_test,Y_prediction)\n",
    "precision =precision_score(y_test, Y_prediction,average='micro')\n",
    "recall =  recall_score(y_test, Y_prediction,average='micro')\n",
    "f1 = f1_score(y_test,Y_prediction,average='micro')\n",
    "print('Confusion matrix for Random Forest\\n',cm)\n",
    "print('accuracy_random_Forest : %.3f' %accuracy)\n",
    "print('precision_random_Forest : %.3f' %precision)\n",
    "print('recall_random_Forest : %.3f' %recall)\n",
    "print('f1-score_random_Forest : %.3f' %f1)"
   ]
  },
  {
   "cell_type": "markdown",
   "id": "b412b819-0b5c-4cd9-b1cd-7d8cf9682465",
   "metadata": {},
   "source": [
    "You can read this blog to understand confusion matrix, and other types of classification report. \n",
    "https://medium.com/analytics-vidhya/evaluating-a-random-forest-model-9d165595ad56"
   ]
  }
 ],
 "metadata": {
  "kernelspec": {
   "display_name": "Python 3",
   "language": "python",
   "name": "python3"
  },
  "language_info": {
   "codemirror_mode": {
    "name": "ipython",
    "version": 3
   },
   "file_extension": ".py",
   "mimetype": "text/x-python",
   "name": "python",
   "nbconvert_exporter": "python",
   "pygments_lexer": "ipython3",
   "version": "3.9.5"
  }
 },
 "nbformat": 4,
 "nbformat_minor": 5
}
