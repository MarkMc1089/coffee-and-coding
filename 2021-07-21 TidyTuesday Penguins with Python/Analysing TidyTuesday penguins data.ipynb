{
 "cells": [
  {
   "cell_type": "markdown",
   "id": "competent-traffic",
   "metadata": {},
   "source": [
    "## Get the data from TidyTuesday GitHub\n"
   ]
  },
  {
   "cell_type": "code",
   "execution_count": null,
   "id": "legendary-government",
   "metadata": {},
   "outputs": [],
   "source": [
    "# Import libraries for today's session\n",
    "import pandas as pd\n",
    "import seaborn as sns\n",
    "import numpy as np\n",
    "import matplotlib.pyplot as plt\n",
    "import scipy.stats as st\n",
    "import sklearn\n",
    "import statsmodels.api as sm"
   ]
  },
  {
   "cell_type": "markdown",
   "id": "arranged-festival",
   "metadata": {},
   "source": [
    "Data is loaded from the RforDatascience GitHub. However, it is also available through python libraries, seaborn and sklearn. "
   ]
  },
  {
   "cell_type": "code",
   "execution_count": null,
   "id": "blind-creator",
   "metadata": {},
   "outputs": [],
   "source": [
    "penguins = pd.read_csv('https://raw.githubusercontent.com/rfordatascience/tidytuesday/master/data/2020/2020-07-28/penguins.csv')\n",
    "\n",
    "# If you want to load data from seaborn, using this\n",
    "# penguins = sns.load_dataset('penguins')\n"
   ]
  },
  {
   "cell_type": "markdown",
   "id": "labeled-happiness",
   "metadata": {},
   "source": [
    "### **Data Dictionary**"
   ]
  },
  {
   "cell_type": "markdown",
   "id": "impaired-builder",
   "metadata": {},
   "source": [
    "The columns included in `penguins` are: \n",
    "\n",
    "<div id = 'adelie'>\n",
    "    <div class = \"inline-block\">\n",
    "        <figure><img src = 'adelie.jfif' width = \"20%\" height = \"20%\"><figcaption>Adelie</figcaption></figure>\n",
    "    </div>\n",
    "    <div class = \"inline-block\">\n",
    "        <figure><img src = 'gentoo.jpg' width = \"20%\" height = \"20%\"><figcaption>Gentoo</figcaption></figure>\n",
    "    </div>\n",
    "    <div class = \"inline-block\">\n",
    "        <figure><img src = 'chinstrap.jfif' width = \"10%\" height = \"10%\"><figcaption>Chinstrap</figcaption></figure>\n",
    "    </div>\n",
    " </div>   \n",
    "        \n",
    "\n",
    " \n",
    "| Variable | Class   | Description   |\n",
    "|------|------|------|\n",
    "|   species  | integer| Penguin speciese (Adelie, Gentoo, Chinstrap)\n",
    "|   island   | integer| Island where recorded (Biscoe, Dream, Torgersen)\n",
    "|   bill_length_mm  |  double  | Bill length in millimieters (also known as culmen length)\n",
    "|   bill_depth_mm  |  double  | Bill depth in millimieters\n",
    "|   flipper_length_mm  | integer  | Flipper length in mm\n",
    "|   body_mass_g  |  integer  | Body mass in grams\n",
    "|   sex   | integer | sex of the animal\n",
    "|   year  | integer  | year recorded\n",
    "\n",
    "More information about **TidyTuesday** in general can be found in the [TidyTuesday GitHub](https://github.com/rfordatascience/tidytuesday/blob/master/data/2020/2020-07-28/readme.md)"
   ]
  },
  {
   "cell_type": "markdown",
   "id": "opening-think",
   "metadata": {},
   "source": [
    "## 1. Explore the data "
   ]
  },
  {
   "cell_type": "markdown",
   "id": "great-backup",
   "metadata": {},
   "source": [
    "Let's look at the first 5 records of `penguins`. (Note: in `R` it will be `head(penguins)`)"
   ]
  },
  {
   "cell_type": "markdown",
   "id": "pending-spectrum",
   "metadata": {},
   "source": [
    "Your Answer:"
   ]
  },
  {
   "cell_type": "code",
   "execution_count": null,
   "id": "limiting-current",
   "metadata": {},
   "outputs": [],
   "source": []
  },
  {
   "cell_type": "markdown",
   "id": "vital-telling",
   "metadata": {},
   "source": [
    "Can you also try to find out the **shape** of the data to find out number of rows and columns? "
   ]
  },
  {
   "cell_type": "markdown",
   "id": "confused-difficulty",
   "metadata": {},
   "source": [
    "Your Answer:"
   ]
  },
  {
   "cell_type": "code",
   "execution_count": null,
   "id": "uniform-madagascar",
   "metadata": {},
   "outputs": [],
   "source": []
  },
  {
   "cell_type": "code",
   "execution_count": null,
   "id": "preliminary-dialogue",
   "metadata": {
    "scrolled": true
   },
   "outputs": [],
   "source": [
    "penguins.info()"
   ]
  },
  {
   "cell_type": "markdown",
   "id": "representative-nightmare",
   "metadata": {},
   "source": [
    "`pandas.info()` function prints information about a dataframe including the index data type and columns, non-null values and memory usage. "
   ]
  },
  {
   "cell_type": "markdown",
   "id": "parallel-invasion",
   "metadata": {},
   "source": [
    "Similar to `pandas.info()`, we can use `DataFrame.describe` to generate descriptive statistics of DataFrame columns. (Note: in R, summary())"
   ]
  },
  {
   "cell_type": "code",
   "execution_count": null,
   "id": "according-transaction",
   "metadata": {
    "scrolled": true
   },
   "outputs": [],
   "source": [
    "penguins.describe() "
   ]
  },
  {
   "cell_type": "code",
   "execution_count": null,
   "id": "resident-viking",
   "metadata": {},
   "outputs": [],
   "source": [
    "penguins.mode() # looking at the mode of data, We will use this for handling missing data part.... "
   ]
  },
  {
   "cell_type": "markdown",
   "id": "growing-steal",
   "metadata": {},
   "source": [
    "Let's check the completeness of the penguins dataset!"
   ]
  },
  {
   "cell_type": "code",
   "execution_count": null,
   "id": "federal-brazilian",
   "metadata": {},
   "outputs": [],
   "source": [
    "penguins[penguins.isnull().any(axis = 1)]"
   ]
  },
  {
   "cell_type": "markdown",
   "id": "intended-moldova",
   "metadata": {},
   "source": [
    "`bill_length_mm`, `bill_depth_mm`, `flipper_length_mm`, `body_mass_g` and `sex` would appear to have missing values. \n",
    "\n",
    "You can use `DataFrame.any` with parameter `axis = 1` for check at least one `True` in row by `DataFrame.isnull` with `boolean indexing`. "
   ]
  },
  {
   "cell_type": "markdown",
   "id": "furnished-airfare",
   "metadata": {},
   "source": [
    "The most common `missing` (NaN) values are from **sex** column. \n",
    "Two rows (index 3 and 271) has almost all values are null. "
   ]
  },
  {
   "cell_type": "markdown",
   "id": "alone-animation",
   "metadata": {},
   "source": [
    "## 2. Handle missing values"
   ]
  },
  {
   "cell_type": "markdown",
   "id": "adverse-charles",
   "metadata": {},
   "source": [
    "Pandas document explains various ways of handling missing values. (https://pandas.pydata.org/pandas-docs/stable/user_guide/missing_data.html)\n"
   ]
  },
  {
   "cell_type": "markdown",
   "id": "mobile-guinea",
   "metadata": {},
   "source": [
    "Let's check null data again."
   ]
  },
  {
   "cell_type": "code",
   "execution_count": null,
   "id": "successful-scholarship",
   "metadata": {},
   "outputs": [],
   "source": [
    "penguins.isnull().sum()"
   ]
  },
  {
   "cell_type": "markdown",
   "id": "surprised-dimension",
   "metadata": {},
   "source": [
    "First, we will drop 2 rows with null values for almost all variables."
   ]
  },
  {
   "cell_type": "code",
   "execution_count": null,
   "id": "english-prototype",
   "metadata": {},
   "outputs": [],
   "source": [
    "penguins.drop(penguins[penguins['bill_length_mm'].isnull()].index, axis = 0, inplace = True)"
   ]
  },
  {
   "cell_type": "markdown",
   "id": "nonprofit-metallic",
   "metadata": {},
   "source": [
    "`inplace = True`, the data is modified in place. it means it will return nothing and the data frame is updated. (if you want to keep original one, you can give new DataFrame name and not setting inplace = True). "
   ]
  },
  {
   "cell_type": "markdown",
   "id": "trained-cambridge",
   "metadata": {},
   "source": [
    "You can try to impute by using mean/median values of bill_length_mm, bill_depth_mm, flipper_length_mm, body_mass_g instead of drop them all together."
   ]
  },
  {
   "cell_type": "code",
   "execution_count": null,
   "id": "rising-kelly",
   "metadata": {},
   "outputs": [],
   "source": [
    "#penguins['bill_length_mm'] = penguins['bill_length_mm'].fillna(value = penguins['bill_length_mm'].mean())\n",
    "#penguins['bill_length_mm'] = penguins['bill_length_mm'].fillna(value = penguins['bill_length_mm'].median())"
   ]
  },
  {
   "cell_type": "markdown",
   "id": "judicial-habitat",
   "metadata": {},
   "source": [
    "Let's impute the null values in sex with its mode (which is Male) (penguins.mode())"
   ]
  },
  {
   "cell_type": "code",
   "execution_count": null,
   "id": "accompanied-international",
   "metadata": {},
   "outputs": [],
   "source": [
    "penguins['sex'] = penguins['sex'].fillna('male')"
   ]
  },
  {
   "cell_type": "markdown",
   "id": "solar-absorption",
   "metadata": {},
   "source": [
    "Let's check again for number of null values in the dataset"
   ]
  },
  {
   "cell_type": "code",
   "execution_count": null,
   "id": "comparative-savannah",
   "metadata": {},
   "outputs": [],
   "source": [
    "penguins.isnull().sum()"
   ]
  },
  {
   "cell_type": "markdown",
   "id": "according-pleasure",
   "metadata": {},
   "source": [
    "## 3. continue to explore the data "
   ]
  },
  {
   "cell_type": "markdown",
   "id": "provincial-recovery",
   "metadata": {},
   "source": [
    "How many penguins in each species? "
   ]
  },
  {
   "cell_type": "code",
   "execution_count": null,
   "id": "devoted-ukraine",
   "metadata": {},
   "outputs": [],
   "source": [
    "penguins['species'].value_counts()"
   ]
  },
  {
   "cell_type": "markdown",
   "id": "blocked-campus",
   "metadata": {},
   "source": [
    "value_counts() return a series containing counts of unique rows in the DataFrame. "
   ]
  },
  {
   "cell_type": "markdown",
   "id": "artificial-royalty",
   "metadata": {},
   "source": [
    "Using seaborn library, let's create simple bar chart of species"
   ]
  },
  {
   "cell_type": "code",
   "execution_count": null,
   "id": "cooperative-preview",
   "metadata": {},
   "outputs": [],
   "source": [
    "sns.countplot(x = 'species', data = penguins, palette = (\"#005EB8\",\"#0072CE\",\"#00A9CE\"))\n",
    "plt.title (\"Number of penguins by species\")\n",
    "plt.xlabel (\"Species\")\n",
    "_ = plt.ylabel(\"Number of penguins\")\n"
   ]
  },
  {
   "cell_type": "markdown",
   "id": "cloudy-projection",
   "metadata": {},
   "source": [
    "Now it's your turn! How many penguins in each island? Can you create bar chart by island?"
   ]
  },
  {
   "cell_type": "markdown",
   "id": "colored-reduction",
   "metadata": {},
   "source": [
    "https://seaborn.pydata.org/examples/index.html (For more information about the Seaborn library)"
   ]
  },
  {
   "cell_type": "markdown",
   "id": "collect-calcium",
   "metadata": {},
   "source": [
    "Your Answer:"
   ]
  },
  {
   "cell_type": "code",
   "execution_count": null,
   "id": "beautiful-scholarship",
   "metadata": {},
   "outputs": [],
   "source": []
  },
  {
   "cell_type": "markdown",
   "id": "comfortable-strike",
   "metadata": {},
   "source": [
    "I want to briefly show to use Numpy library too. You can acheive the same thing. The difference is it returns as array (not DataFrame). Numpy, short for Numerical Python is one of the most important foundational packages for numerial computing in Python. (i.e. tensorflow, pytorch they are based on similar concept)"
   ]
  },
  {
   "cell_type": "code",
   "execution_count": null,
   "id": "copyrighted-craps",
   "metadata": {},
   "outputs": [],
   "source": [
    "np.unique(penguins.island, return_counts = True)"
   ]
  },
  {
   "cell_type": "markdown",
   "id": "arabic-worry",
   "metadata": {},
   "source": [
    "Let's carry on exploring other variables.\n",
    "We expect to see distinctive characters in bill length, bill depth, flipper length and body mass by species as these kinds of observations are what distinguish different species."
   ]
  },
  {
   "cell_type": "code",
   "execution_count": null,
   "id": "incredible-arbor",
   "metadata": {},
   "outputs": [],
   "source": [
    "fig,axs = plt.subplots(3, figsize = (6,10))\n",
    "\n",
    "fig.suptitle(\"Bill lengh, depth, flipper lengh split by species\")\n",
    "\n",
    "sns.boxplot(y= 'bill_length_mm', x = 'species', data = penguins, ax= axs[0])\n",
    "sns.boxplot(y= 'flipper_length_mm', x = 'species', data = penguins, ax= axs[1])\n",
    "_ = sns.boxplot(y = 'bill_depth_mm', x = 'species', data = penguins, ax = axs[2])"
   ]
  },
  {
   "cell_type": "markdown",
   "id": "utility-london",
   "metadata": {},
   "source": [
    "Can you try to do boxplot for body mass by species? (just one boxplot so don't need fig, axs part) and which penguin species are the heaviest?"
   ]
  },
  {
   "cell_type": "markdown",
   "id": "defined-manner",
   "metadata": {},
   "source": [
    "Your Answer:"
   ]
  },
  {
   "cell_type": "code",
   "execution_count": null,
   "id": "reliable-bulletin",
   "metadata": {},
   "outputs": [],
   "source": []
  },
  {
   "cell_type": "markdown",
   "id": "adopted-station",
   "metadata": {},
   "source": [
    "We can also split body mass further by sex as well by using `hue` parameter. \n",
    "\n",
    "https://seaborn.pydata.org/tutorial/axis_grids.html\n"
   ]
  },
  {
   "cell_type": "code",
   "execution_count": null,
   "id": "friendly-concord",
   "metadata": {},
   "outputs": [],
   "source": [
    "sns.boxplot(y= 'body_mass_g', x = 'species', data = penguins, hue = 'sex' )\n",
    "plt.title (\"Penguin's body mass compared by sex\")\n",
    "plt.xlabel (\"Species\")\n",
    "_ = plt.ylabel(\"Body mass (g)\")\n"
   ]
  },
  {
   "cell_type": "markdown",
   "id": "comparable-reason",
   "metadata": {},
   "source": [
    "All species weight does vary against sex. Shall we try simple t-test using numpy to see if female and male penguins' body mass is significantly different?"
   ]
  },
  {
   "cell_type": "code",
   "execution_count": null,
   "id": "atomic-anchor",
   "metadata": {},
   "outputs": [],
   "source": [
    "f = penguins[penguins.sex == 'female']['body_mass_g'].to_numpy()/1000 #simply change to kg"
   ]
  },
  {
   "cell_type": "code",
   "execution_count": null,
   "id": "connected-hindu",
   "metadata": {},
   "outputs": [],
   "source": [
    "m = penguins[penguins.sex == 'male']['body_mass_g'].to_numpy()/1000 #simply change to kg"
   ]
  },
  {
   "cell_type": "code",
   "execution_count": null,
   "id": "dutch-heart",
   "metadata": {},
   "outputs": [],
   "source": [
    "st.ttest_ind(f, m, equal_var = False)"
   ]
  },
  {
   "cell_type": "markdown",
   "id": "static-begin",
   "metadata": {},
   "source": [
    "Okay - t-test suggests that body mass in female/male penguins are significantly different. "
   ]
  },
  {
   "cell_type": "markdown",
   "id": "communist-window",
   "metadata": {},
   "source": [
    "## 4. Predict penguin sex"
   ]
  },
  {
   "cell_type": "markdown",
   "id": "greatest-explanation",
   "metadata": {},
   "source": [
    "We've looked into various syntax to explore data. Let's build a simple model to predice penguin's sex."
   ]
  },
  {
   "cell_type": "code",
   "execution_count": null,
   "id": "reverse-float",
   "metadata": {},
   "outputs": [],
   "source": [
    "np.unique(penguins['sex'], return_counts = True)"
   ]
  },
  {
   "cell_type": "code",
   "execution_count": null,
   "id": "alleged-decline",
   "metadata": {},
   "outputs": [],
   "source": [
    "np.unique(penguins['species'], return_counts = True)"
   ]
  },
  {
   "cell_type": "markdown",
   "id": "incredible-avenue",
   "metadata": {},
   "source": [
    "Can you try to see unique count of island using numpy way?"
   ]
  },
  {
   "cell_type": "markdown",
   "id": "activated-newark",
   "metadata": {},
   "source": [
    "Your Answer:"
   ]
  },
  {
   "cell_type": "code",
   "execution_count": null,
   "id": "infrared-panel",
   "metadata": {},
   "outputs": [],
   "source": []
  },
  {
   "cell_type": "code",
   "execution_count": null,
   "id": "worldwide-chart",
   "metadata": {},
   "outputs": [],
   "source": [
    "sns.displot(penguins['bill_length_mm'], color = '#006747', kde = True)\n",
    "plt.title (\"All penguin's bill length distribution\")\n",
    "plt.xlabel (\"Bill length (mm)\")\n",
    "_ = plt.ylabel(\"Number of penguins\")\n"
   ]
  },
  {
   "cell_type": "markdown",
   "id": "endless-delight",
   "metadata": {},
   "source": [
    "Can you plot bill depth(bill_depth_mm) using displot? You can give different colours,title and x and y label title too."
   ]
  },
  {
   "cell_type": "markdown",
   "id": "material-uzbekistan",
   "metadata": {},
   "source": [
    "Your Answer:"
   ]
  },
  {
   "cell_type": "code",
   "execution_count": null,
   "id": "entire-affiliate",
   "metadata": {},
   "outputs": [],
   "source": []
  },
  {
   "cell_type": "code",
   "execution_count": null,
   "id": "apparent-power",
   "metadata": {},
   "outputs": [],
   "source": [
    "# seaborn relational plot \n",
    "_ = sns.relplot(x = 'bill_length_mm', y = 'bill_depth_mm', data = penguins, hue = 'sex', size = 'body_mass_g' , col = 'species')"
   ]
  },
  {
   "cell_type": "markdown",
   "id": "national-aviation",
   "metadata": {},
   "source": [
    "ggplot equivalent for the comparison: \n",
    "penguins %>%\n",
    "  ggplot(aes(bill_length_mm, bill_depth_mm, color = sex, size = body_mass_g)) +\n",
    "  geom_point(alpha = 0.5) +\n",
    "  facet_wrap(~species)"
   ]
  },
  {
   "cell_type": "markdown",
   "id": "involved-synthesis",
   "metadata": {},
   "source": [
    "It looks like female penguins are smaller with different bills. "
   ]
  },
  {
   "cell_type": "markdown",
   "id": "satisfactory-match",
   "metadata": {},
   "source": [
    "Let's create a new column and we will recode: 1 = male / 0 = female."
   ]
  },
  {
   "cell_type": "code",
   "execution_count": null,
   "id": "usual-mother",
   "metadata": {},
   "outputs": [],
   "source": [
    "penguins['sex_recode'] = penguins['sex']\n",
    "penguins"
   ]
  },
  {
   "cell_type": "code",
   "execution_count": null,
   "id": "starting-maximum",
   "metadata": {},
   "outputs": [],
   "source": [
    "penguins['sex_recode'] = np.where(penguins['sex'] == 'male', 1, 0) \n",
    "penguins\n",
    "# Quick note: \n",
    "#penguins = penguins.replace({'species_recode' : { 'Adelie' : 0, 'Gentoo' : 1, 'Chinstrap' : 3 }}): if you have mutiple columns you can do this way (key:value mapping)"
   ]
  },
  {
   "cell_type": "code",
   "execution_count": null,
   "id": "expressed-convention",
   "metadata": {},
   "outputs": [],
   "source": [
    "y = penguins['sex_recode']\n",
    "y"
   ]
  },
  {
   "cell_type": "markdown",
   "id": "operational-calibration",
   "metadata": {},
   "source": [
    "Using Pandas.get_dummies function to convert categories variables (i.e. sex, island) into dummy/indicator variables. We can use dummy variables into our logistic regression.\n",
    "https://pandas.pydata.org/docs/reference/api/pandas.get_dummies.html"
   ]
  },
  {
   "cell_type": "code",
   "execution_count": null,
   "id": "orange-inventory",
   "metadata": {},
   "outputs": [],
   "source": [
    "s = pd.get_dummies(penguins['species'])\n",
    "s"
   ]
  },
  {
   "cell_type": "code",
   "execution_count": null,
   "id": "general-acting",
   "metadata": {},
   "outputs": [],
   "source": [
    "X = pd.concat([s.Chinstrap, s.Gentoo, penguins.flipper_length_mm, penguins.bill_length_mm, penguins.bill_depth_mm, penguins.body_mass_g, ], axis = 1)\n",
    "X"
   ]
  },
  {
   "cell_type": "markdown",
   "id": "intended-jersey",
   "metadata": {},
   "source": [
    "We use *Statsmodels* and this is a python module which provides various functions for estimating different statistical models and performing statistical tests. "
   ]
  },
  {
   "cell_type": "code",
   "execution_count": null,
   "id": "toxic-hello",
   "metadata": {},
   "outputs": [],
   "source": [
    "X = sm.add_constant(X)\n",
    "X"
   ]
  },
  {
   "cell_type": "markdown",
   "id": "continuing-bahrain",
   "metadata": {},
   "source": [
    "Run logistic model using *Statsmodels.Logit* function"
   ]
  },
  {
   "cell_type": "code",
   "execution_count": null,
   "id": "differential-convert",
   "metadata": {},
   "outputs": [],
   "source": [
    "model = sm.Logit(y, X) "
   ]
  },
  {
   "cell_type": "code",
   "execution_count": null,
   "id": "electronic-drunk",
   "metadata": {},
   "outputs": [],
   "source": [
    "result = model.fit()"
   ]
  },
  {
   "cell_type": "code",
   "execution_count": null,
   "id": "skilled-brass",
   "metadata": {},
   "outputs": [],
   "source": [
    "result.summary()"
   ]
  },
  {
   "cell_type": "code",
   "execution_count": null,
   "id": "meaning-doctor",
   "metadata": {},
   "outputs": [],
   "source": [
    "pd.options.display.float_format = '{:.5f}'.format # to turn off scientific notation\n",
    "params = result.params\n"
   ]
  },
  {
   "cell_type": "code",
   "execution_count": null,
   "id": "entire-accuracy",
   "metadata": {},
   "outputs": [],
   "source": [
    "# Odd ratio\n",
    "print(np.exp(params))"
   ]
  },
  {
   "cell_type": "markdown",
   "id": "broad-headline",
   "metadata": {},
   "source": [
    "The largest odd ratio is for bill depth , with second largest for bill length. An increase of 1mm in bill depth corresponds to almost four times higher odds of being male. We can think that characterisrics of bills must be associated with penguin's sex."
   ]
  },
  {
   "cell_type": "markdown",
   "id": "extended-thirty",
   "metadata": {},
   "source": [
    "## Predict penguin sex using sklearn library"
   ]
  },
  {
   "cell_type": "markdown",
   "id": "agreed-ghana",
   "metadata": {},
   "source": [
    "Building Machine Learning Models using Sklearn library. "
   ]
  },
  {
   "cell_type": "code",
   "execution_count": null,
   "id": "smaller-joining",
   "metadata": {},
   "outputs": [],
   "source": [
    "X = penguins.iloc[:,2:5].values\n",
    "X\n",
    "y = penguins.iloc[:,6].values\n",
    "y"
   ]
  },
  {
   "cell_type": "markdown",
   "id": "earlier-rating",
   "metadata": {},
   "source": [
    "pandas.iloc: integer location based indexing for selection by position. \n",
    "\n",
    "https://pandas.pydata.org/pandas-docs/stable/reference/api/pandas.DataFrame.iloc.html"
   ]
  },
  {
   "cell_type": "code",
   "execution_count": null,
   "id": "given-luxury",
   "metadata": {},
   "outputs": [],
   "source": [
    "from sklearn.preprocessing import LabelEncoder\n",
    "le = LabelEncoder()\n",
    "y = le.fit_transform(y)\n",
    "y"
   ]
  },
  {
   "cell_type": "markdown",
   "id": "official-tyler",
   "metadata": {},
   "source": [
    "Encode targer labels (sex in our case) with value between 0 and n_classes-1 (0 = female, 1= male)"
   ]
  },
  {
   "cell_type": "code",
   "execution_count": null,
   "id": "respected-sampling",
   "metadata": {},
   "outputs": [],
   "source": [
    "from sklearn.model_selection import train_test_split\n",
    "X_train,X_test,y_train,y_test=train_test_split(X,y,test_size=0.3,random_state=0)\n",
    "X_train"
   ]
  },
  {
   "cell_type": "markdown",
   "id": "younger-lunch",
   "metadata": {},
   "source": [
    "Split arrays or matrices into random train and test subsets.\n",
    "https://scikit-learn.org/stable/modules/generated/sklearn.model_selection.train_test_split.html\n",
    "when random_state is set to an integer, train_test_split will return same results for each execution."
   ]
  },
  {
   "cell_type": "code",
   "execution_count": null,
   "id": "selective-usage",
   "metadata": {},
   "outputs": [],
   "source": [
    "from sklearn.ensemble import RandomForestClassifier\n",
    "random_forest = RandomForestClassifier(n_estimators=100)\n",
    "random_forest"
   ]
  },
  {
   "cell_type": "markdown",
   "id": "precise-witness",
   "metadata": {},
   "source": [
    "https://scikit-learn.org/stable/modules/generated/sklearn.ensemble.RandomForestClassifier.html\n",
    "n_estimators: the number of trees in the forest. default is 100 and we kept default value"
   ]
  },
  {
   "cell_type": "code",
   "execution_count": null,
   "id": "general-circular",
   "metadata": {},
   "outputs": [],
   "source": [
    "random_forest.fit(X_train, y_train)"
   ]
  },
  {
   "cell_type": "code",
   "execution_count": null,
   "id": "religious-courtesy",
   "metadata": {},
   "outputs": [],
   "source": [
    "Y_prediction = random_forest.predict(X_test)\n",
    "Y_prediction"
   ]
  },
  {
   "cell_type": "code",
   "execution_count": null,
   "id": "immediate-toner",
   "metadata": {},
   "outputs": [],
   "source": [
    "from sklearn.metrics import make_scorer, accuracy_score,precision_score, recall_score, f1_score\n",
    "accuracy_rf=round(accuracy_score(y_test,Y_prediction)* 100, 2)\n",
    "accuracy_rf"
   ]
  },
  {
   "cell_type": "code",
   "execution_count": null,
   "id": "surface-oxford",
   "metadata": {},
   "outputs": [],
   "source": [
    "from sklearn.metrics import confusion_matrix\n",
    "cm = confusion_matrix(y_test, Y_prediction)\n",
    "accuracy = accuracy_score(y_test,Y_prediction)\n",
    "precision =precision_score(y_test, Y_prediction,average='micro')\n",
    "recall =  recall_score(y_test, Y_prediction,average='micro')\n",
    "f1 = f1_score(y_test,Y_prediction,average='micro')\n",
    "print('Confusion matrix for Random Forest\\n',cm)\n",
    "print('accuracy_random_Forest : %.3f' %accuracy)\n",
    "print('precision_random_Forest : %.3f' %precision)\n",
    "print('recall_random_Forest : %.3f' %recall)\n",
    "print('f1-score_random_Forest : %.3f' %f1)"
   ]
  },
  {
   "cell_type": "markdown",
   "id": "better-domain",
   "metadata": {},
   "source": [
    "You can read this blog to understand confusion matrix, and other types of classification report. \n",
    "https://medium.com/analytics-vidhya/evaluating-a-random-forest-model-9d165595ad56"
   ]
  }
 ],
 "metadata": {
  "kernelspec": {
   "display_name": "Python 3",
   "language": "python",
   "name": "python3"
  },
  "language_info": {
   "codemirror_mode": {
    "name": "ipython",
    "version": 3
   },
   "file_extension": ".py",
   "mimetype": "text/x-python",
   "name": "python",
   "nbconvert_exporter": "python",
   "pygments_lexer": "ipython3",
   "version": "3.8.5"
  }
 },
 "nbformat": 4,
 "nbformat_minor": 5
}
