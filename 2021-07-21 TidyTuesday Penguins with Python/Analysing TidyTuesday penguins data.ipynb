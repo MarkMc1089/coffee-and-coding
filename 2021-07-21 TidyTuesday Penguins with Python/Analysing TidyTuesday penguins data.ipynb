{
 "cells": [
  {
   "cell_type": "markdown",
   "id": "deadly-product",
   "metadata": {},
   "source": [
    "## Get the data from TidyTuesday GitHub\n"
   ]
  },
  {
   "cell_type": "code",
   "execution_count": 54,
   "id": "damaged-nowhere",
   "metadata": {},
   "outputs": [],
   "source": [
    "# Import libraries for today's session\n",
    "import pandas as pd\n",
    "import seaborn as sns\n",
    "import numpy as np\n",
    "import matplotlib.pyplot as plt\n",
    "import scipy.stats as st\n",
    "import sklearn\n",
    "import statsmodels.api as sm"
   ]
  },
  {
   "cell_type": "markdown",
   "id": "secret-output",
   "metadata": {},
   "source": [
    "Data is loaded from the RforDatascience GitHub. However, it is also available through python libraries, seaborn and sklearn. "
   ]
  },
  {
   "cell_type": "code",
   "execution_count": 55,
   "id": "aerial-wheel",
   "metadata": {},
   "outputs": [],
   "source": [
    "penguins = pd.read_csv('https://raw.githubusercontent.com/rfordatascience/tidytuesday/master/data/2020/2020-07-28/penguins.csv')\n",
    "\n",
    "# If you want to load data from seaborn, using this\n",
    "# penguins = sns.load_dataset('penguins')\n"
   ]
  },
  {
   "cell_type": "markdown",
   "id": "ahead-split",
   "metadata": {},
   "source": [
    "### **Data Dictionary**"
   ]
  },
  {
   "cell_type": "markdown",
   "id": "capable-trading",
   "metadata": {},
   "source": [
    "The columns included in `penguins` are: \n",
    "\n",
    "<div id = 'adelie'>\n",
    "    <div class = \"inline-block\">\n",
    "        <figure><img src = 'adelie.jfif' width = \"20%\" height = \"20%\"><figcaption>Adelie</figcaption></figure>\n",
    "    </div>\n",
    "    <div class = \"inline-block\">\n",
    "        <figure><img src = 'gentoo.jpg' width = \"20%\" height = \"20%\"><figcaption>Gentoo</figcaption></figure>\n",
    "    </div>\n",
    "    <div class = \"inline-block\">\n",
    "        <figure><img src = 'chinstrap.jfif' width = \"10%\" height = \"10%\"><figcaption>Chinstrap</figcaption></figure>\n",
    "    </div>\n",
    " </div>   \n",
    "        \n",
    "\n",
    " \n",
    "| Variable | Class   | Description   |\n",
    "|------|------|------|\n",
    "|   species  | integer| Penguin speciese (Adelie, Gentoo, Chinstrap)\n",
    "|   island   | integer| Island where recorded (Biscoe, Dream, Torgersen)\n",
    "|   bill_length_mm  |  double  | Bill length in millimieters (also known as culmen length)\n",
    "|   bill_depth_mm  |  double  | Bill depth in millimieters\n",
    "|   flipper_length_mm  | integer  | Flipper length in mm\n",
    "|   body_mass_g  |  integer  | Body mass in grams\n",
    "|   sex   | integer | sex of the animal\n",
    "|   year  | integer  | year recorded\n",
    "\n",
    "More information about **TidyTuesday** in general can be found in the [TidyTuesday GitHub](https://github.com/rfordatascience/tidytuesday/blob/master/data/2020/2020-07-28/readme.md)"
   ]
  },
  {
   "cell_type": "markdown",
   "id": "brown-charter",
   "metadata": {},
   "source": [
    "## 1. Explore the data "
   ]
  },
  {
   "cell_type": "markdown",
   "id": "charming-jewelry",
   "metadata": {},
   "source": [
    "Let's look at the first 5 records of `penguins`. (Note: in `R` it will be `head(penguins)`)"
   ]
  },
  {
   "cell_type": "markdown",
   "id": "known-strategy",
   "metadata": {},
   "source": [
    "Your Answer:"
   ]
  },
  {
   "cell_type": "code",
   "execution_count": null,
   "id": "cellular-accommodation",
   "metadata": {},
   "outputs": [],
   "source": []
  },
  {
   "cell_type": "markdown",
   "id": "emerging-rally",
   "metadata": {},
   "source": [
    "Can you also try to find out the **shape** of the data? It will show number of rows and columns."
   ]
  },
  {
   "cell_type": "markdown",
   "id": "sitting-austria",
   "metadata": {},
   "source": [
    "Your Answer:"
   ]
  },
  {
   "cell_type": "code",
   "execution_count": null,
   "id": "competitive-shore",
   "metadata": {},
   "outputs": [],
   "source": []
  },
  {
   "cell_type": "code",
   "execution_count": 56,
   "id": "ambient-wilderness",
   "metadata": {
    "scrolled": true
   },
   "outputs": [
    {
     "name": "stdout",
     "output_type": "stream",
     "text": [
      "<class 'pandas.core.frame.DataFrame'>\n",
      "RangeIndex: 344 entries, 0 to 343\n",
      "Data columns (total 8 columns):\n",
      " #   Column             Non-Null Count  Dtype  \n",
      "---  ------             --------------  -----  \n",
      " 0   species            344 non-null    object \n",
      " 1   island             344 non-null    object \n",
      " 2   bill_length_mm     342 non-null    float64\n",
      " 3   bill_depth_mm      342 non-null    float64\n",
      " 4   flipper_length_mm  342 non-null    float64\n",
      " 5   body_mass_g        342 non-null    float64\n",
      " 6   sex                333 non-null    object \n",
      " 7   year               344 non-null    int64  \n",
      "dtypes: float64(4), int64(1), object(3)\n",
      "memory usage: 21.6+ KB\n"
     ]
    }
   ],
   "source": [
    "penguins.info()"
   ]
  },
  {
   "cell_type": "markdown",
   "id": "spatial-poultry",
   "metadata": {},
   "source": [
    "`pandas.info()` function prints information about a dataframe including the index data type and columns, non-null values and memory usage. "
   ]
  },
  {
   "cell_type": "markdown",
   "id": "structural-guinea",
   "metadata": {},
   "source": [
    "Similar to `pandas.info()`, we can use `DataFrame.describe` to generate descriptive statistics of DataFrame columns. (Note: in R, summary())"
   ]
  },
  {
   "cell_type": "code",
   "execution_count": 57,
   "id": "initial-corruption",
   "metadata": {
    "scrolled": true
   },
   "outputs": [
    {
     "data": {
      "text/html": [
       "<div>\n",
       "<style scoped>\n",
       "    .dataframe tbody tr th:only-of-type {\n",
       "        vertical-align: middle;\n",
       "    }\n",
       "\n",
       "    .dataframe tbody tr th {\n",
       "        vertical-align: top;\n",
       "    }\n",
       "\n",
       "    .dataframe thead th {\n",
       "        text-align: right;\n",
       "    }\n",
       "</style>\n",
       "<table border=\"1\" class=\"dataframe\">\n",
       "  <thead>\n",
       "    <tr style=\"text-align: right;\">\n",
       "      <th></th>\n",
       "      <th>bill_length_mm</th>\n",
       "      <th>bill_depth_mm</th>\n",
       "      <th>flipper_length_mm</th>\n",
       "      <th>body_mass_g</th>\n",
       "      <th>year</th>\n",
       "    </tr>\n",
       "  </thead>\n",
       "  <tbody>\n",
       "    <tr>\n",
       "      <th>count</th>\n",
       "      <td>342.00000</td>\n",
       "      <td>342.00000</td>\n",
       "      <td>342.00000</td>\n",
       "      <td>342.00000</td>\n",
       "      <td>344.00000</td>\n",
       "    </tr>\n",
       "    <tr>\n",
       "      <th>mean</th>\n",
       "      <td>43.92193</td>\n",
       "      <td>17.15117</td>\n",
       "      <td>200.91520</td>\n",
       "      <td>4201.75439</td>\n",
       "      <td>2008.02907</td>\n",
       "    </tr>\n",
       "    <tr>\n",
       "      <th>std</th>\n",
       "      <td>5.45958</td>\n",
       "      <td>1.97479</td>\n",
       "      <td>14.06171</td>\n",
       "      <td>801.95454</td>\n",
       "      <td>0.81836</td>\n",
       "    </tr>\n",
       "    <tr>\n",
       "      <th>min</th>\n",
       "      <td>32.10000</td>\n",
       "      <td>13.10000</td>\n",
       "      <td>172.00000</td>\n",
       "      <td>2700.00000</td>\n",
       "      <td>2007.00000</td>\n",
       "    </tr>\n",
       "    <tr>\n",
       "      <th>25%</th>\n",
       "      <td>39.22500</td>\n",
       "      <td>15.60000</td>\n",
       "      <td>190.00000</td>\n",
       "      <td>3550.00000</td>\n",
       "      <td>2007.00000</td>\n",
       "    </tr>\n",
       "    <tr>\n",
       "      <th>50%</th>\n",
       "      <td>44.45000</td>\n",
       "      <td>17.30000</td>\n",
       "      <td>197.00000</td>\n",
       "      <td>4050.00000</td>\n",
       "      <td>2008.00000</td>\n",
       "    </tr>\n",
       "    <tr>\n",
       "      <th>75%</th>\n",
       "      <td>48.50000</td>\n",
       "      <td>18.70000</td>\n",
       "      <td>213.00000</td>\n",
       "      <td>4750.00000</td>\n",
       "      <td>2009.00000</td>\n",
       "    </tr>\n",
       "    <tr>\n",
       "      <th>max</th>\n",
       "      <td>59.60000</td>\n",
       "      <td>21.50000</td>\n",
       "      <td>231.00000</td>\n",
       "      <td>6300.00000</td>\n",
       "      <td>2009.00000</td>\n",
       "    </tr>\n",
       "  </tbody>\n",
       "</table>\n",
       "</div>"
      ],
      "text/plain": [
       "       bill_length_mm  bill_depth_mm  flipper_length_mm  body_mass_g  \\\n",
       "count       342.00000      342.00000          342.00000    342.00000   \n",
       "mean         43.92193       17.15117          200.91520   4201.75439   \n",
       "std           5.45958        1.97479           14.06171    801.95454   \n",
       "min          32.10000       13.10000          172.00000   2700.00000   \n",
       "25%          39.22500       15.60000          190.00000   3550.00000   \n",
       "50%          44.45000       17.30000          197.00000   4050.00000   \n",
       "75%          48.50000       18.70000          213.00000   4750.00000   \n",
       "max          59.60000       21.50000          231.00000   6300.00000   \n",
       "\n",
       "            year  \n",
       "count  344.00000  \n",
       "mean  2008.02907  \n",
       "std      0.81836  \n",
       "min   2007.00000  \n",
       "25%   2007.00000  \n",
       "50%   2008.00000  \n",
       "75%   2009.00000  \n",
       "max   2009.00000  "
      ]
     },
     "execution_count": 57,
     "metadata": {},
     "output_type": "execute_result"
    }
   ],
   "source": [
    "penguins.describe() "
   ]
  },
  {
   "cell_type": "code",
   "execution_count": 58,
   "id": "pharmaceutical-lancaster",
   "metadata": {},
   "outputs": [
    {
     "data": {
      "text/html": [
       "<div>\n",
       "<style scoped>\n",
       "    .dataframe tbody tr th:only-of-type {\n",
       "        vertical-align: middle;\n",
       "    }\n",
       "\n",
       "    .dataframe tbody tr th {\n",
       "        vertical-align: top;\n",
       "    }\n",
       "\n",
       "    .dataframe thead th {\n",
       "        text-align: right;\n",
       "    }\n",
       "</style>\n",
       "<table border=\"1\" class=\"dataframe\">\n",
       "  <thead>\n",
       "    <tr style=\"text-align: right;\">\n",
       "      <th></th>\n",
       "      <th>species</th>\n",
       "      <th>island</th>\n",
       "      <th>bill_length_mm</th>\n",
       "      <th>bill_depth_mm</th>\n",
       "      <th>flipper_length_mm</th>\n",
       "      <th>body_mass_g</th>\n",
       "      <th>sex</th>\n",
       "      <th>year</th>\n",
       "    </tr>\n",
       "  </thead>\n",
       "  <tbody>\n",
       "    <tr>\n",
       "      <th>0</th>\n",
       "      <td>Adelie</td>\n",
       "      <td>Biscoe</td>\n",
       "      <td>41.10000</td>\n",
       "      <td>17.00000</td>\n",
       "      <td>190.00000</td>\n",
       "      <td>3800.00000</td>\n",
       "      <td>male</td>\n",
       "      <td>2009</td>\n",
       "    </tr>\n",
       "  </tbody>\n",
       "</table>\n",
       "</div>"
      ],
      "text/plain": [
       "  species  island  bill_length_mm  bill_depth_mm  flipper_length_mm  \\\n",
       "0  Adelie  Biscoe        41.10000       17.00000          190.00000   \n",
       "\n",
       "   body_mass_g   sex  year  \n",
       "0   3800.00000  male  2009  "
      ]
     },
     "execution_count": 58,
     "metadata": {},
     "output_type": "execute_result"
    }
   ],
   "source": [
    "penguins.mode() # looking at the mode of data, We will use this for handling missing data part.... "
   ]
  },
  {
   "cell_type": "markdown",
   "id": "brazilian-interstate",
   "metadata": {},
   "source": [
    "Let's check the completeness of the penguins dataset!"
   ]
  },
  {
   "cell_type": "code",
   "execution_count": 59,
   "id": "legendary-strap",
   "metadata": {},
   "outputs": [
    {
     "data": {
      "text/html": [
       "<div>\n",
       "<style scoped>\n",
       "    .dataframe tbody tr th:only-of-type {\n",
       "        vertical-align: middle;\n",
       "    }\n",
       "\n",
       "    .dataframe tbody tr th {\n",
       "        vertical-align: top;\n",
       "    }\n",
       "\n",
       "    .dataframe thead th {\n",
       "        text-align: right;\n",
       "    }\n",
       "</style>\n",
       "<table border=\"1\" class=\"dataframe\">\n",
       "  <thead>\n",
       "    <tr style=\"text-align: right;\">\n",
       "      <th></th>\n",
       "      <th>species</th>\n",
       "      <th>island</th>\n",
       "      <th>bill_length_mm</th>\n",
       "      <th>bill_depth_mm</th>\n",
       "      <th>flipper_length_mm</th>\n",
       "      <th>body_mass_g</th>\n",
       "      <th>sex</th>\n",
       "      <th>year</th>\n",
       "    </tr>\n",
       "  </thead>\n",
       "  <tbody>\n",
       "    <tr>\n",
       "      <th>3</th>\n",
       "      <td>Adelie</td>\n",
       "      <td>Torgersen</td>\n",
       "      <td>NaN</td>\n",
       "      <td>NaN</td>\n",
       "      <td>NaN</td>\n",
       "      <td>NaN</td>\n",
       "      <td>NaN</td>\n",
       "      <td>2007</td>\n",
       "    </tr>\n",
       "    <tr>\n",
       "      <th>8</th>\n",
       "      <td>Adelie</td>\n",
       "      <td>Torgersen</td>\n",
       "      <td>34.10000</td>\n",
       "      <td>18.10000</td>\n",
       "      <td>193.00000</td>\n",
       "      <td>3475.00000</td>\n",
       "      <td>NaN</td>\n",
       "      <td>2007</td>\n",
       "    </tr>\n",
       "    <tr>\n",
       "      <th>9</th>\n",
       "      <td>Adelie</td>\n",
       "      <td>Torgersen</td>\n",
       "      <td>42.00000</td>\n",
       "      <td>20.20000</td>\n",
       "      <td>190.00000</td>\n",
       "      <td>4250.00000</td>\n",
       "      <td>NaN</td>\n",
       "      <td>2007</td>\n",
       "    </tr>\n",
       "    <tr>\n",
       "      <th>10</th>\n",
       "      <td>Adelie</td>\n",
       "      <td>Torgersen</td>\n",
       "      <td>37.80000</td>\n",
       "      <td>17.10000</td>\n",
       "      <td>186.00000</td>\n",
       "      <td>3300.00000</td>\n",
       "      <td>NaN</td>\n",
       "      <td>2007</td>\n",
       "    </tr>\n",
       "    <tr>\n",
       "      <th>11</th>\n",
       "      <td>Adelie</td>\n",
       "      <td>Torgersen</td>\n",
       "      <td>37.80000</td>\n",
       "      <td>17.30000</td>\n",
       "      <td>180.00000</td>\n",
       "      <td>3700.00000</td>\n",
       "      <td>NaN</td>\n",
       "      <td>2007</td>\n",
       "    </tr>\n",
       "    <tr>\n",
       "      <th>47</th>\n",
       "      <td>Adelie</td>\n",
       "      <td>Dream</td>\n",
       "      <td>37.50000</td>\n",
       "      <td>18.90000</td>\n",
       "      <td>179.00000</td>\n",
       "      <td>2975.00000</td>\n",
       "      <td>NaN</td>\n",
       "      <td>2007</td>\n",
       "    </tr>\n",
       "    <tr>\n",
       "      <th>178</th>\n",
       "      <td>Gentoo</td>\n",
       "      <td>Biscoe</td>\n",
       "      <td>44.50000</td>\n",
       "      <td>14.30000</td>\n",
       "      <td>216.00000</td>\n",
       "      <td>4100.00000</td>\n",
       "      <td>NaN</td>\n",
       "      <td>2007</td>\n",
       "    </tr>\n",
       "    <tr>\n",
       "      <th>218</th>\n",
       "      <td>Gentoo</td>\n",
       "      <td>Biscoe</td>\n",
       "      <td>46.20000</td>\n",
       "      <td>14.40000</td>\n",
       "      <td>214.00000</td>\n",
       "      <td>4650.00000</td>\n",
       "      <td>NaN</td>\n",
       "      <td>2008</td>\n",
       "    </tr>\n",
       "    <tr>\n",
       "      <th>256</th>\n",
       "      <td>Gentoo</td>\n",
       "      <td>Biscoe</td>\n",
       "      <td>47.30000</td>\n",
       "      <td>13.80000</td>\n",
       "      <td>216.00000</td>\n",
       "      <td>4725.00000</td>\n",
       "      <td>NaN</td>\n",
       "      <td>2009</td>\n",
       "    </tr>\n",
       "    <tr>\n",
       "      <th>268</th>\n",
       "      <td>Gentoo</td>\n",
       "      <td>Biscoe</td>\n",
       "      <td>44.50000</td>\n",
       "      <td>15.70000</td>\n",
       "      <td>217.00000</td>\n",
       "      <td>4875.00000</td>\n",
       "      <td>NaN</td>\n",
       "      <td>2009</td>\n",
       "    </tr>\n",
       "    <tr>\n",
       "      <th>271</th>\n",
       "      <td>Gentoo</td>\n",
       "      <td>Biscoe</td>\n",
       "      <td>NaN</td>\n",
       "      <td>NaN</td>\n",
       "      <td>NaN</td>\n",
       "      <td>NaN</td>\n",
       "      <td>NaN</td>\n",
       "      <td>2009</td>\n",
       "    </tr>\n",
       "  </tbody>\n",
       "</table>\n",
       "</div>"
      ],
      "text/plain": [
       "    species     island  bill_length_mm  bill_depth_mm  flipper_length_mm  \\\n",
       "3    Adelie  Torgersen             NaN            NaN                NaN   \n",
       "8    Adelie  Torgersen        34.10000       18.10000          193.00000   \n",
       "9    Adelie  Torgersen        42.00000       20.20000          190.00000   \n",
       "10   Adelie  Torgersen        37.80000       17.10000          186.00000   \n",
       "11   Adelie  Torgersen        37.80000       17.30000          180.00000   \n",
       "47   Adelie      Dream        37.50000       18.90000          179.00000   \n",
       "178  Gentoo     Biscoe        44.50000       14.30000          216.00000   \n",
       "218  Gentoo     Biscoe        46.20000       14.40000          214.00000   \n",
       "256  Gentoo     Biscoe        47.30000       13.80000          216.00000   \n",
       "268  Gentoo     Biscoe        44.50000       15.70000          217.00000   \n",
       "271  Gentoo     Biscoe             NaN            NaN                NaN   \n",
       "\n",
       "     body_mass_g  sex  year  \n",
       "3            NaN  NaN  2007  \n",
       "8     3475.00000  NaN  2007  \n",
       "9     4250.00000  NaN  2007  \n",
       "10    3300.00000  NaN  2007  \n",
       "11    3700.00000  NaN  2007  \n",
       "47    2975.00000  NaN  2007  \n",
       "178   4100.00000  NaN  2007  \n",
       "218   4650.00000  NaN  2008  \n",
       "256   4725.00000  NaN  2009  \n",
       "268   4875.00000  NaN  2009  \n",
       "271          NaN  NaN  2009  "
      ]
     },
     "execution_count": 59,
     "metadata": {},
     "output_type": "execute_result"
    }
   ],
   "source": [
    "penguins[penguins.isnull().any(axis = 1)]"
   ]
  },
  {
   "cell_type": "markdown",
   "id": "engaging-tunnel",
   "metadata": {},
   "source": [
    "`bill_length_mm`, `bill_depth_mm`, `flipper_length_mm`, `body_mass_g` and `sex` would appear to have missing values. \n",
    "\n",
    "You can use `DataFrame.any` with parameter `axis = 1` for check at least one `True` in row by `DataFrame.isnull` with `boolean indexing`. "
   ]
  },
  {
   "cell_type": "markdown",
   "id": "assigned-mayor",
   "metadata": {},
   "source": [
    "The most common `missing` (NaN) values are from **sex** column. \n",
    "Two rows (index 3 and 271) has almost all values are null. "
   ]
  },
  {
   "cell_type": "markdown",
   "id": "automatic-canyon",
   "metadata": {},
   "source": [
    "## 2. Handle missing values"
   ]
  },
  {
   "cell_type": "markdown",
   "id": "configured-duplicate",
   "metadata": {},
   "source": [
    "Pandas document explains various ways of handling missing values. (https://pandas.pydata.org/pandas-docs/stable/user_guide/missing_data.html)\n"
   ]
  },
  {
   "cell_type": "markdown",
   "id": "historic-envelope",
   "metadata": {},
   "source": [
    "Let's check null data again."
   ]
  },
  {
   "cell_type": "code",
   "execution_count": 60,
   "id": "numerous-lighter",
   "metadata": {},
   "outputs": [
    {
     "data": {
      "text/plain": [
       "species               0\n",
       "island                0\n",
       "bill_length_mm        2\n",
       "bill_depth_mm         2\n",
       "flipper_length_mm     2\n",
       "body_mass_g           2\n",
       "sex                  11\n",
       "year                  0\n",
       "dtype: int64"
      ]
     },
     "execution_count": 60,
     "metadata": {},
     "output_type": "execute_result"
    }
   ],
   "source": [
    "penguins.isnull().sum()"
   ]
  },
  {
   "cell_type": "markdown",
   "id": "postal-detection",
   "metadata": {},
   "source": [
    "First, we will drop 2 rows with null values for almost all variables."
   ]
  },
  {
   "cell_type": "code",
   "execution_count": 61,
   "id": "persistent-canada",
   "metadata": {},
   "outputs": [],
   "source": [
    "penguins.drop(penguins[penguins['bill_length_mm'].isnull()].index, axis = 0, inplace = True)"
   ]
  },
  {
   "cell_type": "markdown",
   "id": "intermediate-kidney",
   "metadata": {},
   "source": [
    "`inplace = True`, the data is modified in place. it means it will return nothing and the data frame is updated. (if you want to keep original one, you can give new DataFrame name and not setting inplace = True). "
   ]
  },
  {
   "cell_type": "markdown",
   "id": "searching-hanging",
   "metadata": {},
   "source": [
    "You can try to impute by using mean/median values of bill_length_mm, bill_depth_mm, flipper_length_mm, body_mass_g instead of drop them all together."
   ]
  },
  {
   "cell_type": "code",
   "execution_count": 62,
   "id": "sophisticated-builder",
   "metadata": {},
   "outputs": [],
   "source": [
    "#penguins['bill_length_mm'] = penguins['bill_length_mm'].fillna(value = penguins['bill_length_mm'].mean())\n",
    "#penguins['bill_length_mm'] = penguins['bill_length_mm'].fillna(value = penguins['bill_length_mm'].median())"
   ]
  },
  {
   "cell_type": "markdown",
   "id": "fitting-background",
   "metadata": {},
   "source": [
    "Let's impute the null values in sex with its mode (which is Male) (penguins.mode())"
   ]
  },
  {
   "cell_type": "code",
   "execution_count": 63,
   "id": "prepared-detroit",
   "metadata": {},
   "outputs": [],
   "source": [
    "penguins['sex'] = penguins['sex'].fillna('male')"
   ]
  },
  {
   "cell_type": "markdown",
   "id": "accessory-qatar",
   "metadata": {},
   "source": [
    "Let's check again for number of null values in the dataset"
   ]
  },
  {
   "cell_type": "code",
   "execution_count": 64,
   "id": "flying-malawi",
   "metadata": {},
   "outputs": [
    {
     "data": {
      "text/plain": [
       "species              0\n",
       "island               0\n",
       "bill_length_mm       0\n",
       "bill_depth_mm        0\n",
       "flipper_length_mm    0\n",
       "body_mass_g          0\n",
       "sex                  0\n",
       "year                 0\n",
       "dtype: int64"
      ]
     },
     "execution_count": 64,
     "metadata": {},
     "output_type": "execute_result"
    }
   ],
   "source": [
    "penguins.isnull().sum()"
   ]
  },
  {
   "cell_type": "markdown",
   "id": "heard-slovenia",
   "metadata": {},
   "source": [
    "## 3. Continue to explore the data "
   ]
  },
  {
   "cell_type": "markdown",
   "id": "indirect-monroe",
   "metadata": {},
   "source": [
    "How many penguins in each species? "
   ]
  },
  {
   "cell_type": "code",
   "execution_count": 65,
   "id": "optimum-morning",
   "metadata": {},
   "outputs": [
    {
     "data": {
      "text/plain": [
       "Adelie       151\n",
       "Gentoo       123\n",
       "Chinstrap     68\n",
       "Name: species, dtype: int64"
      ]
     },
     "execution_count": 65,
     "metadata": {},
     "output_type": "execute_result"
    }
   ],
   "source": [
    "penguins['species'].value_counts()"
   ]
  },
  {
   "cell_type": "markdown",
   "id": "excessive-basin",
   "metadata": {},
   "source": [
    "value_counts() return a series containing counts of unique rows in the DataFrame. "
   ]
  },
  {
   "cell_type": "markdown",
   "id": "searching-factor",
   "metadata": {},
   "source": [
    "Using seaborn library, let's create simple bar chart of species"
   ]
  },
  {
   "cell_type": "code",
   "execution_count": 66,
   "id": "floral-accent",
   "metadata": {},
   "outputs": [
    {
     "data": {
      "image/png": "[encoded data removed]",
      "text/plain": [
       "<Figure size 432x288 with 1 Axes>"
      ]
     },
     "metadata": {
      "needs_background": "light"
     },
     "output_type": "display_data"
    }
   ],
   "source": [
    "sns.countplot(x = 'species', data = penguins, palette = (\"#005EB8\",\"#0072CE\",\"#00A9CE\"))\n",
    "plt.title (\"Number of penguins by species\")\n",
    "plt.xlabel (\"Species\")\n",
    "_ = plt.ylabel(\"Number of penguins\")\n"
   ]
  },
  {
   "cell_type": "markdown",
   "id": "informative-knock",
   "metadata": {},
   "source": [
    "Now it's your turn! How many penguins in each island? Can you create bar chart by island?"
   ]
  },
  {
   "cell_type": "markdown",
   "id": "cardiac-raise",
   "metadata": {},
   "source": [
    "https://seaborn.pydata.org/examples/index.html (For more information about the Seaborn library)"
   ]
  },
  {
   "cell_type": "markdown",
   "id": "physical-concert",
   "metadata": {},
   "source": [
    "Your Answer:"
   ]
  },
  {
   "cell_type": "code",
   "execution_count": null,
   "id": "conventional-signal",
   "metadata": {},
   "outputs": [],
   "source": []
  },
  {
   "cell_type": "markdown",
   "id": "cross-cassette",
   "metadata": {},
   "source": [
    "I want to briefly show to use Numpy library too. You can acheive the same thing. The difference is it returns as array (not DataFrame). Numpy, short for Numerical Python is one of the most important foundational packages for numerial computing in Python. (i.e. tensorflow, pytorch they are based on similar concept)"
   ]
  },
  {
   "cell_type": "code",
   "execution_count": 67,
   "id": "aerial-jonathan",
   "metadata": {},
   "outputs": [
    {
     "data": {
      "text/plain": [
       "(array(['Biscoe', 'Dream', 'Torgersen'], dtype=object),\n",
       " array([167, 124,  51], dtype=int64))"
      ]
     },
     "execution_count": 67,
     "metadata": {},
     "output_type": "execute_result"
    }
   ],
   "source": [
    "np.unique(penguins.island, return_counts = True)"
   ]
  },
  {
   "cell_type": "markdown",
   "id": "catholic-malta",
   "metadata": {},
   "source": [
    "Let's carry on exploring other variables.\n",
    "We expect to see distinctive characters in bill length, bill depth, flipper length and body mass by species as these kinds of observations are what distinguish different species."
   ]
  },
  {
   "cell_type": "code",
   "execution_count": 68,
   "id": "cellular-reception",
   "metadata": {},
   "outputs": [
    {
     "data": {
      "image/png": "[encoded data removed]",
      "text/plain": [
       "<Figure size 432x720 with 3 Axes>"
      ]
     },
     "metadata": {
      "needs_background": "light"
     },
     "output_type": "display_data"
    }
   ],
   "source": [
    "fig,axs = plt.subplots(3, figsize = (6,10))\n",
    "\n",
    "fig.suptitle(\"Bill lengh, depth, flipper lengh split by species\")\n",
    "\n",
    "sns.boxplot(y= 'bill_length_mm', x = 'species', data = penguins, ax= axs[0])\n",
    "sns.boxplot(y= 'flipper_length_mm', x = 'species', data = penguins, ax= axs[1])\n",
    "_ = sns.boxplot(y = 'bill_depth_mm', x = 'species', data = penguins, ax = axs[2])"
   ]
  },
  {
   "cell_type": "markdown",
   "id": "pacific-transmission",
   "metadata": {},
   "source": [
    "Can you try to do boxplot for body mass by species? (just one boxplot so don't need fig, axs part) and which penguin species are the heaviest?"
   ]
  },
  {
   "cell_type": "markdown",
   "id": "sixth-enhancement",
   "metadata": {},
   "source": [
    "Your Answer:"
   ]
  },
  {
   "cell_type": "code",
   "execution_count": null,
   "id": "rocky-paint",
   "metadata": {},
   "outputs": [],
   "source": []
  },
  {
   "cell_type": "markdown",
   "id": "animated-tablet",
   "metadata": {},
   "source": [
    "We can also split body mass further by sex as well by using `hue` parameter. \n",
    "\n",
    "https://seaborn.pydata.org/tutorial/axis_grids.html\n"
   ]
  },
  {
   "cell_type": "code",
   "execution_count": 69,
   "id": "thrown-clarity",
   "metadata": {},
   "outputs": [
    {
     "data": {
      "image/png": "[encoded data removed]",
      "text/plain": [
       "<Figure size 432x288 with 1 Axes>"
      ]
     },
     "metadata": {
      "needs_background": "light"
     },
     "output_type": "display_data"
    }
   ],
   "source": [
    "sns.boxplot(y= 'body_mass_g', x = 'species', data = penguins, hue = 'sex' )\n",
    "plt.title (\"Penguin's body mass compared by sex\")\n",
    "plt.xlabel (\"Species\")\n",
    "_ = plt.ylabel(\"Body mass (g)\")\n"
   ]
  },
  {
   "cell_type": "markdown",
   "id": "threatened-lease",
   "metadata": {},
   "source": [
    "All species weight does vary against sex. Shall we try simple t-test using numpy to see if female and male penguins' body mass is significantly different?"
   ]
  },
  {
   "cell_type": "code",
   "execution_count": 70,
   "id": "fixed-registrar",
   "metadata": {},
   "outputs": [
    {
     "name": "stdout",
     "output_type": "stream",
     "text": [
      "[3.8   3.25  3.45  3.625 3.2  ]\n"
     ]
    }
   ],
   "source": [
    "f = penguins[penguins.sex == 'female']['body_mass_g'].to_numpy()/1000 #simply change to kg\n",
    "print(f[:5])"
   ]
  },
  {
   "cell_type": "code",
   "execution_count": 71,
   "id": "absolute-clarity",
   "metadata": {},
   "outputs": [],
   "source": [
    "m = penguins[penguins.sex == 'male']['body_mass_g'].to_numpy()/1000 #simply change to kg"
   ]
  },
  {
   "cell_type": "code",
   "execution_count": 72,
   "id": "aerial-teacher",
   "metadata": {},
   "outputs": [
    {
     "data": {
      "text/plain": [
       "Ttest_indResult(statistic=-8.32131503320858, pvalue=2.198281891945823e-15)"
      ]
     },
     "execution_count": 72,
     "metadata": {},
     "output_type": "execute_result"
    }
   ],
   "source": [
    "st.ttest_ind(f, m, equal_var = False)"
   ]
  },
  {
   "cell_type": "markdown",
   "id": "laden-galaxy",
   "metadata": {},
   "source": [
    "Okay - t-test suggests that body mass in female/male penguins are significantly different. "
   ]
  },
  {
   "cell_type": "markdown",
   "id": "moving-ceramic",
   "metadata": {},
   "source": [
    "Take a look at seaborn.pairplot too (https://seaborn.pydata.org/generated/seaborn.pairplot.html)"
   ]
  },
  {
   "cell_type": "code",
   "execution_count": 73,
   "id": "needed-orlando",
   "metadata": {},
   "outputs": [
    {
     "data": {
      "image/png": "[encoded data removed]",
      "text/plain": [
       "<Figure size 804.125x720 with 20 Axes>"
      ]
     },
     "metadata": {
      "needs_background": "light"
     },
     "output_type": "display_data"
    }
   ],
   "source": [
    "penguins_pairplot = penguins.loc[:,\"species\":\"body_mass_g\"]\n",
    "_ = sns.pairplot(penguins_pairplot, hue=\"species\", palette = 'Accent_r')"
   ]
  },
  {
   "cell_type": "markdown",
   "id": "obvious-geometry",
   "metadata": {},
   "source": [
    "## 4. Predict penguin's sex"
   ]
  },
  {
   "cell_type": "markdown",
   "id": "supposed-dodge",
   "metadata": {},
   "source": [
    "We've looked into various syntax to explore data. Let's build a simple model to predice penguin's sex."
   ]
  },
  {
   "cell_type": "code",
   "execution_count": 74,
   "id": "british-exercise",
   "metadata": {},
   "outputs": [
    {
     "data": {
      "text/plain": [
       "(array(['female', 'male'], dtype=object), array([165, 177], dtype=int64))"
      ]
     },
     "execution_count": 74,
     "metadata": {},
     "output_type": "execute_result"
    }
   ],
   "source": [
    "np.unique(penguins['sex'], return_counts = True)"
   ]
  },
  {
   "cell_type": "code",
   "execution_count": 75,
   "id": "decent-johnston",
   "metadata": {},
   "outputs": [
    {
     "data": {
      "text/plain": [
       "(array(['Adelie', 'Chinstrap', 'Gentoo'], dtype=object),\n",
       " array([151,  68, 123], dtype=int64))"
      ]
     },
     "execution_count": 75,
     "metadata": {},
     "output_type": "execute_result"
    }
   ],
   "source": [
    "np.unique(penguins['species'], return_counts = True)"
   ]
  },
  {
   "cell_type": "markdown",
   "id": "communist-elephant",
   "metadata": {},
   "source": [
    "Can you try to see unique count of island using numpy way?"
   ]
  },
  {
   "cell_type": "markdown",
   "id": "great-tokyo",
   "metadata": {},
   "source": [
    "Your Answer:"
   ]
  },
  {
   "cell_type": "code",
   "execution_count": null,
   "id": "independent-vector",
   "metadata": {},
   "outputs": [],
   "source": []
  },
  {
   "cell_type": "code",
   "execution_count": 76,
   "id": "announced-maple",
   "metadata": {},
   "outputs": [
    {
     "data": {
      "image/png": "[encoded data removed]",
      "text/plain": [
       "<Figure size 360x360 with 1 Axes>"
      ]
     },
     "metadata": {
      "needs_background": "light"
     },
     "output_type": "display_data"
    }
   ],
   "source": [
    "sns.displot(penguins['bill_length_mm'], color = '#006747', kde = True)\n",
    "plt.title (\"All penguin's bill length distribution\")\n",
    "plt.xlabel (\"Bill length (mm)\")\n",
    "_ = plt.ylabel(\"Number of penguins\")\n"
   ]
  },
  {
   "cell_type": "markdown",
   "id": "beautiful-green",
   "metadata": {},
   "source": [
    "Can you plot bill depth(bill_depth_mm) using displot? You can give different colours,title and x and y label title too."
   ]
  },
  {
   "cell_type": "markdown",
   "id": "bored-inspector",
   "metadata": {},
   "source": [
    "Your Answer:"
   ]
  },
  {
   "cell_type": "code",
   "execution_count": null,
   "id": "hollow-garage",
   "metadata": {},
   "outputs": [],
   "source": []
  },
  {
   "cell_type": "code",
   "execution_count": 77,
   "id": "guided-conclusion",
   "metadata": {},
   "outputs": [
    {
     "data": {
      "image/png": "[encoded data removed]",
      "text/plain": [
       "<Figure size 1163.12x360 with 3 Axes>"
      ]
     },
     "metadata": {
      "needs_background": "light"
     },
     "output_type": "display_data"
    }
   ],
   "source": [
    "# seaborn relational plot \n",
    "_ = sns.relplot(x = 'bill_length_mm', y = 'bill_depth_mm', data = penguins, hue = 'sex', size = 'body_mass_g' , col = 'species')"
   ]
  },
  {
   "cell_type": "markdown",
   "id": "legal-excitement",
   "metadata": {},
   "source": [
    "ggplot equivalent for the comparison: <br><br>\n",
    "**penguins %>%<br>\n",
    "  ggplot(aes(bill_length_mm, bill_depth_mm, color = sex, size = body_mass_g)) + <br>\n",
    "  geom_point(alpha = 0.5) + <br>\n",
    "  facet_wrap(~species)**"
   ]
  },
  {
   "cell_type": "markdown",
   "id": "interested-blend",
   "metadata": {},
   "source": [
    "It looks like female penguins are smaller with different bills. "
   ]
  },
  {
   "cell_type": "markdown",
   "id": "qualified-gallery",
   "metadata": {},
   "source": [
    "Let's create a new column and we will recode: 1 = male / 0 = female."
   ]
  },
  {
   "cell_type": "code",
   "execution_count": 78,
   "id": "developing-institute",
   "metadata": {},
   "outputs": [
    {
     "data": {
      "text/html": [
       "<div>\n",
       "<style scoped>\n",
       "    .dataframe tbody tr th:only-of-type {\n",
       "        vertical-align: middle;\n",
       "    }\n",
       "\n",
       "    .dataframe tbody tr th {\n",
       "        vertical-align: top;\n",
       "    }\n",
       "\n",
       "    .dataframe thead th {\n",
       "        text-align: right;\n",
       "    }\n",
       "</style>\n",
       "<table border=\"1\" class=\"dataframe\">\n",
       "  <thead>\n",
       "    <tr style=\"text-align: right;\">\n",
       "      <th></th>\n",
       "      <th>species</th>\n",
       "      <th>island</th>\n",
       "      <th>bill_length_mm</th>\n",
       "      <th>bill_depth_mm</th>\n",
       "      <th>flipper_length_mm</th>\n",
       "      <th>body_mass_g</th>\n",
       "      <th>sex</th>\n",
       "      <th>year</th>\n",
       "      <th>sex_recode</th>\n",
       "    </tr>\n",
       "  </thead>\n",
       "  <tbody>\n",
       "    <tr>\n",
       "      <th>0</th>\n",
       "      <td>Adelie</td>\n",
       "      <td>Torgersen</td>\n",
       "      <td>39.10000</td>\n",
       "      <td>18.70000</td>\n",
       "      <td>181.00000</td>\n",
       "      <td>3750.00000</td>\n",
       "      <td>male</td>\n",
       "      <td>2007</td>\n",
       "      <td>male</td>\n",
       "    </tr>\n",
       "    <tr>\n",
       "      <th>1</th>\n",
       "      <td>Adelie</td>\n",
       "      <td>Torgersen</td>\n",
       "      <td>39.50000</td>\n",
       "      <td>17.40000</td>\n",
       "      <td>186.00000</td>\n",
       "      <td>3800.00000</td>\n",
       "      <td>female</td>\n",
       "      <td>2007</td>\n",
       "      <td>female</td>\n",
       "    </tr>\n",
       "    <tr>\n",
       "      <th>2</th>\n",
       "      <td>Adelie</td>\n",
       "      <td>Torgersen</td>\n",
       "      <td>40.30000</td>\n",
       "      <td>18.00000</td>\n",
       "      <td>195.00000</td>\n",
       "      <td>3250.00000</td>\n",
       "      <td>female</td>\n",
       "      <td>2007</td>\n",
       "      <td>female</td>\n",
       "    </tr>\n",
       "    <tr>\n",
       "      <th>4</th>\n",
       "      <td>Adelie</td>\n",
       "      <td>Torgersen</td>\n",
       "      <td>36.70000</td>\n",
       "      <td>19.30000</td>\n",
       "      <td>193.00000</td>\n",
       "      <td>3450.00000</td>\n",
       "      <td>female</td>\n",
       "      <td>2007</td>\n",
       "      <td>female</td>\n",
       "    </tr>\n",
       "    <tr>\n",
       "      <th>5</th>\n",
       "      <td>Adelie</td>\n",
       "      <td>Torgersen</td>\n",
       "      <td>39.30000</td>\n",
       "      <td>20.60000</td>\n",
       "      <td>190.00000</td>\n",
       "      <td>3650.00000</td>\n",
       "      <td>male</td>\n",
       "      <td>2007</td>\n",
       "      <td>male</td>\n",
       "    </tr>\n",
       "    <tr>\n",
       "      <th>...</th>\n",
       "      <td>...</td>\n",
       "      <td>...</td>\n",
       "      <td>...</td>\n",
       "      <td>...</td>\n",
       "      <td>...</td>\n",
       "      <td>...</td>\n",
       "      <td>...</td>\n",
       "      <td>...</td>\n",
       "      <td>...</td>\n",
       "    </tr>\n",
       "    <tr>\n",
       "      <th>339</th>\n",
       "      <td>Chinstrap</td>\n",
       "      <td>Dream</td>\n",
       "      <td>55.80000</td>\n",
       "      <td>19.80000</td>\n",
       "      <td>207.00000</td>\n",
       "      <td>4000.00000</td>\n",
       "      <td>male</td>\n",
       "      <td>2009</td>\n",
       "      <td>male</td>\n",
       "    </tr>\n",
       "    <tr>\n",
       "      <th>340</th>\n",
       "      <td>Chinstrap</td>\n",
       "      <td>Dream</td>\n",
       "      <td>43.50000</td>\n",
       "      <td>18.10000</td>\n",
       "      <td>202.00000</td>\n",
       "      <td>3400.00000</td>\n",
       "      <td>female</td>\n",
       "      <td>2009</td>\n",
       "      <td>female</td>\n",
       "    </tr>\n",
       "    <tr>\n",
       "      <th>341</th>\n",
       "      <td>Chinstrap</td>\n",
       "      <td>Dream</td>\n",
       "      <td>49.60000</td>\n",
       "      <td>18.20000</td>\n",
       "      <td>193.00000</td>\n",
       "      <td>3775.00000</td>\n",
       "      <td>male</td>\n",
       "      <td>2009</td>\n",
       "      <td>male</td>\n",
       "    </tr>\n",
       "    <tr>\n",
       "      <th>342</th>\n",
       "      <td>Chinstrap</td>\n",
       "      <td>Dream</td>\n",
       "      <td>50.80000</td>\n",
       "      <td>19.00000</td>\n",
       "      <td>210.00000</td>\n",
       "      <td>4100.00000</td>\n",
       "      <td>male</td>\n",
       "      <td>2009</td>\n",
       "      <td>male</td>\n",
       "    </tr>\n",
       "    <tr>\n",
       "      <th>343</th>\n",
       "      <td>Chinstrap</td>\n",
       "      <td>Dream</td>\n",
       "      <td>50.20000</td>\n",
       "      <td>18.70000</td>\n",
       "      <td>198.00000</td>\n",
       "      <td>3775.00000</td>\n",
       "      <td>female</td>\n",
       "      <td>2009</td>\n",
       "      <td>female</td>\n",
       "    </tr>\n",
       "  </tbody>\n",
       "</table>\n",
       "<p>342 rows × 9 columns</p>\n",
       "</div>"
      ],
      "text/plain": [
       "       species     island  bill_length_mm  bill_depth_mm  flipper_length_mm  \\\n",
       "0       Adelie  Torgersen        39.10000       18.70000          181.00000   \n",
       "1       Adelie  Torgersen        39.50000       17.40000          186.00000   \n",
       "2       Adelie  Torgersen        40.30000       18.00000          195.00000   \n",
       "4       Adelie  Torgersen        36.70000       19.30000          193.00000   \n",
       "5       Adelie  Torgersen        39.30000       20.60000          190.00000   \n",
       "..         ...        ...             ...            ...                ...   \n",
       "339  Chinstrap      Dream        55.80000       19.80000          207.00000   \n",
       "340  Chinstrap      Dream        43.50000       18.10000          202.00000   \n",
       "341  Chinstrap      Dream        49.60000       18.20000          193.00000   \n",
       "342  Chinstrap      Dream        50.80000       19.00000          210.00000   \n",
       "343  Chinstrap      Dream        50.20000       18.70000          198.00000   \n",
       "\n",
       "     body_mass_g     sex  year sex_recode  \n",
       "0     3750.00000    male  2007       male  \n",
       "1     3800.00000  female  2007     female  \n",
       "2     3250.00000  female  2007     female  \n",
       "4     3450.00000  female  2007     female  \n",
       "5     3650.00000    male  2007       male  \n",
       "..           ...     ...   ...        ...  \n",
       "339   4000.00000    male  2009       male  \n",
       "340   3400.00000  female  2009     female  \n",
       "341   3775.00000    male  2009       male  \n",
       "342   4100.00000    male  2009       male  \n",
       "343   3775.00000  female  2009     female  \n",
       "\n",
       "[342 rows x 9 columns]"
      ]
     },
     "execution_count": 78,
     "metadata": {},
     "output_type": "execute_result"
    }
   ],
   "source": [
    "penguins['sex_recode'] = penguins['sex']\n",
    "penguins"
   ]
  },
  {
   "cell_type": "code",
   "execution_count": 79,
   "id": "thousand-roman",
   "metadata": {},
   "outputs": [
    {
     "data": {
      "text/html": [
       "<div>\n",
       "<style scoped>\n",
       "    .dataframe tbody tr th:only-of-type {\n",
       "        vertical-align: middle;\n",
       "    }\n",
       "\n",
       "    .dataframe tbody tr th {\n",
       "        vertical-align: top;\n",
       "    }\n",
       "\n",
       "    .dataframe thead th {\n",
       "        text-align: right;\n",
       "    }\n",
       "</style>\n",
       "<table border=\"1\" class=\"dataframe\">\n",
       "  <thead>\n",
       "    <tr style=\"text-align: right;\">\n",
       "      <th></th>\n",
       "      <th>species</th>\n",
       "      <th>island</th>\n",
       "      <th>bill_length_mm</th>\n",
       "      <th>bill_depth_mm</th>\n",
       "      <th>flipper_length_mm</th>\n",
       "      <th>body_mass_g</th>\n",
       "      <th>sex</th>\n",
       "      <th>year</th>\n",
       "      <th>sex_recode</th>\n",
       "    </tr>\n",
       "  </thead>\n",
       "  <tbody>\n",
       "    <tr>\n",
       "      <th>0</th>\n",
       "      <td>Adelie</td>\n",
       "      <td>Torgersen</td>\n",
       "      <td>39.10000</td>\n",
       "      <td>18.70000</td>\n",
       "      <td>181.00000</td>\n",
       "      <td>3750.00000</td>\n",
       "      <td>male</td>\n",
       "      <td>2007</td>\n",
       "      <td>1</td>\n",
       "    </tr>\n",
       "    <tr>\n",
       "      <th>1</th>\n",
       "      <td>Adelie</td>\n",
       "      <td>Torgersen</td>\n",
       "      <td>39.50000</td>\n",
       "      <td>17.40000</td>\n",
       "      <td>186.00000</td>\n",
       "      <td>3800.00000</td>\n",
       "      <td>female</td>\n",
       "      <td>2007</td>\n",
       "      <td>0</td>\n",
       "    </tr>\n",
       "    <tr>\n",
       "      <th>2</th>\n",
       "      <td>Adelie</td>\n",
       "      <td>Torgersen</td>\n",
       "      <td>40.30000</td>\n",
       "      <td>18.00000</td>\n",
       "      <td>195.00000</td>\n",
       "      <td>3250.00000</td>\n",
       "      <td>female</td>\n",
       "      <td>2007</td>\n",
       "      <td>0</td>\n",
       "    </tr>\n",
       "    <tr>\n",
       "      <th>4</th>\n",
       "      <td>Adelie</td>\n",
       "      <td>Torgersen</td>\n",
       "      <td>36.70000</td>\n",
       "      <td>19.30000</td>\n",
       "      <td>193.00000</td>\n",
       "      <td>3450.00000</td>\n",
       "      <td>female</td>\n",
       "      <td>2007</td>\n",
       "      <td>0</td>\n",
       "    </tr>\n",
       "    <tr>\n",
       "      <th>5</th>\n",
       "      <td>Adelie</td>\n",
       "      <td>Torgersen</td>\n",
       "      <td>39.30000</td>\n",
       "      <td>20.60000</td>\n",
       "      <td>190.00000</td>\n",
       "      <td>3650.00000</td>\n",
       "      <td>male</td>\n",
       "      <td>2007</td>\n",
       "      <td>1</td>\n",
       "    </tr>\n",
       "    <tr>\n",
       "      <th>...</th>\n",
       "      <td>...</td>\n",
       "      <td>...</td>\n",
       "      <td>...</td>\n",
       "      <td>...</td>\n",
       "      <td>...</td>\n",
       "      <td>...</td>\n",
       "      <td>...</td>\n",
       "      <td>...</td>\n",
       "      <td>...</td>\n",
       "    </tr>\n",
       "    <tr>\n",
       "      <th>339</th>\n",
       "      <td>Chinstrap</td>\n",
       "      <td>Dream</td>\n",
       "      <td>55.80000</td>\n",
       "      <td>19.80000</td>\n",
       "      <td>207.00000</td>\n",
       "      <td>4000.00000</td>\n",
       "      <td>male</td>\n",
       "      <td>2009</td>\n",
       "      <td>1</td>\n",
       "    </tr>\n",
       "    <tr>\n",
       "      <th>340</th>\n",
       "      <td>Chinstrap</td>\n",
       "      <td>Dream</td>\n",
       "      <td>43.50000</td>\n",
       "      <td>18.10000</td>\n",
       "      <td>202.00000</td>\n",
       "      <td>3400.00000</td>\n",
       "      <td>female</td>\n",
       "      <td>2009</td>\n",
       "      <td>0</td>\n",
       "    </tr>\n",
       "    <tr>\n",
       "      <th>341</th>\n",
       "      <td>Chinstrap</td>\n",
       "      <td>Dream</td>\n",
       "      <td>49.60000</td>\n",
       "      <td>18.20000</td>\n",
       "      <td>193.00000</td>\n",
       "      <td>3775.00000</td>\n",
       "      <td>male</td>\n",
       "      <td>2009</td>\n",
       "      <td>1</td>\n",
       "    </tr>\n",
       "    <tr>\n",
       "      <th>342</th>\n",
       "      <td>Chinstrap</td>\n",
       "      <td>Dream</td>\n",
       "      <td>50.80000</td>\n",
       "      <td>19.00000</td>\n",
       "      <td>210.00000</td>\n",
       "      <td>4100.00000</td>\n",
       "      <td>male</td>\n",
       "      <td>2009</td>\n",
       "      <td>1</td>\n",
       "    </tr>\n",
       "    <tr>\n",
       "      <th>343</th>\n",
       "      <td>Chinstrap</td>\n",
       "      <td>Dream</td>\n",
       "      <td>50.20000</td>\n",
       "      <td>18.70000</td>\n",
       "      <td>198.00000</td>\n",
       "      <td>3775.00000</td>\n",
       "      <td>female</td>\n",
       "      <td>2009</td>\n",
       "      <td>0</td>\n",
       "    </tr>\n",
       "  </tbody>\n",
       "</table>\n",
       "<p>342 rows × 9 columns</p>\n",
       "</div>"
      ],
      "text/plain": [
       "       species     island  bill_length_mm  bill_depth_mm  flipper_length_mm  \\\n",
       "0       Adelie  Torgersen        39.10000       18.70000          181.00000   \n",
       "1       Adelie  Torgersen        39.50000       17.40000          186.00000   \n",
       "2       Adelie  Torgersen        40.30000       18.00000          195.00000   \n",
       "4       Adelie  Torgersen        36.70000       19.30000          193.00000   \n",
       "5       Adelie  Torgersen        39.30000       20.60000          190.00000   \n",
       "..         ...        ...             ...            ...                ...   \n",
       "339  Chinstrap      Dream        55.80000       19.80000          207.00000   \n",
       "340  Chinstrap      Dream        43.50000       18.10000          202.00000   \n",
       "341  Chinstrap      Dream        49.60000       18.20000          193.00000   \n",
       "342  Chinstrap      Dream        50.80000       19.00000          210.00000   \n",
       "343  Chinstrap      Dream        50.20000       18.70000          198.00000   \n",
       "\n",
       "     body_mass_g     sex  year  sex_recode  \n",
       "0     3750.00000    male  2007           1  \n",
       "1     3800.00000  female  2007           0  \n",
       "2     3250.00000  female  2007           0  \n",
       "4     3450.00000  female  2007           0  \n",
       "5     3650.00000    male  2007           1  \n",
       "..           ...     ...   ...         ...  \n",
       "339   4000.00000    male  2009           1  \n",
       "340   3400.00000  female  2009           0  \n",
       "341   3775.00000    male  2009           1  \n",
       "342   4100.00000    male  2009           1  \n",
       "343   3775.00000  female  2009           0  \n",
       "\n",
       "[342 rows x 9 columns]"
      ]
     },
     "execution_count": 79,
     "metadata": {},
     "output_type": "execute_result"
    }
   ],
   "source": [
    "penguins['sex_recode'] = np.where(penguins['sex'] == 'male', 1, 0) \n",
    "penguins\n",
    "# Quick note: \n",
    "#penguins = penguins.replace({'species_recode' : { 'Adelie' : 0, 'Gentoo' : 1, 'Chinstrap' : 3 }}): if you have mutiple columns you can do this way (key:value mapping)"
   ]
  },
  {
   "cell_type": "code",
   "execution_count": 80,
   "id": "blocked-quality",
   "metadata": {},
   "outputs": [
    {
     "data": {
      "text/plain": [
       "0      1\n",
       "1      0\n",
       "2      0\n",
       "4      0\n",
       "5      1\n",
       "      ..\n",
       "339    1\n",
       "340    0\n",
       "341    1\n",
       "342    1\n",
       "343    0\n",
       "Name: sex_recode, Length: 342, dtype: int32"
      ]
     },
     "execution_count": 80,
     "metadata": {},
     "output_type": "execute_result"
    }
   ],
   "source": [
    "y = penguins['sex_recode']\n",
    "y"
   ]
  },
  {
   "cell_type": "markdown",
   "id": "racial-sheriff",
   "metadata": {},
   "source": [
    "Using Pandas.get_dummies function to convert categories variables (i.e. sex, island) into dummy/indicator variables. We can use dummy variables into our logistic regression.\n",
    "https://pandas.pydata.org/docs/reference/api/pandas.get_dummies.html"
   ]
  },
  {
   "cell_type": "code",
   "execution_count": 81,
   "id": "known-elephant",
   "metadata": {},
   "outputs": [
    {
     "data": {
      "text/html": [
       "<div>\n",
       "<style scoped>\n",
       "    .dataframe tbody tr th:only-of-type {\n",
       "        vertical-align: middle;\n",
       "    }\n",
       "\n",
       "    .dataframe tbody tr th {\n",
       "        vertical-align: top;\n",
       "    }\n",
       "\n",
       "    .dataframe thead th {\n",
       "        text-align: right;\n",
       "    }\n",
       "</style>\n",
       "<table border=\"1\" class=\"dataframe\">\n",
       "  <thead>\n",
       "    <tr style=\"text-align: right;\">\n",
       "      <th></th>\n",
       "      <th>Adelie</th>\n",
       "      <th>Chinstrap</th>\n",
       "      <th>Gentoo</th>\n",
       "    </tr>\n",
       "  </thead>\n",
       "  <tbody>\n",
       "    <tr>\n",
       "      <th>0</th>\n",
       "      <td>1</td>\n",
       "      <td>0</td>\n",
       "      <td>0</td>\n",
       "    </tr>\n",
       "    <tr>\n",
       "      <th>1</th>\n",
       "      <td>1</td>\n",
       "      <td>0</td>\n",
       "      <td>0</td>\n",
       "    </tr>\n",
       "    <tr>\n",
       "      <th>2</th>\n",
       "      <td>1</td>\n",
       "      <td>0</td>\n",
       "      <td>0</td>\n",
       "    </tr>\n",
       "    <tr>\n",
       "      <th>4</th>\n",
       "      <td>1</td>\n",
       "      <td>0</td>\n",
       "      <td>0</td>\n",
       "    </tr>\n",
       "    <tr>\n",
       "      <th>5</th>\n",
       "      <td>1</td>\n",
       "      <td>0</td>\n",
       "      <td>0</td>\n",
       "    </tr>\n",
       "    <tr>\n",
       "      <th>...</th>\n",
       "      <td>...</td>\n",
       "      <td>...</td>\n",
       "      <td>...</td>\n",
       "    </tr>\n",
       "    <tr>\n",
       "      <th>339</th>\n",
       "      <td>0</td>\n",
       "      <td>1</td>\n",
       "      <td>0</td>\n",
       "    </tr>\n",
       "    <tr>\n",
       "      <th>340</th>\n",
       "      <td>0</td>\n",
       "      <td>1</td>\n",
       "      <td>0</td>\n",
       "    </tr>\n",
       "    <tr>\n",
       "      <th>341</th>\n",
       "      <td>0</td>\n",
       "      <td>1</td>\n",
       "      <td>0</td>\n",
       "    </tr>\n",
       "    <tr>\n",
       "      <th>342</th>\n",
       "      <td>0</td>\n",
       "      <td>1</td>\n",
       "      <td>0</td>\n",
       "    </tr>\n",
       "    <tr>\n",
       "      <th>343</th>\n",
       "      <td>0</td>\n",
       "      <td>1</td>\n",
       "      <td>0</td>\n",
       "    </tr>\n",
       "  </tbody>\n",
       "</table>\n",
       "<p>342 rows × 3 columns</p>\n",
       "</div>"
      ],
      "text/plain": [
       "     Adelie  Chinstrap  Gentoo\n",
       "0         1          0       0\n",
       "1         1          0       0\n",
       "2         1          0       0\n",
       "4         1          0       0\n",
       "5         1          0       0\n",
       "..      ...        ...     ...\n",
       "339       0          1       0\n",
       "340       0          1       0\n",
       "341       0          1       0\n",
       "342       0          1       0\n",
       "343       0          1       0\n",
       "\n",
       "[342 rows x 3 columns]"
      ]
     },
     "execution_count": 81,
     "metadata": {},
     "output_type": "execute_result"
    }
   ],
   "source": [
    "s = pd.get_dummies(penguins['species'])\n",
    "s"
   ]
  },
  {
   "cell_type": "code",
   "execution_count": 82,
   "id": "instrumental-aircraft",
   "metadata": {},
   "outputs": [
    {
     "data": {
      "text/html": [
       "<div>\n",
       "<style scoped>\n",
       "    .dataframe tbody tr th:only-of-type {\n",
       "        vertical-align: middle;\n",
       "    }\n",
       "\n",
       "    .dataframe tbody tr th {\n",
       "        vertical-align: top;\n",
       "    }\n",
       "\n",
       "    .dataframe thead th {\n",
       "        text-align: right;\n",
       "    }\n",
       "</style>\n",
       "<table border=\"1\" class=\"dataframe\">\n",
       "  <thead>\n",
       "    <tr style=\"text-align: right;\">\n",
       "      <th></th>\n",
       "      <th>Chinstrap</th>\n",
       "      <th>Gentoo</th>\n",
       "      <th>flipper_length_mm</th>\n",
       "      <th>bill_length_mm</th>\n",
       "      <th>bill_depth_mm</th>\n",
       "      <th>body_mass_g</th>\n",
       "    </tr>\n",
       "  </thead>\n",
       "  <tbody>\n",
       "    <tr>\n",
       "      <th>0</th>\n",
       "      <td>0</td>\n",
       "      <td>0</td>\n",
       "      <td>181.00000</td>\n",
       "      <td>39.10000</td>\n",
       "      <td>18.70000</td>\n",
       "      <td>3750.00000</td>\n",
       "    </tr>\n",
       "    <tr>\n",
       "      <th>1</th>\n",
       "      <td>0</td>\n",
       "      <td>0</td>\n",
       "      <td>186.00000</td>\n",
       "      <td>39.50000</td>\n",
       "      <td>17.40000</td>\n",
       "      <td>3800.00000</td>\n",
       "    </tr>\n",
       "    <tr>\n",
       "      <th>2</th>\n",
       "      <td>0</td>\n",
       "      <td>0</td>\n",
       "      <td>195.00000</td>\n",
       "      <td>40.30000</td>\n",
       "      <td>18.00000</td>\n",
       "      <td>3250.00000</td>\n",
       "    </tr>\n",
       "    <tr>\n",
       "      <th>4</th>\n",
       "      <td>0</td>\n",
       "      <td>0</td>\n",
       "      <td>193.00000</td>\n",
       "      <td>36.70000</td>\n",
       "      <td>19.30000</td>\n",
       "      <td>3450.00000</td>\n",
       "    </tr>\n",
       "    <tr>\n",
       "      <th>5</th>\n",
       "      <td>0</td>\n",
       "      <td>0</td>\n",
       "      <td>190.00000</td>\n",
       "      <td>39.30000</td>\n",
       "      <td>20.60000</td>\n",
       "      <td>3650.00000</td>\n",
       "    </tr>\n",
       "    <tr>\n",
       "      <th>...</th>\n",
       "      <td>...</td>\n",
       "      <td>...</td>\n",
       "      <td>...</td>\n",
       "      <td>...</td>\n",
       "      <td>...</td>\n",
       "      <td>...</td>\n",
       "    </tr>\n",
       "    <tr>\n",
       "      <th>339</th>\n",
       "      <td>1</td>\n",
       "      <td>0</td>\n",
       "      <td>207.00000</td>\n",
       "      <td>55.80000</td>\n",
       "      <td>19.80000</td>\n",
       "      <td>4000.00000</td>\n",
       "    </tr>\n",
       "    <tr>\n",
       "      <th>340</th>\n",
       "      <td>1</td>\n",
       "      <td>0</td>\n",
       "      <td>202.00000</td>\n",
       "      <td>43.50000</td>\n",
       "      <td>18.10000</td>\n",
       "      <td>3400.00000</td>\n",
       "    </tr>\n",
       "    <tr>\n",
       "      <th>341</th>\n",
       "      <td>1</td>\n",
       "      <td>0</td>\n",
       "      <td>193.00000</td>\n",
       "      <td>49.60000</td>\n",
       "      <td>18.20000</td>\n",
       "      <td>3775.00000</td>\n",
       "    </tr>\n",
       "    <tr>\n",
       "      <th>342</th>\n",
       "      <td>1</td>\n",
       "      <td>0</td>\n",
       "      <td>210.00000</td>\n",
       "      <td>50.80000</td>\n",
       "      <td>19.00000</td>\n",
       "      <td>4100.00000</td>\n",
       "    </tr>\n",
       "    <tr>\n",
       "      <th>343</th>\n",
       "      <td>1</td>\n",
       "      <td>0</td>\n",
       "      <td>198.00000</td>\n",
       "      <td>50.20000</td>\n",
       "      <td>18.70000</td>\n",
       "      <td>3775.00000</td>\n",
       "    </tr>\n",
       "  </tbody>\n",
       "</table>\n",
       "<p>342 rows × 6 columns</p>\n",
       "</div>"
      ],
      "text/plain": [
       "     Chinstrap  Gentoo  flipper_length_mm  bill_length_mm  bill_depth_mm  \\\n",
       "0            0       0          181.00000        39.10000       18.70000   \n",
       "1            0       0          186.00000        39.50000       17.40000   \n",
       "2            0       0          195.00000        40.30000       18.00000   \n",
       "4            0       0          193.00000        36.70000       19.30000   \n",
       "5            0       0          190.00000        39.30000       20.60000   \n",
       "..         ...     ...                ...             ...            ...   \n",
       "339          1       0          207.00000        55.80000       19.80000   \n",
       "340          1       0          202.00000        43.50000       18.10000   \n",
       "341          1       0          193.00000        49.60000       18.20000   \n",
       "342          1       0          210.00000        50.80000       19.00000   \n",
       "343          1       0          198.00000        50.20000       18.70000   \n",
       "\n",
       "     body_mass_g  \n",
       "0     3750.00000  \n",
       "1     3800.00000  \n",
       "2     3250.00000  \n",
       "4     3450.00000  \n",
       "5     3650.00000  \n",
       "..           ...  \n",
       "339   4000.00000  \n",
       "340   3400.00000  \n",
       "341   3775.00000  \n",
       "342   4100.00000  \n",
       "343   3775.00000  \n",
       "\n",
       "[342 rows x 6 columns]"
      ]
     },
     "execution_count": 82,
     "metadata": {},
     "output_type": "execute_result"
    }
   ],
   "source": [
    "X = pd.concat([s.Chinstrap, s.Gentoo, penguins.flipper_length_mm, penguins.bill_length_mm, penguins.bill_depth_mm, penguins.body_mass_g, ], axis = 1)\n",
    "X"
   ]
  },
  {
   "cell_type": "markdown",
   "id": "headed-paste",
   "metadata": {},
   "source": [
    "We use *Statsmodels* and this is a python module which provides various functions for estimating different statistical models and performing statistical tests. "
   ]
  },
  {
   "cell_type": "code",
   "execution_count": 83,
   "id": "polish-consumption",
   "metadata": {},
   "outputs": [],
   "source": [
    "X = sm.add_constant(X)\n"
   ]
  },
  {
   "cell_type": "markdown",
   "id": "employed-vision",
   "metadata": {},
   "source": [
    "Run logistic model using *Statsmodels.Logit* function"
   ]
  },
  {
   "cell_type": "code",
   "execution_count": 84,
   "id": "domestic-blackjack",
   "metadata": {},
   "outputs": [],
   "source": [
    "model = sm.Logit(y, X) "
   ]
  },
  {
   "cell_type": "code",
   "execution_count": 85,
   "id": "sought-geometry",
   "metadata": {},
   "outputs": [
    {
     "name": "stdout",
     "output_type": "stream",
     "text": [
      "Optimization terminated successfully.\n",
      "         Current function value: 0.263494\n",
      "         Iterations 8\n"
     ]
    }
   ],
   "source": [
    "result = model.fit()"
   ]
  },
  {
   "cell_type": "code",
   "execution_count": 86,
   "id": "noble-decade",
   "metadata": {},
   "outputs": [
    {
     "data": {
      "text/html": [
       "<table class=\"simpletable\">\n",
       "<caption>Logit Regression Results</caption>\n",
       "<tr>\n",
       "  <th>Dep. Variable:</th>      <td>sex_recode</td>    <th>  No. Observations:  </th>  <td>   342</td>  \n",
       "</tr>\n",
       "<tr>\n",
       "  <th>Model:</th>                 <td>Logit</td>      <th>  Df Residuals:      </th>  <td>   335</td>  \n",
       "</tr>\n",
       "<tr>\n",
       "  <th>Method:</th>                 <td>MLE</td>       <th>  Df Model:          </th>  <td>     6</td>  \n",
       "</tr>\n",
       "<tr>\n",
       "  <th>Date:</th>            <td>Fri, 23 Jul 2021</td> <th>  Pseudo R-squ.:     </th>  <td>0.6195</td>  \n",
       "</tr>\n",
       "<tr>\n",
       "  <th>Time:</th>                <td>11:27:27</td>     <th>  Log-Likelihood:    </th> <td> -90.115</td> \n",
       "</tr>\n",
       "<tr>\n",
       "  <th>converged:</th>             <td>True</td>       <th>  LL-Null:           </th> <td> -236.85</td> \n",
       "</tr>\n",
       "<tr>\n",
       "  <th>Covariance Type:</th>     <td>nonrobust</td>    <th>  LLR p-value:       </th> <td>2.058e-60</td>\n",
       "</tr>\n",
       "</table>\n",
       "<table class=\"simpletable\">\n",
       "<tr>\n",
       "          <td></td>             <th>coef</th>     <th>std err</th>      <th>z</th>      <th>P>|z|</th>  <th>[0.025</th>    <th>0.975]</th>  \n",
       "</tr>\n",
       "<tr>\n",
       "  <th>const</th>             <td>  -59.5893</td> <td>    8.586</td> <td>   -6.940</td> <td> 0.000</td> <td>  -76.418</td> <td>  -42.761</td>\n",
       "</tr>\n",
       "<tr>\n",
       "  <th>Chinstrap</th>         <td>   -5.2600</td> <td>    1.193</td> <td>   -4.411</td> <td> 0.000</td> <td>   -7.597</td> <td>   -2.923</td>\n",
       "</tr>\n",
       "<tr>\n",
       "  <th>Gentoo</th>            <td>   -4.8777</td> <td>    1.868</td> <td>   -2.612</td> <td> 0.009</td> <td>   -8.538</td> <td>   -1.217</td>\n",
       "</tr>\n",
       "<tr>\n",
       "  <th>flipper_length_mm</th> <td>    0.0241</td> <td>    0.038</td> <td>    0.637</td> <td> 0.524</td> <td>   -0.050</td> <td>    0.098</td>\n",
       "</tr>\n",
       "<tr>\n",
       "  <th>bill_length_mm</th>    <td>    0.4364</td> <td>    0.098</td> <td>    4.463</td> <td> 0.000</td> <td>    0.245</td> <td>    0.628</td>\n",
       "</tr>\n",
       "<tr>\n",
       "  <th>bill_depth_mm</th>     <td>    1.3371</td> <td>    0.268</td> <td>    4.986</td> <td> 0.000</td> <td>    0.811</td> <td>    1.863</td>\n",
       "</tr>\n",
       "<tr>\n",
       "  <th>body_mass_g</th>       <td>    0.0038</td> <td>    0.001</td> <td>    4.941</td> <td> 0.000</td> <td>    0.002</td> <td>    0.005</td>\n",
       "</tr>\n",
       "</table>"
      ],
      "text/plain": [
       "<class 'statsmodels.iolib.summary.Summary'>\n",
       "\"\"\"\n",
       "                           Logit Regression Results                           \n",
       "==============================================================================\n",
       "Dep. Variable:             sex_recode   No. Observations:                  342\n",
       "Model:                          Logit   Df Residuals:                      335\n",
       "Method:                           MLE   Df Model:                            6\n",
       "Date:                Fri, 23 Jul 2021   Pseudo R-squ.:                  0.6195\n",
       "Time:                        11:27:27   Log-Likelihood:                -90.115\n",
       "converged:                       True   LL-Null:                       -236.85\n",
       "Covariance Type:            nonrobust   LLR p-value:                 2.058e-60\n",
       "=====================================================================================\n",
       "                        coef    std err          z      P>|z|      [0.025      0.975]\n",
       "-------------------------------------------------------------------------------------\n",
       "const               -59.5893      8.586     -6.940      0.000     -76.418     -42.761\n",
       "Chinstrap            -5.2600      1.193     -4.411      0.000      -7.597      -2.923\n",
       "Gentoo               -4.8777      1.868     -2.612      0.009      -8.538      -1.217\n",
       "flipper_length_mm     0.0241      0.038      0.637      0.524      -0.050       0.098\n",
       "bill_length_mm        0.4364      0.098      4.463      0.000       0.245       0.628\n",
       "bill_depth_mm         1.3371      0.268      4.986      0.000       0.811       1.863\n",
       "body_mass_g           0.0038      0.001      4.941      0.000       0.002       0.005\n",
       "=====================================================================================\n",
       "\"\"\""
      ]
     },
     "execution_count": 86,
     "metadata": {},
     "output_type": "execute_result"
    }
   ],
   "source": [
    "result.summary()"
   ]
  },
  {
   "cell_type": "code",
   "execution_count": 87,
   "id": "funny-homeless",
   "metadata": {},
   "outputs": [
    {
     "name": "stdout",
     "output_type": "stream",
     "text": [
      "const               -59.58934\n",
      "Chinstrap            -5.26000\n",
      "Gentoo               -4.87766\n",
      "flipper_length_mm     0.02413\n",
      "bill_length_mm        0.43639\n",
      "bill_depth_mm         1.33711\n",
      "body_mass_g           0.00376\n",
      "dtype: float64\n"
     ]
    }
   ],
   "source": [
    "pd.options.display.float_format = '{:.5f}'.format # to turn off scientific notation\n",
    "params = result.params\n",
    "print(params)"
   ]
  },
  {
   "cell_type": "code",
   "execution_count": 88,
   "id": "complimentary-recall",
   "metadata": {},
   "outputs": [
    {
     "name": "stdout",
     "output_type": "stream",
     "text": [
      "const               0.00000\n",
      "Chinstrap           0.00520\n",
      "Gentoo              0.00761\n",
      "flipper_length_mm   1.02443\n",
      "bill_length_mm      1.54711\n",
      "bill_depth_mm       3.80801\n",
      "body_mass_g         1.00377\n",
      "dtype: float64\n"
     ]
    }
   ],
   "source": [
    "# Odd ratio\n",
    "print(np.exp(params))"
   ]
  },
  {
   "cell_type": "markdown",
   "id": "adverse-columbus",
   "metadata": {},
   "source": [
    "The largest odd ratio is for bill depth , with second largest for bill length. An increase of 1mm in bill depth corresponds to almost four times higher odds of being male. We can think that characterisrics of bills must be associated with penguin's sex."
   ]
  },
  {
   "cell_type": "markdown",
   "id": "practical-journalist",
   "metadata": {},
   "source": [
    "## Predict penguin's sex using sklearn library"
   ]
  },
  {
   "cell_type": "markdown",
   "id": "herbal-defendant",
   "metadata": {},
   "source": [
    "Building Machine Learning Models using Sklearn library. "
   ]
  },
  {
   "cell_type": "code",
   "execution_count": 89,
   "id": "liberal-porcelain",
   "metadata": {},
   "outputs": [
    {
     "name": "stdout",
     "output_type": "stream",
     "text": [
      "[[  39.1   18.7  181.  3750. ]\n",
      " [  39.5   17.4  186.  3800. ]\n",
      " [  40.3   18.   195.  3250. ]\n",
      " [  36.7   19.3  193.  3450. ]\n",
      " [  39.3   20.6  190.  3650. ]\n",
      " [  38.9   17.8  181.  3625. ]\n",
      " [  39.2   19.6  195.  4675. ]\n",
      " [  34.1   18.1  193.  3475. ]\n",
      " [  42.    20.2  190.  4250. ]\n",
      " [  37.8   17.1  186.  3300. ]]\n"
     ]
    }
   ],
   "source": [
    "X = penguins.iloc[:,2:6].values\n",
    "print(X[:10]) # show only 10 array element\n",
    "# OR you can try this too\n",
    "#X = penguins.loc[:, \"bill_length_mm\":\"body_mass_g\"].values\n",
    "#X"
   ]
  },
  {
   "cell_type": "code",
   "execution_count": 90,
   "id": "extended-arrival",
   "metadata": {},
   "outputs": [
    {
     "name": "stdout",
     "output_type": "stream",
     "text": [
      "['male' 'female' 'female' 'female' 'male' 'female' 'male' 'male' 'male'\n",
      " 'male']\n"
     ]
    }
   ],
   "source": [
    "y = penguins.iloc[:,6].values\n",
    "print(y[:10])\n",
    "# OR\n",
    "#y = penguins.loc[:, \"sex\"].values\n",
    "#print(y[:10])"
   ]
  },
  {
   "cell_type": "markdown",
   "id": "revised-focus",
   "metadata": {},
   "source": [
    "pandas.iloc: integer location based indexing for selection by position. (from 0 to length-1). \n",
    "\n",
    "https://pandas.pydata.org/pandas-docs/stable/reference/api/pandas.DataFrame.iloc.html"
   ]
  },
  {
   "cell_type": "code",
   "execution_count": 91,
   "id": "existing-edition",
   "metadata": {},
   "outputs": [
    {
     "name": "stdout",
     "output_type": "stream",
     "text": [
      "[1 0 0 0 1 0 1 1 1 1]\n"
     ]
    }
   ],
   "source": [
    "from sklearn.preprocessing import LabelEncoder\n",
    "# create instance of labelencoder\n",
    "le = LabelEncoder()\n",
    "y = le.fit_transform(y)\n",
    "print(y[:10])"
   ]
  },
  {
   "cell_type": "markdown",
   "id": "verbal-pantyhose",
   "metadata": {},
   "source": [
    "LabelEncoder converts each value in a column to a number. Encode targer labels (sex in our case) with value between 0 and n_classes-1 (0 = female, 1= male)"
   ]
  },
  {
   "cell_type": "code",
   "execution_count": 92,
   "id": "first-repeat",
   "metadata": {},
   "outputs": [],
   "source": [
    "from sklearn.model_selection import train_test_split\n",
    "X_train,X_test,y_train,y_test = train_test_split(X,y,test_size=0.3,random_state=0)"
   ]
  },
  {
   "cell_type": "code",
   "execution_count": 93,
   "id": "statewide-service",
   "metadata": {},
   "outputs": [
    {
     "data": {
      "text/plain": [
       "array([[  36.4,   17. ,  195. , 3325. ],\n",
       "       [  49. ,   19.6,  212. , 4300. ],\n",
       "       [  38.2,   20. ,  190. , 3900. ],\n",
       "       [  39.2,   21.1,  196. , 4150. ],\n",
       "       [  49.7,   18.6,  195. , 3600. ]])"
      ]
     },
     "execution_count": 93,
     "metadata": {},
     "output_type": "execute_result"
    }
   ],
   "source": [
    "X_train[:5]"
   ]
  },
  {
   "cell_type": "markdown",
   "id": "solved-click",
   "metadata": {},
   "source": [
    "Split arrays or matrices into random train and test subsets.\n",
    "https://scikit-learn.org/stable/modules/generated/sklearn.model_selection.train_test_split.html\n",
    "when random_state is set to an integer, train_test_split will return same results for each execution."
   ]
  },
  {
   "cell_type": "code",
   "execution_count": 94,
   "id": "overall-october",
   "metadata": {},
   "outputs": [
    {
     "data": {
      "text/plain": [
       "RandomForestClassifier()"
      ]
     },
     "execution_count": 94,
     "metadata": {},
     "output_type": "execute_result"
    }
   ],
   "source": [
    "from sklearn.ensemble import RandomForestClassifier\n",
    "random_forest = RandomForestClassifier(n_estimators=100)\n",
    "random_forest"
   ]
  },
  {
   "cell_type": "markdown",
   "id": "imposed-contractor",
   "metadata": {},
   "source": [
    "Random frests algorithms are used for classification and regression. The random forest is an ensemble learning method, composed of multiple decision trees. By average out the impact of several decision trees, random forests tend to improve prediction. \n",
    "https://scikit-learn.org/stable/modules/generated/sklearn.ensemble.RandomForestClassifier.html\n",
    "n_estimators: the number of trees in the forest. default is 100 and we kept default value"
   ]
  },
  {
   "cell_type": "code",
   "execution_count": 95,
   "id": "roman-tournament",
   "metadata": {},
   "outputs": [
    {
     "data": {
      "text/plain": [
       "RandomForestClassifier()"
      ]
     },
     "execution_count": 95,
     "metadata": {},
     "output_type": "execute_result"
    }
   ],
   "source": [
    "random_forest.fit(X_train, y_train)"
   ]
  },
  {
   "cell_type": "code",
   "execution_count": 96,
   "id": "effective-daily",
   "metadata": {},
   "outputs": [
    {
     "data": {
      "text/plain": [
       "array([1, 0, 1, 1, 1, 1, 1, 0, 1, 1, 0, 0, 0, 1, 1, 0, 0, 1, 1, 0, 1, 1,\n",
       "       1, 1, 0, 0, 1, 0, 1, 1, 1, 1, 1, 0, 0, 0, 1, 1, 1, 1, 0, 1, 1, 0,\n",
       "       1, 1, 1, 1, 0, 0, 1, 1, 1, 1, 0, 1, 1, 0, 1, 0, 1, 1, 1, 1, 0, 0,\n",
       "       0, 0, 1, 1, 1, 1, 1, 1, 0, 1, 1, 0, 0, 0, 0, 1, 1, 0, 1, 1, 0, 0,\n",
       "       0, 1, 1, 1, 1, 1, 0, 0, 0, 1, 1, 0, 0, 0, 0])"
      ]
     },
     "execution_count": 96,
     "metadata": {},
     "output_type": "execute_result"
    }
   ],
   "source": [
    "Y_prediction = random_forest.predict(X_test)\n",
    "Y_prediction"
   ]
  },
  {
   "cell_type": "code",
   "execution_count": 97,
   "id": "shared-thunder",
   "metadata": {},
   "outputs": [
    {
     "name": "stdout",
     "output_type": "stream",
     "text": [
      "accuracy_random_Forest : 85.440\n"
     ]
    }
   ],
   "source": [
    "from sklearn.metrics import accuracy_score\n",
    "accuracy_rf=round(accuracy_score(y_test,Y_prediction)* 100, 2)\n",
    "print('accuracy_random_Forest : %.3f' %accuracy_rf)"
   ]
  },
  {
   "cell_type": "code",
   "execution_count": 98,
   "id": "reduced-evidence",
   "metadata": {},
   "outputs": [],
   "source": [
    "from sklearn.metrics import confusion_matrix, ConfusionMatrixDisplay"
   ]
  },
  {
   "cell_type": "code",
   "execution_count": 99,
   "id": "productive-culture",
   "metadata": {},
   "outputs": [],
   "source": [
    "cm = confusion_matrix(y_test, Y_prediction)"
   ]
  },
  {
   "cell_type": "code",
   "execution_count": 100,
   "id": "perceived-ambassador",
   "metadata": {},
   "outputs": [],
   "source": [
    "cm_normalised = confusion_matrix(y_test, Y_prediction, normalize = 'true') #normalize options : 'true',' pred', 'all'"
   ]
  },
  {
   "cell_type": "code",
   "execution_count": 101,
   "id": "normal-emission",
   "metadata": {},
   "outputs": [
    {
     "name": "stdout",
     "output_type": "stream",
     "text": [
      "Confusion matrix for Random Forest\n",
      " [[36 10]\n",
      " [ 5 52]]\n",
      "Confusion matrix for Random Forest\n",
      " [[0.7826087 0.2173913]\n",
      " [0.0877193 0.9122807]]\n"
     ]
    }
   ],
   "source": [
    "print('Confusion matrix for Random Forest\\n',cm)\n",
    "print('Confusion matrix for Random Forest\\n',cm_normalised)"
   ]
  },
  {
   "cell_type": "code",
   "execution_count": 102,
   "id": "american-palestine",
   "metadata": {},
   "outputs": [
    {
     "data": {
      "image/png": "[encoded data removed]",
      "text/plain": [
       "<Figure size 432x288 with 2 Axes>"
      ]
     },
     "metadata": {
      "needs_background": "light"
     },
     "output_type": "display_data"
    }
   ],
   "source": [
    "cmd = ConfusionMatrixDisplay(cm_normalised, display_labels = ['male','female'])\n",
    "_ = cmd.plot()"
   ]
  },
  {
   "cell_type": "code",
   "execution_count": 103,
   "id": "reverse-concert",
   "metadata": {},
   "outputs": [
    {
     "data": {
      "text/plain": [
       "[Text(0, 0.5, 'male'), Text(0, 1.5, 'female')]"
      ]
     },
     "execution_count": 103,
     "metadata": {},
     "output_type": "execute_result"
    },
    {
     "data": {
      "image/png": "[encoded data removed]",
      "text/plain": [
       "<Figure size 432x288 with 2 Axes>"
      ]
     },
     "metadata": {
      "needs_background": "light"
     },
     "output_type": "display_data"
    }
   ],
   "source": [
    "plt.figure(figsize = (6,4))\n",
    "ax = plt.subplot()\n",
    "sns.heatmap(cm, annot = True, cmap = \"Blues\")\n",
    "plt.xlabel('Predicted label')\n",
    "plt.ylabel('True label')\n",
    "ax.xaxis.set_ticklabels(['male', 'female'])\n",
    "ax.yaxis.set_ticklabels(['male', 'female'])"
   ]
  },
  {
   "cell_type": "markdown",
   "id": "injured-committee",
   "metadata": {},
   "source": [
    "You can read this blog to understand confusion matrix, and other types of classification report. \n",
    "https://medium.com/analytics-vidhya/evaluating-a-random-forest-model-9d165595ad56"
   ]
  }
 ],
 "metadata": {
  "kernelspec": {
   "display_name": "Python 3",
   "language": "python",
   "name": "python3"
  },
  "language_info": {
   "codemirror_mode": {
    "name": "ipython",
    "version": 3
   },
   "file_extension": ".py",
   "mimetype": "text/x-python",
   "name": "python",
   "nbconvert_exporter": "python",
   "pygments_lexer": "ipython3",
   "version": "3.9.6"
  }
 },
 "nbformat": 4,
 "nbformat_minor": 5
}
